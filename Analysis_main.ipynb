{
 "cells": [
  {
   "cell_type": "code",
   "execution_count": 1,
   "id": "initial_id",
   "metadata": {
    "collapsed": true,
    "ExecuteTime": {
     "end_time": "2023-12-31T08:43:34.482640Z",
     "start_time": "2023-12-31T08:43:34.459829Z"
    }
   },
   "outputs": [],
   "source": [
    "import pandas as pd\n",
    "import seaborn as sns\n",
    "import matplotlib.pyplot as plt\n",
    "import numpy as np\n",
    "import re\n",
    "import missingno as msno"
   ]
  },
  {
   "cell_type": "code",
   "execution_count": 3,
   "outputs": [],
   "source": [
    "df = pd.read_excel(path, skiprows=1)"
   ],
   "metadata": {
    "collapsed": false,
    "ExecuteTime": {
     "end_time": "2023-12-31T08:43:35.160666Z",
     "start_time": "2023-12-31T08:43:34.888563Z"
    }
   },
   "id": "9c4fe8c8c49e65be"
  },
  {
   "cell_type": "code",
   "outputs": [
    {
     "data": {
      "text/plain": "(256, 28)"
     },
     "execution_count": 4,
     "metadata": {},
     "output_type": "execute_result"
    }
   ],
   "source": [
    "df.shape"
   ],
   "metadata": {
    "collapsed": false,
    "ExecuteTime": {
     "end_time": "2023-12-31T08:43:35.940213Z",
     "start_time": "2023-12-31T08:43:35.764337Z"
    }
   },
   "id": "2e7ee707d341f65a",
   "execution_count": 4
  },
  {
   "cell_type": "code",
   "execution_count": 5,
   "outputs": [],
   "source": [
    "df = df.rename(columns={'вес ': 'Weight_on_buy'})\n",
    "df = df.rename(columns={'вес .1': 'Weight_on_3.01.17'})\n",
    "df = df.rename(columns={'Unnamed: 6': 'Weight_report_plus5'})\n",
    "df = df.rename(columns={'вес .2': 'Weight_on_4.01.18'})\n",
    "df = df.rename(columns={'Привес': 'Weight_in_plus'})\n",
    "df = df.rename(columns={'Привес.1': 'Weight_in_plus1'})\n",
    "df = df.rename(columns={'вес на 31.12.18': 'Weight_on_31.12.18'})\n",
    "df = df.rename(columns={'вес 3 лакт': 'Weight_on_3_lact'})\n",
    "df = df.rename(columns={'вес 2 лакт': 'Weight_on_2_lact_31.12.16'})\n",
    "df = df.rename(columns={'вес 2 лакт.1': 'Weight_on_2_lact_31.12.17'})\n",
    "df = df.rename(columns={'вес 3 лакт и выше': 'Weight_on_3_lact_heigher_31.12.18'})\n",
    "df = df.rename(columns={'вес 2 лакт.2': 'Weight_on_2_lact2_31.12.18'})\n",
    "df = df.rename(columns={'вес 1 лакт': 'Weight_on_lact1_31.12.17'})\n",
    "df = df.rename(columns={'вес 1 лакт.1': 'Weight_on_lact1_31.12.18'})\n",
    "df = df.rename(columns={'Номер козы': 'ID'})\n",
    "df = df.rename(columns={'Дата рождения': 'Date_of_birth'})\n",
    "df = df.rename(columns={'Unnamed: 13': 'Lactation'})"
   ],
   "metadata": {
    "collapsed": false,
    "ExecuteTime": {
     "end_time": "2023-12-31T08:43:43.444877Z",
     "start_time": "2023-12-31T08:43:43.250177Z"
    }
   },
   "id": "b318fa03407a9850"
  },
  {
   "cell_type": "code",
   "outputs": [
    {
     "data": {
      "text/plain": "      №        Date_of_birth Weight_on_buy Weight_on_3.01.17 Weight_in_plus  \\\n0   п\\п                  NaN   при покупке        на 3.01.17            NaN   \n1     1  2015-01-30 00:00:00            50                59              9   \n2     2  2015-01-31 00:00:00            52                55              3   \n3     3  2015-02-03 00:00:00            55                56              1   \n4     4  2015-02-03 00:00:00            44              44.2            0.2   \n5     5  2015-02-04 00:00:00            48                50              2   \n6     6  2015-02-05 00:00:00            54              47.5           -6.5   \n7     7  2015-02-06 00:00:00            53              48.8           -4.2   \n8     8  2015-01-08 00:00:00            60              68.5            8.5   \n9     9  2015-03-02 00:00:00            48             56.35           8.35   \n\n  Weight_report_plus5 Weight_on_4.01.18 Weight_in_plus1 Weight_on_31.12.18  \\\n0                 NaN        на 4.01.18             NaN                NaN   \n1                 NaN             65.35             NaN                 61   \n2                 NaN              65.3             NaN               65.1   \n3                 NaN                57             NaN               60.2   \n4                 NaN              52.3          умерла                 52   \n5                 NaN              59.8             NaN               99.5   \n6                 NaN              66.4             NaN                 88   \n7                 NaN              58.1             NaN                 67   \n8                 NaN              72.7             NaN                 86   \n9                 NaN              56.7             NaN               48.6   \n\n   Unnamed: 10  ... Unnamed: 18 Unnamed: 19 Unnamed: 20  \\\n0          NaN  ...         NaN         NaN         NaN   \n1          NaN  ...         NaN         NaN         1.0   \n2          NaN  ...         NaN         NaN         2.0   \n3          NaN  ...         NaN         NaN         3.0   \n4          NaN  ...         NaN         NaN         4.0   \n5          NaN  ...         NaN         NaN         5.0   \n6          NaN  ...         NaN         NaN         6.0   \n7          NaN  ...         NaN         NaN         7.0   \n8          NaN  ...         NaN         NaN         8.0   \n9          NaN  ...         NaN         NaN         9.0   \n\n  Weight_on_3_lact_heigher_31.12.18 Unnamed: 22 Weight_on_2_lact2_31.12.18  \\\n0               2018-12-31 00:00:00         NaN        2018-12-31 00:00:00   \n1                                61         NaN                        NaN   \n2                              65.1         NaN                        NaN   \n3                              60.2         NaN                        NaN   \n4                                52         NaN                        NaN   \n5                              99.5         NaN                        NaN   \n6                                88         NaN                        NaN   \n7                                67         NaN                        NaN   \n8                                86         NaN                        NaN   \n9                              48.6         NaN                        NaN   \n\n  Weight_on_lact1_31.12.18  Unnamed: 25 Unnamed: 26  Unnamed: 27  \n0      2018-12-31 00:00:00          NaN         NaN          NaN  \n1                      NaN          NaN         NaN          NaN  \n2                      NaN          NaN         NaN          NaN  \n3                      NaN          NaN         NaN          NaN  \n4                      NaN          NaN         NaN          NaN  \n5                      NaN          NaN         NaN          NaN  \n6                      NaN          NaN         NaN          NaN  \n7                      NaN          NaN         NaN          NaN  \n8                      NaN          NaN         NaN          NaN  \n9                      NaN          NaN         NaN          NaN  \n\n[10 rows x 27 columns]",
      "text/html": "<div>\n<style scoped>\n    .dataframe tbody tr th:only-of-type {\n        vertical-align: middle;\n    }\n\n    .dataframe tbody tr th {\n        vertical-align: top;\n    }\n\n    .dataframe thead th {\n        text-align: right;\n    }\n</style>\n<table border=\"1\" class=\"dataframe\">\n  <thead>\n    <tr style=\"text-align: right;\">\n      <th></th>\n      <th>№</th>\n      <th>Date_of_birth</th>\n      <th>Weight_on_buy</th>\n      <th>Weight_on_3.01.17</th>\n      <th>Weight_in_plus</th>\n      <th>Weight_report_plus5</th>\n      <th>Weight_on_4.01.18</th>\n      <th>Weight_in_plus1</th>\n      <th>Weight_on_31.12.18</th>\n      <th>Unnamed: 10</th>\n      <th>...</th>\n      <th>Unnamed: 18</th>\n      <th>Unnamed: 19</th>\n      <th>Unnamed: 20</th>\n      <th>Weight_on_3_lact_heigher_31.12.18</th>\n      <th>Unnamed: 22</th>\n      <th>Weight_on_2_lact2_31.12.18</th>\n      <th>Weight_on_lact1_31.12.18</th>\n      <th>Unnamed: 25</th>\n      <th>Unnamed: 26</th>\n      <th>Unnamed: 27</th>\n    </tr>\n  </thead>\n  <tbody>\n    <tr>\n      <th>0</th>\n      <td>п\\п</td>\n      <td>NaN</td>\n      <td>при покупке</td>\n      <td>на 3.01.17</td>\n      <td>NaN</td>\n      <td>NaN</td>\n      <td>на 4.01.18</td>\n      <td>NaN</td>\n      <td>NaN</td>\n      <td>NaN</td>\n      <td>...</td>\n      <td>NaN</td>\n      <td>NaN</td>\n      <td>NaN</td>\n      <td>2018-12-31 00:00:00</td>\n      <td>NaN</td>\n      <td>2018-12-31 00:00:00</td>\n      <td>2018-12-31 00:00:00</td>\n      <td>NaN</td>\n      <td>NaN</td>\n      <td>NaN</td>\n    </tr>\n    <tr>\n      <th>1</th>\n      <td>1</td>\n      <td>2015-01-30 00:00:00</td>\n      <td>50</td>\n      <td>59</td>\n      <td>9</td>\n      <td>NaN</td>\n      <td>65.35</td>\n      <td>NaN</td>\n      <td>61</td>\n      <td>NaN</td>\n      <td>...</td>\n      <td>NaN</td>\n      <td>NaN</td>\n      <td>1.0</td>\n      <td>61</td>\n      <td>NaN</td>\n      <td>NaN</td>\n      <td>NaN</td>\n      <td>NaN</td>\n      <td>NaN</td>\n      <td>NaN</td>\n    </tr>\n    <tr>\n      <th>2</th>\n      <td>2</td>\n      <td>2015-01-31 00:00:00</td>\n      <td>52</td>\n      <td>55</td>\n      <td>3</td>\n      <td>NaN</td>\n      <td>65.3</td>\n      <td>NaN</td>\n      <td>65.1</td>\n      <td>NaN</td>\n      <td>...</td>\n      <td>NaN</td>\n      <td>NaN</td>\n      <td>2.0</td>\n      <td>65.1</td>\n      <td>NaN</td>\n      <td>NaN</td>\n      <td>NaN</td>\n      <td>NaN</td>\n      <td>NaN</td>\n      <td>NaN</td>\n    </tr>\n    <tr>\n      <th>3</th>\n      <td>3</td>\n      <td>2015-02-03 00:00:00</td>\n      <td>55</td>\n      <td>56</td>\n      <td>1</td>\n      <td>NaN</td>\n      <td>57</td>\n      <td>NaN</td>\n      <td>60.2</td>\n      <td>NaN</td>\n      <td>...</td>\n      <td>NaN</td>\n      <td>NaN</td>\n      <td>3.0</td>\n      <td>60.2</td>\n      <td>NaN</td>\n      <td>NaN</td>\n      <td>NaN</td>\n      <td>NaN</td>\n      <td>NaN</td>\n      <td>NaN</td>\n    </tr>\n    <tr>\n      <th>4</th>\n      <td>4</td>\n      <td>2015-02-03 00:00:00</td>\n      <td>44</td>\n      <td>44.2</td>\n      <td>0.2</td>\n      <td>NaN</td>\n      <td>52.3</td>\n      <td>умерла</td>\n      <td>52</td>\n      <td>NaN</td>\n      <td>...</td>\n      <td>NaN</td>\n      <td>NaN</td>\n      <td>4.0</td>\n      <td>52</td>\n      <td>NaN</td>\n      <td>NaN</td>\n      <td>NaN</td>\n      <td>NaN</td>\n      <td>NaN</td>\n      <td>NaN</td>\n    </tr>\n    <tr>\n      <th>5</th>\n      <td>5</td>\n      <td>2015-02-04 00:00:00</td>\n      <td>48</td>\n      <td>50</td>\n      <td>2</td>\n      <td>NaN</td>\n      <td>59.8</td>\n      <td>NaN</td>\n      <td>99.5</td>\n      <td>NaN</td>\n      <td>...</td>\n      <td>NaN</td>\n      <td>NaN</td>\n      <td>5.0</td>\n      <td>99.5</td>\n      <td>NaN</td>\n      <td>NaN</td>\n      <td>NaN</td>\n      <td>NaN</td>\n      <td>NaN</td>\n      <td>NaN</td>\n    </tr>\n    <tr>\n      <th>6</th>\n      <td>6</td>\n      <td>2015-02-05 00:00:00</td>\n      <td>54</td>\n      <td>47.5</td>\n      <td>-6.5</td>\n      <td>NaN</td>\n      <td>66.4</td>\n      <td>NaN</td>\n      <td>88</td>\n      <td>NaN</td>\n      <td>...</td>\n      <td>NaN</td>\n      <td>NaN</td>\n      <td>6.0</td>\n      <td>88</td>\n      <td>NaN</td>\n      <td>NaN</td>\n      <td>NaN</td>\n      <td>NaN</td>\n      <td>NaN</td>\n      <td>NaN</td>\n    </tr>\n    <tr>\n      <th>7</th>\n      <td>7</td>\n      <td>2015-02-06 00:00:00</td>\n      <td>53</td>\n      <td>48.8</td>\n      <td>-4.2</td>\n      <td>NaN</td>\n      <td>58.1</td>\n      <td>NaN</td>\n      <td>67</td>\n      <td>NaN</td>\n      <td>...</td>\n      <td>NaN</td>\n      <td>NaN</td>\n      <td>7.0</td>\n      <td>67</td>\n      <td>NaN</td>\n      <td>NaN</td>\n      <td>NaN</td>\n      <td>NaN</td>\n      <td>NaN</td>\n      <td>NaN</td>\n    </tr>\n    <tr>\n      <th>8</th>\n      <td>8</td>\n      <td>2015-01-08 00:00:00</td>\n      <td>60</td>\n      <td>68.5</td>\n      <td>8.5</td>\n      <td>NaN</td>\n      <td>72.7</td>\n      <td>NaN</td>\n      <td>86</td>\n      <td>NaN</td>\n      <td>...</td>\n      <td>NaN</td>\n      <td>NaN</td>\n      <td>8.0</td>\n      <td>86</td>\n      <td>NaN</td>\n      <td>NaN</td>\n      <td>NaN</td>\n      <td>NaN</td>\n      <td>NaN</td>\n      <td>NaN</td>\n    </tr>\n    <tr>\n      <th>9</th>\n      <td>9</td>\n      <td>2015-03-02 00:00:00</td>\n      <td>48</td>\n      <td>56.35</td>\n      <td>8.35</td>\n      <td>NaN</td>\n      <td>56.7</td>\n      <td>NaN</td>\n      <td>48.6</td>\n      <td>NaN</td>\n      <td>...</td>\n      <td>NaN</td>\n      <td>NaN</td>\n      <td>9.0</td>\n      <td>48.6</td>\n      <td>NaN</td>\n      <td>NaN</td>\n      <td>NaN</td>\n      <td>NaN</td>\n      <td>NaN</td>\n      <td>NaN</td>\n    </tr>\n  </tbody>\n</table>\n<p>10 rows × 27 columns</p>\n</div>"
     },
     "execution_count": 7,
     "metadata": {},
     "output_type": "execute_result"
    }
   ],
   "source": [
    "df = df.drop('ID', axis=1)\n",
    "df.head(10)"
   ],
   "metadata": {
    "collapsed": false,
    "ExecuteTime": {
     "end_time": "2023-12-31T08:44:16.160075Z",
     "start_time": "2023-12-31T08:44:15.906500Z"
    }
   },
   "id": "6c01b7c34f19cc1a",
   "execution_count": 7
  },
  {
   "cell_type": "code",
   "execution_count": 411,
   "outputs": [],
   "source": [
    "df = df.drop(0)\n",
    "df = df.drop(31)\n",
    "df = df.drop('№', axis=1)"
   ],
   "metadata": {
    "collapsed": false,
    "ExecuteTime": {
     "end_time": "2023-12-30T08:46:57.736109Z",
     "start_time": "2023-12-30T08:46:57.462504Z"
    }
   },
   "id": "6c92967fc5ff2585"
  },
  {
   "cell_type": "code",
   "execution_count": 413,
   "outputs": [
    {
     "name": "stdout",
     "output_type": "stream",
     "text": [
      "<class 'pandas.core.frame.DataFrame'>\n",
      "Index: 254 entries, 1 to 255\n",
      "Data columns (total 27 columns):\n",
      " #   Column                             Non-Null Count  Dtype  \n",
      "---  ------                             --------------  -----  \n",
      " 0   ID                                 221 non-null    object \n",
      " 1   Date_of_birth                      217 non-null    object \n",
      " 2   Weight_on_buy                      172 non-null    object \n",
      " 3   Weight_on_3.01.17                  141 non-null    object \n",
      " 4   Weight_in_plus                     127 non-null    object \n",
      " 5   Weight_report_plus5                137 non-null    object \n",
      " 6   Weight_on_4.01.18                  163 non-null    object \n",
      " 7   Weight_in_plus1                    49 non-null     object \n",
      " 8   Weight_on_31.12.18                 234 non-null    object \n",
      " 9   Unnamed: 10                        0 non-null      float64\n",
      " 10  Номер козы.1                       163 non-null    object \n",
      " 11  Weight_on_3_lact                   11 non-null     object \n",
      " 12  Lactation                          72 non-null     object \n",
      " 13  Weight_on_2_lact_31.12.16          68 non-null     object \n",
      " 14  Unnamed: 15                        61 non-null     object \n",
      " 15  Weight_on_2_lact_31.12.17          40 non-null     object \n",
      " 16  Weight_on_lact1_31.12.17           72 non-null     object \n",
      " 17  Unnamed: 18                        71 non-null     float64\n",
      " 18  Unnamed: 19                        2 non-null      object \n",
      " 19  Unnamed: 20                        33 non-null     float64\n",
      " 20  Weight_on_3_lact_heigher_31.12.18  33 non-null     object \n",
      " 21  Unnamed: 22                        65 non-null     object \n",
      " 22  Weight_on_2_lact2_31.12.18         65 non-null     object \n",
      " 23  Weight_on_lact1_31.12.18           48 non-null     object \n",
      " 24  Unnamed: 25                        47 non-null     object \n",
      " 25  Unnamed: 26                        0 non-null      float64\n",
      " 26  Unnamed: 27                        4 non-null      object \n",
      "dtypes: float64(4), object(23)\n",
      "memory usage: 55.6+ KB\n"
     ]
    }
   ],
   "source": [
    "df.info()"
   ],
   "metadata": {
    "collapsed": false,
    "ExecuteTime": {
     "end_time": "2023-12-30T08:46:58.265521Z",
     "start_time": "2023-12-30T08:46:57.917477Z"
    }
   },
   "id": "6f7ccaefc4d0f0a8"
  },
  {
   "cell_type": "code",
   "outputs": [],
   "source": [
    "df['Date_of_birth'] = pd.to_datetime(df['Date_of_birth'], errors='coerce')"
   ],
   "metadata": {
    "collapsed": false,
    "ExecuteTime": {
     "end_time": "2023-12-30T08:46:58.483066Z",
     "start_time": "2023-12-30T08:46:58.240509Z"
    }
   },
   "id": "1fa840f4e5f91b67",
   "execution_count": 414
  },
  {
   "cell_type": "code",
   "outputs": [
    {
     "data": {
      "text/plain": "     ID Date_of_birth Weight_on_buy Weight_on_3.01.17 Weight_in_plus  \\\n1  5016    2015-01-30            50                59              9   \n2  5020    2015-01-31            52                55              3   \n3  5051    2015-02-03            55                56              1   \n4  5055    2015-02-03            44              44.2            0.2   \n5  5059    2015-02-04            48                50              2   \n\n  Weight_report_plus5 Weight_on_4.01.18 Weight_on_31.12.18 Номер козы.1  \\\n1                 NaN             65.35                 61         5016   \n2                 NaN              65.3               65.1         5020   \n3                 NaN                57               60.2         5051   \n4                 NaN              52.3                 52         5055   \n5                 NaN              59.8               99.5         5059   \n\n  Lactation Weight_on_2_lact_31.12.16 Unnamed: 15 Weight_on_lact1_31.12.17  \\\n1    2 лакт                        59           1                      NaN   \n2    2 лакт                        55           2                      NaN   \n3    2 лакт                        56           3                      NaN   \n4    2 лакт                      44.2           4                      NaN   \n5    2 лакт                        50           5                      NaN   \n\n   Unnamed: 18 Unnamed: 22 Weight_on_2_lact2_31.12.18  \n1          NaN         NaN                        NaN  \n2          NaN         NaN                        NaN  \n3          NaN         NaN                        NaN  \n4          NaN         NaN                        NaN  \n5          NaN         NaN                        NaN  ",
      "text/html": "<div>\n<style scoped>\n    .dataframe tbody tr th:only-of-type {\n        vertical-align: middle;\n    }\n\n    .dataframe tbody tr th {\n        vertical-align: top;\n    }\n\n    .dataframe thead th {\n        text-align: right;\n    }\n</style>\n<table border=\"1\" class=\"dataframe\">\n  <thead>\n    <tr style=\"text-align: right;\">\n      <th></th>\n      <th>ID</th>\n      <th>Date_of_birth</th>\n      <th>Weight_on_buy</th>\n      <th>Weight_on_3.01.17</th>\n      <th>Weight_in_plus</th>\n      <th>Weight_report_plus5</th>\n      <th>Weight_on_4.01.18</th>\n      <th>Weight_on_31.12.18</th>\n      <th>Номер козы.1</th>\n      <th>Lactation</th>\n      <th>Weight_on_2_lact_31.12.16</th>\n      <th>Unnamed: 15</th>\n      <th>Weight_on_lact1_31.12.17</th>\n      <th>Unnamed: 18</th>\n      <th>Unnamed: 22</th>\n      <th>Weight_on_2_lact2_31.12.18</th>\n    </tr>\n  </thead>\n  <tbody>\n    <tr>\n      <th>1</th>\n      <td>5016</td>\n      <td>2015-01-30</td>\n      <td>50</td>\n      <td>59</td>\n      <td>9</td>\n      <td>NaN</td>\n      <td>65.35</td>\n      <td>61</td>\n      <td>5016</td>\n      <td>2 лакт</td>\n      <td>59</td>\n      <td>1</td>\n      <td>NaN</td>\n      <td>NaN</td>\n      <td>NaN</td>\n      <td>NaN</td>\n    </tr>\n    <tr>\n      <th>2</th>\n      <td>5020</td>\n      <td>2015-01-31</td>\n      <td>52</td>\n      <td>55</td>\n      <td>3</td>\n      <td>NaN</td>\n      <td>65.3</td>\n      <td>65.1</td>\n      <td>5020</td>\n      <td>2 лакт</td>\n      <td>55</td>\n      <td>2</td>\n      <td>NaN</td>\n      <td>NaN</td>\n      <td>NaN</td>\n      <td>NaN</td>\n    </tr>\n    <tr>\n      <th>3</th>\n      <td>5051</td>\n      <td>2015-02-03</td>\n      <td>55</td>\n      <td>56</td>\n      <td>1</td>\n      <td>NaN</td>\n      <td>57</td>\n      <td>60.2</td>\n      <td>5051</td>\n      <td>2 лакт</td>\n      <td>56</td>\n      <td>3</td>\n      <td>NaN</td>\n      <td>NaN</td>\n      <td>NaN</td>\n      <td>NaN</td>\n    </tr>\n    <tr>\n      <th>4</th>\n      <td>5055</td>\n      <td>2015-02-03</td>\n      <td>44</td>\n      <td>44.2</td>\n      <td>0.2</td>\n      <td>NaN</td>\n      <td>52.3</td>\n      <td>52</td>\n      <td>5055</td>\n      <td>2 лакт</td>\n      <td>44.2</td>\n      <td>4</td>\n      <td>NaN</td>\n      <td>NaN</td>\n      <td>NaN</td>\n      <td>NaN</td>\n    </tr>\n    <tr>\n      <th>5</th>\n      <td>5059</td>\n      <td>2015-02-04</td>\n      <td>48</td>\n      <td>50</td>\n      <td>2</td>\n      <td>NaN</td>\n      <td>59.8</td>\n      <td>99.5</td>\n      <td>5059</td>\n      <td>2 лакт</td>\n      <td>50</td>\n      <td>5</td>\n      <td>NaN</td>\n      <td>NaN</td>\n      <td>NaN</td>\n      <td>NaN</td>\n    </tr>\n  </tbody>\n</table>\n</div>"
     },
     "execution_count": 415,
     "metadata": {},
     "output_type": "execute_result"
    }
   ],
   "source": [
    "missing_threshold = 0.8 * len(df)\n",
    "columns_to_drop = df.columns[df.isna().sum() > missing_threshold]\n",
    "\n",
    "# Удаление найденных колонок из датафрейма\n",
    "df.drop(columns=columns_to_drop, inplace=True)\n",
    "\n",
    "df.head()"
   ],
   "metadata": {
    "collapsed": false,
    "ExecuteTime": {
     "end_time": "2023-12-30T08:46:58.842262Z",
     "start_time": "2023-12-30T08:46:58.444363Z"
    }
   },
   "id": "26827bbb18226b31",
   "execution_count": 415
  },
  {
   "cell_type": "code",
   "outputs": [],
   "source": [
    "df = df.drop('Номер козы.1', axis=1)"
   ],
   "metadata": {
    "collapsed": false,
    "ExecuteTime": {
     "end_time": "2023-12-30T08:46:58.991291Z",
     "start_time": "2023-12-30T08:46:58.817384Z"
    }
   },
   "id": "8120cc75198c87d6",
   "execution_count": 416
  },
  {
   "cell_type": "code",
   "outputs": [
    {
     "data": {
      "text/plain": "117"
     },
     "execution_count": 417,
     "metadata": {},
     "output_type": "execute_result"
    }
   ],
   "source": [
    "df['Weight_report_plus5'].isna().sum()"
   ],
   "metadata": {
    "collapsed": false,
    "ExecuteTime": {
     "end_time": "2023-12-30T08:46:59.355903Z",
     "start_time": "2023-12-30T08:46:58.972425Z"
    }
   },
   "id": "ec3f37f71c542563",
   "execution_count": 417
  },
  {
   "cell_type": "code",
   "outputs": [
    {
     "name": "stdout",
     "output_type": "stream",
     "text": [
      "Weight_report_plus5\n",
      "<class 'float'>    226\n",
      "<class 'int'>       24\n",
      "<class 'str'>        4\n",
      "Name: count, dtype: int64\n"
     ]
    }
   ],
   "source": [
    "print(df['Weight_report_plus5'].apply(type).value_counts())"
   ],
   "metadata": {
    "collapsed": false,
    "ExecuteTime": {
     "end_time": "2023-12-30T08:46:59.546400Z",
     "start_time": "2023-12-30T08:46:59.336799Z"
    }
   },
   "id": "ea5e83913db31949",
   "execution_count": 418
  },
  {
   "cell_type": "code",
   "outputs": [
    {
     "name": "stdout",
     "output_type": "stream",
     "text": [
      "118    вес при \n",
      "119    рождении\n",
      "130    вес при \n",
      "131    рождении\n",
      "Name: Weight_report_plus5, dtype: object\n"
     ]
    }
   ],
   "source": [
    "print(df[df['Weight_report_plus5'].apply(lambda x: isinstance(x, str))]['Weight_report_plus5'])"
   ],
   "metadata": {
    "collapsed": false,
    "ExecuteTime": {
     "end_time": "2023-12-30T08:46:59.913206Z",
     "start_time": "2023-12-30T08:46:59.523206Z"
    }
   },
   "id": "ad6c05a950eb4f21",
   "execution_count": 419
  },
  {
   "cell_type": "code",
   "outputs": [
    {
     "data": {
      "text/plain": "121"
     },
     "execution_count": 420,
     "metadata": {},
     "output_type": "execute_result"
    }
   ],
   "source": [
    "# Сделаем функцию, которая заменит строковые выражения на пропуски, потому что удалять нельзя в данном случае\n",
    "\n",
    "def filter_numeric(value):\n",
    "    if pd.isna(value):\n",
    "        return value\n",
    "    elif re.match(r'^-?\\d+(\\.\\d+)?$', value):\n",
    "        return float(value)\n",
    "    else:\n",
    "        return np.nan\n",
    "\n",
    "# Применяем функцию к столбцу\n",
    "df['Weight_report_plus5'] = df['Weight_report_plus5'].astype(str).apply(filter_numeric)\n",
    "\n",
    "df['Weight_report_plus5'].isna().sum()"
   ],
   "metadata": {
    "collapsed": false,
    "ExecuteTime": {
     "end_time": "2023-12-30T08:47:00.080677Z",
     "start_time": "2023-12-30T08:46:59.895512Z"
    }
   },
   "id": "7e0239af9a1aa0ab",
   "execution_count": 420
  },
  {
   "cell_type": "code",
   "outputs": [
    {
     "name": "stdout",
     "output_type": "stream",
     "text": [
      "96.09586466165413\n"
     ]
    }
   ],
   "source": [
    "# Возьмем из вывода сверху первый столбец с очевидными Nan, посмотрим на его структуру, особенности\n",
    "\n",
    "print(df['Weight_report_plus5'].mean())"
   ],
   "metadata": {
    "collapsed": false,
    "ExecuteTime": {
     "end_time": "2023-12-30T08:47:00.563794Z",
     "start_time": "2023-12-30T08:47:00.378733Z"
    }
   },
   "id": "9ebb1a609317d492",
   "execution_count": 422
  },
  {
   "cell_type": "markdown",
   "source": [
    "Очень странное среднее значение при нормальном весе около 50кг. "
   ],
   "metadata": {
    "collapsed": false
   },
   "id": "6b2287e0d6869c59"
  },
  {
   "cell_type": "code",
   "outputs": [
    {
     "data": {
      "text/plain": "<Figure size 600x400 with 1 Axes>",
      "image/png": "[encoded data removed]"
     },
     "metadata": {},
     "output_type": "display_data"
    }
   ],
   "source": [
    "plt.figure(figsize=(6, 4))\n",
    "sns.boxplot(x=df['Weight_report_plus5'])\n",
    "plt.title('Boxplot of Weight_report_plus5')\n",
    "plt.xlabel('Weight_report_plus5')\n",
    "plt.show()"
   ],
   "metadata": {
    "collapsed": false,
    "ExecuteTime": {
     "end_time": "2023-12-30T08:47:00.922222Z",
     "start_time": "2023-12-30T08:47:00.557236Z"
    }
   },
   "id": "1fc0627ab72f19ce",
   "execution_count": 423
  },
  {
   "cell_type": "code",
   "outputs": [
    {
     "data": {
      "text/plain": "count     133.000000\nmean       96.095865\nstd       553.438517\nmin       -55.250000\n25%         3.200000\n50%        39.150000\n75%        45.600000\nmax      5296.400000\nName: Weight_report_plus5, dtype: float64"
     },
     "execution_count": 424,
     "metadata": {},
     "output_type": "execute_result"
    }
   ],
   "source": [
    "df['Weight_report_plus5'].describe()\n",
    "\n",
    "# Нельзя обрезать через интерквартильный размах, заполнение данными я так понимаю включают и итоговый вес, и значения +- вес в динамике, нужен другой подход"
   ],
   "metadata": {
    "collapsed": false,
    "ExecuteTime": {
     "end_time": "2023-12-30T08:47:01.060337Z",
     "start_time": "2023-12-30T08:47:00.813070Z"
    }
   },
   "id": "8e5e50824121ef5d",
   "execution_count": 424
  },
  {
   "cell_type": "code",
   "outputs": [
    {
     "name": "stdout",
     "output_type": "stream",
     "text": [
      "39.15\n",
      "96.09586466165413\n"
     ]
    }
   ],
   "source": [
    "print(df['Weight_report_plus5'].median())\n",
    "print(df['Weight_report_plus5'].mean())"
   ],
   "metadata": {
    "collapsed": false,
    "ExecuteTime": {
     "end_time": "2023-12-30T08:47:01.444862Z",
     "start_time": "2023-12-30T08:47:01.037484Z"
    }
   },
   "id": "fd0c680879d7bbd",
   "execution_count": 425
  },
  {
   "cell_type": "code",
   "outputs": [
    {
     "data": {
      "text/plain": "1     NaN\n2     NaN\n3     NaN\n4     NaN\n5     NaN\n       ..\n251   NaN\n252   NaN\n253   NaN\n254   NaN\n255   NaN\nName: Weight_report_plus5, Length: 254, dtype: float64"
     },
     "execution_count": 426,
     "metadata": {},
     "output_type": "execute_result"
    }
   ],
   "source": [
    "df.Weight_report_plus5.head(300)"
   ],
   "metadata": {
    "collapsed": false,
    "ExecuteTime": {
     "end_time": "2023-12-30T08:47:01.606910Z",
     "start_time": "2023-12-30T08:47:01.413359Z"
    }
   },
   "id": "dc3aaa45e9be08a6",
   "execution_count": 426
  },
  {
   "cell_type": "code",
   "outputs": [],
   "source": [
    "df = df.drop(236)"
   ],
   "metadata": {
    "collapsed": false,
    "ExecuteTime": {
     "end_time": "2023-12-30T08:47:01.858112Z",
     "start_time": "2023-12-30T08:47:01.581808Z"
    }
   },
   "id": "fb39133d787e377",
   "execution_count": 427
  },
  {
   "cell_type": "markdown",
   "source": [
    "Вернемся к первым признакам, пойдем по порядку, этот признак пока под вопросом, но в целом картина довольно печальная по структуре и оформлению. "
   ],
   "metadata": {
    "collapsed": false
   },
   "id": "faa673359291fdea"
  },
  {
   "cell_type": "code",
   "outputs": [],
   "source": [
    "df['ID'] = df['ID'].str.split('/').str.get(0)"
   ],
   "metadata": {
    "collapsed": false,
    "ExecuteTime": {
     "end_time": "2023-12-30T08:47:02.295454Z",
     "start_time": "2023-12-30T08:47:02.026185Z"
    }
   },
   "id": "ced90cb9c752998d",
   "execution_count": 429
  },
  {
   "cell_type": "code",
   "outputs": [
    {
     "data": {
      "text/plain": "ID                            156\nDate_of_birth                  60\nWeight_on_buy                  81\nWeight_on_3.01.17             113\nWeight_in_plus                127\nWeight_report_plus5           121\nWeight_on_4.01.18              90\nWeight_on_31.12.18             20\nLactation                     181\nWeight_on_2_lact_31.12.16     185\nUnnamed: 15                   192\nWeight_on_lact1_31.12.17      181\nUnnamed: 18                   182\nUnnamed: 22                   188\nWeight_on_2_lact2_31.12.18    188\ndtype: int64"
     },
     "execution_count": 430,
     "metadata": {},
     "output_type": "execute_result"
    }
   ],
   "source": [
    "df.isna().sum()"
   ],
   "metadata": {
    "collapsed": false,
    "ExecuteTime": {
     "end_time": "2023-12-30T08:47:02.459667Z",
     "start_time": "2023-12-30T08:47:02.277809Z"
    }
   },
   "id": "95653e9eafa6dc2a",
   "execution_count": 430
  },
  {
   "cell_type": "code",
   "outputs": [
    {
     "name": "stdout",
     "output_type": "stream",
     "text": [
      "      ID Date_of_birth Weight_on_buy Weight_on_3.01.17 Weight_in_plus  \\\n",
      "1    NaN    2015-01-30            50                59              9   \n",
      "2    NaN    2015-01-31            52                55              3   \n",
      "3    NaN    2015-02-03            55                56              1   \n",
      "4    NaN    2015-02-03            44              44.2            0.2   \n",
      "5    NaN    2015-02-04            48                50              2   \n",
      "..   ...           ...           ...               ...            ...   \n",
      "249  NaN           NaT           NaN               NaN            NaN   \n",
      "251  NaN           NaT      07.05.18               1,8            NaN   \n",
      "252  NaN           NaT      07.05.18               2,1            NaN   \n",
      "253  NaN           NaT             м              2,15            NaN   \n",
      "254  NaN           NaT           NaN               NaN            NaN   \n",
      "\n",
      "     Weight_report_plus5 Weight_on_4.01.18 Weight_on_31.12.18 Lactation  \\\n",
      "1                    NaN             65.35                 61    2 лакт   \n",
      "2                    NaN              65.3               65.1    2 лакт   \n",
      "3                    NaN                57               60.2    2 лакт   \n",
      "4                    NaN              52.3                 52    2 лакт   \n",
      "5                    NaN              59.8               99.5    2 лакт   \n",
      "..                   ...               ...                ...       ...   \n",
      "249                  NaN               NaN            вес на        NaN   \n",
      "251                  NaN               NaN                 25       NaN   \n",
      "252                  NaN               NaN                 26       NaN   \n",
      "253                  NaN               NaN                 27       NaN   \n",
      "254                  NaN               NaN                NaN       NaN   \n",
      "\n",
      "    Weight_on_2_lact_31.12.16 Unnamed: 15 Weight_on_lact1_31.12.17  \\\n",
      "1                          59           1                      NaN   \n",
      "2                          55           2                      NaN   \n",
      "3                          56           3                      NaN   \n",
      "4                        44.2           4                      NaN   \n",
      "5                          50           5                      NaN   \n",
      "..                        ...         ...                      ...   \n",
      "249                       NaN         NaN                      NaN   \n",
      "251                       NaN         NaN                      NaN   \n",
      "252                       NaN         NaN                      NaN   \n",
      "253                       NaN         NaN                      NaN   \n",
      "254                       NaN         NaN                      NaN   \n",
      "\n",
      "     Unnamed: 18 Unnamed: 22 Weight_on_2_lact2_31.12.18  \n",
      "1            NaN         NaN                        NaN  \n",
      "2            NaN         NaN                        NaN  \n",
      "3            NaN         NaN                        NaN  \n",
      "4            NaN         NaN                        NaN  \n",
      "5            NaN         NaN                        NaN  \n",
      "..           ...         ...                        ...  \n",
      "249          NaN         NaN                        NaN  \n",
      "251          NaN         NaN                        NaN  \n",
      "252          NaN         NaN                        NaN  \n",
      "253          NaN         NaN                        NaN  \n",
      "254          NaN         NaN                        NaN  \n",
      "\n",
      "[156 rows x 15 columns]\n"
     ]
    }
   ],
   "source": [
    "rows_with_nan = df[df['ID'].isnull()]\n",
    "\n",
    "print(rows_with_nan)"
   ],
   "metadata": {
    "collapsed": false,
    "ExecuteTime": {
     "end_time": "2023-12-30T08:47:02.700918Z",
     "start_time": "2023-12-30T08:47:02.444398Z"
    }
   },
   "id": "97695d9cabc51cff",
   "execution_count": 431
  },
  {
   "cell_type": "code",
   "outputs": [],
   "source": [
    "random_values = np.random.randint(1, 100, df['ID'].isnull().sum())\n",
    "\n",
    "# Заполнение NaN случайными значениями\n",
    "df.loc[df['ID'].isnull(), 'ID'] = random_values\n",
    "\n",
    "# Я понимаю, что использование случайных идентификаторов недопустимо, но в данном случае все равно придется искуственно увеличить данные, поэтому пусть они увеличатся таким образом после слияния всех файлов, там дополнительно обработаем пропуски, так как уже изменится среднее и медианное значение, будут дополнительные показатели и мы сможем это использовать. "
   ],
   "metadata": {
    "collapsed": false,
    "ExecuteTime": {
     "end_time": "2023-12-30T08:47:02.868264Z",
     "start_time": "2023-12-30T08:47:02.678690Z"
    }
   },
   "id": "5dc7d552e3c41967",
   "execution_count": 432
  },
  {
   "cell_type": "code",
   "outputs": [
    {
     "data": {
      "text/plain": "Timestamp('2015-09-02 00:00:00')"
     },
     "execution_count": 433,
     "metadata": {},
     "output_type": "execute_result"
    }
   ],
   "source": [
    "df.Date_of_birth.median()"
   ],
   "metadata": {
    "collapsed": false,
    "ExecuteTime": {
     "end_time": "2023-12-30T08:47:03.135556Z",
     "start_time": "2023-12-30T08:47:02.850096Z"
    }
   },
   "id": "16863b6630093e4f",
   "execution_count": 433
  },
  {
   "cell_type": "code",
   "outputs": [],
   "source": [
    "median_date = df['Date_of_birth'].median()\n",
    "df['Date_of_birth'].fillna(median_date, inplace=True)"
   ],
   "metadata": {
    "collapsed": false,
    "ExecuteTime": {
     "end_time": "2023-12-30T08:47:03.282062Z",
     "start_time": "2023-12-30T08:47:03.118451Z"
    }
   },
   "id": "fcd5e13e03edf1f1",
   "execution_count": 434
  },
  {
   "cell_type": "code",
   "outputs": [
    {
     "data": {
      "text/plain": "1            50\n2            52\n3            55\n4            44\n5            48\n         ...   \n251    07.05.18\n252    07.05.18\n253           м\n254         NaN\n255         NaN\nName: Weight_on_buy, Length: 253, dtype: object"
     },
     "execution_count": 435,
     "metadata": {},
     "output_type": "execute_result"
    }
   ],
   "source": [
    "df['Weight_on_buy'].head(300)"
   ],
   "metadata": {
    "collapsed": false,
    "ExecuteTime": {
     "end_time": "2023-12-30T08:47:03.531278Z",
     "start_time": "2023-12-30T08:47:03.264885Z"
    }
   },
   "id": "3a45f53e045c0e22",
   "execution_count": 435
  },
  {
   "cell_type": "code",
   "outputs": [],
   "source": [
    "df.loc[115:, 'Weight_on_buy'] = np.nan"
   ],
   "metadata": {
    "collapsed": false,
    "ExecuteTime": {
     "end_time": "2023-12-30T08:47:03.687281Z",
     "start_time": "2023-12-30T08:47:03.507983Z"
    }
   },
   "id": "64445cce58ef0d0f",
   "execution_count": 436
  },
  {
   "cell_type": "code",
   "outputs": [
    {
     "name": "stdout",
     "output_type": "stream",
     "text": [
      "46.06194690265487\n",
      "47.0\n"
     ]
    }
   ],
   "source": [
    "print(df['Weight_on_buy'].mean())\n",
    "print(df['Weight_on_buy'].median())"
   ],
   "metadata": {
    "collapsed": false,
    "ExecuteTime": {
     "end_time": "2023-12-30T08:47:03.939890Z",
     "start_time": "2023-12-30T08:47:03.665008Z"
    }
   },
   "id": "63f33e1be9bf06da",
   "execution_count": 437
  },
  {
   "cell_type": "code",
   "outputs": [],
   "source": [
    "median_weight = df['Weight_on_buy'].median()\n",
    "df['Weight_on_buy'].fillna(median_weight, inplace=True)"
   ],
   "metadata": {
    "collapsed": false,
    "ExecuteTime": {
     "end_time": "2023-12-30T08:47:04.080664Z",
     "start_time": "2023-12-30T08:47:03.915522Z"
    }
   },
   "id": "6108b6a0a8ac4e12",
   "execution_count": 438
  },
  {
   "cell_type": "code",
   "outputs": [
    {
     "data": {
      "text/plain": "1        59\n2        55\n3        56\n4      44.2\n5        50\n       ... \n251     1,8\n252     2,1\n253    2,15\n254     NaN\n255     NaN\nName: Weight_on_3.01.17, Length: 253, dtype: object"
     },
     "execution_count": 439,
     "metadata": {},
     "output_type": "execute_result"
    }
   ],
   "source": [
    "df['Weight_on_3.01.17'].head(300)"
   ],
   "metadata": {
    "collapsed": false,
    "ExecuteTime": {
     "end_time": "2023-12-30T08:47:04.358492Z",
     "start_time": "2023-12-30T08:47:04.057406Z"
    }
   },
   "id": "2541732c0f854e02",
   "execution_count": 439
  },
  {
   "cell_type": "code",
   "outputs": [],
   "source": [
    "df.loc[115:, 'Weight_on_3.01.17'] = np.nan"
   ],
   "metadata": {
    "collapsed": false,
    "ExecuteTime": {
     "end_time": "2023-12-30T08:47:04.508325Z",
     "start_time": "2023-12-30T08:47:04.339405Z"
    }
   },
   "id": "202bbc6abe4fdaa4",
   "execution_count": 440
  },
  {
   "cell_type": "code",
   "outputs": [
    {
     "name": "stdout",
     "output_type": "stream",
     "text": [
      "43.19823008849556\n",
      "41.45\n"
     ]
    }
   ],
   "source": [
    "print(df['Weight_on_3.01.17'].mean())\n",
    "print(df['Weight_on_3.01.17'].median())"
   ],
   "metadata": {
    "collapsed": false,
    "ExecuteTime": {
     "end_time": "2023-12-30T08:47:04.750155Z",
     "start_time": "2023-12-30T08:47:04.489886Z"
    }
   },
   "id": "3ce6cf0df5173f32",
   "execution_count": 441
  },
  {
   "cell_type": "code",
   "outputs": [],
   "source": [
    "mean_weight = df['Weight_on_3.01.17'].median()\n",
    "df['Weight_on_3.01.17'].fillna(mean_weight, inplace=True)"
   ],
   "metadata": {
    "collapsed": false,
    "ExecuteTime": {
     "end_time": "2023-12-30T08:47:04.917064Z",
     "start_time": "2023-12-30T08:47:04.731352Z"
    }
   },
   "id": "2b563ea406fa6e0c",
   "execution_count": 442
  },
  {
   "cell_type": "code",
   "outputs": [
    {
     "name": "stdout",
     "output_type": "stream",
     "text": [
      "<class 'pandas.core.frame.DataFrame'>\n",
      "Index: 253 entries, 1 to 255\n",
      "Data columns (total 15 columns):\n",
      " #   Column                      Non-Null Count  Dtype         \n",
      "---  ------                      --------------  -----         \n",
      " 0   ID                          253 non-null    object        \n",
      " 1   Date_of_birth               253 non-null    datetime64[ns]\n",
      " 2   Weight_on_buy               253 non-null    float64       \n",
      " 3   Weight_on_3.01.17           253 non-null    float64       \n",
      " 4   Weight_in_plus              126 non-null    object        \n",
      " 5   Weight_report_plus5         132 non-null    float64       \n",
      " 6   Weight_on_4.01.18           163 non-null    object        \n",
      " 7   Weight_on_31.12.18          233 non-null    object        \n",
      " 8   Lactation                   72 non-null     object        \n",
      " 9   Weight_on_2_lact_31.12.16   68 non-null     object        \n",
      " 10  Unnamed: 15                 61 non-null     object        \n",
      " 11  Weight_on_lact1_31.12.17    72 non-null     object        \n",
      " 12  Unnamed: 18                 71 non-null     float64       \n",
      " 13  Unnamed: 22                 65 non-null     object        \n",
      " 14  Weight_on_2_lact2_31.12.18  65 non-null     object        \n",
      "dtypes: datetime64[ns](1), float64(4), object(10)\n",
      "memory usage: 39.7+ KB\n"
     ]
    }
   ],
   "source": [
    "df.info()"
   ],
   "metadata": {
    "collapsed": false,
    "ExecuteTime": {
     "end_time": "2023-12-30T08:47:05.166767Z",
     "start_time": "2023-12-30T08:47:04.896835Z"
    }
   },
   "id": "4b1f328279e1022c",
   "execution_count": 443
  },
  {
   "cell_type": "code",
   "outputs": [
    {
     "data": {
      "text/plain": "1        9\n2        3\n3        1\n4      0.2\n5        2\n      ... \n251    NaN\n252    NaN\n253    NaN\n254    NaN\n255    NaN\nName: Weight_in_plus, Length: 253, dtype: object"
     },
     "execution_count": 444,
     "metadata": {},
     "output_type": "execute_result"
    }
   ],
   "source": [
    "df['Weight_in_plus'].head(300)"
   ],
   "metadata": {
    "collapsed": false,
    "ExecuteTime": {
     "end_time": "2023-12-30T08:47:05.295111Z",
     "start_time": "2023-12-30T08:47:05.148427Z"
    }
   },
   "id": "ee2436034fbdc7c0",
   "execution_count": 444
  },
  {
   "cell_type": "code",
   "outputs": [],
   "source": [
    "df.loc[117:, 'Weight_in_plus'] = np.nan"
   ],
   "metadata": {
    "collapsed": false,
    "ExecuteTime": {
     "end_time": "2023-12-30T08:47:05.577335Z",
     "start_time": "2023-12-30T08:47:05.272446Z"
    }
   },
   "id": "d71bd56efe4074ee",
   "execution_count": 445
  },
  {
   "cell_type": "code",
   "outputs": [
    {
     "name": "stdout",
     "output_type": "stream",
     "text": [
      "-8.909130434782611\n",
      "-2.0\n"
     ]
    }
   ],
   "source": [
    "print(df['Weight_in_plus'].mean())\n",
    "print(df['Weight_in_plus'].median())\n",
    "\n",
    "# Нужно брать медиану, так как использование динамики веса в -8 испортит всю статистику, но среднее тоже странно выглядит, нужно посмотреть выбросы"
   ],
   "metadata": {
    "collapsed": false,
    "ExecuteTime": {
     "end_time": "2023-12-30T08:47:05.740858Z",
     "start_time": "2023-12-30T08:47:05.554887Z"
    }
   },
   "id": "2a360f83216fba6e",
   "execution_count": 446
  },
  {
   "cell_type": "code",
   "outputs": [
    {
     "data": {
      "text/plain": "<Figure size 600x400 with 1 Axes>",
      "image/png": "[encoded data removed]"
     },
     "metadata": {},
     "output_type": "display_data"
    }
   ],
   "source": [
    "plt.figure(figsize=(6, 4))\n",
    "sns.boxplot(x=df['Weight_in_plus'])\n",
    "plt.title('Boxplot of Weight_in_plus')\n",
    "plt.xlabel('Weight_in_plus')\n",
    "plt.show()"
   ],
   "metadata": {
    "collapsed": false,
    "ExecuteTime": {
     "end_time": "2023-12-30T08:47:06.013792Z",
     "start_time": "2023-12-30T08:47:05.737176Z"
    }
   },
   "id": "d3aa84d63adb0121",
   "execution_count": 447
  },
  {
   "cell_type": "code",
   "outputs": [],
   "source": [
    "# Видно на диаграмме два сильных выброса, скорее всего это тоже обобщающие строки. Не будем удалять эти строки, заменим тоже на Nan и заполним по методу\n",
    "\n",
    "df.loc[115:, 'Weight_in_plus'] = np.nan"
   ],
   "metadata": {
    "collapsed": false,
    "ExecuteTime": {
     "end_time": "2023-12-30T08:47:06.120181Z",
     "start_time": "2023-12-30T08:47:05.914208Z"
    }
   },
   "id": "e029732297cfde33",
   "execution_count": 448
  },
  {
   "cell_type": "code",
   "outputs": [
    {
     "name": "stdout",
     "output_type": "stream",
     "text": [
      "-2.8637168141592926\n",
      "-2.0\n"
     ]
    }
   ],
   "source": [
    "print(df['Weight_in_plus'].mean())\n",
    "print(df['Weight_in_plus'].median())"
   ],
   "metadata": {
    "collapsed": false,
    "ExecuteTime": {
     "end_time": "2023-12-30T08:47:06.382896Z",
     "start_time": "2023-12-30T08:47:06.102505Z"
    }
   },
   "id": "8f0412a2e682afcc",
   "execution_count": 449
  },
  {
   "cell_type": "code",
   "outputs": [],
   "source": [
    "median_weight = df['Weight_in_plus'].median()\n",
    "df['Weight_in_plus'].fillna(median_weight, inplace=True)"
   ],
   "metadata": {
    "collapsed": false,
    "ExecuteTime": {
     "end_time": "2023-12-30T08:47:06.559323Z",
     "start_time": "2023-12-30T08:47:06.363435Z"
    }
   },
   "id": "d3c2dce2467e8af8",
   "execution_count": 450
  },
  {
   "cell_type": "code",
   "outputs": [
    {
     "name": "stdout",
     "output_type": "stream",
     "text": [
      "<class 'pandas.core.frame.DataFrame'>\n",
      "Index: 253 entries, 1 to 255\n",
      "Data columns (total 15 columns):\n",
      " #   Column                      Non-Null Count  Dtype         \n",
      "---  ------                      --------------  -----         \n",
      " 0   ID                          253 non-null    object        \n",
      " 1   Date_of_birth               253 non-null    datetime64[ns]\n",
      " 2   Weight_on_buy               253 non-null    float64       \n",
      " 3   Weight_on_3.01.17           253 non-null    float64       \n",
      " 4   Weight_in_plus              253 non-null    float64       \n",
      " 5   Weight_report_plus5         132 non-null    float64       \n",
      " 6   Weight_on_4.01.18           163 non-null    object        \n",
      " 7   Weight_on_31.12.18          233 non-null    object        \n",
      " 8   Lactation                   72 non-null     object        \n",
      " 9   Weight_on_2_lact_31.12.16   68 non-null     object        \n",
      " 10  Unnamed: 15                 61 non-null     object        \n",
      " 11  Weight_on_lact1_31.12.17    72 non-null     object        \n",
      " 12  Unnamed: 18                 71 non-null     float64       \n",
      " 13  Unnamed: 22                 65 non-null     object        \n",
      " 14  Weight_on_2_lact2_31.12.18  65 non-null     object        \n",
      "dtypes: datetime64[ns](1), float64(5), object(9)\n",
      "memory usage: 39.7+ KB\n"
     ]
    }
   ],
   "source": [
    "df.info()"
   ],
   "metadata": {
    "collapsed": false,
    "ExecuteTime": {
     "end_time": "2023-12-30T08:47:06.804185Z",
     "start_time": "2023-12-30T08:47:06.538233Z"
    }
   },
   "id": "bb3b5f3bd6ca8b83",
   "execution_count": 451
  },
  {
   "cell_type": "code",
   "outputs": [],
   "source": [
    "# Без комментариев почему этот столбец удаляется, проблема не в заполнении или статистических методах, так будет правильно по сути этого признака\n",
    "\n",
    "df = df.drop('Weight_report_plus5', axis=1)"
   ],
   "metadata": {
    "collapsed": false,
    "ExecuteTime": {
     "end_time": "2023-12-30T08:47:06.947323Z",
     "start_time": "2023-12-30T08:47:06.779265Z"
    }
   },
   "id": "1846524d387190b4",
   "execution_count": 452
  },
  {
   "cell_type": "code",
   "outputs": [
    {
     "data": {
      "text/plain": "1      65.35\n2       65.3\n3         57\n4       52.3\n5       59.8\n       ...  \n251      NaN\n252      NaN\n253      NaN\n254      NaN\n255      NaN\nName: Weight_on_4.01.18, Length: 253, dtype: object"
     },
     "execution_count": 453,
     "metadata": {},
     "output_type": "execute_result"
    }
   ],
   "source": [
    "df['Weight_on_4.01.18'].head(300)"
   ],
   "metadata": {
    "collapsed": false,
    "ExecuteTime": {
     "end_time": "2023-12-30T08:47:07.226368Z",
     "start_time": "2023-12-30T08:47:06.923101Z"
    }
   },
   "id": "298b6fba48a8516c",
   "execution_count": 453
  },
  {
   "cell_type": "code",
   "outputs": [],
   "source": [
    "# Здесь нельзя после определенной строки весь мусор перевести в пропуски, так как значения перемешаны и есть важные данные, поэтому буквенные мы переводим в пропуски, остальное заполним методом\n",
    "\n",
    "df['Weight_on_4.01.18'] = pd.to_numeric(df['Weight_on_4.01.18'], errors='coerce')"
   ],
   "metadata": {
    "collapsed": false,
    "ExecuteTime": {
     "end_time": "2023-12-30T08:47:07.375450Z",
     "start_time": "2023-12-30T08:47:07.209219Z"
    }
   },
   "id": "2ff6f07dfd920766",
   "execution_count": 454
  },
  {
   "cell_type": "code",
   "outputs": [
    {
     "data": {
      "text/plain": "<Figure size 600x400 with 1 Axes>",
      "image/png": "[encoded data removed]"
     },
     "metadata": {},
     "output_type": "display_data"
    }
   ],
   "source": [
    "plt.figure(figsize=(6, 4))\n",
    "sns.boxplot(x=df['Weight_on_4.01.18'])\n",
    "plt.title('Weight_on_4.01.18')\n",
    "plt.xlabel('Weight_on_4.01.18')\n",
    "plt.show()"
   ],
   "metadata": {
    "collapsed": false,
    "ExecuteTime": {
     "end_time": "2023-12-30T08:47:07.634587Z",
     "start_time": "2023-12-30T08:47:07.415153Z"
    }
   },
   "id": "3f3d6cddc35054bf",
   "execution_count": 455
  },
  {
   "cell_type": "code",
   "outputs": [],
   "source": [
    "# Видим сильные выбросы опять, заменим все значения больше 100\n",
    "\n",
    "df.loc[df['Weight_on_4.01.18'] > 100, 'Weight_on_4.01.18'] = np.nan"
   ],
   "metadata": {
    "collapsed": false,
    "ExecuteTime": {
     "end_time": "2023-12-30T08:47:07.758482Z",
     "start_time": "2023-12-30T08:47:07.587569Z"
    }
   },
   "id": "64f59a31cbb7d638",
   "execution_count": 456
  },
  {
   "cell_type": "code",
   "outputs": [
    {
     "data": {
      "text/plain": "<Figure size 600x400 with 1 Axes>",
      "image/png": "[encoded data removed]"
     },
     "metadata": {},
     "output_type": "display_data"
    }
   ],
   "source": [
    "plt.figure(figsize=(6, 4))\n",
    "sns.boxplot(x=df['Weight_on_4.01.18'])\n",
    "plt.title('Weight_on_4.01.18')\n",
    "plt.xlabel('Weight_on_4.01.18')\n",
    "plt.show()"
   ],
   "metadata": {
    "collapsed": false,
    "ExecuteTime": {
     "end_time": "2023-12-30T08:47:08.032767Z",
     "start_time": "2023-12-30T08:47:07.738956Z"
    }
   },
   "id": "94b9204c40d3224e",
   "execution_count": 457
  },
  {
   "cell_type": "code",
   "outputs": [
    {
     "name": "stdout",
     "output_type": "stream",
     "text": [
      "51.05949367088608\n",
      "57.0\n"
     ]
    }
   ],
   "source": [
    "print(df['Weight_on_4.01.18'].mean())\n",
    "print(df['Weight_on_4.01.18'].median())\n",
    "\n",
    "# Сложно выбрать, в целом тенденция большего веса всегда лучше, однако в данном случае это может испортить общую картину"
   ],
   "metadata": {
    "collapsed": false,
    "ExecuteTime": {
     "end_time": "2023-12-30T08:47:08.143525Z",
     "start_time": "2023-12-30T08:47:07.987923Z"
    }
   },
   "id": "4226a1a124b239db",
   "execution_count": 458
  },
  {
   "cell_type": "code",
   "outputs": [
    {
     "data": {
      "text/plain": "<Figure size 1000x600 with 1 Axes>",
      "image/png": "[encoded data removed]"
     },
     "metadata": {},
     "output_type": "display_data"
    }
   ],
   "source": [
    "plt.figure(figsize=(10, 6))\n",
    "plt.hist(df['Weight_on_4.01.18'], bins=20, edgecolor='k', alpha=0.7)\n",
    "plt.title('Распределение веса животных')\n",
    "plt.xlabel('Вес')\n",
    "plt.ylabel('Частота')\n",
    "plt.grid(True)\n",
    "plt.show()"
   ],
   "metadata": {
    "collapsed": false,
    "ExecuteTime": {
     "end_time": "2023-12-30T08:47:08.486324Z",
     "start_time": "2023-12-30T08:47:08.132094Z"
    }
   },
   "id": "a34f131686eaf2f",
   "execution_count": 459
  },
  {
   "cell_type": "code",
   "outputs": [
    {
     "data": {
      "text/plain": "<Figure size 1000x600 with 1 Axes>",
      "image/png": "[encoded data removed]"
     },
     "metadata": {},
     "output_type": "display_data"
    }
   ],
   "source": [
    "# Добавим среднее и медиану для лучшего понимания\n",
    "\n",
    "plt.figure(figsize=(10, 6))\n",
    "plt.hist(df['Weight_on_4.01.18'], bins=20, edgecolor='k', alpha=0.7, label='Распределение веса')\n",
    "\n",
    "# Нахождение и отображение медианы и среднего значения\n",
    "median_value = df['Weight_on_4.01.18'].median()\n",
    "mean_value = df['Weight_on_4.01.18'].mean()\n",
    "\n",
    "plt.axvline(median_value, color='r', linestyle='--', label=f'Медиана = {median_value:.2f}')\n",
    "plt.axvline(mean_value, color='g', linestyle='--', label=f'Среднее = {mean_value:.2f}')\n",
    "\n",
    "plt.title('Распределение веса животных с медианой и средним значением')\n",
    "plt.xlabel('Вес')\n",
    "plt.ylabel('Частота')\n",
    "plt.legend()\n",
    "plt.grid(True)\n",
    "plt.show()"
   ],
   "metadata": {
    "collapsed": false,
    "ExecuteTime": {
     "end_time": "2023-12-30T08:47:08.804730Z",
     "start_time": "2023-12-30T08:47:08.419641Z"
    }
   },
   "id": "d3282af2a1b9452a",
   "execution_count": 460
  },
  {
   "cell_type": "code",
   "outputs": [],
   "source": [
    "median_value = df['Weight_on_4.01.18'].median()\n",
    "df['Weight_on_4.01.18'].fillna(median_value, inplace=True)"
   ],
   "metadata": {
    "collapsed": false,
    "ExecuteTime": {
     "end_time": "2023-12-30T08:47:08.897962Z",
     "start_time": "2023-12-30T08:47:08.593559Z"
    }
   },
   "id": "dfeafbf40fcbfb29",
   "execution_count": 461
  },
  {
   "cell_type": "code",
   "outputs": [
    {
     "name": "stdout",
     "output_type": "stream",
     "text": [
      "<class 'pandas.core.frame.DataFrame'>\n",
      "Index: 253 entries, 1 to 255\n",
      "Data columns (total 14 columns):\n",
      " #   Column                      Non-Null Count  Dtype         \n",
      "---  ------                      --------------  -----         \n",
      " 0   ID                          253 non-null    object        \n",
      " 1   Date_of_birth               253 non-null    datetime64[ns]\n",
      " 2   Weight_on_buy               253 non-null    float64       \n",
      " 3   Weight_on_3.01.17           253 non-null    float64       \n",
      " 4   Weight_in_plus              253 non-null    float64       \n",
      " 5   Weight_on_4.01.18           253 non-null    float64       \n",
      " 6   Weight_on_31.12.18          233 non-null    object        \n",
      " 7   Lactation                   72 non-null     object        \n",
      " 8   Weight_on_2_lact_31.12.16   68 non-null     object        \n",
      " 9   Unnamed: 15                 61 non-null     object        \n",
      " 10  Weight_on_lact1_31.12.17    72 non-null     object        \n",
      " 11  Unnamed: 18                 71 non-null     float64       \n",
      " 12  Unnamed: 22                 65 non-null     object        \n",
      " 13  Weight_on_2_lact2_31.12.18  65 non-null     object        \n",
      "dtypes: datetime64[ns](1), float64(5), object(8)\n",
      "memory usage: 37.8+ KB\n"
     ]
    }
   ],
   "source": [
    "df.info()"
   ],
   "metadata": {
    "collapsed": false,
    "ExecuteTime": {
     "end_time": "2023-12-30T08:47:09.157365Z",
     "start_time": "2023-12-30T08:47:08.881301Z"
    }
   },
   "id": "c284a37789b4b156",
   "execution_count": 462
  },
  {
   "cell_type": "code",
   "outputs": [
    {
     "data": {
      "text/plain": "1        61\n2      65.1\n3      60.2\n4        52\n5      99.5\n       ... \n251      25\n252      26\n253      27\n254     NaN\n255      78\nName: Weight_on_31.12.18, Length: 253, dtype: object"
     },
     "execution_count": 463,
     "metadata": {},
     "output_type": "execute_result"
    }
   ],
   "source": [
    "df['Weight_on_31.12.18'].head(300)"
   ],
   "metadata": {
    "collapsed": false,
    "ExecuteTime": {
     "end_time": "2023-12-30T08:47:09.296393Z",
     "start_time": "2023-12-30T08:47:09.137838Z"
    }
   },
   "id": "112d1cc7d264a715",
   "execution_count": 463
  },
  {
   "cell_type": "code",
   "outputs": [],
   "source": [
    "df['Weight_on_31.12.18'] = pd.to_numeric(df['Weight_on_31.12.18'], errors='coerce')"
   ],
   "metadata": {
    "collapsed": false,
    "ExecuteTime": {
     "end_time": "2023-12-30T08:47:09.572061Z",
     "start_time": "2023-12-30T08:47:09.278080Z"
    }
   },
   "id": "6f01726642a02859",
   "execution_count": 464
  },
  {
   "cell_type": "code",
   "outputs": [
    {
     "data": {
      "text/plain": "<Figure size 600x400 with 1 Axes>",
      "image/png": "[encoded data removed]"
     },
     "metadata": {},
     "output_type": "display_data"
    }
   ],
   "source": [
    "plt.figure(figsize=(6, 4))\n",
    "sns.boxplot(x=df['Weight_on_31.12.18'])\n",
    "plt.title('Weight_on_31.12.18')\n",
    "plt.xlabel('Weight_on_31.12.18')\n",
    "plt.show()"
   ],
   "metadata": {
    "collapsed": false,
    "ExecuteTime": {
     "end_time": "2023-12-30T08:47:09.829577Z",
     "start_time": "2023-12-30T08:47:09.562629Z"
    }
   },
   "id": "38b0470060b39301",
   "execution_count": 465
  },
  {
   "cell_type": "code",
   "outputs": [],
   "source": [
    "# Видим сильные выбросы опять, заменим все значения больше 100\n",
    "\n",
    "df.loc[df['Weight_on_31.12.18'] > 100, 'Weight_on_31.12.18'] = np.nan"
   ],
   "metadata": {
    "collapsed": false,
    "ExecuteTime": {
     "end_time": "2023-12-30T08:47:09.922266Z",
     "start_time": "2023-12-30T08:47:09.719715Z"
    }
   },
   "id": "397a4af97bd81e76",
   "execution_count": 466
  },
  {
   "cell_type": "code",
   "outputs": [
    {
     "data": {
      "text/plain": "<Figure size 600x400 with 1 Axes>",
      "image/png": "[encoded data removed]"
     },
     "metadata": {},
     "output_type": "display_data"
    }
   ],
   "source": [
    "plt.figure(figsize=(6, 4))\n",
    "sns.boxplot(x=df['Weight_on_31.12.18'])\n",
    "plt.title('Weight_on_31.12.18')\n",
    "plt.xlabel('Weight_on_31.12.18')\n",
    "plt.show()"
   ],
   "metadata": {
    "collapsed": false,
    "ExecuteTime": {
     "end_time": "2023-12-30T08:47:10.195118Z",
     "start_time": "2023-12-30T08:47:09.904544Z"
    }
   },
   "id": "63b997999922a628",
   "execution_count": 467
  },
  {
   "cell_type": "code",
   "outputs": [
    {
     "data": {
      "text/plain": "<Figure size 1000x600 with 1 Axes>",
      "image/png": "[encoded data removed]"
     },
     "metadata": {},
     "output_type": "display_data"
    }
   ],
   "source": [
    "plt.figure(figsize=(10, 6))\n",
    "plt.hist(df['Weight_on_31.12.18'], bins=20, edgecolor='k', alpha=0.7, label='Распределение веса')\n",
    "\n",
    "# Нахождение и отображение медианы и среднего значения\n",
    "median_value = df['Weight_on_31.12.18'].median()\n",
    "mean_value = df['Weight_on_31.12.18'].mean()\n",
    "\n",
    "plt.axvline(median_value, color='r', linestyle='--', label=f'Медиана = {median_value:.2f}')\n",
    "plt.axvline(mean_value, color='g', linestyle='--', label=f'Среднее = {mean_value:.2f}')\n",
    "\n",
    "plt.title('Распределение веса животных с медианой и средним значением')\n",
    "plt.xlabel('Вес')\n",
    "plt.ylabel('Частота')\n",
    "plt.legend()\n",
    "plt.grid(True)\n",
    "plt.show()"
   ],
   "metadata": {
    "collapsed": false,
    "ExecuteTime": {
     "end_time": "2023-12-30T08:47:10.462643Z",
     "start_time": "2023-12-30T08:47:10.160850Z"
    }
   },
   "id": "e559b976030eb570",
   "execution_count": 468
  },
  {
   "cell_type": "code",
   "outputs": [],
   "source": [
    "mean_value = df['Weight_on_31.12.18'].mean()\n",
    "df['Weight_on_31.12.18'].fillna(median_value, inplace=True)"
   ],
   "metadata": {
    "collapsed": false,
    "ExecuteTime": {
     "end_time": "2023-12-30T08:47:10.585324Z",
     "start_time": "2023-12-30T08:47:10.297221Z"
    }
   },
   "id": "d8d09a57bc7dbebc",
   "execution_count": 469
  },
  {
   "cell_type": "code",
   "outputs": [
    {
     "name": "stdout",
     "output_type": "stream",
     "text": [
      "<class 'pandas.core.frame.DataFrame'>\n",
      "Index: 253 entries, 1 to 255\n",
      "Data columns (total 14 columns):\n",
      " #   Column                      Non-Null Count  Dtype         \n",
      "---  ------                      --------------  -----         \n",
      " 0   ID                          253 non-null    object        \n",
      " 1   Date_of_birth               253 non-null    datetime64[ns]\n",
      " 2   Weight_on_buy               253 non-null    float64       \n",
      " 3   Weight_on_3.01.17           253 non-null    float64       \n",
      " 4   Weight_in_plus              253 non-null    float64       \n",
      " 5   Weight_on_4.01.18           253 non-null    float64       \n",
      " 6   Weight_on_31.12.18          253 non-null    float64       \n",
      " 7   Lactation                   72 non-null     object        \n",
      " 8   Weight_on_2_lact_31.12.16   68 non-null     object        \n",
      " 9   Unnamed: 15                 61 non-null     object        \n",
      " 10  Weight_on_lact1_31.12.17    72 non-null     object        \n",
      " 11  Unnamed: 18                 71 non-null     float64       \n",
      " 12  Unnamed: 22                 65 non-null     object        \n",
      " 13  Weight_on_2_lact2_31.12.18  65 non-null     object        \n",
      "dtypes: datetime64[ns](1), float64(6), object(7)\n",
      "memory usage: 37.8+ KB\n"
     ]
    }
   ],
   "source": [
    "df.info()"
   ],
   "metadata": {
    "collapsed": false,
    "ExecuteTime": {
     "end_time": "2023-12-30T08:47:10.851298Z",
     "start_time": "2023-12-30T08:47:10.564547Z"
    }
   },
   "id": "5605c713870a7b4a",
   "execution_count": 470
  },
  {
   "cell_type": "code",
   "outputs": [
    {
     "data": {
      "text/plain": "1      2 лакт\n2      2 лакт\n3      2 лакт\n4      2 лакт\n5      2 лакт\n        ...  \n251       NaN\n252       NaN\n253       NaN\n254       NaN\n255       NaN\nName: Lactation, Length: 253, dtype: object"
     },
     "execution_count": 471,
     "metadata": {},
     "output_type": "execute_result"
    }
   ],
   "source": [
    "df.Lactation.head(300)"
   ],
   "metadata": {
    "collapsed": false,
    "ExecuteTime": {
     "end_time": "2023-12-30T08:47:10.992535Z",
     "start_time": "2023-12-30T08:47:10.833690Z"
    }
   },
   "id": "928c189a429ee9d9",
   "execution_count": 471
  },
  {
   "cell_type": "code",
   "outputs": [],
   "source": [
    "mode_value = df['Lactation'].mode()[0]  # Получаем первое значение из результата mode()\n",
    "df['Lactation'].fillna(mode_value, inplace=True)"
   ],
   "metadata": {
    "collapsed": false,
    "ExecuteTime": {
     "end_time": "2023-12-30T08:47:11.258761Z",
     "start_time": "2023-12-30T08:47:10.968005Z"
    }
   },
   "id": "bae6dbff72b6ee1f",
   "execution_count": 472
  },
  {
   "cell_type": "code",
   "outputs": [],
   "source": [
    "mask = (df['Lactation'] != '2 лакт') & (df['Lactation'] != '3 лакт')\n",
    "df.loc[mask, 'Lactation'] = '2 лакт'"
   ],
   "metadata": {
    "collapsed": false,
    "ExecuteTime": {
     "end_time": "2023-12-30T08:47:11.432637Z",
     "start_time": "2023-12-30T08:47:11.240490Z"
    }
   },
   "id": "3c22ddefc39e4372",
   "execution_count": 473
  },
  {
   "cell_type": "code",
   "outputs": [],
   "source": [
    "# Удаление слова \"лакт\" и преобразование столбца в целочисленный тип\n",
    "df['Lactation'] = df['Lactation'].str.replace(' лакт', '', regex=False).astype(int)"
   ],
   "metadata": {
    "collapsed": false,
    "ExecuteTime": {
     "end_time": "2023-12-30T08:47:11.626361Z",
     "start_time": "2023-12-30T08:47:11.415146Z"
    }
   },
   "id": "225887a0c2e57691",
   "execution_count": 474
  },
  {
   "cell_type": "code",
   "outputs": [
    {
     "data": {
      "text/plain": "1    2\n2    2\n3    2\n4    2\n5    2\nName: Lactation, dtype: int64"
     },
     "execution_count": 475,
     "metadata": {},
     "output_type": "execute_result"
    }
   ],
   "source": [
    "df.Lactation.head()"
   ],
   "metadata": {
    "collapsed": false,
    "ExecuteTime": {
     "end_time": "2023-12-30T08:47:11.787208Z",
     "start_time": "2023-12-30T08:47:11.603086Z"
    }
   },
   "id": "8c50ec3518c4109c",
   "execution_count": 475
  },
  {
   "cell_type": "code",
   "outputs": [
    {
     "name": "stdout",
     "output_type": "stream",
     "text": [
      "<class 'pandas.core.frame.DataFrame'>\n",
      "Index: 253 entries, 1 to 255\n",
      "Data columns (total 14 columns):\n",
      " #   Column                      Non-Null Count  Dtype         \n",
      "---  ------                      --------------  -----         \n",
      " 0   ID                          253 non-null    object        \n",
      " 1   Date_of_birth               253 non-null    datetime64[ns]\n",
      " 2   Weight_on_buy               253 non-null    float64       \n",
      " 3   Weight_on_3.01.17           253 non-null    float64       \n",
      " 4   Weight_in_plus              253 non-null    float64       \n",
      " 5   Weight_on_4.01.18           253 non-null    float64       \n",
      " 6   Weight_on_31.12.18          253 non-null    float64       \n",
      " 7   Lactation                   253 non-null    int64         \n",
      " 8   Weight_on_2_lact_31.12.16   68 non-null     object        \n",
      " 9   Unnamed: 15                 61 non-null     object        \n",
      " 10  Weight_on_lact1_31.12.17    72 non-null     object        \n",
      " 11  Unnamed: 18                 71 non-null     float64       \n",
      " 12  Unnamed: 22                 65 non-null     object        \n",
      " 13  Weight_on_2_lact2_31.12.18  65 non-null     object        \n",
      "dtypes: datetime64[ns](1), float64(6), int64(1), object(6)\n",
      "memory usage: 37.8+ KB\n"
     ]
    }
   ],
   "source": [
    "df.info()"
   ],
   "metadata": {
    "collapsed": false,
    "ExecuteTime": {
     "end_time": "2023-12-30T08:47:12.000861Z",
     "start_time": "2023-12-30T08:47:11.764156Z"
    }
   },
   "id": "4ae05a92be971e13",
   "execution_count": 476
  },
  {
   "cell_type": "code",
   "outputs": [
    {
     "data": {
      "text/plain": "1      NaN\n2      NaN\n3      NaN\n4      NaN\n5      NaN\n      ... \n251    NaN\n252    NaN\n253    NaN\n254    NaN\n255    NaN\nName: Weight_on_lact1_31.12.17, Length: 253, dtype: object"
     },
     "execution_count": 477,
     "metadata": {},
     "output_type": "execute_result"
    }
   ],
   "source": [
    "df['Weight_on_lact1_31.12.17'].head(300)"
   ],
   "metadata": {
    "collapsed": false,
    "ExecuteTime": {
     "end_time": "2023-12-30T08:47:12.163028Z",
     "start_time": "2023-12-30T08:47:11.984183Z"
    }
   },
   "id": "7c6e5b3af7cf2240",
   "execution_count": 477
  },
  {
   "cell_type": "code",
   "outputs": [
    {
     "data": {
      "text/plain": "<Axes: >"
     },
     "execution_count": 478,
     "metadata": {},
     "output_type": "execute_result"
    },
    {
     "data": {
      "text/plain": "<Figure size 2500x1000 with 2 Axes>",
      "image/png": "[encoded data removed]"
     },
     "metadata": {},
     "output_type": "display_data"
    }
   ],
   "source": [
    "columns_to_visualize = ['Weight_on_2_lact_31.12.16', 'Weight_on_lact1_31.12.17', 'Weight_on_2_lact2_31.12.18']\n",
    "\n",
    "# Отображаем матрицу пропущенных значений\n",
    "msno.matrix(df[columns_to_visualize])\n",
    "\n",
    "# получаем матрицу, видим, что где то значения перекликаются, поэтому чтобы не удалять все столбцы в связи с большим количеством пропусков в них, попробуем их объединить"
   ],
   "metadata": {
    "collapsed": false,
    "ExecuteTime": {
     "end_time": "2023-12-30T08:47:12.508765Z",
     "start_time": "2023-12-30T08:47:12.140140Z"
    }
   },
   "id": "fa994622f3e4ebf7",
   "execution_count": 478
  },
  {
   "cell_type": "code",
   "outputs": [],
   "source": [
    "df['Weight_on_2_lact_31.12.16'] = pd.to_numeric(df['Weight_on_2_lact_31.12.16'], errors='coerce')\n",
    "df['Weight_on_lact1_31.12.17'] = pd.to_numeric(df['Weight_on_lact1_31.12.17'], errors='coerce')\n",
    "df['Weight_on_2_lact2_31.12.18'] = pd.to_numeric(df['Weight_on_2_lact2_31.12.18'], errors='coerce')"
   ],
   "metadata": {
    "collapsed": false,
    "ExecuteTime": {
     "end_time": "2023-12-30T08:47:12.599384Z",
     "start_time": "2023-12-30T08:47:12.409328Z"
    }
   },
   "id": "b96132bf6180f1d7",
   "execution_count": 479
  },
  {
   "cell_type": "code",
   "outputs": [],
   "source": [
    "df.loc[df['Weight_on_2_lact_31.12.16'] > 100, 'Weight_on_2_lact_31.12.16'] = np.nan\n",
    "df.loc[df['Weight_on_lact1_31.12.17'] > 100, 'Weight_on_lact1_31.12.17'] = np.nan\n",
    "df.loc[df['Weight_on_2_lact2_31.12.18'] > 100, 'Weight_on_2_lact2_31.12.18'] = np.nan"
   ],
   "metadata": {
    "collapsed": false,
    "ExecuteTime": {
     "end_time": "2023-12-30T08:47:12.940257Z",
     "start_time": "2023-12-30T08:47:12.577738Z"
    }
   },
   "id": "323bac6596bee0cb",
   "execution_count": 480
  },
  {
   "cell_type": "code",
   "outputs": [],
   "source": [
    "# Объединение трех столбцов в один\n",
    "df['Combined_Column'] = pd.concat([df['Weight_on_2_lact_31.12.16'],\n",
    "                                   df['Weight_on_lact1_31.12.17'],\n",
    "                                   df['Weight_on_2_lact2_31.12.18']], axis=1).fillna(0).max(axis=1)\n"
   ],
   "metadata": {
    "collapsed": false,
    "ExecuteTime": {
     "end_time": "2023-12-30T08:47:13.090751Z",
     "start_time": "2023-12-30T08:47:12.917509Z"
    }
   },
   "id": "248fcc784cbabb0d",
   "execution_count": 481
  },
  {
   "cell_type": "code",
   "outputs": [
    {
     "data": {
      "text/plain": "1      59.0\n2      55.0\n3      56.0\n4      44.2\n5      50.0\n       ... \n251     0.0\n252     0.0\n253     0.0\n254     0.0\n255     0.0\nName: Combined_Column, Length: 253, dtype: float64"
     },
     "execution_count": 482,
     "metadata": {},
     "output_type": "execute_result"
    }
   ],
   "source": [
    "df['Combined_Column'].head(300)"
   ],
   "metadata": {
    "collapsed": false,
    "ExecuteTime": {
     "end_time": "2023-12-30T08:47:13.281973Z",
     "start_time": "2023-12-30T08:47:13.072851Z"
    }
   },
   "id": "608090f1e567ae5e",
   "execution_count": 482
  },
  {
   "cell_type": "code",
   "outputs": [],
   "source": [
    "columns_to_drop = ['Weight_on_2_lact_31.12.16', 'Weight_on_lact1_31.12.17', 'Weight_on_2_lact2_31.12.18']\n",
    "df.drop(columns=columns_to_drop, inplace=True)"
   ],
   "metadata": {
    "collapsed": false,
    "ExecuteTime": {
     "end_time": "2023-12-30T08:47:13.449122Z",
     "start_time": "2023-12-30T08:47:13.258289Z"
    }
   },
   "id": "a388448d55ab7096",
   "execution_count": 483
  },
  {
   "cell_type": "code",
   "outputs": [
    {
     "data": {
      "text/plain": "<Figure size 1000x600 with 1 Axes>",
      "image/png": "[encoded data removed]"
     },
     "metadata": {},
     "output_type": "display_data"
    }
   ],
   "source": [
    "plt.figure(figsize=(10, 6))\n",
    "plt.hist(df['Combined_Column'], bins=20, edgecolor='k', alpha=0.7, label='Распределение веса')\n",
    "\n",
    "# Нахождение и отображение медианы и среднего значения\n",
    "median_value = df['Combined_Column'].median()\n",
    "mean_value = df['Combined_Column'].mean()\n",
    "\n",
    "plt.axvline(median_value, color='r', linestyle='--', label=f'Медиана = {median_value:.2f}')\n",
    "plt.axvline(mean_value, color='g', linestyle='--', label=f'Среднее = {mean_value:.2f}')\n",
    "\n",
    "plt.title('Распределение веса животных с медианой и средним значением')\n",
    "plt.xlabel('Вес')\n",
    "plt.ylabel('Частота')\n",
    "plt.legend()\n",
    "plt.grid(True)\n",
    "plt.show()"
   ],
   "metadata": {
    "collapsed": false,
    "ExecuteTime": {
     "end_time": "2023-12-30T08:47:13.718810Z",
     "start_time": "2023-12-30T08:47:13.438241Z"
    }
   },
   "id": "ade637559faacffb",
   "execution_count": 484
  },
  {
   "cell_type": "code",
   "outputs": [],
   "source": [
    "mean_value = df['Combined_Column'].mean()\n",
    "df['Combined_Column'] = df['Combined_Column'].replace(0, mean_value)"
   ],
   "metadata": {
    "collapsed": false,
    "ExecuteTime": {
     "end_time": "2023-12-30T08:47:13.831046Z",
     "start_time": "2023-12-30T08:47:13.673885Z"
    }
   },
   "id": "a403d79b43c4ff86",
   "execution_count": 485
  },
  {
   "cell_type": "code",
   "outputs": [
    {
     "name": "stdout",
     "output_type": "stream",
     "text": [
      "<class 'pandas.core.frame.DataFrame'>\n",
      "Index: 253 entries, 1 to 255\n",
      "Data columns (total 12 columns):\n",
      " #   Column              Non-Null Count  Dtype         \n",
      "---  ------              --------------  -----         \n",
      " 0   ID                  253 non-null    object        \n",
      " 1   Date_of_birth       253 non-null    datetime64[ns]\n",
      " 2   Weight_on_buy       253 non-null    float64       \n",
      " 3   Weight_on_3.01.17   253 non-null    float64       \n",
      " 4   Weight_in_plus      253 non-null    float64       \n",
      " 5   Weight_on_4.01.18   253 non-null    float64       \n",
      " 6   Weight_on_31.12.18  253 non-null    float64       \n",
      " 7   Lactation           253 non-null    int64         \n",
      " 8   Unnamed: 15         61 non-null     object        \n",
      " 9   Unnamed: 18         71 non-null     float64       \n",
      " 10  Unnamed: 22         65 non-null     object        \n",
      " 11  Combined_Column     253 non-null    float64       \n",
      "dtypes: datetime64[ns](1), float64(7), int64(1), object(3)\n",
      "memory usage: 33.8+ KB\n"
     ]
    }
   ],
   "source": [
    "df.info()"
   ],
   "metadata": {
    "collapsed": false,
    "ExecuteTime": {
     "end_time": "2023-12-30T08:47:14.107476Z",
     "start_time": "2023-12-30T08:47:13.814842Z"
    }
   },
   "id": "8f266cb4cfb7c0e9",
   "execution_count": 486
  },
  {
   "cell_type": "code",
   "outputs": [
    {
     "data": {
      "text/plain": "1        1\n2        2\n3        3\n4        4\n5        5\n      ... \n251    NaN\n252    NaN\n253    NaN\n254    NaN\n255    NaN\nName: Unnamed: 15, Length: 253, dtype: object"
     },
     "execution_count": 487,
     "metadata": {},
     "output_type": "execute_result"
    }
   ],
   "source": [
    "df['Unnamed: 15'].head(300)\n",
    "\n",
    "# Слишком много пропусков, рандомный набор чисел похожий на индексацию с суммированием, спасти не получится"
   ],
   "metadata": {
    "collapsed": false,
    "ExecuteTime": {
     "end_time": "2023-12-30T08:47:14.251767Z",
     "start_time": "2023-12-30T08:47:14.089769Z"
    }
   },
   "id": "e4b6112ef2ef808d",
   "execution_count": 487
  },
  {
   "cell_type": "code",
   "outputs": [],
   "source": [
    "df = df.drop('Unnamed: 15', axis=1)"
   ],
   "metadata": {
    "collapsed": false,
    "ExecuteTime": {
     "end_time": "2023-12-30T08:47:14.492555Z",
     "start_time": "2023-12-30T08:47:14.233878Z"
    }
   },
   "id": "1110c9b162f1778a",
   "execution_count": 488
  },
  {
   "cell_type": "code",
   "outputs": [
    {
     "data": {
      "text/plain": "1     NaN\n2     NaN\n3     NaN\n4     NaN\n5     NaN\n       ..\n251   NaN\n252   NaN\n253   NaN\n254   NaN\n255   NaN\nName: Unnamed: 18, Length: 253, dtype: float64"
     },
     "execution_count": 489,
     "metadata": {},
     "output_type": "execute_result"
    }
   ],
   "source": [
    "df['Unnamed: 18'].head(300)\n",
    "\n",
    "# Аналогично"
   ],
   "metadata": {
    "collapsed": false,
    "ExecuteTime": {
     "end_time": "2023-12-30T08:47:14.667814Z",
     "start_time": "2023-12-30T08:47:14.469851Z"
    }
   },
   "id": "5abec1780d35771a",
   "execution_count": 489
  },
  {
   "cell_type": "code",
   "outputs": [],
   "source": [
    "df = df.drop('Unnamed: 18', axis=1)"
   ],
   "metadata": {
    "collapsed": false,
    "ExecuteTime": {
     "end_time": "2023-12-30T08:47:14.868641Z",
     "start_time": "2023-12-30T08:47:14.644194Z"
    }
   },
   "id": "d4d8d8f42c8d39d9",
   "execution_count": 490
  },
  {
   "cell_type": "code",
   "outputs": [
    {
     "data": {
      "text/plain": "1      NaN\n2      NaN\n3      NaN\n4      NaN\n5      NaN\n      ... \n251    NaN\n252    NaN\n253    NaN\n254    NaN\n255    NaN\nName: Unnamed: 22, Length: 253, dtype: object"
     },
     "execution_count": 491,
     "metadata": {},
     "output_type": "execute_result"
    }
   ],
   "source": [
    "df['Unnamed: 22'].head(300)\n",
    "\n",
    "# Тоже ничего полезного отсюда не вытащить"
   ],
   "metadata": {
    "collapsed": false,
    "ExecuteTime": {
     "end_time": "2023-12-30T08:47:15.035167Z",
     "start_time": "2023-12-30T08:47:14.851836Z"
    }
   },
   "id": "7a99213936040701",
   "execution_count": 491
  },
  {
   "cell_type": "code",
   "outputs": [],
   "source": [
    "df = df.drop('Unnamed: 22', axis=1)"
   ],
   "metadata": {
    "collapsed": false,
    "ExecuteTime": {
     "end_time": "2023-12-30T08:47:15.268366Z",
     "start_time": "2023-12-30T08:47:15.016830Z"
    }
   },
   "id": "3bda5fc8605a8564",
   "execution_count": 492
  },
  {
   "cell_type": "code",
   "outputs": [
    {
     "data": {
      "text/plain": "    ID Date_of_birth  Weight_on_buy  Weight_on_3.01.17  Weight_in_plus  \\\n1   70    2015-01-30           50.0              59.00            9.00   \n2   87    2015-01-31           52.0              55.00            3.00   \n3   78    2015-02-03           55.0              56.00            1.00   \n4   68    2015-02-03           44.0              44.20            0.20   \n5    9    2015-02-04           48.0              50.00            2.00   \n6   99    2015-02-05           54.0              47.50           -6.50   \n7   72    2015-02-06           53.0              48.80           -4.20   \n8   46    2015-01-08           60.0              68.50            8.50   \n9   24    2015-03-02           48.0              56.35            8.35   \n10  48    2015-02-10           45.0              49.50            4.50   \n11  38    2015-02-13           46.0              52.00            6.00   \n12  62    2015-02-14           57.0              56.65           -0.35   \n13  87    2015-02-18           60.0              55.55           -4.45   \n14  57    2015-02-18           55.0              59.90            4.90   \n15  39    2015-02-20           57.0              56.00           -1.00   \n16  25    2015-02-20           55.0              53.00           -2.00   \n17   6    2015-02-22           60.0              56.50           -3.50   \n18  88    2015-02-22           47.0              49.15            2.15   \n19  21    2015-02-22           60.0              62.90            2.90   \n20  65    2015-02-25           55.0              47.80           -7.20   \n21  39    2015-02-27           47.0              60.65           13.65   \n22   9    2015-03-02           48.0              50.30            2.30   \n23  57    2015-03-03           52.0              50.30           -1.70   \n24  51    2015-03-03           47.0              65.50           18.50   \n25  33    2015-03-04           51.0              46.25           -4.75   \n26  69    2015-03-05           55.0              52.50           -2.50   \n27  25    2015-03-08           57.0              61.30            4.30   \n28  82    2015-03-12           52.0              57.60            5.60   \n29  44    2015-03-21           57.0              57.45            0.45   \n30  33    2015-03-21           52.0              46.60           -5.40   \n32  52    2014-12-22           41.0              38.25           -2.75   \n33  23    2015-02-19           40.0              47.75            7.75   \n34   1    2015-02-19           42.0              40.00           -2.00   \n35  85    2015-02-25           45.0              49.70            4.70   \n36  94    2015-02-27           55.0              40.00          -15.00   \n37  41    2015-02-27           41.0              45.70            4.70   \n38  12    2015-02-27           45.0              35.50           -9.50   \n39  41    2015-02-28           46.0              33.60          -12.40   \n40  13    2015-03-01           49.0              50.00            1.00   \n41  88    2015-03-02           47.0              35.00          -12.00   \n42  49    2015-03-02           49.0              45.60           -3.40   \n43   9    2015-03-04           50.0              48.35           -1.65   \n44  20    2015-03-10           40.0              39.05           -0.95   \n45   4    2015-03-10           51.0              53.00            2.00   \n46  23    2015-03-11           49.0              41.45           -7.55   \n47  48    2015-03-12           44.0              35.25           -8.75   \n48  30    2015-03-13           41.0              37.00           -4.00   \n49  34    2015-03-13           52.0              53.00            1.00   \n50  85    2015-03-13           42.0              38.40           -3.60   \n51  59    2015-03-14           48.0              50.00            2.00   \n\n    Weight_on_4.01.18  Weight_on_31.12.18  Lactation  Combined_Column  \n1               65.35               61.00          2        59.000000  \n2               65.30               65.10          2        55.000000  \n3               57.00               60.20          2        56.000000  \n4               52.30               52.00          2        44.200000  \n5               59.80               99.50          2        50.000000  \n6               66.40               88.00          3        30.829064  \n7               58.10               67.00          3        30.829064  \n8               72.70               86.00          2        68.500000  \n9               56.70               48.60          2        56.350000  \n10              57.35               70.10          2        49.500000  \n11              46.00               98.80          2        98.800000  \n12              56.50               68.40          2        68.400000  \n13              70.05               68.40          2        55.550000  \n14              68.50               74.00          2        68.500000  \n15              57.00               69.00          2        69.000000  \n16              57.20               59.30          2        59.300000  \n17              53.80               70.00          2        56.500000  \n18              65.70               66.00          2        49.150000  \n19              67.10               59.30          2        62.900000  \n20              57.00               48.70          2        47.800000  \n21              61.00               88.15          2        60.650000  \n22              61.50               87.10          3        30.829064  \n23              66.00               50.20          2        50.300000  \n24              58.20               62.00          2        65.500000  \n25              67.30               75.60          2        46.250000  \n26              70.00               67.20          2        52.500000  \n27              75.00               85.90          2        61.300000  \n28              75.15               78.00          2        75.150000  \n29              65.40               86.50          3        30.829064  \n30              56.85               70.00          2        46.600000  \n32              68.40               72.80          2        30.829064  \n33              62.80               86.10          2        86.100000  \n34              65.50               92.80          2        92.800000  \n35              82.45               94.80          2        94.800000  \n36              66.10               59.00          2        64.200000  \n37              64.20               69.50          2        69.500000  \n38              59.60               87.20          2        62.600000  \n39              62.60               70.00          2        70.000000  \n40              57.00               57.00          2        30.829064  \n41              52.20               87.00          2        87.000000  \n42              62.10               63.00          2        63.000000  \n43              68.30               74.50          2        68.200000  \n44              68.20               49.30          2        68.200000  \n45              68.45               64.80          2        68.450000  \n46              59.70               65.20          2        65.200000  \n47              61.10               94.20          2        91.200000  \n48              69.45               97.10          2        97.100000  \n49              55.30               82.00          2        82.000000  \n50              60.50               59.40          2        60.500000  \n51              61.70               55.30          2        61.700000  ",
      "text/html": "<div>\n<style scoped>\n    .dataframe tbody tr th:only-of-type {\n        vertical-align: middle;\n    }\n\n    .dataframe tbody tr th {\n        vertical-align: top;\n    }\n\n    .dataframe thead th {\n        text-align: right;\n    }\n</style>\n<table border=\"1\" class=\"dataframe\">\n  <thead>\n    <tr style=\"text-align: right;\">\n      <th></th>\n      <th>ID</th>\n      <th>Date_of_birth</th>\n      <th>Weight_on_buy</th>\n      <th>Weight_on_3.01.17</th>\n      <th>Weight_in_plus</th>\n      <th>Weight_on_4.01.18</th>\n      <th>Weight_on_31.12.18</th>\n      <th>Lactation</th>\n      <th>Combined_Column</th>\n    </tr>\n  </thead>\n  <tbody>\n    <tr>\n      <th>1</th>\n      <td>70</td>\n      <td>2015-01-30</td>\n      <td>50.0</td>\n      <td>59.00</td>\n      <td>9.00</td>\n      <td>65.35</td>\n      <td>61.00</td>\n      <td>2</td>\n      <td>59.000000</td>\n    </tr>\n    <tr>\n      <th>2</th>\n      <td>87</td>\n      <td>2015-01-31</td>\n      <td>52.0</td>\n      <td>55.00</td>\n      <td>3.00</td>\n      <td>65.30</td>\n      <td>65.10</td>\n      <td>2</td>\n      <td>55.000000</td>\n    </tr>\n    <tr>\n      <th>3</th>\n      <td>78</td>\n      <td>2015-02-03</td>\n      <td>55.0</td>\n      <td>56.00</td>\n      <td>1.00</td>\n      <td>57.00</td>\n      <td>60.20</td>\n      <td>2</td>\n      <td>56.000000</td>\n    </tr>\n    <tr>\n      <th>4</th>\n      <td>68</td>\n      <td>2015-02-03</td>\n      <td>44.0</td>\n      <td>44.20</td>\n      <td>0.20</td>\n      <td>52.30</td>\n      <td>52.00</td>\n      <td>2</td>\n      <td>44.200000</td>\n    </tr>\n    <tr>\n      <th>5</th>\n      <td>9</td>\n      <td>2015-02-04</td>\n      <td>48.0</td>\n      <td>50.00</td>\n      <td>2.00</td>\n      <td>59.80</td>\n      <td>99.50</td>\n      <td>2</td>\n      <td>50.000000</td>\n    </tr>\n    <tr>\n      <th>6</th>\n      <td>99</td>\n      <td>2015-02-05</td>\n      <td>54.0</td>\n      <td>47.50</td>\n      <td>-6.50</td>\n      <td>66.40</td>\n      <td>88.00</td>\n      <td>3</td>\n      <td>30.829064</td>\n    </tr>\n    <tr>\n      <th>7</th>\n      <td>72</td>\n      <td>2015-02-06</td>\n      <td>53.0</td>\n      <td>48.80</td>\n      <td>-4.20</td>\n      <td>58.10</td>\n      <td>67.00</td>\n      <td>3</td>\n      <td>30.829064</td>\n    </tr>\n    <tr>\n      <th>8</th>\n      <td>46</td>\n      <td>2015-01-08</td>\n      <td>60.0</td>\n      <td>68.50</td>\n      <td>8.50</td>\n      <td>72.70</td>\n      <td>86.00</td>\n      <td>2</td>\n      <td>68.500000</td>\n    </tr>\n    <tr>\n      <th>9</th>\n      <td>24</td>\n      <td>2015-03-02</td>\n      <td>48.0</td>\n      <td>56.35</td>\n      <td>8.35</td>\n      <td>56.70</td>\n      <td>48.60</td>\n      <td>2</td>\n      <td>56.350000</td>\n    </tr>\n    <tr>\n      <th>10</th>\n      <td>48</td>\n      <td>2015-02-10</td>\n      <td>45.0</td>\n      <td>49.50</td>\n      <td>4.50</td>\n      <td>57.35</td>\n      <td>70.10</td>\n      <td>2</td>\n      <td>49.500000</td>\n    </tr>\n    <tr>\n      <th>11</th>\n      <td>38</td>\n      <td>2015-02-13</td>\n      <td>46.0</td>\n      <td>52.00</td>\n      <td>6.00</td>\n      <td>46.00</td>\n      <td>98.80</td>\n      <td>2</td>\n      <td>98.800000</td>\n    </tr>\n    <tr>\n      <th>12</th>\n      <td>62</td>\n      <td>2015-02-14</td>\n      <td>57.0</td>\n      <td>56.65</td>\n      <td>-0.35</td>\n      <td>56.50</td>\n      <td>68.40</td>\n      <td>2</td>\n      <td>68.400000</td>\n    </tr>\n    <tr>\n      <th>13</th>\n      <td>87</td>\n      <td>2015-02-18</td>\n      <td>60.0</td>\n      <td>55.55</td>\n      <td>-4.45</td>\n      <td>70.05</td>\n      <td>68.40</td>\n      <td>2</td>\n      <td>55.550000</td>\n    </tr>\n    <tr>\n      <th>14</th>\n      <td>57</td>\n      <td>2015-02-18</td>\n      <td>55.0</td>\n      <td>59.90</td>\n      <td>4.90</td>\n      <td>68.50</td>\n      <td>74.00</td>\n      <td>2</td>\n      <td>68.500000</td>\n    </tr>\n    <tr>\n      <th>15</th>\n      <td>39</td>\n      <td>2015-02-20</td>\n      <td>57.0</td>\n      <td>56.00</td>\n      <td>-1.00</td>\n      <td>57.00</td>\n      <td>69.00</td>\n      <td>2</td>\n      <td>69.000000</td>\n    </tr>\n    <tr>\n      <th>16</th>\n      <td>25</td>\n      <td>2015-02-20</td>\n      <td>55.0</td>\n      <td>53.00</td>\n      <td>-2.00</td>\n      <td>57.20</td>\n      <td>59.30</td>\n      <td>2</td>\n      <td>59.300000</td>\n    </tr>\n    <tr>\n      <th>17</th>\n      <td>6</td>\n      <td>2015-02-22</td>\n      <td>60.0</td>\n      <td>56.50</td>\n      <td>-3.50</td>\n      <td>53.80</td>\n      <td>70.00</td>\n      <td>2</td>\n      <td>56.500000</td>\n    </tr>\n    <tr>\n      <th>18</th>\n      <td>88</td>\n      <td>2015-02-22</td>\n      <td>47.0</td>\n      <td>49.15</td>\n      <td>2.15</td>\n      <td>65.70</td>\n      <td>66.00</td>\n      <td>2</td>\n      <td>49.150000</td>\n    </tr>\n    <tr>\n      <th>19</th>\n      <td>21</td>\n      <td>2015-02-22</td>\n      <td>60.0</td>\n      <td>62.90</td>\n      <td>2.90</td>\n      <td>67.10</td>\n      <td>59.30</td>\n      <td>2</td>\n      <td>62.900000</td>\n    </tr>\n    <tr>\n      <th>20</th>\n      <td>65</td>\n      <td>2015-02-25</td>\n      <td>55.0</td>\n      <td>47.80</td>\n      <td>-7.20</td>\n      <td>57.00</td>\n      <td>48.70</td>\n      <td>2</td>\n      <td>47.800000</td>\n    </tr>\n    <tr>\n      <th>21</th>\n      <td>39</td>\n      <td>2015-02-27</td>\n      <td>47.0</td>\n      <td>60.65</td>\n      <td>13.65</td>\n      <td>61.00</td>\n      <td>88.15</td>\n      <td>2</td>\n      <td>60.650000</td>\n    </tr>\n    <tr>\n      <th>22</th>\n      <td>9</td>\n      <td>2015-03-02</td>\n      <td>48.0</td>\n      <td>50.30</td>\n      <td>2.30</td>\n      <td>61.50</td>\n      <td>87.10</td>\n      <td>3</td>\n      <td>30.829064</td>\n    </tr>\n    <tr>\n      <th>23</th>\n      <td>57</td>\n      <td>2015-03-03</td>\n      <td>52.0</td>\n      <td>50.30</td>\n      <td>-1.70</td>\n      <td>66.00</td>\n      <td>50.20</td>\n      <td>2</td>\n      <td>50.300000</td>\n    </tr>\n    <tr>\n      <th>24</th>\n      <td>51</td>\n      <td>2015-03-03</td>\n      <td>47.0</td>\n      <td>65.50</td>\n      <td>18.50</td>\n      <td>58.20</td>\n      <td>62.00</td>\n      <td>2</td>\n      <td>65.500000</td>\n    </tr>\n    <tr>\n      <th>25</th>\n      <td>33</td>\n      <td>2015-03-04</td>\n      <td>51.0</td>\n      <td>46.25</td>\n      <td>-4.75</td>\n      <td>67.30</td>\n      <td>75.60</td>\n      <td>2</td>\n      <td>46.250000</td>\n    </tr>\n    <tr>\n      <th>26</th>\n      <td>69</td>\n      <td>2015-03-05</td>\n      <td>55.0</td>\n      <td>52.50</td>\n      <td>-2.50</td>\n      <td>70.00</td>\n      <td>67.20</td>\n      <td>2</td>\n      <td>52.500000</td>\n    </tr>\n    <tr>\n      <th>27</th>\n      <td>25</td>\n      <td>2015-03-08</td>\n      <td>57.0</td>\n      <td>61.30</td>\n      <td>4.30</td>\n      <td>75.00</td>\n      <td>85.90</td>\n      <td>2</td>\n      <td>61.300000</td>\n    </tr>\n    <tr>\n      <th>28</th>\n      <td>82</td>\n      <td>2015-03-12</td>\n      <td>52.0</td>\n      <td>57.60</td>\n      <td>5.60</td>\n      <td>75.15</td>\n      <td>78.00</td>\n      <td>2</td>\n      <td>75.150000</td>\n    </tr>\n    <tr>\n      <th>29</th>\n      <td>44</td>\n      <td>2015-03-21</td>\n      <td>57.0</td>\n      <td>57.45</td>\n      <td>0.45</td>\n      <td>65.40</td>\n      <td>86.50</td>\n      <td>3</td>\n      <td>30.829064</td>\n    </tr>\n    <tr>\n      <th>30</th>\n      <td>33</td>\n      <td>2015-03-21</td>\n      <td>52.0</td>\n      <td>46.60</td>\n      <td>-5.40</td>\n      <td>56.85</td>\n      <td>70.00</td>\n      <td>2</td>\n      <td>46.600000</td>\n    </tr>\n    <tr>\n      <th>32</th>\n      <td>52</td>\n      <td>2014-12-22</td>\n      <td>41.0</td>\n      <td>38.25</td>\n      <td>-2.75</td>\n      <td>68.40</td>\n      <td>72.80</td>\n      <td>2</td>\n      <td>30.829064</td>\n    </tr>\n    <tr>\n      <th>33</th>\n      <td>23</td>\n      <td>2015-02-19</td>\n      <td>40.0</td>\n      <td>47.75</td>\n      <td>7.75</td>\n      <td>62.80</td>\n      <td>86.10</td>\n      <td>2</td>\n      <td>86.100000</td>\n    </tr>\n    <tr>\n      <th>34</th>\n      <td>1</td>\n      <td>2015-02-19</td>\n      <td>42.0</td>\n      <td>40.00</td>\n      <td>-2.00</td>\n      <td>65.50</td>\n      <td>92.80</td>\n      <td>2</td>\n      <td>92.800000</td>\n    </tr>\n    <tr>\n      <th>35</th>\n      <td>85</td>\n      <td>2015-02-25</td>\n      <td>45.0</td>\n      <td>49.70</td>\n      <td>4.70</td>\n      <td>82.45</td>\n      <td>94.80</td>\n      <td>2</td>\n      <td>94.800000</td>\n    </tr>\n    <tr>\n      <th>36</th>\n      <td>94</td>\n      <td>2015-02-27</td>\n      <td>55.0</td>\n      <td>40.00</td>\n      <td>-15.00</td>\n      <td>66.10</td>\n      <td>59.00</td>\n      <td>2</td>\n      <td>64.200000</td>\n    </tr>\n    <tr>\n      <th>37</th>\n      <td>41</td>\n      <td>2015-02-27</td>\n      <td>41.0</td>\n      <td>45.70</td>\n      <td>4.70</td>\n      <td>64.20</td>\n      <td>69.50</td>\n      <td>2</td>\n      <td>69.500000</td>\n    </tr>\n    <tr>\n      <th>38</th>\n      <td>12</td>\n      <td>2015-02-27</td>\n      <td>45.0</td>\n      <td>35.50</td>\n      <td>-9.50</td>\n      <td>59.60</td>\n      <td>87.20</td>\n      <td>2</td>\n      <td>62.600000</td>\n    </tr>\n    <tr>\n      <th>39</th>\n      <td>41</td>\n      <td>2015-02-28</td>\n      <td>46.0</td>\n      <td>33.60</td>\n      <td>-12.40</td>\n      <td>62.60</td>\n      <td>70.00</td>\n      <td>2</td>\n      <td>70.000000</td>\n    </tr>\n    <tr>\n      <th>40</th>\n      <td>13</td>\n      <td>2015-03-01</td>\n      <td>49.0</td>\n      <td>50.00</td>\n      <td>1.00</td>\n      <td>57.00</td>\n      <td>57.00</td>\n      <td>2</td>\n      <td>30.829064</td>\n    </tr>\n    <tr>\n      <th>41</th>\n      <td>88</td>\n      <td>2015-03-02</td>\n      <td>47.0</td>\n      <td>35.00</td>\n      <td>-12.00</td>\n      <td>52.20</td>\n      <td>87.00</td>\n      <td>2</td>\n      <td>87.000000</td>\n    </tr>\n    <tr>\n      <th>42</th>\n      <td>49</td>\n      <td>2015-03-02</td>\n      <td>49.0</td>\n      <td>45.60</td>\n      <td>-3.40</td>\n      <td>62.10</td>\n      <td>63.00</td>\n      <td>2</td>\n      <td>63.000000</td>\n    </tr>\n    <tr>\n      <th>43</th>\n      <td>9</td>\n      <td>2015-03-04</td>\n      <td>50.0</td>\n      <td>48.35</td>\n      <td>-1.65</td>\n      <td>68.30</td>\n      <td>74.50</td>\n      <td>2</td>\n      <td>68.200000</td>\n    </tr>\n    <tr>\n      <th>44</th>\n      <td>20</td>\n      <td>2015-03-10</td>\n      <td>40.0</td>\n      <td>39.05</td>\n      <td>-0.95</td>\n      <td>68.20</td>\n      <td>49.30</td>\n      <td>2</td>\n      <td>68.200000</td>\n    </tr>\n    <tr>\n      <th>45</th>\n      <td>4</td>\n      <td>2015-03-10</td>\n      <td>51.0</td>\n      <td>53.00</td>\n      <td>2.00</td>\n      <td>68.45</td>\n      <td>64.80</td>\n      <td>2</td>\n      <td>68.450000</td>\n    </tr>\n    <tr>\n      <th>46</th>\n      <td>23</td>\n      <td>2015-03-11</td>\n      <td>49.0</td>\n      <td>41.45</td>\n      <td>-7.55</td>\n      <td>59.70</td>\n      <td>65.20</td>\n      <td>2</td>\n      <td>65.200000</td>\n    </tr>\n    <tr>\n      <th>47</th>\n      <td>48</td>\n      <td>2015-03-12</td>\n      <td>44.0</td>\n      <td>35.25</td>\n      <td>-8.75</td>\n      <td>61.10</td>\n      <td>94.20</td>\n      <td>2</td>\n      <td>91.200000</td>\n    </tr>\n    <tr>\n      <th>48</th>\n      <td>30</td>\n      <td>2015-03-13</td>\n      <td>41.0</td>\n      <td>37.00</td>\n      <td>-4.00</td>\n      <td>69.45</td>\n      <td>97.10</td>\n      <td>2</td>\n      <td>97.100000</td>\n    </tr>\n    <tr>\n      <th>49</th>\n      <td>34</td>\n      <td>2015-03-13</td>\n      <td>52.0</td>\n      <td>53.00</td>\n      <td>1.00</td>\n      <td>55.30</td>\n      <td>82.00</td>\n      <td>2</td>\n      <td>82.000000</td>\n    </tr>\n    <tr>\n      <th>50</th>\n      <td>85</td>\n      <td>2015-03-13</td>\n      <td>42.0</td>\n      <td>38.40</td>\n      <td>-3.60</td>\n      <td>60.50</td>\n      <td>59.40</td>\n      <td>2</td>\n      <td>60.500000</td>\n    </tr>\n    <tr>\n      <th>51</th>\n      <td>59</td>\n      <td>2015-03-14</td>\n      <td>48.0</td>\n      <td>50.00</td>\n      <td>2.00</td>\n      <td>61.70</td>\n      <td>55.30</td>\n      <td>2</td>\n      <td>61.700000</td>\n    </tr>\n  </tbody>\n</table>\n</div>"
     },
     "execution_count": 493,
     "metadata": {},
     "output_type": "execute_result"
    }
   ],
   "source": [
    "df.head(50)"
   ],
   "metadata": {
    "collapsed": false,
    "ExecuteTime": {
     "end_time": "2023-12-30T08:47:15.440207Z",
     "start_time": "2023-12-30T08:47:15.253800Z"
    }
   },
   "id": "c2a21a270a8d416f",
   "execution_count": 493
  },
  {
   "cell_type": "code",
   "outputs": [
    {
     "data": {
      "text/plain": "0"
     },
     "execution_count": 494,
     "metadata": {},
     "output_type": "execute_result"
    }
   ],
   "source": [
    "df.isna().sum().sum()"
   ],
   "metadata": {
    "collapsed": false,
    "ExecuteTime": {
     "end_time": "2023-12-30T08:47:15.688147Z",
     "start_time": "2023-12-30T08:47:15.420630Z"
    }
   },
   "id": "135c3ec65c40a2ee",
   "execution_count": 494
  },
  {
   "cell_type": "code",
   "execution_count": 495,
   "outputs": [],
   "source": [
    "df.to_csv('Clean_data/File_1.csv')"
   ],
   "metadata": {
    "collapsed": false,
    "ExecuteTime": {
     "end_time": "2023-12-30T08:47:15.884967Z",
     "start_time": "2023-12-30T08:47:15.642342Z"
    }
   },
   "id": "3dfba5804b4c9f41"
  },
  {
   "cell_type": "markdown",
   "source": [
    "Подводя итог имеем какой-то более менее адекватно выглядящий файл, постарал спасти каждую строку, каждое значение, каждый признак, на мой взгляд получилось вполне успешно при наличии данных такого вида\n",
    "____________________________________________"
   ],
   "metadata": {
    "collapsed": false
   },
   "id": "f948d9e60ae66139"
  },
  {
   "cell_type": "code",
   "execution_count": 10,
   "outputs": [],
   "source": [
    "df = df.rename(columns={'Номер козы': 'ID'})\n",
    "df = df.rename(columns={'Дата рождения': 'Date_of_birth'})\n",
    "df = df.drop('№', axis=1)\n",
    "df = df.rename(columns={'вес ': 'Weight'})\n",
    "df = df.rename(columns={'вес на 31.12.18': 'Weight_on_31.12.18'})\n",
    "df = df.drop(31)\n",
    "df = df.drop(0)\n",
    "df = df.rename(columns={'привес': 'Weight_in_plus'})\n",
    "df = df.rename(columns={'вес на 31.12.19': 'Weight_on_31.12.19'})\n",
    "df = df.rename(columns={'вес 3 лакт и выше': 'Weight_on_3lact_31.12.18'})\n",
    "df = df.rename(columns={'вес 2 лакт': 'Weight_2lact'})\n",
    "df = df.rename(columns={'вес 1 лакт': 'Weight_1lact'})"
   ],
   "metadata": {
    "collapsed": false,
    "ExecuteTime": {
     "end_time": "2023-12-31T08:45:02.640651Z",
     "start_time": "2023-12-31T08:45:02.396005Z"
    }
   },
   "id": "b169a88a759a79e4"
  },
  {
   "cell_type": "code",
   "outputs": [
    {
     "data": {
      "text/plain": "          Date_of_birth Weight Weight_on_31.12.18 Weight_in_plus  \\\n1   2015-01-30 00:00:00     50                 61            NaN   \n2   2015-01-31 00:00:00     52               65.1            NaN   \n3   2015-02-03 00:00:00     55               60.2            NaN   \n4   2015-02-03 00:00:00     44                 52            NaN   \n5   2015-02-04 00:00:00     48               99.5            NaN   \n6   2015-02-05 00:00:00     54                 88            NaN   \n7   2015-02-06 00:00:00     53                 67            NaN   \n8   2015-01-08 00:00:00     60                 86            NaN   \n9   2015-03-02 00:00:00     48               48.6            NaN   \n10  2015-02-10 00:00:00     45               70.1            NaN   \n\n   Weight_on_31.12.19 Unnamed: 7 Unnamed: 8 Номер козы.1 Unnamed: 10  \\\n1                 NaN        NaN        NaN         5016         NaN   \n2                 NaN        NaN        NaN         5020         NaN   \n3                 NaN        NaN        NaN         5051         NaN   \n4                 NaN        NaN        NaN         5055         NaN   \n5                 NaN     умерла        NaN         5059         NaN   \n6                 NaN        NaN        NaN         5065         NaN   \n7                 NaN        NaN        NaN         5079         NaN   \n8                 NaN        NaN        NaN         5091         NaN   \n9                 NaN        NaN        NaN         5092         NaN   \n10                NaN        NaN        NaN         5099         NaN   \n\n   Unnamed: 11  ... Unnamed: 14 Unnamed: 15  Unnamed: 16  \\\n1          NaN  ...         NaN         NaN          1.0   \n2          NaN  ...         NaN         NaN          2.0   \n3          NaN  ...         NaN         NaN          3.0   \n4          NaN  ...         NaN         NaN          4.0   \n5          NaN  ...         NaN         NaN          5.0   \n6          NaN  ...         NaN         NaN          6.0   \n7          NaN  ...         NaN         NaN          7.0   \n8          NaN  ...         NaN         NaN          8.0   \n9          NaN  ...         NaN         NaN          9.0   \n10         NaN  ...         NaN         NaN         10.0   \n\n    Weight_on_3lact_31.12.18  Unnamed: 18 Weight_2lact Weight_1lact  \\\n1                         61          NaN          NaN          NaN   \n2                       65.1          NaN          NaN          NaN   \n3                       60.2          NaN          NaN          NaN   \n4                         52          NaN          NaN          NaN   \n5                       99.5          NaN          NaN          NaN   \n6                         88          NaN          NaN          NaN   \n7                         67          NaN          NaN          NaN   \n8                         86          NaN          NaN          NaN   \n9                       48.6          NaN          NaN          NaN   \n10                      70.1          NaN          NaN          NaN   \n\n   Unnamed: 21 Unnamed: 22 Unnamed: 23  \n1          NaN         NaN         NaN  \n2          NaN         NaN         NaN  \n3          NaN         NaN         NaN  \n4          NaN         NaN         NaN  \n5          NaN         NaN         NaN  \n6          NaN         NaN         NaN  \n7          NaN         NaN         NaN  \n8          NaN         NaN         NaN  \n9          NaN         NaN         NaN  \n10         NaN         NaN         NaN  \n\n[10 rows x 22 columns]",
      "text/html": "<div>\n<style scoped>\n    .dataframe tbody tr th:only-of-type {\n        vertical-align: middle;\n    }\n\n    .dataframe tbody tr th {\n        vertical-align: top;\n    }\n\n    .dataframe thead th {\n        text-align: right;\n    }\n</style>\n<table border=\"1\" class=\"dataframe\">\n  <thead>\n    <tr style=\"text-align: right;\">\n      <th></th>\n      <th>Date_of_birth</th>\n      <th>Weight</th>\n      <th>Weight_on_31.12.18</th>\n      <th>Weight_in_plus</th>\n      <th>Weight_on_31.12.19</th>\n      <th>Unnamed: 7</th>\n      <th>Unnamed: 8</th>\n      <th>Номер козы.1</th>\n      <th>Unnamed: 10</th>\n      <th>Unnamed: 11</th>\n      <th>...</th>\n      <th>Unnamed: 14</th>\n      <th>Unnamed: 15</th>\n      <th>Unnamed: 16</th>\n      <th>Weight_on_3lact_31.12.18</th>\n      <th>Unnamed: 18</th>\n      <th>Weight_2lact</th>\n      <th>Weight_1lact</th>\n      <th>Unnamed: 21</th>\n      <th>Unnamed: 22</th>\n      <th>Unnamed: 23</th>\n    </tr>\n  </thead>\n  <tbody>\n    <tr>\n      <th>1</th>\n      <td>2015-01-30 00:00:00</td>\n      <td>50</td>\n      <td>61</td>\n      <td>NaN</td>\n      <td>NaN</td>\n      <td>NaN</td>\n      <td>NaN</td>\n      <td>5016</td>\n      <td>NaN</td>\n      <td>NaN</td>\n      <td>...</td>\n      <td>NaN</td>\n      <td>NaN</td>\n      <td>1.0</td>\n      <td>61</td>\n      <td>NaN</td>\n      <td>NaN</td>\n      <td>NaN</td>\n      <td>NaN</td>\n      <td>NaN</td>\n      <td>NaN</td>\n    </tr>\n    <tr>\n      <th>2</th>\n      <td>2015-01-31 00:00:00</td>\n      <td>52</td>\n      <td>65.1</td>\n      <td>NaN</td>\n      <td>NaN</td>\n      <td>NaN</td>\n      <td>NaN</td>\n      <td>5020</td>\n      <td>NaN</td>\n      <td>NaN</td>\n      <td>...</td>\n      <td>NaN</td>\n      <td>NaN</td>\n      <td>2.0</td>\n      <td>65.1</td>\n      <td>NaN</td>\n      <td>NaN</td>\n      <td>NaN</td>\n      <td>NaN</td>\n      <td>NaN</td>\n      <td>NaN</td>\n    </tr>\n    <tr>\n      <th>3</th>\n      <td>2015-02-03 00:00:00</td>\n      <td>55</td>\n      <td>60.2</td>\n      <td>NaN</td>\n      <td>NaN</td>\n      <td>NaN</td>\n      <td>NaN</td>\n      <td>5051</td>\n      <td>NaN</td>\n      <td>NaN</td>\n      <td>...</td>\n      <td>NaN</td>\n      <td>NaN</td>\n      <td>3.0</td>\n      <td>60.2</td>\n      <td>NaN</td>\n      <td>NaN</td>\n      <td>NaN</td>\n      <td>NaN</td>\n      <td>NaN</td>\n      <td>NaN</td>\n    </tr>\n    <tr>\n      <th>4</th>\n      <td>2015-02-03 00:00:00</td>\n      <td>44</td>\n      <td>52</td>\n      <td>NaN</td>\n      <td>NaN</td>\n      <td>NaN</td>\n      <td>NaN</td>\n      <td>5055</td>\n      <td>NaN</td>\n      <td>NaN</td>\n      <td>...</td>\n      <td>NaN</td>\n      <td>NaN</td>\n      <td>4.0</td>\n      <td>52</td>\n      <td>NaN</td>\n      <td>NaN</td>\n      <td>NaN</td>\n      <td>NaN</td>\n      <td>NaN</td>\n      <td>NaN</td>\n    </tr>\n    <tr>\n      <th>5</th>\n      <td>2015-02-04 00:00:00</td>\n      <td>48</td>\n      <td>99.5</td>\n      <td>NaN</td>\n      <td>NaN</td>\n      <td>умерла</td>\n      <td>NaN</td>\n      <td>5059</td>\n      <td>NaN</td>\n      <td>NaN</td>\n      <td>...</td>\n      <td>NaN</td>\n      <td>NaN</td>\n      <td>5.0</td>\n      <td>99.5</td>\n      <td>NaN</td>\n      <td>NaN</td>\n      <td>NaN</td>\n      <td>NaN</td>\n      <td>NaN</td>\n      <td>NaN</td>\n    </tr>\n    <tr>\n      <th>6</th>\n      <td>2015-02-05 00:00:00</td>\n      <td>54</td>\n      <td>88</td>\n      <td>NaN</td>\n      <td>NaN</td>\n      <td>NaN</td>\n      <td>NaN</td>\n      <td>5065</td>\n      <td>NaN</td>\n      <td>NaN</td>\n      <td>...</td>\n      <td>NaN</td>\n      <td>NaN</td>\n      <td>6.0</td>\n      <td>88</td>\n      <td>NaN</td>\n      <td>NaN</td>\n      <td>NaN</td>\n      <td>NaN</td>\n      <td>NaN</td>\n      <td>NaN</td>\n    </tr>\n    <tr>\n      <th>7</th>\n      <td>2015-02-06 00:00:00</td>\n      <td>53</td>\n      <td>67</td>\n      <td>NaN</td>\n      <td>NaN</td>\n      <td>NaN</td>\n      <td>NaN</td>\n      <td>5079</td>\n      <td>NaN</td>\n      <td>NaN</td>\n      <td>...</td>\n      <td>NaN</td>\n      <td>NaN</td>\n      <td>7.0</td>\n      <td>67</td>\n      <td>NaN</td>\n      <td>NaN</td>\n      <td>NaN</td>\n      <td>NaN</td>\n      <td>NaN</td>\n      <td>NaN</td>\n    </tr>\n    <tr>\n      <th>8</th>\n      <td>2015-01-08 00:00:00</td>\n      <td>60</td>\n      <td>86</td>\n      <td>NaN</td>\n      <td>NaN</td>\n      <td>NaN</td>\n      <td>NaN</td>\n      <td>5091</td>\n      <td>NaN</td>\n      <td>NaN</td>\n      <td>...</td>\n      <td>NaN</td>\n      <td>NaN</td>\n      <td>8.0</td>\n      <td>86</td>\n      <td>NaN</td>\n      <td>NaN</td>\n      <td>NaN</td>\n      <td>NaN</td>\n      <td>NaN</td>\n      <td>NaN</td>\n    </tr>\n    <tr>\n      <th>9</th>\n      <td>2015-03-02 00:00:00</td>\n      <td>48</td>\n      <td>48.6</td>\n      <td>NaN</td>\n      <td>NaN</td>\n      <td>NaN</td>\n      <td>NaN</td>\n      <td>5092</td>\n      <td>NaN</td>\n      <td>NaN</td>\n      <td>...</td>\n      <td>NaN</td>\n      <td>NaN</td>\n      <td>9.0</td>\n      <td>48.6</td>\n      <td>NaN</td>\n      <td>NaN</td>\n      <td>NaN</td>\n      <td>NaN</td>\n      <td>NaN</td>\n      <td>NaN</td>\n    </tr>\n    <tr>\n      <th>10</th>\n      <td>2015-02-10 00:00:00</td>\n      <td>45</td>\n      <td>70.1</td>\n      <td>NaN</td>\n      <td>NaN</td>\n      <td>NaN</td>\n      <td>NaN</td>\n      <td>5099</td>\n      <td>NaN</td>\n      <td>NaN</td>\n      <td>...</td>\n      <td>NaN</td>\n      <td>NaN</td>\n      <td>10.0</td>\n      <td>70.1</td>\n      <td>NaN</td>\n      <td>NaN</td>\n      <td>NaN</td>\n      <td>NaN</td>\n      <td>NaN</td>\n      <td>NaN</td>\n    </tr>\n  </tbody>\n</table>\n<p>10 rows × 22 columns</p>\n</div>"
     },
     "execution_count": 11,
     "metadata": {},
     "output_type": "execute_result"
    }
   ],
   "source": [
    "df = df.drop('ID', axis=1)\n",
    "df.head(10)"
   ],
   "metadata": {
    "collapsed": false,
    "ExecuteTime": {
     "end_time": "2023-12-31T08:45:28.701208Z",
     "start_time": "2023-12-31T08:45:28.446516Z"
    }
   },
   "id": "95449bfe7db0b469",
   "execution_count": 11
  },
  {
   "cell_type": "code",
   "execution_count": null,
   "outputs": [],
   "source": [
    "missing_threshold = 0.75 * len(df)\n",
    "columns_to_drop = df.columns[df.isna().sum() > missing_threshold]\n",
    "\n",
    "# Удаление найденных колонок из датафрейма\n",
    "df.drop(columns=columns_to_drop, inplace=True)\n",
    "\n",
    "df.head()"
   ],
   "metadata": {
    "collapsed": false
   },
   "id": "1d7ae6c10fd6863c"
  },
  {
   "cell_type": "code",
   "outputs": [
    {
     "data": {
      "text/plain": "(322, 5)"
     },
     "execution_count": 501,
     "metadata": {},
     "output_type": "execute_result"
    }
   ],
   "source": [
    "df.shape"
   ],
   "metadata": {
    "collapsed": false,
    "ExecuteTime": {
     "end_time": "2023-12-30T08:47:17.427245Z",
     "start_time": "2023-12-30T08:47:17.190664Z"
    }
   },
   "id": "147a16d99c0f962f",
   "execution_count": 501
  },
  {
   "cell_type": "code",
   "outputs": [
    {
     "name": "stdout",
     "output_type": "stream",
     "text": [
      "<class 'pandas.core.frame.DataFrame'>\n",
      "Index: 322 entries, 1 to 323\n",
      "Data columns (total 5 columns):\n",
      " #   Column              Non-Null Count  Dtype \n",
      "---  ------              --------------  ----- \n",
      " 0   ID                  282 non-null    object\n",
      " 1   Date_of_birth       281 non-null    object\n",
      " 2   Weight              287 non-null    object\n",
      " 3   Weight_on_31.12.18  218 non-null    object\n",
      " 4   Номер козы.1        197 non-null    object\n",
      "dtypes: object(5)\n",
      "memory usage: 15.1+ KB\n"
     ]
    }
   ],
   "source": [
    "df.info()"
   ],
   "metadata": {
    "collapsed": false,
    "ExecuteTime": {
     "end_time": "2023-12-30T08:47:17.779198Z",
     "start_time": "2023-12-30T08:47:17.411223Z"
    }
   },
   "id": "2a37359e076678f9",
   "execution_count": 502
  },
  {
   "cell_type": "code",
   "outputs": [],
   "source": [
    "df = df.drop('Номер козы.1', axis=1)"
   ],
   "metadata": {
    "collapsed": false,
    "ExecuteTime": {
     "end_time": "2023-12-30T08:47:18.015101Z",
     "start_time": "2023-12-30T08:47:17.761632Z"
    }
   },
   "id": "4c2500481300397",
   "execution_count": 503
  },
  {
   "cell_type": "code",
   "outputs": [],
   "source": [
    "df['Date_of_birth'] = pd.to_datetime(df['Date_of_birth'], errors='coerce')"
   ],
   "metadata": {
    "collapsed": false,
    "ExecuteTime": {
     "end_time": "2023-12-30T08:47:18.380937Z",
     "start_time": "2023-12-30T08:47:17.999708Z"
    }
   },
   "id": "9ca9db8ed5b4770e",
   "execution_count": 504
  },
  {
   "cell_type": "code",
   "outputs": [
    {
     "data": {
      "text/plain": "ID                     40\nDate_of_birth          54\nWeight                 35\nWeight_on_31.12.18    104\ndtype: int64"
     },
     "execution_count": 505,
     "metadata": {},
     "output_type": "execute_result"
    }
   ],
   "source": [
    "df.isna().sum()"
   ],
   "metadata": {
    "collapsed": false,
    "ExecuteTime": {
     "end_time": "2023-12-30T08:47:18.533847Z",
     "start_time": "2023-12-30T08:47:18.358311Z"
    }
   },
   "id": "dd151665e919c9f8",
   "execution_count": 505
  },
  {
   "cell_type": "code",
   "outputs": [
    {
     "name": "stdout",
     "output_type": "stream",
     "text": [
      "      ID Date_of_birth               Weight  \\\n",
      "115  NaN           NaT                 3626   \n",
      "116  NaN           NaT                 5205   \n",
      "117  NaN           NaT                  NaN   \n",
      "118  NaN           NaT                  NaN   \n",
      "119  NaN           NaT             вес при    \n",
      "120  NaN           NaT             рождении   \n",
      "126  NaN           NaT                  NaN   \n",
      "127  NaN           NaT                  NaN   \n",
      "128  NaN           NaT                  NaN   \n",
      "129  NaN           NaT                  NaN   \n",
      "130  NaN           NaT             вес при    \n",
      "131  NaN           NaT             рождении   \n",
      "174  NaN           NaT                  NaN   \n",
      "175  NaN           NaT                114.4   \n",
      "176  NaN           NaT                  NaN   \n",
      "177  NaN           NaT                  NaN   \n",
      "178  NaN           NaT                  NaN   \n",
      "179  NaN           NaT     вес при рождении   \n",
      "217  NaN           NaT                  NaN   \n",
      "218  NaN           NaT               104.65   \n",
      "219  NaN           NaT                  NaN   \n",
      "220  NaN           NaT                  NaN   \n",
      "221  NaN           NaT                  NaN   \n",
      "284  NaN           NaT                  NaN   \n",
      "285  NaN           NaT                  NaN   \n",
      "287  NaN           NaT  2019-01-03 00:00:00   \n",
      "296  NaN           NaT                  520   \n",
      "297  NaN           NaT                  NaN   \n",
      "298  NaN           NaT                  NaN   \n",
      "299  NaN           NaT                  NaN   \n",
      "300  NaN           NaT                  NaN   \n",
      "301  NaN           NaT                  NaN   \n",
      "313  NaN           NaT                  NaN   \n",
      "314  NaN           NaT                  NaN   \n",
      "317  NaN           NaT                  NaN   \n",
      "318  NaN           NaT                  NaN   \n",
      "319  NaN           NaT                  NaN   \n",
      "320  NaN           NaT                  NaN   \n",
      "322  NaN           NaT                  NaN   \n",
      "323  NaN           NaT                  NaN   \n",
      "\n",
      "                        Weight_on_31.12.18  \n",
      "115                                 5861.4  \n",
      "116                                8032.95  \n",
      "117                                    NaN  \n",
      "118                                    NaN  \n",
      "119                                 вес на  \n",
      "120                    2018-12-31 00:00:00  \n",
      "126                                    NaN  \n",
      "127                                    NaN  \n",
      "128                                    NaN  \n",
      "129                                    NaN  \n",
      "130                                 вес на  \n",
      "131                    2018-12-31 00:00:00  \n",
      "174                                    NaN  \n",
      "175                                    NaN  \n",
      "176                                    NaN  \n",
      "177                                    NaN  \n",
      "178                                    NaN  \n",
      "179  вес на 28.12.18 (должен быть в 8 мес)  \n",
      "217                                    NaN  \n",
      "218                                 1074.8  \n",
      "219                                    NaN  \n",
      "220                                    NaN  \n",
      "221                                    NaN  \n",
      "284                                    NaN  \n",
      "285                                    NaN  \n",
      "287                    2019-12-31 00:00:00  \n",
      "296                                    737  \n",
      "297                                 92.125  \n",
      "298                                    NaN  \n",
      "299                                    NaN  \n",
      "300                                    NaN  \n",
      "301                                    NaN  \n",
      "313                                    NaN  \n",
      "314                                    NaN  \n",
      "317                                    NaN  \n",
      "318                                    NaN  \n",
      "319                                    NaN  \n",
      "320                                    NaN  \n",
      "322                                    NaN  \n",
      "323                                    NaN  \n"
     ]
    }
   ],
   "source": [
    "rows_with_nan = df[df['ID'].isnull()]\n",
    "\n",
    "print(rows_with_nan)"
   ],
   "metadata": {
    "collapsed": false,
    "ExecuteTime": {
     "end_time": "2023-12-30T08:47:18.899692Z",
     "start_time": "2023-12-30T08:47:18.714429Z"
    }
   },
   "id": "c217cd3dda9359d9",
   "execution_count": 507
  },
  {
   "cell_type": "code",
   "outputs": [],
   "source": [
    "df['ID'] = df['ID'].str.split('/').str.get(0)"
   ],
   "metadata": {
    "collapsed": false,
    "ExecuteTime": {
     "end_time": "2023-12-30T08:47:19.163469Z",
     "start_time": "2023-12-30T08:47:18.876440Z"
    }
   },
   "id": "5b3226ff70b480bb",
   "execution_count": 508
  },
  {
   "cell_type": "code",
   "outputs": [],
   "source": [
    "random_values = np.random.randint(1, 100, df['ID'].isnull().sum())\n",
    "\n",
    "# Заполнение NaN случайными значениями\n",
    "df.loc[df['ID'].isnull(), 'ID'] = random_values"
   ],
   "metadata": {
    "collapsed": false,
    "ExecuteTime": {
     "end_time": "2023-12-30T08:47:19.327371Z",
     "start_time": "2023-12-30T08:47:19.138945Z"
    }
   },
   "id": "10c5b2d193c1f0a3",
   "execution_count": 509
  },
  {
   "cell_type": "code",
   "outputs": [
    {
     "name": "stdout",
     "output_type": "stream",
     "text": [
      "<class 'pandas.core.frame.DataFrame'>\n",
      "Index: 322 entries, 1 to 323\n",
      "Data columns (total 4 columns):\n",
      " #   Column              Non-Null Count  Dtype         \n",
      "---  ------              --------------  -----         \n",
      " 0   ID                  322 non-null    object        \n",
      " 1   Date_of_birth       268 non-null    datetime64[ns]\n",
      " 2   Weight              287 non-null    object        \n",
      " 3   Weight_on_31.12.18  218 non-null    object        \n",
      "dtypes: datetime64[ns](1), object(3)\n",
      "memory usage: 12.6+ KB\n"
     ]
    }
   ],
   "source": [
    "df.info()"
   ],
   "metadata": {
    "collapsed": false,
    "ExecuteTime": {
     "end_time": "2023-12-30T08:47:19.512476Z",
     "start_time": "2023-12-30T08:47:19.311168Z"
    }
   },
   "id": "25c380fa930e7339",
   "execution_count": 510
  },
  {
   "cell_type": "code",
   "outputs": [],
   "source": [
    "median_date = df['Date_of_birth'].median()\n",
    "df['Date_of_birth'].fillna(median_date, inplace=True)"
   ],
   "metadata": {
    "collapsed": false,
    "ExecuteTime": {
     "end_time": "2023-12-30T08:47:19.662151Z",
     "start_time": "2023-12-30T08:47:19.489875Z"
    }
   },
   "id": "f1fbf3a6ed57c753",
   "execution_count": 511
  },
  {
   "cell_type": "code",
   "outputs": [
    {
     "data": {
      "text/plain": "1       50\n2       52\n3       55\n4       44\n5       48\n      ... \n319    NaN\n320    NaN\n321    NaN\n322    NaN\n323    NaN\nName: Weight, Length: 322, dtype: object"
     },
     "execution_count": 512,
     "metadata": {},
     "output_type": "execute_result"
    }
   ],
   "source": [
    "df.Weight"
   ],
   "metadata": {
    "collapsed": false,
    "ExecuteTime": {
     "end_time": "2023-12-30T08:47:19.906587Z",
     "start_time": "2023-12-30T08:47:19.644197Z"
    }
   },
   "id": "54d84b9099315776",
   "execution_count": 512
  },
  {
   "cell_type": "code",
   "outputs": [],
   "source": [
    "df.loc[115:, 'Weight'] = np.nan"
   ],
   "metadata": {
    "collapsed": false,
    "ExecuteTime": {
     "end_time": "2023-12-30T08:47:20.039723Z",
     "start_time": "2023-12-30T08:47:19.870569Z"
    }
   },
   "id": "4afa98bc6bc5e8e1",
   "execution_count": 513
  },
  {
   "cell_type": "code",
   "outputs": [
    {
     "name": "stdout",
     "output_type": "stream",
     "text": [
      "46.06194690265487\n",
      "47.0\n"
     ]
    }
   ],
   "source": [
    "print(df['Weight'].mean())\n",
    "print(df['Weight'].median())"
   ],
   "metadata": {
    "collapsed": false,
    "ExecuteTime": {
     "end_time": "2023-12-30T08:47:20.298413Z",
     "start_time": "2023-12-30T08:47:20.020110Z"
    }
   },
   "id": "82b7448d099607e9",
   "execution_count": 514
  },
  {
   "cell_type": "code",
   "outputs": [],
   "source": [
    "median_weight = df['Weight'].median()\n",
    "df['Weight'].fillna(median_weight, inplace=True)"
   ],
   "metadata": {
    "collapsed": false,
    "ExecuteTime": {
     "end_time": "2023-12-30T08:47:20.447145Z",
     "start_time": "2023-12-30T08:47:20.279553Z"
    }
   },
   "id": "d9d12b7829738cb2",
   "execution_count": 515
  },
  {
   "cell_type": "code",
   "outputs": [
    {
     "data": {
      "text/plain": "1          61\n2        65.1\n3        60.2\n4          52\n5        99.5\n        ...  \n297    92.125\n298       NaN\n299       NaN\n300       NaN\n301       NaN\nName: Weight_on_31.12.18, Length: 300, dtype: object"
     },
     "execution_count": 516,
     "metadata": {},
     "output_type": "execute_result"
    }
   ],
   "source": [
    "df['Weight_on_31.12.18'].head(300)\n",
    "\n",
    "# Я вижу что колонка дублируется, но здесь больше строк = больше данных, подумаю как с ней поступить позже, возможно лучше будет удалить из первого файла."
   ],
   "metadata": {
    "collapsed": false,
    "ExecuteTime": {
     "end_time": "2023-12-30T08:47:20.705977Z",
     "start_time": "2023-12-30T08:47:20.429085Z"
    }
   },
   "id": "610bf2297b87cc0b",
   "execution_count": 516
  },
  {
   "cell_type": "code",
   "outputs": [],
   "source": [
    "df['Weight_on_31.12.18'] = pd.to_numeric(df['Weight_on_31.12.18'], errors='coerce')"
   ],
   "metadata": {
    "collapsed": false,
    "ExecuteTime": {
     "end_time": "2023-12-30T08:47:20.863632Z",
     "start_time": "2023-12-30T08:47:20.686924Z"
    }
   },
   "id": "8bc55e2a08e7fbfe",
   "execution_count": 517
  },
  {
   "cell_type": "code",
   "outputs": [
    {
     "data": {
      "text/plain": "<Figure size 600x400 with 1 Axes>",
      "image/png": "[encoded data removed]"
     },
     "metadata": {},
     "output_type": "display_data"
    }
   ],
   "source": [
    "plt.figure(figsize=(6, 4))\n",
    "sns.boxplot(x=df['Weight_on_31.12.18'])\n",
    "plt.title('Weight_on_31.12.18')\n",
    "plt.xlabel('Weight_on_31.12.18')\n",
    "plt.show()"
   ],
   "metadata": {
    "collapsed": false,
    "ExecuteTime": {
     "end_time": "2023-12-30T08:47:21.130321Z",
     "start_time": "2023-12-30T08:47:20.850827Z"
    }
   },
   "id": "53a3b60983bfb540",
   "execution_count": 518
  },
  {
   "cell_type": "code",
   "outputs": [],
   "source": [
    "# Видим сильные выбросы опять, заменим все значения больше 100\n",
    "\n",
    "df.loc[df['Weight_on_31.12.18'] > 100, 'Weight_on_31.12.18'] = np.nan"
   ],
   "metadata": {
    "collapsed": false,
    "ExecuteTime": {
     "end_time": "2023-12-30T08:47:21.246771Z",
     "start_time": "2023-12-30T08:47:21.085534Z"
    }
   },
   "id": "7c2210159d9b9f3",
   "execution_count": 519
  },
  {
   "cell_type": "code",
   "outputs": [
    {
     "data": {
      "text/plain": "<Figure size 1000x600 with 1 Axes>",
      "image/png": "[encoded data removed]"
     },
     "metadata": {},
     "output_type": "display_data"
    }
   ],
   "source": [
    "plt.figure(figsize=(10, 6))\n",
    "plt.hist(df['Weight_on_31.12.18'], bins=20, edgecolor='k', alpha=0.7, label='Распределение веса')\n",
    "\n",
    "# Нахождение и отображение медианы и среднего значения\n",
    "median_value = df['Weight_on_31.12.18'].median()\n",
    "mean_value = df['Weight_on_31.12.18'].mean()\n",
    "\n",
    "plt.axvline(median_value, color='r', linestyle='--', label=f'Медиана = {median_value:.2f}')\n",
    "plt.axvline(mean_value, color='g', linestyle='--', label=f'Среднее = {mean_value:.2f}')\n",
    "\n",
    "plt.title('Распределение веса животных с медианой и средним значением')\n",
    "plt.xlabel('Вес')\n",
    "plt.ylabel('Частота')\n",
    "plt.legend()\n",
    "plt.grid(True)\n",
    "plt.show()"
   ],
   "metadata": {
    "collapsed": false,
    "ExecuteTime": {
     "end_time": "2023-12-30T08:47:21.537515Z",
     "start_time": "2023-12-30T08:47:21.235893Z"
    }
   },
   "id": "e0ade06f6fdd13a2",
   "execution_count": 520
  },
  {
   "cell_type": "code",
   "outputs": [],
   "source": [
    "mean_value = df['Weight_on_31.12.18'].mean()\n",
    "df['Weight_on_31.12.18'].fillna(median_value, inplace=True)"
   ],
   "metadata": {
    "collapsed": false,
    "ExecuteTime": {
     "end_time": "2023-12-30T08:47:21.656051Z",
     "start_time": "2023-12-30T08:47:21.493748Z"
    }
   },
   "id": "354fefc0db788780",
   "execution_count": 521
  },
  {
   "cell_type": "code",
   "outputs": [
    {
     "data": {
      "text/plain": "0"
     },
     "execution_count": 523,
     "metadata": {},
     "output_type": "execute_result"
    }
   ],
   "source": [
    "df.isna().sum().sum()"
   ],
   "metadata": {
    "collapsed": false,
    "ExecuteTime": {
     "end_time": "2023-12-30T08:47:22.055087Z",
     "start_time": "2023-12-30T08:47:21.882515Z"
    }
   },
   "id": "2971b070184a6222",
   "execution_count": 523
  },
  {
   "cell_type": "code",
   "outputs": [],
   "source": [
    "df.to_csv('Clean_data/File_2.csv')"
   ],
   "metadata": {
    "collapsed": false,
    "ExecuteTime": {
     "end_time": "2023-12-30T08:47:22.289061Z",
     "start_time": "2023-12-30T08:47:22.036757Z"
    }
   },
   "id": "268e64093477bd9f",
   "execution_count": 524
  },
  {
   "cell_type": "markdown",
   "source": [
    "Второй файл завершен\n",
    "_______________"
   ],
   "metadata": {
    "collapsed": false
   },
   "id": "f4352aa7d08cd7e7"
  },
  {
   "cell_type": "code",
   "execution_count": 14,
   "outputs": [],
   "source": [
    "df = df.drop('№', axis=1)\n",
    "df = df.drop(31)\n",
    "df = df.drop(32)\n",
    "df = df.drop(0)\n",
    "df = df.rename(columns={'Номер козы': 'ID'})\n",
    "df = df.rename(columns={'Дата рождения': 'Date_of_birth'})\n",
    "df = df.rename(columns={'вес ': 'Weight_on_buy'})\n",
    "df = df.rename(columns={'вес .1': 'Weight_on_3.01.17'})\n",
    "df = df.rename(columns={'Unnamed: 6': 'Weight_report_plus5'})\n",
    "df = df.rename(columns={'вес .2': 'Weight_on_4.01.18'})\n",
    "df = df.rename(columns={'Привес': 'Weight_in_plus'})\n",
    "df = df.rename(columns={'Привес.1': 'Weight_in_plus1'})\n",
    "df = df.rename(columns={'вес на 31.12.18': 'Weight_on_31.12.18'})\n",
    "df = df.rename(columns={'вес 3 лакт': 'Weight_on_3_lact'})\n",
    "df = df.rename(columns={'вес 2 лакт': 'Weight_on_2_lact_31.12.16'})\n",
    "df = df.rename(columns={'вес 2 лакт.1': 'Weight_on_2_lact_31.12.17'})\n",
    "df = df.rename(columns={'вес 3 лакт и выше': 'Weight_on_3_lact_heigher_31.12.18'})\n",
    "df = df.rename(columns={'вес 2 лакт.2': 'Weight_on_2_lact2_31.12.18'})\n",
    "df = df.rename(columns={'вес 1 лакт': 'Weight_on_lact1_31.12.17'})\n",
    "df = df.rename(columns={'вес 1 лакт.1': 'Weight_on_lact1_31.12.18'})"
   ],
   "metadata": {
    "collapsed": false,
    "ExecuteTime": {
     "end_time": "2023-12-31T08:46:31.225442Z",
     "start_time": "2023-12-31T08:46:31.049039Z"
    }
   },
   "id": "3aebdf13f01bd5a4"
  },
  {
   "cell_type": "code",
   "execution_count": 16,
   "outputs": [
    {
     "data": {
      "text/plain": "          Date_of_birth Weight_on_buy Weight_on_3.01.17 Weight_in_plus  \\\n1   2015-01-30 00:00:00            50                59              9   \n2   2015-01-31 00:00:00            52                55              3   \n3   2015-02-03 00:00:00            55                56              1   \n4   2015-02-03 00:00:00            44              44.2            0.2   \n5   2015-02-04 00:00:00            48                50              2   \n6   2015-02-05 00:00:00            54              47.5           -6.5   \n7   2015-02-06 00:00:00            53              48.8           -4.2   \n8   2015-01-08 00:00:00            60              68.5            8.5   \n9   2015-03-02 00:00:00            48             56.35           8.35   \n10  2015-02-10 00:00:00            45              49.5            4.5   \n\n   Weight_report_plus5 Weight_on_4.01.18 Weight_in_plus1 Unnamed: 9  \\\n1                  NaN             65.35            6.35        NaN   \n2                  NaN              65.3            10.3        NaN   \n3                  NaN                57               1        NaN   \n4                  NaN              52.3             8.1        NaN   \n5                  NaN              59.8             9.8        NaN   \n6                 47.5              66.4            18.9        NaN   \n7                 48.8              58.1             9.3        NaN   \n8                  NaN              72.7             4.2        NaN   \n9                  NaN              56.7            0.35        NaN   \n10                 NaN             57.35            7.85        NaN   \n\n   Weight_on_3_lact Unnamed: 11  ... Unnamed: 30  Unnamed: 31 Unnamed: 32  \\\n1               NaN      2 лакт  ...         NaN          NaN         NaN   \n2               NaN      2 лакт  ...         NaN          NaN         NaN   \n3               NaN      2 лакт  ...         NaN          NaN         NaN   \n4               NaN      2 лакт  ...         NaN          NaN         NaN   \n5               NaN      2 лакт  ...         NaN          NaN         NaN   \n6              66.4      3 лакт  ...         NaN          NaN         NaN   \n7              58.1      3 лакт  ...         NaN          NaN         NaN   \n8               NaN      2 лакт  ...         NaN          NaN         NaN   \n9               NaN      2 лакт  ...         NaN          NaN         NaN   \n10              NaN      2 лакт  ...         NaN          NaN         NaN   \n\n   Unnamed: 33 Unnamed: 34 Unnamed: 35  Unnamed: 36  Unnamed: 37 Unnamed: 38  \\\n1          NaN         NaN         NaN          NaN          NaN         NaN   \n2          NaN         NaN         NaN          NaN          NaN         NaN   \n3          NaN         NaN         NaN          NaN          NaN         NaN   \n4          NaN         NaN         NaN          NaN          NaN         NaN   \n5          NaN         NaN         NaN          NaN          NaN         NaN   \n6          NaN         NaN         NaN          NaN          NaN         NaN   \n7          NaN         NaN         NaN          NaN          NaN         NaN   \n8          NaN         NaN         NaN          NaN          NaN         NaN   \n9          NaN         NaN         NaN          NaN          NaN         NaN   \n10         NaN         NaN         NaN          NaN          NaN         NaN   \n\n   Unnamed: 39  \n1          NaN  \n2          NaN  \n3          NaN  \n4          NaN  \n5          NaN  \n6          NaN  \n7          NaN  \n8          NaN  \n9          NaN  \n10         NaN  \n\n[10 rows x 38 columns]",
      "text/html": "<div>\n<style scoped>\n    .dataframe tbody tr th:only-of-type {\n        vertical-align: middle;\n    }\n\n    .dataframe tbody tr th {\n        vertical-align: top;\n    }\n\n    .dataframe thead th {\n        text-align: right;\n    }\n</style>\n<table border=\"1\" class=\"dataframe\">\n  <thead>\n    <tr style=\"text-align: right;\">\n      <th></th>\n      <th>Date_of_birth</th>\n      <th>Weight_on_buy</th>\n      <th>Weight_on_3.01.17</th>\n      <th>Weight_in_plus</th>\n      <th>Weight_report_plus5</th>\n      <th>Weight_on_4.01.18</th>\n      <th>Weight_in_plus1</th>\n      <th>Unnamed: 9</th>\n      <th>Weight_on_3_lact</th>\n      <th>Unnamed: 11</th>\n      <th>...</th>\n      <th>Unnamed: 30</th>\n      <th>Unnamed: 31</th>\n      <th>Unnamed: 32</th>\n      <th>Unnamed: 33</th>\n      <th>Unnamed: 34</th>\n      <th>Unnamed: 35</th>\n      <th>Unnamed: 36</th>\n      <th>Unnamed: 37</th>\n      <th>Unnamed: 38</th>\n      <th>Unnamed: 39</th>\n    </tr>\n  </thead>\n  <tbody>\n    <tr>\n      <th>1</th>\n      <td>2015-01-30 00:00:00</td>\n      <td>50</td>\n      <td>59</td>\n      <td>9</td>\n      <td>NaN</td>\n      <td>65.35</td>\n      <td>6.35</td>\n      <td>NaN</td>\n      <td>NaN</td>\n      <td>2 лакт</td>\n      <td>...</td>\n      <td>NaN</td>\n      <td>NaN</td>\n      <td>NaN</td>\n      <td>NaN</td>\n      <td>NaN</td>\n      <td>NaN</td>\n      <td>NaN</td>\n      <td>NaN</td>\n      <td>NaN</td>\n      <td>NaN</td>\n    </tr>\n    <tr>\n      <th>2</th>\n      <td>2015-01-31 00:00:00</td>\n      <td>52</td>\n      <td>55</td>\n      <td>3</td>\n      <td>NaN</td>\n      <td>65.3</td>\n      <td>10.3</td>\n      <td>NaN</td>\n      <td>NaN</td>\n      <td>2 лакт</td>\n      <td>...</td>\n      <td>NaN</td>\n      <td>NaN</td>\n      <td>NaN</td>\n      <td>NaN</td>\n      <td>NaN</td>\n      <td>NaN</td>\n      <td>NaN</td>\n      <td>NaN</td>\n      <td>NaN</td>\n      <td>NaN</td>\n    </tr>\n    <tr>\n      <th>3</th>\n      <td>2015-02-03 00:00:00</td>\n      <td>55</td>\n      <td>56</td>\n      <td>1</td>\n      <td>NaN</td>\n      <td>57</td>\n      <td>1</td>\n      <td>NaN</td>\n      <td>NaN</td>\n      <td>2 лакт</td>\n      <td>...</td>\n      <td>NaN</td>\n      <td>NaN</td>\n      <td>NaN</td>\n      <td>NaN</td>\n      <td>NaN</td>\n      <td>NaN</td>\n      <td>NaN</td>\n      <td>NaN</td>\n      <td>NaN</td>\n      <td>NaN</td>\n    </tr>\n    <tr>\n      <th>4</th>\n      <td>2015-02-03 00:00:00</td>\n      <td>44</td>\n      <td>44.2</td>\n      <td>0.2</td>\n      <td>NaN</td>\n      <td>52.3</td>\n      <td>8.1</td>\n      <td>NaN</td>\n      <td>NaN</td>\n      <td>2 лакт</td>\n      <td>...</td>\n      <td>NaN</td>\n      <td>NaN</td>\n      <td>NaN</td>\n      <td>NaN</td>\n      <td>NaN</td>\n      <td>NaN</td>\n      <td>NaN</td>\n      <td>NaN</td>\n      <td>NaN</td>\n      <td>NaN</td>\n    </tr>\n    <tr>\n      <th>5</th>\n      <td>2015-02-04 00:00:00</td>\n      <td>48</td>\n      <td>50</td>\n      <td>2</td>\n      <td>NaN</td>\n      <td>59.8</td>\n      <td>9.8</td>\n      <td>NaN</td>\n      <td>NaN</td>\n      <td>2 лакт</td>\n      <td>...</td>\n      <td>NaN</td>\n      <td>NaN</td>\n      <td>NaN</td>\n      <td>NaN</td>\n      <td>NaN</td>\n      <td>NaN</td>\n      <td>NaN</td>\n      <td>NaN</td>\n      <td>NaN</td>\n      <td>NaN</td>\n    </tr>\n    <tr>\n      <th>6</th>\n      <td>2015-02-05 00:00:00</td>\n      <td>54</td>\n      <td>47.5</td>\n      <td>-6.5</td>\n      <td>47.5</td>\n      <td>66.4</td>\n      <td>18.9</td>\n      <td>NaN</td>\n      <td>66.4</td>\n      <td>3 лакт</td>\n      <td>...</td>\n      <td>NaN</td>\n      <td>NaN</td>\n      <td>NaN</td>\n      <td>NaN</td>\n      <td>NaN</td>\n      <td>NaN</td>\n      <td>NaN</td>\n      <td>NaN</td>\n      <td>NaN</td>\n      <td>NaN</td>\n    </tr>\n    <tr>\n      <th>7</th>\n      <td>2015-02-06 00:00:00</td>\n      <td>53</td>\n      <td>48.8</td>\n      <td>-4.2</td>\n      <td>48.8</td>\n      <td>58.1</td>\n      <td>9.3</td>\n      <td>NaN</td>\n      <td>58.1</td>\n      <td>3 лакт</td>\n      <td>...</td>\n      <td>NaN</td>\n      <td>NaN</td>\n      <td>NaN</td>\n      <td>NaN</td>\n      <td>NaN</td>\n      <td>NaN</td>\n      <td>NaN</td>\n      <td>NaN</td>\n      <td>NaN</td>\n      <td>NaN</td>\n    </tr>\n    <tr>\n      <th>8</th>\n      <td>2015-01-08 00:00:00</td>\n      <td>60</td>\n      <td>68.5</td>\n      <td>8.5</td>\n      <td>NaN</td>\n      <td>72.7</td>\n      <td>4.2</td>\n      <td>NaN</td>\n      <td>NaN</td>\n      <td>2 лакт</td>\n      <td>...</td>\n      <td>NaN</td>\n      <td>NaN</td>\n      <td>NaN</td>\n      <td>NaN</td>\n      <td>NaN</td>\n      <td>NaN</td>\n      <td>NaN</td>\n      <td>NaN</td>\n      <td>NaN</td>\n      <td>NaN</td>\n    </tr>\n    <tr>\n      <th>9</th>\n      <td>2015-03-02 00:00:00</td>\n      <td>48</td>\n      <td>56.35</td>\n      <td>8.35</td>\n      <td>NaN</td>\n      <td>56.7</td>\n      <td>0.35</td>\n      <td>NaN</td>\n      <td>NaN</td>\n      <td>2 лакт</td>\n      <td>...</td>\n      <td>NaN</td>\n      <td>NaN</td>\n      <td>NaN</td>\n      <td>NaN</td>\n      <td>NaN</td>\n      <td>NaN</td>\n      <td>NaN</td>\n      <td>NaN</td>\n      <td>NaN</td>\n      <td>NaN</td>\n    </tr>\n    <tr>\n      <th>10</th>\n      <td>2015-02-10 00:00:00</td>\n      <td>45</td>\n      <td>49.5</td>\n      <td>4.5</td>\n      <td>NaN</td>\n      <td>57.35</td>\n      <td>7.85</td>\n      <td>NaN</td>\n      <td>NaN</td>\n      <td>2 лакт</td>\n      <td>...</td>\n      <td>NaN</td>\n      <td>NaN</td>\n      <td>NaN</td>\n      <td>NaN</td>\n      <td>NaN</td>\n      <td>NaN</td>\n      <td>NaN</td>\n      <td>NaN</td>\n      <td>NaN</td>\n      <td>NaN</td>\n    </tr>\n  </tbody>\n</table>\n<p>10 rows × 38 columns</p>\n</div>"
     },
     "execution_count": 16,
     "metadata": {},
     "output_type": "execute_result"
    }
   ],
   "source": [
    "df = df.drop('ID', axis=1)\n",
    "df.head(10)"
   ],
   "metadata": {
    "collapsed": false,
    "ExecuteTime": {
     "end_time": "2023-12-31T08:46:35.134435Z",
     "start_time": "2023-12-31T08:46:34.874229Z"
    }
   },
   "id": "e43a8a2cf11f6ba9"
  },
  {
   "cell_type": "code",
   "outputs": [
    {
     "data": {
      "text/plain": "(216, 39)"
     },
     "execution_count": 529,
     "metadata": {},
     "output_type": "execute_result"
    }
   ],
   "source": [
    "df.shape"
   ],
   "metadata": {
    "collapsed": false,
    "ExecuteTime": {
     "end_time": "2023-12-30T08:47:23.675163Z",
     "start_time": "2023-12-30T08:47:23.317666Z"
    }
   },
   "id": "e37346ce99a57685",
   "execution_count": 529
  },
  {
   "cell_type": "code",
   "outputs": [],
   "source": [
    "missing_threshold = 0.75 * len(df)\n",
    "columns_to_drop = df.columns[df.isna().sum() > missing_threshold]\n",
    "\n",
    "# Удаление найденных колонок из датафрейма\n",
    "df.drop(columns=columns_to_drop, inplace=True)\n",
    "\n",
    "df.head()"
   ],
   "metadata": {
    "collapsed": false
   },
   "id": "a3a1c84ff5a894ba",
   "execution_count": null
  },
  {
   "cell_type": "code",
   "outputs": [
    {
     "data": {
      "text/plain": "ID                           38\nDate_of_birth                54\nWeight_on_buy               101\nWeight_on_3.01.17            88\nWeight_in_plus               93\nWeight_report_plus5          77\nWeight_on_4.01.18            37\nWeight_in_plus1              79\nWeight_on_3_lact            160\nUnnamed: 11                 126\nWeight_on_lact1_31.12.17    140\nUnnamed: 16                 149\nUnnamed: 21                 116\nUnnamed: 22                  95\nUnnamed: 24                 116\nUnnamed: 25                 153\nUnnamed: 26                 158\nUnnamed: 27                 153\ndtype: int64"
     },
     "execution_count": 531,
     "metadata": {},
     "output_type": "execute_result"
    }
   ],
   "source": [
    "df.isna().sum()"
   ],
   "metadata": {
    "collapsed": false,
    "ExecuteTime": {
     "end_time": "2023-12-30T08:47:24.288229Z",
     "start_time": "2023-12-30T08:47:23.884371Z"
    }
   },
   "id": "3513122a0d276b2f",
   "execution_count": 531
  },
  {
   "cell_type": "code",
   "outputs": [
    {
     "name": "stdout",
     "output_type": "stream",
     "text": [
      "<class 'pandas.core.frame.DataFrame'>\n",
      "Index: 216 entries, 1 to 218\n",
      "Data columns (total 18 columns):\n",
      " #   Column                    Non-Null Count  Dtype \n",
      "---  ------                    --------------  ----- \n",
      " 0   ID                        178 non-null    object\n",
      " 1   Date_of_birth             162 non-null    object\n",
      " 2   Weight_on_buy             115 non-null    object\n",
      " 3   Weight_on_3.01.17         128 non-null    object\n",
      " 4   Weight_in_plus            123 non-null    object\n",
      " 5   Weight_report_plus5       139 non-null    object\n",
      " 6   Weight_on_4.01.18         179 non-null    object\n",
      " 7   Weight_in_plus1           137 non-null    object\n",
      " 8   Weight_on_3_lact          56 non-null     object\n",
      " 9   Unnamed: 11               90 non-null     object\n",
      " 10  Weight_on_lact1_31.12.17  76 non-null     object\n",
      " 11  Unnamed: 16               67 non-null     object\n",
      " 12  Unnamed: 21               100 non-null    object\n",
      " 13  Unnamed: 22               121 non-null    object\n",
      " 14  Unnamed: 24               100 non-null    object\n",
      " 15  Unnamed: 25               63 non-null     object\n",
      " 16  Unnamed: 26               58 non-null     object\n",
      " 17  Unnamed: 27               63 non-null     object\n",
      "dtypes: object(18)\n",
      "memory usage: 32.1+ KB\n"
     ]
    }
   ],
   "source": [
    "df.info()"
   ],
   "metadata": {
    "collapsed": false,
    "ExecuteTime": {
     "end_time": "2023-12-30T08:47:24.501148Z",
     "start_time": "2023-12-30T08:47:24.266282Z"
    }
   },
   "id": "abb4a24885324fed",
   "execution_count": 532
  },
  {
   "cell_type": "markdown",
   "source": [
    "Здесь размерность меньше чем в 1 файле, поэтому можем удалить дублирующиеся колонки"
   ],
   "metadata": {
    "collapsed": false
   },
   "id": "b33a554faeccbd58"
  },
  {
   "cell_type": "code",
   "outputs": [],
   "source": [
    "df = df.drop('Date_of_birth', axis=1)\n",
    "df = df.drop('Weight_on_buy', axis=1)\n",
    "df = df.drop('Weight_on_3.01.17', axis=1)\n",
    "df = df.drop('Weight_report_plus5', axis=1)\n",
    "df = df.drop('Weight_on_4.01.18', axis=1)"
   ],
   "metadata": {
    "collapsed": false,
    "ExecuteTime": {
     "end_time": "2023-12-30T08:47:24.866640Z",
     "start_time": "2023-12-30T08:47:24.479560Z"
    }
   },
   "id": "c4c7ac24e7bc55f4",
   "execution_count": 533
  },
  {
   "cell_type": "code",
   "outputs": [
    {
     "data": {
      "text/plain": "ID                           38\nWeight_in_plus               93\nWeight_in_plus1              79\nWeight_on_3_lact            160\nUnnamed: 11                 126\nWeight_on_lact1_31.12.17    140\nUnnamed: 16                 149\nUnnamed: 21                 116\nUnnamed: 22                  95\nUnnamed: 24                 116\nUnnamed: 25                 153\nUnnamed: 26                 158\nUnnamed: 27                 153\ndtype: int64"
     },
     "execution_count": 535,
     "metadata": {},
     "output_type": "execute_result"
    }
   ],
   "source": [
    "df.isna().sum()"
   ],
   "metadata": {
    "collapsed": false,
    "ExecuteTime": {
     "end_time": "2023-12-30T08:47:25.262028Z",
     "start_time": "2023-12-30T08:47:25.009124Z"
    }
   },
   "id": "e1dbfeb13b3620d4",
   "execution_count": 535
  },
  {
   "cell_type": "code",
   "outputs": [],
   "source": [
    "df['ID'] = df['ID'].str.split('/').str.get(0)"
   ],
   "metadata": {
    "collapsed": false,
    "ExecuteTime": {
     "end_time": "2023-12-30T08:47:25.491645Z",
     "start_time": "2023-12-30T08:47:25.243854Z"
    }
   },
   "id": "46ed51c00dbde9f2",
   "execution_count": 536
  },
  {
   "cell_type": "code",
   "outputs": [],
   "source": [
    "random_values = np.random.randint(1, 100, df['ID'].isnull().sum())\n",
    "\n",
    "# Заполнение NaN случайными значениями\n",
    "df.loc[df['ID'].isnull(), 'ID'] = random_values"
   ],
   "metadata": {
    "collapsed": false,
    "ExecuteTime": {
     "end_time": "2023-12-30T08:47:25.883863Z",
     "start_time": "2023-12-30T08:47:25.468907Z"
    }
   },
   "id": "5d7831120ccaf24",
   "execution_count": 537
  },
  {
   "cell_type": "code",
   "outputs": [
    {
     "data": {
      "text/plain": "1        9\n2        3\n3        1\n4      0.2\n5        2\n      ... \n214    NaN\n215    NaN\n216    NaN\n217    NaN\n218    NaN\nName: Weight_in_plus, Length: 216, dtype: object"
     },
     "execution_count": 538,
     "metadata": {},
     "output_type": "execute_result"
    }
   ],
   "source": [
    "df.Weight_in_plus.head(300)"
   ],
   "metadata": {
    "collapsed": false,
    "ExecuteTime": {
     "end_time": "2023-12-30T08:47:26.010968Z",
     "start_time": "2023-12-30T08:47:25.836040Z"
    }
   },
   "id": "c3baa17e4a0b2877",
   "execution_count": 538
  },
  {
   "cell_type": "code",
   "outputs": [],
   "source": [
    "df['New_ID'] = df['ID'].combine_first(df['Unnamed: 24'])\n",
    "\n",
    "# Unnamed: 24 похожа на колонку с уникальными идентификаторами животных, но вытащить это оттуда не представляется возможным, остальные колонки тоже не имеют никакой информативности, возьмем только полезные"
   ],
   "metadata": {
    "collapsed": false,
    "ExecuteTime": {
     "end_time": "2023-12-30T08:47:26.223315Z",
     "start_time": "2023-12-30T08:47:25.988188Z"
    }
   },
   "id": "7f07cdf1f98c6330",
   "execution_count": 539
  },
  {
   "cell_type": "code",
   "outputs": [
    {
     "data": {
      "text/plain": "1               2\n2              86\n3               4\n4              40\n5              77\n          ...    \n214             6\n215            21\n216           53А\n217    54А безрог\n218           55А\nName: New_ID, Length: 216, dtype: object"
     },
     "execution_count": 540,
     "metadata": {},
     "output_type": "execute_result"
    }
   ],
   "source": [
    "df.New_ID"
   ],
   "metadata": {
    "collapsed": false
   },
   "id": "1ab81944520725ce",
   "execution_count": 540
  },
  {
   "cell_type": "code",
   "outputs": [],
   "source": [
    "new_df = df[['ID', 'Weight_in_plus', 'Weight_in_plus1']].copy()\n",
    "new_df"
   ],
   "metadata": {
    "collapsed": false
   },
   "id": "ecc7d24678d225fc",
   "execution_count": null
  },
  {
   "cell_type": "code",
   "outputs": [
    {
     "data": {
      "text/plain": "1        9\n2        3\n3        1\n4      0.2\n5        2\n      ... \n214    NaN\n215    NaN\n216    NaN\n217    NaN\n218    NaN\nName: Weight_in_plus, Length: 216, dtype: object"
     },
     "execution_count": 542,
     "metadata": {},
     "output_type": "execute_result"
    }
   ],
   "source": [
    "new_df.Weight_in_plus"
   ],
   "metadata": {
    "collapsed": false,
    "ExecuteTime": {
     "end_time": "2023-12-30T08:47:26.789664Z",
     "start_time": "2023-12-30T08:47:26.601383Z"
    }
   },
   "id": "8153d7d179814b27",
   "execution_count": 542
  },
  {
   "cell_type": "code",
   "outputs": [],
   "source": [
    "new_df.loc[116:, 'Weight_in_plus'] = np.nan"
   ],
   "metadata": {
    "collapsed": false,
    "ExecuteTime": {
     "end_time": "2023-12-30T08:47:27.047403Z",
     "start_time": "2023-12-30T08:47:26.771301Z"
    }
   },
   "id": "5907e3d32c7a507a",
   "execution_count": 543
  },
  {
   "cell_type": "code",
   "outputs": [
    {
     "name": "stdout",
     "output_type": "stream",
     "text": [
      "-2.8637168141592926\n",
      "-2.0\n",
      "0    2\n",
      "Name: Weight_in_plus, dtype: object\n"
     ]
    }
   ],
   "source": [
    "print(new_df['Weight_in_plus'].mean())\n",
    "print(new_df['Weight_in_plus'].median())\n",
    "print(new_df['Weight_in_plus'].mode())"
   ],
   "metadata": {
    "collapsed": false,
    "ExecuteTime": {
     "end_time": "2023-12-30T08:47:27.243635Z",
     "start_time": "2023-12-30T08:47:27.024656Z"
    }
   },
   "id": "8d96662d44dd0354",
   "execution_count": 544
  },
  {
   "cell_type": "code",
   "outputs": [],
   "source": [
    "median_weight = new_df['Weight_in_plus'].median()\n",
    "new_df['Weight_in_plus'].fillna(median_weight, inplace=True)"
   ],
   "metadata": {
    "collapsed": false,
    "ExecuteTime": {
     "end_time": "2023-12-30T08:47:27.527542Z",
     "start_time": "2023-12-30T08:47:27.218568Z"
    }
   },
   "id": "5d86a80f54dca7d3",
   "execution_count": 545
  },
  {
   "cell_type": "code",
   "outputs": [
    {
     "data": {
      "text/plain": "1      6.35\n2      10.3\n3         1\n4       8.1\n5       9.8\n       ... \n214     NaN\n215     NaN\n216     NaN\n217     NaN\n218     NaN\nName: Weight_in_plus1, Length: 216, dtype: object"
     },
     "execution_count": 546,
     "metadata": {},
     "output_type": "execute_result"
    }
   ],
   "source": [
    "new_df.Weight_in_plus1"
   ],
   "metadata": {
    "collapsed": false,
    "ExecuteTime": {
     "end_time": "2023-12-30T08:47:27.702123Z",
     "start_time": "2023-12-30T08:47:27.502939Z"
    }
   },
   "id": "5c36c9c34de1e604",
   "execution_count": 546
  },
  {
   "cell_type": "code",
   "outputs": [],
   "source": [
    "new_df.loc[116:, 'Weight_in_plus1'] = np.nan"
   ],
   "metadata": {
    "collapsed": false,
    "ExecuteTime": {
     "end_time": "2023-12-30T08:47:27.939692Z",
     "start_time": "2023-12-30T08:47:27.682516Z"
    }
   },
   "id": "65e973e41ed84dc3",
   "execution_count": 547
  },
  {
   "cell_type": "code",
   "outputs": [
    {
     "name": "stdout",
     "output_type": "stream",
     "text": [
      "14.23849557522124\n",
      "15.049999999999997\n"
     ]
    }
   ],
   "source": [
    "print(new_df['Weight_in_plus1'].mean())\n",
    "print(new_df['Weight_in_plus1'].median())"
   ],
   "metadata": {
    "collapsed": false,
    "ExecuteTime": {
     "end_time": "2023-12-30T08:47:28.139997Z",
     "start_time": "2023-12-30T08:47:27.922821Z"
    }
   },
   "id": "2f58ad79a4d1abb4",
   "execution_count": 548
  },
  {
   "cell_type": "code",
   "outputs": [],
   "source": [
    "median_weight = new_df['Weight_in_plus1'].median()\n",
    "new_df['Weight_in_plus1'].fillna(median_weight, inplace=True)"
   ],
   "metadata": {
    "collapsed": false,
    "ExecuteTime": {
     "end_time": "2023-12-30T08:47:28.318131Z",
     "start_time": "2023-12-30T08:47:28.098974Z"
    }
   },
   "id": "fcb3ea2f1460e399",
   "execution_count": 549
  },
  {
   "cell_type": "code",
   "outputs": [
    {
     "data": {
      "text/plain": "0"
     },
     "execution_count": 551,
     "metadata": {},
     "output_type": "execute_result"
    }
   ],
   "source": [
    "new_df.isna().sum().sum()"
   ],
   "metadata": {
    "collapsed": false,
    "ExecuteTime": {
     "end_time": "2023-12-30T08:47:28.703522Z",
     "start_time": "2023-12-30T08:47:28.460758Z"
    }
   },
   "id": "eb3973b900280c50",
   "execution_count": 551
  },
  {
   "cell_type": "code",
   "execution_count": 552,
   "outputs": [],
   "source": [
    "new_df.to_csv('Clean_data/File_3.csv')"
   ],
   "metadata": {
    "collapsed": false,
    "ExecuteTime": {
     "end_time": "2023-12-30T08:47:28.922200Z",
     "start_time": "2023-12-30T08:47:28.663094Z"
    }
   },
   "id": "394391f2af6d7e67"
  },
  {
   "cell_type": "markdown",
   "source": [
    "Третий файл завершен\n",
    "______"
   ],
   "metadata": {
    "collapsed": false
   },
   "id": "7a9b899b1bc07603"
  },
  {
   "cell_type": "code",
   "execution_count": 19,
   "outputs": [],
   "source": [
    "df = df.rename(columns={'бирка': 'ID'})\n",
    "df = df.rename(columns={'пр. ухо': 'Right_ear'})\n",
    "df = df.rename(columns={'лев. ухо ': 'Left_ear'})\n",
    "df = df.rename(columns={'дата': 'Date_of_copulation'})\n",
    "df = df.rename(columns={'№ козла': 'Number_male'})\n",
    "df = df.rename(columns={'дата.1': 'Date_1'})\n",
    "df = df.rename(columns={'№ козла.1': 'Number_male1'})\n",
    "df = df.rename(columns={'пол': 'Sex_progeny'})\n",
    "df = df.rename(columns={'инд.№': 'ID_male'})\n",
    "df = df.rename(columns={'ж.м. (кг)': 'Weight_of_progeny'})\n",
    "df = df.drop('Unnamed: 0', axis=1)"
   ],
   "metadata": {
    "collapsed": false,
    "ExecuteTime": {
     "end_time": "2023-12-31T08:47:54.648765Z",
     "start_time": "2023-12-31T08:47:54.491913Z"
    }
   },
   "id": "481d42ff2e93a049"
  },
  {
   "cell_type": "code",
   "execution_count": 21,
   "outputs": [
    {
     "data": {
      "text/plain": "  Right_ear Unnamed: 3  лев. ухо  Unnamed: 5 Unnamed: 6   Date_of_copulation  \\\n0       NaN        NaN       NaN         NaN        NaN                  NaN   \n1       NaN        NaN       NaN      2019.0       К933             02.08.21   \n2       NaN        NaN       NaN      2019.0       К933             02.08.21   \n3       NaN        NaN       NaN      2020.0        К15             09.08.21   \n4       NaN        NaN       NaN      2020.0        К15             09.08.21   \n5       NaN        NaN       NaN         NaN        NaN                  NaN   \n6       NaN        NaN       NaN      2019.0       К934  2021-09-06 00:00:00   \n7       NaN        NaN       NaN      2019.0       К934  2021-09-06 00:00:00   \n8       NaN        NaN       NaN      2019.0       К934  2021-09-06 00:00:00   \n9       NaN        NaN       NaN      2019.0       К934  2021-08-25 00:00:00   \n\n  Number_male Date_1 Number_male1          Unnamed: 11 Sex_progeny ID_male  \\\n0         NaN    NaN          NaN                  NaN         NaN     NaN   \n1        К933    NaN          NaN             02.01.22           м     К21   \n2        К933    NaN          NaN             02.01.22           ж   22001   \n3         К15    NaN          NaN             06.01.22           м     К28   \n4         К15    NaN          NaN             06.01.22           м     К29   \n5         NaN    NaN          NaN       Списываем козу         NaN     NaN   \n6        К934    NaN          NaN  2022-02-06 00:00:00           м    К261   \n7        К934    NaN          NaN  2022-02-06 00:00:00           м    К262   \n8        К934    NaN          NaN  2022-02-06 00:00:00           м    К263   \n9        К934    NaN          NaN  2022-01-25 00:00:00           м    К227   \n\n   Weight_of_progeny Unnamed: 15 Unnamed: 16 Unnamed: 17  \n0                NaN         NaN         NaN         NaN  \n1               3.35         NaN         NaN         NaN  \n2               3.15         NaN         NaN         NaN  \n3               4.10         NaN         NaN         NaN  \n4               2.70         NaN         NaN         NaN  \n5                NaN         NaN         NaN         NaN  \n6               3.70         NaN         NaN         NaN  \n7               3.20         NaN         NaN         NaN  \n8               3.00         NaN         NaN         NaN  \n9               3.30         NaN         NaN         NaN  ",
      "text/html": "<div>\n<style scoped>\n    .dataframe tbody tr th:only-of-type {\n        vertical-align: middle;\n    }\n\n    .dataframe tbody tr th {\n        vertical-align: top;\n    }\n\n    .dataframe thead th {\n        text-align: right;\n    }\n</style>\n<table border=\"1\" class=\"dataframe\">\n  <thead>\n    <tr style=\"text-align: right;\">\n      <th></th>\n      <th>Right_ear</th>\n      <th>Unnamed: 3</th>\n      <th>лев. ухо</th>\n      <th>Unnamed: 5</th>\n      <th>Unnamed: 6</th>\n      <th>Date_of_copulation</th>\n      <th>Number_male</th>\n      <th>Date_1</th>\n      <th>Number_male1</th>\n      <th>Unnamed: 11</th>\n      <th>Sex_progeny</th>\n      <th>ID_male</th>\n      <th>Weight_of_progeny</th>\n      <th>Unnamed: 15</th>\n      <th>Unnamed: 16</th>\n      <th>Unnamed: 17</th>\n    </tr>\n  </thead>\n  <tbody>\n    <tr>\n      <th>0</th>\n      <td>NaN</td>\n      <td>NaN</td>\n      <td>NaN</td>\n      <td>NaN</td>\n      <td>NaN</td>\n      <td>NaN</td>\n      <td>NaN</td>\n      <td>NaN</td>\n      <td>NaN</td>\n      <td>NaN</td>\n      <td>NaN</td>\n      <td>NaN</td>\n      <td>NaN</td>\n      <td>NaN</td>\n      <td>NaN</td>\n      <td>NaN</td>\n    </tr>\n    <tr>\n      <th>1</th>\n      <td>NaN</td>\n      <td>NaN</td>\n      <td>NaN</td>\n      <td>2019.0</td>\n      <td>К933</td>\n      <td>02.08.21</td>\n      <td>К933</td>\n      <td>NaN</td>\n      <td>NaN</td>\n      <td>02.01.22</td>\n      <td>м</td>\n      <td>К21</td>\n      <td>3.35</td>\n      <td>NaN</td>\n      <td>NaN</td>\n      <td>NaN</td>\n    </tr>\n    <tr>\n      <th>2</th>\n      <td>NaN</td>\n      <td>NaN</td>\n      <td>NaN</td>\n      <td>2019.0</td>\n      <td>К933</td>\n      <td>02.08.21</td>\n      <td>К933</td>\n      <td>NaN</td>\n      <td>NaN</td>\n      <td>02.01.22</td>\n      <td>ж</td>\n      <td>22001</td>\n      <td>3.15</td>\n      <td>NaN</td>\n      <td>NaN</td>\n      <td>NaN</td>\n    </tr>\n    <tr>\n      <th>3</th>\n      <td>NaN</td>\n      <td>NaN</td>\n      <td>NaN</td>\n      <td>2020.0</td>\n      <td>К15</td>\n      <td>09.08.21</td>\n      <td>К15</td>\n      <td>NaN</td>\n      <td>NaN</td>\n      <td>06.01.22</td>\n      <td>м</td>\n      <td>К28</td>\n      <td>4.10</td>\n      <td>NaN</td>\n      <td>NaN</td>\n      <td>NaN</td>\n    </tr>\n    <tr>\n      <th>4</th>\n      <td>NaN</td>\n      <td>NaN</td>\n      <td>NaN</td>\n      <td>2020.0</td>\n      <td>К15</td>\n      <td>09.08.21</td>\n      <td>К15</td>\n      <td>NaN</td>\n      <td>NaN</td>\n      <td>06.01.22</td>\n      <td>м</td>\n      <td>К29</td>\n      <td>2.70</td>\n      <td>NaN</td>\n      <td>NaN</td>\n      <td>NaN</td>\n    </tr>\n    <tr>\n      <th>5</th>\n      <td>NaN</td>\n      <td>NaN</td>\n      <td>NaN</td>\n      <td>NaN</td>\n      <td>NaN</td>\n      <td>NaN</td>\n      <td>NaN</td>\n      <td>NaN</td>\n      <td>NaN</td>\n      <td>Списываем козу</td>\n      <td>NaN</td>\n      <td>NaN</td>\n      <td>NaN</td>\n      <td>NaN</td>\n      <td>NaN</td>\n      <td>NaN</td>\n    </tr>\n    <tr>\n      <th>6</th>\n      <td>NaN</td>\n      <td>NaN</td>\n      <td>NaN</td>\n      <td>2019.0</td>\n      <td>К934</td>\n      <td>2021-09-06 00:00:00</td>\n      <td>К934</td>\n      <td>NaN</td>\n      <td>NaN</td>\n      <td>2022-02-06 00:00:00</td>\n      <td>м</td>\n      <td>К261</td>\n      <td>3.70</td>\n      <td>NaN</td>\n      <td>NaN</td>\n      <td>NaN</td>\n    </tr>\n    <tr>\n      <th>7</th>\n      <td>NaN</td>\n      <td>NaN</td>\n      <td>NaN</td>\n      <td>2019.0</td>\n      <td>К934</td>\n      <td>2021-09-06 00:00:00</td>\n      <td>К934</td>\n      <td>NaN</td>\n      <td>NaN</td>\n      <td>2022-02-06 00:00:00</td>\n      <td>м</td>\n      <td>К262</td>\n      <td>3.20</td>\n      <td>NaN</td>\n      <td>NaN</td>\n      <td>NaN</td>\n    </tr>\n    <tr>\n      <th>8</th>\n      <td>NaN</td>\n      <td>NaN</td>\n      <td>NaN</td>\n      <td>2019.0</td>\n      <td>К934</td>\n      <td>2021-09-06 00:00:00</td>\n      <td>К934</td>\n      <td>NaN</td>\n      <td>NaN</td>\n      <td>2022-02-06 00:00:00</td>\n      <td>м</td>\n      <td>К263</td>\n      <td>3.00</td>\n      <td>NaN</td>\n      <td>NaN</td>\n      <td>NaN</td>\n    </tr>\n    <tr>\n      <th>9</th>\n      <td>NaN</td>\n      <td>NaN</td>\n      <td>NaN</td>\n      <td>2019.0</td>\n      <td>К934</td>\n      <td>2021-08-25 00:00:00</td>\n      <td>К934</td>\n      <td>NaN</td>\n      <td>NaN</td>\n      <td>2022-01-25 00:00:00</td>\n      <td>м</td>\n      <td>К227</td>\n      <td>3.30</td>\n      <td>NaN</td>\n      <td>NaN</td>\n      <td>NaN</td>\n    </tr>\n  </tbody>\n</table>\n</div>"
     },
     "execution_count": 21,
     "metadata": {},
     "output_type": "execute_result"
    }
   ],
   "source": [
    "df = df.drop('ID', axis=1)\n",
    "df.head(10)"
   ],
   "metadata": {
    "collapsed": false,
    "ExecuteTime": {
     "end_time": "2023-12-31T08:47:58.809185Z",
     "start_time": "2023-12-31T08:47:58.561603Z"
    }
   },
   "id": "be4831ce4266354a"
  },
  {
   "cell_type": "code",
   "outputs": [],
   "source": [
    "missing_threshold = 0.75 * len(df)\n",
    "columns_to_drop = df.columns[df.isna().sum() > missing_threshold]\n",
    "\n",
    "# Удаление найденных колонок из датафрейма\n",
    "df.drop(columns=columns_to_drop, inplace=True)\n",
    "\n",
    "df.head()"
   ],
   "metadata": {
    "collapsed": false
   },
   "id": "dc935af8c08e63f3",
   "execution_count": null
  },
  {
   "cell_type": "code",
   "outputs": [],
   "source": [
    "df = df[['ID', 'Unnamed: 6', 'Number_male', 'ID_male', 'Weight_of_progeny', 'Sex_progeny']].copy()\n",
    "df"
   ],
   "metadata": {
    "collapsed": false
   },
   "id": "5ccb8b5c78554c0d",
   "execution_count": null
  },
  {
   "cell_type": "code",
   "outputs": [],
   "source": [
    "df = df.drop(0)\n",
    "\n",
    "# 3 Столбца у нас это идентификатор самцов, возьмем тот, где меньше пропусков изначально и заполним модой пропуски"
   ],
   "metadata": {
    "collapsed": false,
    "ExecuteTime": {
     "end_time": "2023-12-30T08:47:31.041890Z",
     "start_time": "2023-12-30T08:47:30.763354Z"
    }
   },
   "id": "80a6048f47634df8",
   "execution_count": 560
  },
  {
   "cell_type": "code",
   "outputs": [
    {
     "data": {
      "text/plain": "ID                     1\nUnnamed: 6            99\nNumber_male          100\nID_male              142\nWeight_of_progeny    142\nSex_progeny          133\ndtype: int64"
     },
     "execution_count": 561,
     "metadata": {},
     "output_type": "execute_result"
    }
   ],
   "source": [
    "df.isna().sum()"
   ],
   "metadata": {
    "collapsed": false,
    "ExecuteTime": {
     "end_time": "2023-12-30T08:47:31.398718Z",
     "start_time": "2023-12-30T08:47:31.024594Z"
    }
   },
   "id": "18b167c368ba23d4",
   "execution_count": 561
  },
  {
   "cell_type": "code",
   "outputs": [],
   "source": [
    "df = df[['ID', 'Number_male', 'Weight_of_progeny', 'Sex_progeny']].copy()\n",
    "df"
   ],
   "metadata": {
    "collapsed": false
   },
   "id": "bed69199839118bb",
   "execution_count": null
  },
  {
   "cell_type": "code",
   "outputs": [],
   "source": [
    "df['ID'] = df['ID'].str.split('/').str.get(0)\n",
    "\n",
    "random_values = np.random.randint(1, 100, df['ID'].isnull().sum())\n",
    "\n",
    "# Заполнение NaN случайными значениями\n",
    "df.loc[df['ID'].isnull(), 'ID'] = random_values"
   ],
   "metadata": {
    "collapsed": false,
    "ExecuteTime": {
     "end_time": "2023-12-30T08:47:31.935206Z",
     "start_time": "2023-12-30T08:47:31.572458Z"
    }
   },
   "id": "85379c7dee619c88",
   "execution_count": 563
  },
  {
   "cell_type": "code",
   "outputs": [
    {
     "data": {
      "text/plain": "1      К933\n2      К933\n3       К15\n4       К15\n5       NaN\n       ... \n521    СГ23\n522    СГ23\n523    СГ23\n524     246\n525     246\nName: Number_male, Length: 525, dtype: object"
     },
     "execution_count": 564,
     "metadata": {},
     "output_type": "execute_result"
    }
   ],
   "source": [
    "df.Number_male"
   ],
   "metadata": {
    "collapsed": false,
    "ExecuteTime": {
     "end_time": "2023-12-30T08:47:32.169099Z",
     "start_time": "2023-12-30T08:47:31.912022Z"
    }
   },
   "id": "334cac15ec329bd5",
   "execution_count": 564
  },
  {
   "cell_type": "code",
   "outputs": [],
   "source": [
    "most_common_value = df['Number_male'].mode()[0]  # Получаем самое популярное значение\n",
    "df['Number_male'].fillna(most_common_value, inplace=True)  # Заполняем пропуски этим значением"
   ],
   "metadata": {
    "collapsed": false,
    "ExecuteTime": {
     "end_time": "2023-12-30T08:47:32.478939Z",
     "start_time": "2023-12-30T08:47:32.146551Z"
    }
   },
   "id": "b809cd4588b17d26",
   "execution_count": 565
  },
  {
   "cell_type": "code",
   "outputs": [
    {
     "name": "stdout",
     "output_type": "stream",
     "text": [
      "<class 'pandas.core.frame.DataFrame'>\n",
      "RangeIndex: 525 entries, 1 to 525\n",
      "Data columns (total 4 columns):\n",
      " #   Column             Non-Null Count  Dtype  \n",
      "---  ------             --------------  -----  \n",
      " 0   ID                 525 non-null    object \n",
      " 1   Number_male        525 non-null    object \n",
      " 2   Weight_of_progeny  383 non-null    float64\n",
      " 3   Sex_progeny        392 non-null    object \n",
      "dtypes: float64(1), object(3)\n",
      "memory usage: 16.5+ KB\n"
     ]
    }
   ],
   "source": [
    "df.info()"
   ],
   "metadata": {
    "collapsed": false,
    "ExecuteTime": {
     "end_time": "2023-12-30T08:47:32.655095Z",
     "start_time": "2023-12-30T08:47:32.455948Z"
    }
   },
   "id": "3aa4f9e27e77578d",
   "execution_count": 566
  },
  {
   "cell_type": "code",
   "outputs": [
    {
     "name": "stdout",
     "output_type": "stream",
     "text": [
      "2.8018276762402095\n",
      "2.7\n"
     ]
    }
   ],
   "source": [
    "print(df['Weight_of_progeny'].mean())\n",
    "print(df['Weight_of_progeny'].median())"
   ],
   "metadata": {
    "collapsed": false,
    "ExecuteTime": {
     "end_time": "2023-12-30T08:47:32.893881Z",
     "start_time": "2023-12-30T08:47:32.631134Z"
    }
   },
   "id": "b3599f657cb849c1",
   "execution_count": 567
  },
  {
   "cell_type": "code",
   "outputs": [],
   "source": [
    "mean_weight = df['Weight_of_progeny'].mean()\n",
    "df['Weight_of_progeny'].fillna(mean_weight, inplace=True)"
   ],
   "metadata": {
    "collapsed": false,
    "ExecuteTime": {
     "end_time": "2023-12-30T08:47:33.045957Z",
     "start_time": "2023-12-30T08:47:32.870783Z"
    }
   },
   "id": "266078f77589ed53",
   "execution_count": 568
  },
  {
   "cell_type": "code",
   "outputs": [
    {
     "name": "stdout",
     "output_type": "stream",
     "text": [
      "<class 'pandas.core.frame.DataFrame'>\n",
      "RangeIndex: 525 entries, 1 to 525\n",
      "Data columns (total 4 columns):\n",
      " #   Column             Non-Null Count  Dtype  \n",
      "---  ------             --------------  -----  \n",
      " 0   ID                 525 non-null    object \n",
      " 1   Number_male        525 non-null    object \n",
      " 2   Weight_of_progeny  525 non-null    float64\n",
      " 3   Sex_progeny        392 non-null    object \n",
      "dtypes: float64(1), object(3)\n",
      "memory usage: 16.5+ KB\n"
     ]
    }
   ],
   "source": [
    "df.info()"
   ],
   "metadata": {
    "collapsed": false,
    "ExecuteTime": {
     "end_time": "2023-12-30T08:47:33.311059Z",
     "start_time": "2023-12-30T08:47:33.028926Z"
    }
   },
   "id": "3ce3648294404ccd",
   "execution_count": 569
  },
  {
   "cell_type": "code",
   "outputs": [
    {
     "data": {
      "text/plain": "'м'"
     },
     "execution_count": 570,
     "metadata": {},
     "output_type": "execute_result"
    }
   ],
   "source": [
    "most_common_value = df['Sex_progeny'].mode()[0]  # Получаем самое популярное значение\n",
    "most_common_value"
   ],
   "metadata": {
    "collapsed": false,
    "ExecuteTime": {
     "end_time": "2023-12-30T08:47:33.468415Z",
     "start_time": "2023-12-30T08:47:33.292764Z"
    }
   },
   "id": "cb83cf32ba874272",
   "execution_count": 570
  },
  {
   "cell_type": "code",
   "outputs": [
    {
     "name": "stdout",
     "output_type": "stream",
     "text": [
      "Процент пропусков в столбце 'Sex_progeny': 25.33%\n"
     ]
    }
   ],
   "source": [
    "total_rows = len(df['Sex_progeny'])\n",
    "missing_values_count = df['Sex_progeny'].isna().sum()\n",
    "\n",
    "percentage_missing = (missing_values_count / total_rows) * 100\n",
    "print(f\"Процент пропусков в столбце 'Sex_progeny': {percentage_missing:.2f}%\")"
   ],
   "metadata": {
    "collapsed": false,
    "ExecuteTime": {
     "end_time": "2023-12-30T08:47:33.702167Z",
     "start_time": "2023-12-30T08:47:33.445132Z"
    }
   },
   "id": "d35fdd1abeb78611",
   "execution_count": 571
  },
  {
   "cell_type": "code",
   "outputs": [],
   "source": [
    "df['Sex_progeny'].fillna(most_common_value, inplace=True)  # Заполняем пропуски этим значением"
   ],
   "metadata": {
    "collapsed": false,
    "ExecuteTime": {
     "end_time": "2023-12-30T08:47:33.871341Z",
     "start_time": "2023-12-30T08:47:33.678927Z"
    }
   },
   "id": "feca3591a16ea7da",
   "execution_count": 572
  },
  {
   "cell_type": "code",
   "outputs": [],
   "source": [
    "mask = ~df['Sex_progeny'].isin(['м', 'ж'])\n",
    "\n",
    "# Заменяем значения, которые не \"м\" и не \"ж\", на \"ж\"\n",
    "df.loc[mask, 'Sex_progeny'] = 'ж'"
   ],
   "metadata": {
    "collapsed": false,
    "ExecuteTime": {
     "end_time": "2023-12-30T08:47:34.112232Z",
     "start_time": "2023-12-30T08:47:33.849232Z"
    }
   },
   "id": "9b8a9c9e5d8e0c07",
   "execution_count": 573
  },
  {
   "cell_type": "code",
   "outputs": [
    {
     "data": {
      "text/plain": "<Figure size 600x400 with 1 Axes>",
      "image/png": "[encoded data removed]"
     },
     "metadata": {},
     "output_type": "display_data"
    }
   ],
   "source": [
    "value_counts = df['Sex_progeny'].value_counts(dropna=False)\n",
    "\n",
    "# Создание круговой диаграммы\n",
    "plt.figure(figsize=(6, 4))\n",
    "value_counts.plot.pie(autopct='%1.1f%%', startangle=90, pctdistance=0.85, explode=[0.05]*len(value_counts))\n",
    "plt.title('Распределение уникальных значений в столбце \"Sex_progeny\"')\n",
    "plt.ylabel('')  # Удаление надписи для оси Y\n",
    "plt.show()"
   ],
   "metadata": {
    "collapsed": false,
    "ExecuteTime": {
     "end_time": "2023-12-30T08:47:34.366199Z",
     "start_time": "2023-12-30T08:47:34.097812Z"
    }
   },
   "id": "854a989cf92ef2c9",
   "execution_count": 574
  },
  {
   "cell_type": "code",
   "outputs": [
    {
     "data": {
      "text/plain": "0"
     },
     "execution_count": 576,
     "metadata": {},
     "output_type": "execute_result"
    }
   ],
   "source": [
    "df.isna().sum().sum()"
   ],
   "metadata": {
    "collapsed": false,
    "ExecuteTime": {
     "end_time": "2023-12-30T08:47:34.726657Z",
     "start_time": "2023-12-30T08:47:34.443706Z"
    }
   },
   "id": "294b3c39f0d8838f",
   "execution_count": 576
  },
  {
   "cell_type": "code",
   "execution_count": 577,
   "outputs": [],
   "source": [
    "df.to_csv('Clean_data/File_4.csv')"
   ],
   "metadata": {
    "collapsed": false,
    "ExecuteTime": {
     "end_time": "2023-12-30T08:47:34.968983Z",
     "start_time": "2023-12-30T08:47:34.706980Z"
    }
   },
   "id": "ccb48e0add76c5a6"
  },
  {
   "cell_type": "markdown",
   "source": [
    "Четвертый файл завершен\n",
    "\n",
    "____________"
   ],
   "metadata": {
    "collapsed": false
   },
   "id": "28451abc740e1f50"
  },
  {
   "cell_type": "code",
   "execution_count": 24,
   "outputs": [],
   "source": [
    "df = df.rename(columns={'бирка': 'ID'})\n",
    "df = df.rename(columns={'пр. ухо': 'Right_ear'})\n",
    "df = df.rename(columns={'лев. ухо': 'Left_ear'})\n",
    "df = df.rename(columns={'дата': 'Date_of_copulation'})\n",
    "df = df.rename(columns={'№ козла': 'Number_male'})\n",
    "df = df.rename(columns={'дата.1': 'Date_1'})\n",
    "df = df.rename(columns={'№ козла.1': 'Number_male1'})\n",
    "df = df.rename(columns={'пол': 'Sex_progeny'})\n",
    "df = df.rename(columns={'инд.№': 'ID_male'})\n",
    "df = df.rename(columns={'ж.м. (кг)': 'Weight_of_progeny'})\n",
    "df = df.drop('Unnamed: 0', axis=1)"
   ],
   "metadata": {
    "collapsed": false,
    "ExecuteTime": {
     "end_time": "2023-12-31T08:49:00.044981Z",
     "start_time": "2023-12-31T08:48:59.884409Z"
    }
   },
   "id": "b81f90956ecf881f"
  },
  {
   "cell_type": "code",
   "outputs": [
    {
     "data": {
      "text/plain": "   Right_ear  Left_ear  Unnamed: 4 Unnamed: 5 Date_of_copulation Number_male  \\\n0        NaN       NaN         NaN        NaN                NaN         NaN   \n1        NaN       NaN      2015.0       СГ23           02.05.18        СГ23   \n2        NaN       NaN      2015.0       СГ23           02.05.18        СГ23   \n3        NaN       NaN      2015.0       СГ23           01.06.18        СГ23   \n4        NaN       NaN      2016.0        246           04.06.18         246   \n5        NaN       NaN      2015.0        246           23.06.18         246   \n6        NaN       NaN      2015.0         75           19.08.18          75   \n7        NaN       NaN      2015.0         75           19.08.18          75   \n8        NaN       NaN      2016.0        246           25.08.18         246   \n9        NaN       NaN      2016.0        246           28.08.18         246   \n\n  Date_1 Number_male1 Unnamed: 10 Sex_progeny ID_male Weight_of_progeny  \\\n0    NaN          NaN         NaN         NaN     NaN               NaN   \n1    NaN          NaN    02.10.18           м    8167              2,91   \n2    NaN          NaN    03.10.18          ж      NaN             1,595   \n3    NaN          NaN    15.09.18         NaN     NaN               NaN   \n4    NaN          NaN    04.11.18           м    8169               4,1   \n5    NaN          NaN    23.11.18           м    8172              2,96   \n6    NaN          NaN    19.01.19           м     К91               3,6   \n7    NaN          NaN    19.01.19           ж    9001               2,6   \n8    NaN          NaN    25.01.19           ж    9002             3,235   \n9    NaN          NaN    28.01.19           м     К92               3,6   \n\n  Unnamed: 14  Unnamed: 15  Unnamed: 16  Unnamed: 17  Unnamed: 18  \n0         NaN          NaN          NaN          NaN          NaN  \n1         NaN          NaN          NaN          NaN          NaN  \n2  мертворожд          NaN          NaN          NaN          NaN  \n3     выкидыш          NaN          NaN          NaN          NaN  \n4         NaN          NaN          NaN          NaN          NaN  \n5         NaN          NaN          NaN          NaN          NaN  \n6         NaN          NaN          NaN          NaN          1.0  \n7         NaN          NaN          NaN          NaN          2.0  \n8         NaN          NaN          NaN          NaN          3.0  \n9         NaN          NaN          NaN          NaN          NaN  ",
      "text/html": "<div>\n<style scoped>\n    .dataframe tbody tr th:only-of-type {\n        vertical-align: middle;\n    }\n\n    .dataframe tbody tr th {\n        vertical-align: top;\n    }\n\n    .dataframe thead th {\n        text-align: right;\n    }\n</style>\n<table border=\"1\" class=\"dataframe\">\n  <thead>\n    <tr style=\"text-align: right;\">\n      <th></th>\n      <th>Right_ear</th>\n      <th>Left_ear</th>\n      <th>Unnamed: 4</th>\n      <th>Unnamed: 5</th>\n      <th>Date_of_copulation</th>\n      <th>Number_male</th>\n      <th>Date_1</th>\n      <th>Number_male1</th>\n      <th>Unnamed: 10</th>\n      <th>Sex_progeny</th>\n      <th>ID_male</th>\n      <th>Weight_of_progeny</th>\n      <th>Unnamed: 14</th>\n      <th>Unnamed: 15</th>\n      <th>Unnamed: 16</th>\n      <th>Unnamed: 17</th>\n      <th>Unnamed: 18</th>\n    </tr>\n  </thead>\n  <tbody>\n    <tr>\n      <th>0</th>\n      <td>NaN</td>\n      <td>NaN</td>\n      <td>NaN</td>\n      <td>NaN</td>\n      <td>NaN</td>\n      <td>NaN</td>\n      <td>NaN</td>\n      <td>NaN</td>\n      <td>NaN</td>\n      <td>NaN</td>\n      <td>NaN</td>\n      <td>NaN</td>\n      <td>NaN</td>\n      <td>NaN</td>\n      <td>NaN</td>\n      <td>NaN</td>\n      <td>NaN</td>\n    </tr>\n    <tr>\n      <th>1</th>\n      <td>NaN</td>\n      <td>NaN</td>\n      <td>2015.0</td>\n      <td>СГ23</td>\n      <td>02.05.18</td>\n      <td>СГ23</td>\n      <td>NaN</td>\n      <td>NaN</td>\n      <td>02.10.18</td>\n      <td>м</td>\n      <td>8167</td>\n      <td>2,91</td>\n      <td>NaN</td>\n      <td>NaN</td>\n      <td>NaN</td>\n      <td>NaN</td>\n      <td>NaN</td>\n    </tr>\n    <tr>\n      <th>2</th>\n      <td>NaN</td>\n      <td>NaN</td>\n      <td>2015.0</td>\n      <td>СГ23</td>\n      <td>02.05.18</td>\n      <td>СГ23</td>\n      <td>NaN</td>\n      <td>NaN</td>\n      <td>03.10.18</td>\n      <td>ж</td>\n      <td>NaN</td>\n      <td>1,595</td>\n      <td>мертворожд</td>\n      <td>NaN</td>\n      <td>NaN</td>\n      <td>NaN</td>\n      <td>NaN</td>\n    </tr>\n    <tr>\n      <th>3</th>\n      <td>NaN</td>\n      <td>NaN</td>\n      <td>2015.0</td>\n      <td>СГ23</td>\n      <td>01.06.18</td>\n      <td>СГ23</td>\n      <td>NaN</td>\n      <td>NaN</td>\n      <td>15.09.18</td>\n      <td>NaN</td>\n      <td>NaN</td>\n      <td>NaN</td>\n      <td>выкидыш</td>\n      <td>NaN</td>\n      <td>NaN</td>\n      <td>NaN</td>\n      <td>NaN</td>\n    </tr>\n    <tr>\n      <th>4</th>\n      <td>NaN</td>\n      <td>NaN</td>\n      <td>2016.0</td>\n      <td>246</td>\n      <td>04.06.18</td>\n      <td>246</td>\n      <td>NaN</td>\n      <td>NaN</td>\n      <td>04.11.18</td>\n      <td>м</td>\n      <td>8169</td>\n      <td>4,1</td>\n      <td>NaN</td>\n      <td>NaN</td>\n      <td>NaN</td>\n      <td>NaN</td>\n      <td>NaN</td>\n    </tr>\n    <tr>\n      <th>5</th>\n      <td>NaN</td>\n      <td>NaN</td>\n      <td>2015.0</td>\n      <td>246</td>\n      <td>23.06.18</td>\n      <td>246</td>\n      <td>NaN</td>\n      <td>NaN</td>\n      <td>23.11.18</td>\n      <td>м</td>\n      <td>8172</td>\n      <td>2,96</td>\n      <td>NaN</td>\n      <td>NaN</td>\n      <td>NaN</td>\n      <td>NaN</td>\n      <td>NaN</td>\n    </tr>\n    <tr>\n      <th>6</th>\n      <td>NaN</td>\n      <td>NaN</td>\n      <td>2015.0</td>\n      <td>75</td>\n      <td>19.08.18</td>\n      <td>75</td>\n      <td>NaN</td>\n      <td>NaN</td>\n      <td>19.01.19</td>\n      <td>м</td>\n      <td>К91</td>\n      <td>3,6</td>\n      <td>NaN</td>\n      <td>NaN</td>\n      <td>NaN</td>\n      <td>NaN</td>\n      <td>1.0</td>\n    </tr>\n    <tr>\n      <th>7</th>\n      <td>NaN</td>\n      <td>NaN</td>\n      <td>2015.0</td>\n      <td>75</td>\n      <td>19.08.18</td>\n      <td>75</td>\n      <td>NaN</td>\n      <td>NaN</td>\n      <td>19.01.19</td>\n      <td>ж</td>\n      <td>9001</td>\n      <td>2,6</td>\n      <td>NaN</td>\n      <td>NaN</td>\n      <td>NaN</td>\n      <td>NaN</td>\n      <td>2.0</td>\n    </tr>\n    <tr>\n      <th>8</th>\n      <td>NaN</td>\n      <td>NaN</td>\n      <td>2016.0</td>\n      <td>246</td>\n      <td>25.08.18</td>\n      <td>246</td>\n      <td>NaN</td>\n      <td>NaN</td>\n      <td>25.01.19</td>\n      <td>ж</td>\n      <td>9002</td>\n      <td>3,235</td>\n      <td>NaN</td>\n      <td>NaN</td>\n      <td>NaN</td>\n      <td>NaN</td>\n      <td>3.0</td>\n    </tr>\n    <tr>\n      <th>9</th>\n      <td>NaN</td>\n      <td>NaN</td>\n      <td>2016.0</td>\n      <td>246</td>\n      <td>28.08.18</td>\n      <td>246</td>\n      <td>NaN</td>\n      <td>NaN</td>\n      <td>28.01.19</td>\n      <td>м</td>\n      <td>К92</td>\n      <td>3,6</td>\n      <td>NaN</td>\n      <td>NaN</td>\n      <td>NaN</td>\n      <td>NaN</td>\n      <td>NaN</td>\n    </tr>\n  </tbody>\n</table>\n</div>"
     },
     "execution_count": 25,
     "metadata": {},
     "output_type": "execute_result"
    }
   ],
   "source": [
    "df = df.drop('ID', axis=1)\n",
    "df.head(10)"
   ],
   "metadata": {
    "collapsed": false,
    "ExecuteTime": {
     "end_time": "2023-12-31T08:49:03.407636Z",
     "start_time": "2023-12-31T08:49:03.194149Z"
    }
   },
   "id": "82ae887b50418c29",
   "execution_count": 25
  },
  {
   "cell_type": "code",
   "outputs": [],
   "source": [
    "missing_threshold = 0.75 * len(df)\n",
    "columns_to_drop = df.columns[df.isna().sum() > missing_threshold]\n",
    "\n",
    "# Удаление найденных колонок из датафрейма\n",
    "df.drop(columns=columns_to_drop, inplace=True)\n",
    "\n",
    "df.head()"
   ],
   "metadata": {
    "collapsed": false
   },
   "id": "91d50368b5b42939",
   "execution_count": null
  },
  {
   "cell_type": "code",
   "outputs": [],
   "source": [
    "df = df.drop(0)"
   ],
   "metadata": {
    "collapsed": false,
    "ExecuteTime": {
     "end_time": "2023-12-30T08:47:36.436530Z",
     "start_time": "2023-12-30T08:47:36.219767Z"
    }
   },
   "id": "ea90547c7d0cea73",
   "execution_count": 583
  },
  {
   "cell_type": "code",
   "outputs": [],
   "source": [
    "df = df[['ID', 'Number_male', 'Weight_of_progeny', 'Sex_progeny']].copy()\n",
    "df"
   ],
   "metadata": {
    "collapsed": false
   },
   "id": "498beb5d8fea8d32",
   "execution_count": null
  },
  {
   "cell_type": "code",
   "outputs": [],
   "source": [
    "df['ID'] = df['ID'].str.split('/').str.get(0)\n",
    "\n",
    "random_values = np.random.randint(1, 100, df['ID'].isnull().sum())\n",
    "\n",
    "# Заполнение NaN случайными значениями\n",
    "df.loc[df['ID'].isnull(), 'ID'] = random_values"
   ],
   "metadata": {
    "collapsed": false,
    "ExecuteTime": {
     "end_time": "2023-12-30T08:47:36.966931Z",
     "start_time": "2023-12-30T08:47:36.760168Z"
    }
   },
   "id": "cc2218c9a0d5b013",
   "execution_count": 585
  },
  {
   "cell_type": "code",
   "outputs": [],
   "source": [
    "most_common_value = df['Number_male'].mode()[0]  # Получаем самое популярное значение\n",
    "df['Number_male'].fillna(most_common_value, inplace=True)"
   ],
   "metadata": {
    "collapsed": false,
    "ExecuteTime": {
     "end_time": "2023-12-30T08:47:37.346525Z",
     "start_time": "2023-12-30T08:47:36.944204Z"
    }
   },
   "id": "ca7b201564504460",
   "execution_count": 586
  },
  {
   "cell_type": "code",
   "outputs": [
    {
     "data": {
      "text/plain": "1       2,91\n2      1,595\n3        NaN\n4        4,1\n5       2,96\n       ...  \n224      NaN\n225      NaN\n226     3,05\n227     2,65\n228      NaN\nName: Weight_of_progeny, Length: 228, dtype: object"
     },
     "execution_count": 587,
     "metadata": {},
     "output_type": "execute_result"
    }
   ],
   "source": [
    "df.Weight_of_progeny"
   ],
   "metadata": {
    "collapsed": false,
    "ExecuteTime": {
     "end_time": "2023-12-30T08:47:37.528355Z",
     "start_time": "2023-12-30T08:47:37.328649Z"
    }
   },
   "id": "633d4a63e27d010c",
   "execution_count": 587
  },
  {
   "cell_type": "code",
   "outputs": [],
   "source": [
    "df['Weight_of_progeny'] = pd.to_numeric(df['Weight_of_progeny'], errors='coerce')"
   ],
   "metadata": {
    "collapsed": false,
    "ExecuteTime": {
     "end_time": "2023-12-30T08:47:37.826943Z",
     "start_time": "2023-12-30T08:47:37.505380Z"
    }
   },
   "id": "8432e6b7e7a3aacb",
   "execution_count": 588
  },
  {
   "cell_type": "code",
   "outputs": [
    {
     "name": "stdout",
     "output_type": "stream",
     "text": [
      "3.0476190476190474\n",
      "3.0\n"
     ]
    }
   ],
   "source": [
    "print(df['Weight_of_progeny'].mean())\n",
    "print(df['Weight_of_progeny'].median())"
   ],
   "metadata": {
    "collapsed": false,
    "ExecuteTime": {
     "end_time": "2023-12-30T08:47:37.993671Z",
     "start_time": "2023-12-30T08:47:37.808786Z"
    }
   },
   "id": "3fb3c7b369206c32",
   "execution_count": 589
  },
  {
   "cell_type": "code",
   "outputs": [],
   "source": [
    "mean_weight = df['Weight_of_progeny'].mean()\n",
    "df['Weight_of_progeny'].fillna(mean_weight, inplace=True)"
   ],
   "metadata": {
    "collapsed": false,
    "ExecuteTime": {
     "end_time": "2023-12-30T08:47:38.180184Z",
     "start_time": "2023-12-30T08:47:37.970598Z"
    }
   },
   "id": "cbe9ad45981f2506",
   "execution_count": 590
  },
  {
   "cell_type": "code",
   "outputs": [
    {
     "data": {
      "text/plain": "'м'"
     },
     "execution_count": 591,
     "metadata": {},
     "output_type": "execute_result"
    }
   ],
   "source": [
    "most_common_value = df['Sex_progeny'].mode()[0]  # Получаем самое популярное значение\n",
    "most_common_value"
   ],
   "metadata": {
    "collapsed": false,
    "ExecuteTime": {
     "end_time": "2023-12-30T08:47:38.366119Z",
     "start_time": "2023-12-30T08:47:38.157255Z"
    }
   },
   "id": "ad86dfe92c69728f",
   "execution_count": 591
  },
  {
   "cell_type": "code",
   "outputs": [
    {
     "name": "stdout",
     "output_type": "stream",
     "text": [
      "Процент пропусков в столбце 'Sex_progeny': 19.30%\n"
     ]
    }
   ],
   "source": [
    "total_rows = len(df['Sex_progeny'])\n",
    "missing_values_count = df['Sex_progeny'].isna().sum()\n",
    "\n",
    "percentage_missing = (missing_values_count / total_rows) * 100\n",
    "print(f\"Процент пропусков в столбце 'Sex_progeny': {percentage_missing:.2f}%\")"
   ],
   "metadata": {
    "collapsed": false,
    "ExecuteTime": {
     "end_time": "2023-12-30T08:47:38.555147Z",
     "start_time": "2023-12-30T08:47:38.343945Z"
    }
   },
   "id": "7bd932fc7bb10420",
   "execution_count": 592
  },
  {
   "cell_type": "code",
   "outputs": [],
   "source": [
    "df['Sex_progeny'].fillna(most_common_value, inplace=True)"
   ],
   "metadata": {
    "collapsed": false,
    "ExecuteTime": {
     "end_time": "2023-12-30T08:47:38.711595Z",
     "start_time": "2023-12-30T08:47:38.531703Z"
    }
   },
   "id": "80f29c710d23761",
   "execution_count": 593
  },
  {
   "cell_type": "code",
   "outputs": [],
   "source": [
    "mask = ~df['Sex_progeny'].isin(['м', 'ж'])\n",
    "\n",
    "# Заменяем значения, которые не \"м\" и не \"ж\", на \"ж\"\n",
    "df.loc[mask, 'Sex_progeny'] = 'ж'"
   ],
   "metadata": {
    "collapsed": false,
    "ExecuteTime": {
     "end_time": "2023-12-30T08:47:38.960843Z",
     "start_time": "2023-12-30T08:47:38.688618Z"
    }
   },
   "id": "5863d3c7674d9e3a",
   "execution_count": 594
  },
  {
   "cell_type": "code",
   "outputs": [
    {
     "data": {
      "text/plain": "<Figure size 600x400 with 1 Axes>",
      "image/png": "[encoded data removed]"
     },
     "metadata": {},
     "output_type": "display_data"
    }
   ],
   "source": [
    "value_counts = df['Sex_progeny'].value_counts(dropna=False)\n",
    "\n",
    "# Создание круговой диаграммы\n",
    "plt.figure(figsize=(6, 4))\n",
    "value_counts.plot.pie(autopct='%1.1f%%', startangle=90, pctdistance=0.85, explode=[0.05]*len(value_counts))\n",
    "plt.title('Распределение уникальных значений в столбце \"Sex_progeny\"')\n",
    "plt.ylabel('')  # Удаление надписи для оси Y\n",
    "plt.show()"
   ],
   "metadata": {
    "collapsed": false,
    "ExecuteTime": {
     "end_time": "2023-12-30T08:47:39.202788Z",
     "start_time": "2023-12-30T08:47:38.950268Z"
    }
   },
   "id": "dc043093a12e9996",
   "execution_count": 595
  },
  {
   "cell_type": "code",
   "outputs": [
    {
     "data": {
      "text/plain": "0"
     },
     "execution_count": 597,
     "metadata": {},
     "output_type": "execute_result"
    }
   ],
   "source": [
    "df.isna().sum().sum()"
   ],
   "metadata": {
    "collapsed": false,
    "ExecuteTime": {
     "end_time": "2023-12-30T08:47:39.580271Z",
     "start_time": "2023-12-30T08:47:39.291444Z"
    }
   },
   "id": "e6418e7ac007f3c7",
   "execution_count": 597
  },
  {
   "cell_type": "code",
   "execution_count": 598,
   "outputs": [],
   "source": [
    "df.to_csv('Clean_data/File_5.csv')"
   ],
   "metadata": {
    "collapsed": false,
    "ExecuteTime": {
     "end_time": "2023-12-30T08:47:39.818229Z",
     "start_time": "2023-12-30T08:47:39.561865Z"
    }
   },
   "id": "5133e5513921142d"
  },
  {
   "cell_type": "markdown",
   "source": [
    "Пятый файл завершен\n",
    "____"
   ],
   "metadata": {
    "collapsed": false
   },
   "id": "9b6dcdbfe2efe1fe"
  },
  {
   "cell_type": "code",
   "execution_count": 28,
   "outputs": [],
   "source": [
    "df = df.rename(columns={'бирка': 'ID'})\n",
    "df = df.rename(columns={'пр. ухо': 'Right_ear'})\n",
    "df = df.rename(columns={'лев. ухо': 'Left_ear'})\n",
    "df = df.rename(columns={'дата': 'Date_of_copulation'})\n",
    "df = df.rename(columns={'№ козла': 'Number_male'})\n",
    "df = df.rename(columns={'дата.1': 'Date_1'})\n",
    "df = df.rename(columns={'№ козла.1': 'Number_male1'})\n",
    "df = df.rename(columns={'пол': 'Sex_progeny'})\n",
    "df = df.rename(columns={'инд.№': 'ID_male'})\n",
    "df = df.rename(columns={'ж.м. (кг)': 'Weight_of_progeny'})\n",
    "df = df.drop('Unnamed: 0', axis=1)"
   ],
   "metadata": {
    "collapsed": false,
    "ExecuteTime": {
     "end_time": "2023-12-31T08:49:52.592452Z",
     "start_time": "2023-12-31T08:49:52.349448Z"
    }
   },
   "id": "6114b015e55f7d78"
  },
  {
   "cell_type": "code",
   "outputs": [
    {
     "data": {
      "text/plain": "   Right_ear  Left_ear  Unnamed: 4 Unnamed: 5   Date_of_copulation  \\\n0        NaN       NaN         NaN        NaN                  NaN   \n1        NaN       NaN      2016.0        246             01.01.19   \n2        NaN       NaN      2017.0       h069  2019-02-08 00:00:00   \n3        NaN       NaN      2016.0        246  2019-05-30 00:00:00   \n4        NaN       NaN      2016.0        246  2019-06-21 00:00:00   \n5        NaN       NaN      2016.0        246  2019-06-21 00:00:00   \n6        NaN       NaN      2015.0         75  2019-07-02 00:00:00   \n7        NaN       NaN      2015.0         75  2019-07-02 00:00:00   \n8        NaN       NaN      2015.0         75  2019-08-21 00:00:00   \n9        NaN       NaN      2016.0        246  2019-08-21 00:00:00   \n\n  Number_male  Date_1  Number_male1 Unnamed: 10 Sex_progeny ID_male  \\\n0         NaN     NaN           NaN         NaN         NaN     NaN   \n1         246     NaN           NaN    20.02.19         NaN     NaN   \n2        h069     NaN           NaN    08.07.19           ж    9070   \n3         246     NaN           NaN    20.07.19         NaN     NaN   \n4         246     NaN           NaN    16.11.19           м   К9107   \n5         246     NaN           NaN    16.11.19           м   К9108   \n6          75     NaN           NaN    26.11.19           ж    9071   \n7          75     NaN           NaN    26.11.19           ж    9072   \n8          75     NaN           NaN         NaN         NaN     NaN   \n9         246     NaN           NaN         NaN         NaN     NaN   \n\n  Weight_of_progeny Unnamed: 14  Unnamed: 15 Unnamed: 16    Unnamed: 17  \\\n0               NaN         NaN          NaN         NaN            NaN   \n1               NaN     выкидыш          NaN         NaN  2 раза в году   \n2               1,2         NaN          NaN         NaN            NaN   \n3               NaN     выкидыш          NaN         NaN   факт не было   \n4              3,05         NaN          NaN         NaN            NaN   \n5              2,65         NaN          NaN         NaN            NaN   \n6              3,05         NaN          NaN         NaN            NaN   \n7               2,6         NaN          NaN         NaN            NaN   \n8               NaN         NaN          NaN         NaN            NaN   \n9               NaN         NaN          NaN         NaN            NaN   \n\n  Unnamed: 18 Unnamed: 19  \n0         NaN         NaN  \n1         NaN         NaN  \n2         NaN         NaN  \n3         NaN         NaN  \n4         NaN         NaN  \n5         NaN         NaN  \n6         NaN         NaN  \n7         NaN         NaN  \n8         NaN         NaN  \n9         NaN         NaN  ",
      "text/html": "<div>\n<style scoped>\n    .dataframe tbody tr th:only-of-type {\n        vertical-align: middle;\n    }\n\n    .dataframe tbody tr th {\n        vertical-align: top;\n    }\n\n    .dataframe thead th {\n        text-align: right;\n    }\n</style>\n<table border=\"1\" class=\"dataframe\">\n  <thead>\n    <tr style=\"text-align: right;\">\n      <th></th>\n      <th>Right_ear</th>\n      <th>Left_ear</th>\n      <th>Unnamed: 4</th>\n      <th>Unnamed: 5</th>\n      <th>Date_of_copulation</th>\n      <th>Number_male</th>\n      <th>Date_1</th>\n      <th>Number_male1</th>\n      <th>Unnamed: 10</th>\n      <th>Sex_progeny</th>\n      <th>ID_male</th>\n      <th>Weight_of_progeny</th>\n      <th>Unnamed: 14</th>\n      <th>Unnamed: 15</th>\n      <th>Unnamed: 16</th>\n      <th>Unnamed: 17</th>\n      <th>Unnamed: 18</th>\n      <th>Unnamed: 19</th>\n    </tr>\n  </thead>\n  <tbody>\n    <tr>\n      <th>0</th>\n      <td>NaN</td>\n      <td>NaN</td>\n      <td>NaN</td>\n      <td>NaN</td>\n      <td>NaN</td>\n      <td>NaN</td>\n      <td>NaN</td>\n      <td>NaN</td>\n      <td>NaN</td>\n      <td>NaN</td>\n      <td>NaN</td>\n      <td>NaN</td>\n      <td>NaN</td>\n      <td>NaN</td>\n      <td>NaN</td>\n      <td>NaN</td>\n      <td>NaN</td>\n      <td>NaN</td>\n    </tr>\n    <tr>\n      <th>1</th>\n      <td>NaN</td>\n      <td>NaN</td>\n      <td>2016.0</td>\n      <td>246</td>\n      <td>01.01.19</td>\n      <td>246</td>\n      <td>NaN</td>\n      <td>NaN</td>\n      <td>20.02.19</td>\n      <td>NaN</td>\n      <td>NaN</td>\n      <td>NaN</td>\n      <td>выкидыш</td>\n      <td>NaN</td>\n      <td>NaN</td>\n      <td>2 раза в году</td>\n      <td>NaN</td>\n      <td>NaN</td>\n    </tr>\n    <tr>\n      <th>2</th>\n      <td>NaN</td>\n      <td>NaN</td>\n      <td>2017.0</td>\n      <td>h069</td>\n      <td>2019-02-08 00:00:00</td>\n      <td>h069</td>\n      <td>NaN</td>\n      <td>NaN</td>\n      <td>08.07.19</td>\n      <td>ж</td>\n      <td>9070</td>\n      <td>1,2</td>\n      <td>NaN</td>\n      <td>NaN</td>\n      <td>NaN</td>\n      <td>NaN</td>\n      <td>NaN</td>\n      <td>NaN</td>\n    </tr>\n    <tr>\n      <th>3</th>\n      <td>NaN</td>\n      <td>NaN</td>\n      <td>2016.0</td>\n      <td>246</td>\n      <td>2019-05-30 00:00:00</td>\n      <td>246</td>\n      <td>NaN</td>\n      <td>NaN</td>\n      <td>20.07.19</td>\n      <td>NaN</td>\n      <td>NaN</td>\n      <td>NaN</td>\n      <td>выкидыш</td>\n      <td>NaN</td>\n      <td>NaN</td>\n      <td>факт не было</td>\n      <td>NaN</td>\n      <td>NaN</td>\n    </tr>\n    <tr>\n      <th>4</th>\n      <td>NaN</td>\n      <td>NaN</td>\n      <td>2016.0</td>\n      <td>246</td>\n      <td>2019-06-21 00:00:00</td>\n      <td>246</td>\n      <td>NaN</td>\n      <td>NaN</td>\n      <td>16.11.19</td>\n      <td>м</td>\n      <td>К9107</td>\n      <td>3,05</td>\n      <td>NaN</td>\n      <td>NaN</td>\n      <td>NaN</td>\n      <td>NaN</td>\n      <td>NaN</td>\n      <td>NaN</td>\n    </tr>\n    <tr>\n      <th>5</th>\n      <td>NaN</td>\n      <td>NaN</td>\n      <td>2016.0</td>\n      <td>246</td>\n      <td>2019-06-21 00:00:00</td>\n      <td>246</td>\n      <td>NaN</td>\n      <td>NaN</td>\n      <td>16.11.19</td>\n      <td>м</td>\n      <td>К9108</td>\n      <td>2,65</td>\n      <td>NaN</td>\n      <td>NaN</td>\n      <td>NaN</td>\n      <td>NaN</td>\n      <td>NaN</td>\n      <td>NaN</td>\n    </tr>\n    <tr>\n      <th>6</th>\n      <td>NaN</td>\n      <td>NaN</td>\n      <td>2015.0</td>\n      <td>75</td>\n      <td>2019-07-02 00:00:00</td>\n      <td>75</td>\n      <td>NaN</td>\n      <td>NaN</td>\n      <td>26.11.19</td>\n      <td>ж</td>\n      <td>9071</td>\n      <td>3,05</td>\n      <td>NaN</td>\n      <td>NaN</td>\n      <td>NaN</td>\n      <td>NaN</td>\n      <td>NaN</td>\n      <td>NaN</td>\n    </tr>\n    <tr>\n      <th>7</th>\n      <td>NaN</td>\n      <td>NaN</td>\n      <td>2015.0</td>\n      <td>75</td>\n      <td>2019-07-02 00:00:00</td>\n      <td>75</td>\n      <td>NaN</td>\n      <td>NaN</td>\n      <td>26.11.19</td>\n      <td>ж</td>\n      <td>9072</td>\n      <td>2,6</td>\n      <td>NaN</td>\n      <td>NaN</td>\n      <td>NaN</td>\n      <td>NaN</td>\n      <td>NaN</td>\n      <td>NaN</td>\n    </tr>\n    <tr>\n      <th>8</th>\n      <td>NaN</td>\n      <td>NaN</td>\n      <td>2015.0</td>\n      <td>75</td>\n      <td>2019-08-21 00:00:00</td>\n      <td>75</td>\n      <td>NaN</td>\n      <td>NaN</td>\n      <td>NaN</td>\n      <td>NaN</td>\n      <td>NaN</td>\n      <td>NaN</td>\n      <td>NaN</td>\n      <td>NaN</td>\n      <td>NaN</td>\n      <td>NaN</td>\n      <td>NaN</td>\n      <td>NaN</td>\n    </tr>\n    <tr>\n      <th>9</th>\n      <td>NaN</td>\n      <td>NaN</td>\n      <td>2016.0</td>\n      <td>246</td>\n      <td>2019-08-21 00:00:00</td>\n      <td>246</td>\n      <td>NaN</td>\n      <td>NaN</td>\n      <td>NaN</td>\n      <td>NaN</td>\n      <td>NaN</td>\n      <td>NaN</td>\n      <td>NaN</td>\n      <td>NaN</td>\n      <td>NaN</td>\n      <td>NaN</td>\n      <td>NaN</td>\n      <td>NaN</td>\n    </tr>\n  </tbody>\n</table>\n</div>"
     },
     "execution_count": 29,
     "metadata": {},
     "output_type": "execute_result"
    }
   ],
   "source": [
    "df = df.drop('ID', axis=1)\n",
    "df.head(10)"
   ],
   "metadata": {
    "collapsed": false,
    "ExecuteTime": {
     "end_time": "2023-12-31T08:49:56.286338Z",
     "start_time": "2023-12-31T08:49:56.057475Z"
    }
   },
   "id": "8524e155c624ddc3",
   "execution_count": 29
  },
  {
   "cell_type": "code",
   "outputs": [],
   "source": [
    "missing_threshold = 0.75 * len(df)\n",
    "columns_to_drop = df.columns[df.isna().sum() > missing_threshold]\n",
    "\n",
    "# Удаление найденных колонок из датафрейма\n",
    "df.drop(columns=columns_to_drop, inplace=True)\n",
    "\n",
    "df.head()"
   ],
   "metadata": {
    "collapsed": false
   },
   "id": "93de3103ba92a376",
   "execution_count": null
  },
  {
   "cell_type": "code",
   "outputs": [],
   "source": [
    "df = df.drop(0)"
   ],
   "metadata": {
    "collapsed": false,
    "ExecuteTime": {
     "end_time": "2023-12-30T08:47:41.298738Z",
     "start_time": "2023-12-30T08:47:41.053327Z"
    }
   },
   "id": "ef22e12fc09f952f",
   "execution_count": 604
  },
  {
   "cell_type": "code",
   "outputs": [],
   "source": [
    "df = df[['ID', 'Number_male', 'ID_male', 'Weight_of_progeny', 'Sex_progeny']].copy()\n",
    "df"
   ],
   "metadata": {
    "collapsed": false
   },
   "id": "114e144d9e64c6db",
   "execution_count": null
  },
  {
   "cell_type": "code",
   "outputs": [],
   "source": [
    "df['ID'] = df['ID'].str.split('/').str.get(0)\n",
    "\n",
    "random_values = np.random.randint(1, 100, df['ID'].isnull().sum())\n",
    "\n",
    "# Заполнение NaN случайными значениями\n",
    "df.loc[df['ID'].isnull(), 'ID'] = random_values"
   ],
   "metadata": {
    "collapsed": false,
    "ExecuteTime": {
     "end_time": "2023-12-30T08:47:41.839640Z",
     "start_time": "2023-12-30T08:47:41.613377Z"
    }
   },
   "id": "916f1cd0dd317ba9",
   "execution_count": 606
  },
  {
   "cell_type": "code",
   "outputs": [],
   "source": [
    "most_common_value = df['Number_male'].mode()[0]  # Получаем самое популярное значение\n",
    "df['Number_male'].fillna(most_common_value, inplace=True)"
   ],
   "metadata": {
    "collapsed": false,
    "ExecuteTime": {
     "end_time": "2023-12-30T08:47:42.188066Z",
     "start_time": "2023-12-30T08:47:41.816944Z"
    }
   },
   "id": "87dad04efc90b147",
   "execution_count": 607
  },
  {
   "cell_type": "code",
   "outputs": [],
   "source": [
    "df['Weight_of_progeny'] = pd.to_numeric(df['Weight_of_progeny'], errors='coerce')"
   ],
   "metadata": {
    "collapsed": false,
    "ExecuteTime": {
     "end_time": "2023-12-30T08:47:42.379311Z",
     "start_time": "2023-12-30T08:47:42.165377Z"
    }
   },
   "id": "8893466aba3cbf32",
   "execution_count": 608
  },
  {
   "cell_type": "code",
   "outputs": [
    {
     "name": "stdout",
     "output_type": "stream",
     "text": [
      "2.7800000000000002\n",
      "2.9\n"
     ]
    }
   ],
   "source": [
    "print(df['Weight_of_progeny'].mean())\n",
    "print(df['Weight_of_progeny'].median())"
   ],
   "metadata": {
    "collapsed": false,
    "ExecuteTime": {
     "end_time": "2023-12-30T08:47:42.659337Z",
     "start_time": "2023-12-30T08:47:42.356164Z"
    }
   },
   "id": "4215718e255625e8",
   "execution_count": 609
  },
  {
   "cell_type": "code",
   "outputs": [],
   "source": [
    "median_weight = df['Weight_of_progeny'].median()\n",
    "df['Weight_of_progeny'].fillna(median_weight, inplace=True)"
   ],
   "metadata": {
    "collapsed": false,
    "ExecuteTime": {
     "end_time": "2023-12-30T08:47:42.813183Z",
     "start_time": "2023-12-30T08:47:42.637188Z"
    }
   },
   "id": "e053b4d1cea5fbb7",
   "execution_count": 610
  },
  {
   "cell_type": "code",
   "outputs": [
    {
     "data": {
      "text/plain": "'м'"
     },
     "execution_count": 611,
     "metadata": {},
     "output_type": "execute_result"
    }
   ],
   "source": [
    "most_common_value = df['Sex_progeny'].mode()[0]  # Получаем самое популярное значение\n",
    "most_common_value"
   ],
   "metadata": {
    "collapsed": false,
    "ExecuteTime": {
     "end_time": "2023-12-30T08:47:43.052873Z",
     "start_time": "2023-12-30T08:47:42.768863Z"
    }
   },
   "id": "38b6490c968099cc",
   "execution_count": 611
  },
  {
   "cell_type": "code",
   "outputs": [
    {
     "name": "stdout",
     "output_type": "stream",
     "text": [
      "Процент пропусков в столбце 'Sex_progeny': 67.19%\n"
     ]
    }
   ],
   "source": [
    "total_rows = len(df['Sex_progeny'])\n",
    "missing_values_count = df['Sex_progeny'].isna().sum()\n",
    "\n",
    "percentage_missing = (missing_values_count / total_rows) * 100\n",
    "print(f\"Процент пропусков в столбце 'Sex_progeny': {percentage_missing:.2f}%\")"
   ],
   "metadata": {
    "collapsed": false,
    "ExecuteTime": {
     "end_time": "2023-12-30T08:47:43.191328Z",
     "start_time": "2023-12-30T08:47:43.019487Z"
    }
   },
   "id": "f2cb319db59b5361",
   "execution_count": 612
  },
  {
   "cell_type": "code",
   "outputs": [],
   "source": [
    "df = df.dropna(subset=['Sex_progeny'])\n",
    "\n",
    "# Слишком много пропусков в потомстве, проще удалить строки с пропусками и использовать данные при объединении, может быть потерянный ID будет совпадать "
   ],
   "metadata": {
    "collapsed": false,
    "ExecuteTime": {
     "end_time": "2023-12-30T08:47:43.438016Z",
     "start_time": "2023-12-30T08:47:43.168981Z"
    }
   },
   "id": "d28eeb7cd1fdd525",
   "execution_count": 613
  },
  {
   "cell_type": "code",
   "outputs": [
    {
     "data": {
      "text/plain": "0"
     },
     "execution_count": 615,
     "metadata": {},
     "output_type": "execute_result"
    }
   ],
   "source": [
    "df.isna().sum().sum()"
   ],
   "metadata": {
    "collapsed": false,
    "ExecuteTime": {
     "end_time": "2023-12-30T08:47:43.793470Z",
     "start_time": "2023-12-30T08:47:43.578217Z"
    }
   },
   "id": "c1e086a0de4e33ab",
   "execution_count": 615
  },
  {
   "cell_type": "code",
   "execution_count": 616,
   "outputs": [],
   "source": [
    "df.to_csv('Clean_data/File_6.csv')"
   ],
   "metadata": {
    "collapsed": false,
    "ExecuteTime": {
     "end_time": "2023-12-30T08:47:44.012099Z",
     "start_time": "2023-12-30T08:47:43.775227Z"
    }
   },
   "id": "53307354d0a31077"
  },
  {
   "cell_type": "markdown",
   "source": [
    "Шестой файл завершен\n",
    "___"
   ],
   "metadata": {
    "collapsed": false
   },
   "id": "8c6e90877d1d6459"
  },
  {
   "cell_type": "code",
   "execution_count": 32,
   "outputs": [],
   "source": [
    "df = df.rename(columns={'бирка': 'ID'})\n",
    "df = df.rename(columns={'пр. ухо': 'Right_ear'})\n",
    "df = df.rename(columns={'лев. ухо': 'Left_ear'})\n",
    "df = df.rename(columns={'дата': 'Date_of_copulation'})\n",
    "df = df.rename(columns={'№ козла': 'Number_male'})\n",
    "df = df.rename(columns={'дата.1': 'Date_1'})\n",
    "df = df.rename(columns={'№ козла.1': 'Number_male1'})\n",
    "df = df.rename(columns={'пол': 'Sex_progeny'})\n",
    "df = df.rename(columns={'инд.№': 'ID_male'})\n",
    "df = df.rename(columns={'ж.м. (кг)': 'Weight_of_progeny'})\n",
    "df = df.drop('Unnamed: 0', axis=1)"
   ],
   "metadata": {
    "collapsed": false,
    "ExecuteTime": {
     "end_time": "2023-12-31T08:50:25.220426Z",
     "start_time": "2023-12-31T08:50:25.050506Z"
    }
   },
   "id": "d4ebe0d70f1a6cef"
  },
  {
   "cell_type": "code",
   "execution_count": 33,
   "outputs": [
    {
     "data": {
      "text/plain": "   Right_ear  Left_ear  Unnamed: 4 Unnamed: 5   Date_of_copulation  \\\n0        NaN       NaN         NaN        NaN                  NaN   \n1        NaN       NaN      2015.0         75  2019-08-21 00:00:00   \n2        NaN       NaN      2015.0         75  2019-08-21 00:00:00   \n3        NaN       NaN      2016.0        246  2019-08-21 00:00:00   \n4        NaN       NaN      2015.0         75  2019-08-21 00:00:00   \n5        NaN       NaN      2015.0         75  2019-08-21 00:00:00   \n6        NaN       NaN      2015.0         75  2019-08-21 00:00:00   \n7        NaN       NaN      2015.0         75  2019-08-21 00:00:00   \n8        NaN       NaN      2015.0         75  2019-08-21 00:00:00   \n9        NaN       NaN      2015.0         75  2019-08-21 00:00:00   \n\n  Number_male Date_1 Number_male1 Unnamed: 10 Sex_progeny ID_male  \\\n0         NaN    NaN          NaN         NaN         NaN     NaN   \n1          75    NaN          NaN    25.01.20           ж    0027   \n2          75    NaN          NaN    25.01.20           м     К47   \n3         246    NaN          NaN    24.02.20           м     К63   \n4          75    NaN          NaN    02.03.20           м     К64   \n5          75    NaN          NaN    27.01.20           м     К54   \n6          75    NaN          NaN    25.01.20           м     К44   \n7          75    NaN          NaN    25.01.20           ж    0026   \n8          75    NaN          NaN    27.01.20           м     К55   \n9          75    NaN          NaN    09.02.20           м     К59   \n\n  Weight_of_progeny  Unnamed: 14 Unnamed: 15 Unnamed: 16 Unnamed: 17  \\\n0               NaN          NaN         NaN         NaN         NaN   \n1               3,2          NaN         NaN         NaN         NaN   \n2               3,4          NaN         NaN         NaN         NaN   \n3               1,2          NaN         NaN         NaN         NaN   \n4               1,6          NaN         NaN         NaN         NaN   \n5              3,55          NaN         NaN         NaN         NaN   \n6               3,0          NaN         NaN         NaN         NaN   \n7              1,95          NaN         NaN         NaN         NaN   \n8               3,5          NaN         NaN         NaN         NaN   \n9              3,55          NaN         NaN         NaN         NaN   \n\n  Unnamed: 18 Unnamed: 19  \n0         NaN         NaN  \n1         NaN         NaN  \n2         NaN         NaN  \n3         NaN         NaN  \n4         NaN         NaN  \n5         NaN         NaN  \n6         NaN         NaN  \n7         NaN         NaN  \n8         NaN         NaN  \n9         NaN         NaN  ",
      "text/html": "<div>\n<style scoped>\n    .dataframe tbody tr th:only-of-type {\n        vertical-align: middle;\n    }\n\n    .dataframe tbody tr th {\n        vertical-align: top;\n    }\n\n    .dataframe thead th {\n        text-align: right;\n    }\n</style>\n<table border=\"1\" class=\"dataframe\">\n  <thead>\n    <tr style=\"text-align: right;\">\n      <th></th>\n      <th>Right_ear</th>\n      <th>Left_ear</th>\n      <th>Unnamed: 4</th>\n      <th>Unnamed: 5</th>\n      <th>Date_of_copulation</th>\n      <th>Number_male</th>\n      <th>Date_1</th>\n      <th>Number_male1</th>\n      <th>Unnamed: 10</th>\n      <th>Sex_progeny</th>\n      <th>ID_male</th>\n      <th>Weight_of_progeny</th>\n      <th>Unnamed: 14</th>\n      <th>Unnamed: 15</th>\n      <th>Unnamed: 16</th>\n      <th>Unnamed: 17</th>\n      <th>Unnamed: 18</th>\n      <th>Unnamed: 19</th>\n    </tr>\n  </thead>\n  <tbody>\n    <tr>\n      <th>0</th>\n      <td>NaN</td>\n      <td>NaN</td>\n      <td>NaN</td>\n      <td>NaN</td>\n      <td>NaN</td>\n      <td>NaN</td>\n      <td>NaN</td>\n      <td>NaN</td>\n      <td>NaN</td>\n      <td>NaN</td>\n      <td>NaN</td>\n      <td>NaN</td>\n      <td>NaN</td>\n      <td>NaN</td>\n      <td>NaN</td>\n      <td>NaN</td>\n      <td>NaN</td>\n      <td>NaN</td>\n    </tr>\n    <tr>\n      <th>1</th>\n      <td>NaN</td>\n      <td>NaN</td>\n      <td>2015.0</td>\n      <td>75</td>\n      <td>2019-08-21 00:00:00</td>\n      <td>75</td>\n      <td>NaN</td>\n      <td>NaN</td>\n      <td>25.01.20</td>\n      <td>ж</td>\n      <td>0027</td>\n      <td>3,2</td>\n      <td>NaN</td>\n      <td>NaN</td>\n      <td>NaN</td>\n      <td>NaN</td>\n      <td>NaN</td>\n      <td>NaN</td>\n    </tr>\n    <tr>\n      <th>2</th>\n      <td>NaN</td>\n      <td>NaN</td>\n      <td>2015.0</td>\n      <td>75</td>\n      <td>2019-08-21 00:00:00</td>\n      <td>75</td>\n      <td>NaN</td>\n      <td>NaN</td>\n      <td>25.01.20</td>\n      <td>м</td>\n      <td>К47</td>\n      <td>3,4</td>\n      <td>NaN</td>\n      <td>NaN</td>\n      <td>NaN</td>\n      <td>NaN</td>\n      <td>NaN</td>\n      <td>NaN</td>\n    </tr>\n    <tr>\n      <th>3</th>\n      <td>NaN</td>\n      <td>NaN</td>\n      <td>2016.0</td>\n      <td>246</td>\n      <td>2019-08-21 00:00:00</td>\n      <td>246</td>\n      <td>NaN</td>\n      <td>NaN</td>\n      <td>24.02.20</td>\n      <td>м</td>\n      <td>К63</td>\n      <td>1,2</td>\n      <td>NaN</td>\n      <td>NaN</td>\n      <td>NaN</td>\n      <td>NaN</td>\n      <td>NaN</td>\n      <td>NaN</td>\n    </tr>\n    <tr>\n      <th>4</th>\n      <td>NaN</td>\n      <td>NaN</td>\n      <td>2015.0</td>\n      <td>75</td>\n      <td>2019-08-21 00:00:00</td>\n      <td>75</td>\n      <td>NaN</td>\n      <td>NaN</td>\n      <td>02.03.20</td>\n      <td>м</td>\n      <td>К64</td>\n      <td>1,6</td>\n      <td>NaN</td>\n      <td>NaN</td>\n      <td>NaN</td>\n      <td>NaN</td>\n      <td>NaN</td>\n      <td>NaN</td>\n    </tr>\n    <tr>\n      <th>5</th>\n      <td>NaN</td>\n      <td>NaN</td>\n      <td>2015.0</td>\n      <td>75</td>\n      <td>2019-08-21 00:00:00</td>\n      <td>75</td>\n      <td>NaN</td>\n      <td>NaN</td>\n      <td>27.01.20</td>\n      <td>м</td>\n      <td>К54</td>\n      <td>3,55</td>\n      <td>NaN</td>\n      <td>NaN</td>\n      <td>NaN</td>\n      <td>NaN</td>\n      <td>NaN</td>\n      <td>NaN</td>\n    </tr>\n    <tr>\n      <th>6</th>\n      <td>NaN</td>\n      <td>NaN</td>\n      <td>2015.0</td>\n      <td>75</td>\n      <td>2019-08-21 00:00:00</td>\n      <td>75</td>\n      <td>NaN</td>\n      <td>NaN</td>\n      <td>25.01.20</td>\n      <td>м</td>\n      <td>К44</td>\n      <td>3,0</td>\n      <td>NaN</td>\n      <td>NaN</td>\n      <td>NaN</td>\n      <td>NaN</td>\n      <td>NaN</td>\n      <td>NaN</td>\n    </tr>\n    <tr>\n      <th>7</th>\n      <td>NaN</td>\n      <td>NaN</td>\n      <td>2015.0</td>\n      <td>75</td>\n      <td>2019-08-21 00:00:00</td>\n      <td>75</td>\n      <td>NaN</td>\n      <td>NaN</td>\n      <td>25.01.20</td>\n      <td>ж</td>\n      <td>0026</td>\n      <td>1,95</td>\n      <td>NaN</td>\n      <td>NaN</td>\n      <td>NaN</td>\n      <td>NaN</td>\n      <td>NaN</td>\n      <td>NaN</td>\n    </tr>\n    <tr>\n      <th>8</th>\n      <td>NaN</td>\n      <td>NaN</td>\n      <td>2015.0</td>\n      <td>75</td>\n      <td>2019-08-21 00:00:00</td>\n      <td>75</td>\n      <td>NaN</td>\n      <td>NaN</td>\n      <td>27.01.20</td>\n      <td>м</td>\n      <td>К55</td>\n      <td>3,5</td>\n      <td>NaN</td>\n      <td>NaN</td>\n      <td>NaN</td>\n      <td>NaN</td>\n      <td>NaN</td>\n      <td>NaN</td>\n    </tr>\n    <tr>\n      <th>9</th>\n      <td>NaN</td>\n      <td>NaN</td>\n      <td>2015.0</td>\n      <td>75</td>\n      <td>2019-08-21 00:00:00</td>\n      <td>75</td>\n      <td>NaN</td>\n      <td>NaN</td>\n      <td>09.02.20</td>\n      <td>м</td>\n      <td>К59</td>\n      <td>3,55</td>\n      <td>NaN</td>\n      <td>NaN</td>\n      <td>NaN</td>\n      <td>NaN</td>\n      <td>NaN</td>\n      <td>NaN</td>\n    </tr>\n  </tbody>\n</table>\n</div>"
     },
     "execution_count": 33,
     "metadata": {},
     "output_type": "execute_result"
    }
   ],
   "source": [
    "df = df.drop('ID', axis=1)\n",
    "df.head(10)"
   ],
   "metadata": {
    "collapsed": false,
    "ExecuteTime": {
     "end_time": "2023-12-31T08:50:28.023557Z",
     "start_time": "2023-12-31T08:50:27.810582Z"
    }
   },
   "id": "eb709a4d8fa544bb"
  },
  {
   "cell_type": "code",
   "outputs": [],
   "source": [
    "df = df.drop(0)"
   ],
   "metadata": {
    "collapsed": false,
    "ExecuteTime": {
     "end_time": "2023-12-30T08:47:45.311173Z",
     "start_time": "2023-12-30T08:47:44.968241Z"
    }
   },
   "id": "fd3eef6613e7db39",
   "execution_count": 621
  },
  {
   "cell_type": "code",
   "outputs": [],
   "source": [
    "missing_threshold = 0.75 * len(df)\n",
    "columns_to_drop = df.columns[df.isna().sum() > missing_threshold]\n",
    "\n",
    "# Удаление найденных колонок из датафрейма\n",
    "df.drop(columns=columns_to_drop, inplace=True)\n",
    "\n",
    "df.head()"
   ],
   "metadata": {
    "collapsed": false
   },
   "id": "86661110dd5ddc38",
   "execution_count": null
  },
  {
   "cell_type": "code",
   "outputs": [
    {
     "data": {
      "text/plain": "ID                     36\nUnnamed: 4            226\nUnnamed: 5             17\nDate_of_copulation     23\nNumber_male           226\nUnnamed: 10            35\nSex_progeny            36\nID_male                35\nWeight_of_progeny      35\ndtype: int64"
     },
     "execution_count": 623,
     "metadata": {},
     "output_type": "execute_result"
    }
   ],
   "source": [
    "df.isna().sum()"
   ],
   "metadata": {
    "collapsed": false,
    "ExecuteTime": {
     "end_time": "2023-12-30T08:47:45.840966Z",
     "start_time": "2023-12-30T08:47:45.508905Z"
    }
   },
   "id": "acb17494da8220dd",
   "execution_count": 623
  },
  {
   "cell_type": "code",
   "outputs": [],
   "source": [
    "df = df.drop('Number_male', axis=1)"
   ],
   "metadata": {
    "collapsed": false,
    "ExecuteTime": {
     "end_time": "2023-12-30T08:47:46.046321Z",
     "start_time": "2023-12-30T08:47:45.823440Z"
    }
   },
   "id": "99c557707137c36f",
   "execution_count": 624
  },
  {
   "cell_type": "code",
   "outputs": [],
   "source": [
    "df = df.rename(columns={'ID_male': 'Number_male'})"
   ],
   "metadata": {
    "collapsed": false,
    "ExecuteTime": {
     "end_time": "2023-12-30T08:47:46.381089Z",
     "start_time": "2023-12-30T08:47:46.023774Z"
    }
   },
   "id": "c287933c24ce6703",
   "execution_count": 625
  },
  {
   "cell_type": "code",
   "outputs": [],
   "source": [
    "df = df[['ID', 'Number_male', 'Weight_of_progeny', 'Sex_progeny']].copy()\n",
    "df"
   ],
   "metadata": {
    "collapsed": false
   },
   "id": "630d52761cc96143",
   "execution_count": null
  },
  {
   "cell_type": "code",
   "outputs": [],
   "source": [
    "df['ID'] = df['ID'].str.split('/').str.get(0)\n",
    "\n",
    "random_values = np.random.randint(1, 100, df['ID'].isnull().sum())\n",
    "\n",
    "# Заполнение NaN случайными значениями\n",
    "df.loc[df['ID'].isnull(), 'ID'] = random_values"
   ],
   "metadata": {
    "collapsed": false,
    "ExecuteTime": {
     "end_time": "2023-12-30T08:47:46.715184Z",
     "start_time": "2023-12-30T08:47:46.497026Z"
    }
   },
   "id": "603ee5906863d0d8",
   "execution_count": 627
  },
  {
   "cell_type": "code",
   "outputs": [],
   "source": [
    "most_common_value = df['Number_male'].mode()[0]  # Получаем самое популярное значение\n",
    "df['Number_male'].fillna(most_common_value, inplace=True)"
   ],
   "metadata": {
    "collapsed": false,
    "ExecuteTime": {
     "end_time": "2023-12-30T08:47:46.939306Z",
     "start_time": "2023-12-30T08:47:46.692867Z"
    }
   },
   "id": "84dee8fe783276ce",
   "execution_count": 628
  },
  {
   "cell_type": "code",
   "outputs": [],
   "source": [
    "df['Weight_of_progeny'] = pd.to_numeric(df['Weight_of_progeny'], errors='coerce')"
   ],
   "metadata": {
    "collapsed": false,
    "ExecuteTime": {
     "end_time": "2023-12-30T08:47:47.256175Z",
     "start_time": "2023-12-30T08:47:46.915894Z"
    }
   },
   "id": "6579967b1b2cc8eb",
   "execution_count": 629
  },
  {
   "cell_type": "code",
   "outputs": [
    {
     "name": "stdout",
     "output_type": "stream",
     "text": [
      "2.5357142857142856\n",
      "2.5\n"
     ]
    }
   ],
   "source": [
    "print(df['Weight_of_progeny'].mean())\n",
    "print(df['Weight_of_progeny'].median())"
   ],
   "metadata": {
    "collapsed": false,
    "ExecuteTime": {
     "end_time": "2023-12-30T08:47:47.412599Z",
     "start_time": "2023-12-30T08:47:47.232776Z"
    }
   },
   "id": "8338b400988f178c",
   "execution_count": 630
  },
  {
   "cell_type": "code",
   "outputs": [],
   "source": [
    "mean_weight = df['Weight_of_progeny'].mean()\n",
    "df['Weight_of_progeny'].fillna(mean_weight, inplace=True)"
   ],
   "metadata": {
    "collapsed": false,
    "ExecuteTime": {
     "end_time": "2023-12-30T08:47:47.602910Z",
     "start_time": "2023-12-30T08:47:47.394420Z"
    }
   },
   "id": "8950e8474d36a73d",
   "execution_count": 631
  },
  {
   "cell_type": "code",
   "outputs": [
    {
     "data": {
      "text/plain": "'м'"
     },
     "execution_count": 632,
     "metadata": {},
     "output_type": "execute_result"
    }
   ],
   "source": [
    "most_common_value = df['Sex_progeny'].mode()[0]  # Получаем самое популярное значение\n",
    "most_common_value"
   ],
   "metadata": {
    "collapsed": false,
    "ExecuteTime": {
     "end_time": "2023-12-30T08:47:47.762927Z",
     "start_time": "2023-12-30T08:47:47.585646Z"
    }
   },
   "id": "d15e85b90195e4b9",
   "execution_count": 632
  },
  {
   "cell_type": "code",
   "outputs": [
    {
     "name": "stdout",
     "output_type": "stream",
     "text": [
      "Процент пропусков в столбце 'Sex_progeny': 6.09%\n"
     ]
    }
   ],
   "source": [
    "total_rows = len(df['Sex_progeny'])\n",
    "missing_values_count = df['Sex_progeny'].isna().sum()\n",
    "\n",
    "percentage_missing = (missing_values_count / total_rows) * 100\n",
    "print(f\"Процент пропусков в столбце 'Sex_progeny': {percentage_missing:.2f}%\")"
   ],
   "metadata": {
    "collapsed": false,
    "ExecuteTime": {
     "end_time": "2023-12-30T08:47:47.973688Z",
     "start_time": "2023-12-30T08:47:47.740232Z"
    }
   },
   "id": "af2fc82c8cddb4ad",
   "execution_count": 633
  },
  {
   "cell_type": "code",
   "outputs": [],
   "source": [
    "df['Sex_progeny'].fillna(most_common_value, inplace=True)"
   ],
   "metadata": {
    "collapsed": false,
    "ExecuteTime": {
     "end_time": "2023-12-30T08:47:48.149505Z",
     "start_time": "2023-12-30T08:47:47.946332Z"
    }
   },
   "id": "5483e4e8c9ea312a",
   "execution_count": 634
  },
  {
   "cell_type": "code",
   "outputs": [],
   "source": [
    "mask = ~df['Sex_progeny'].isin(['м', 'ж'])\n",
    "\n",
    "# Заменяем значения, которые не \"м\" и не \"ж\", на \"ж\"\n",
    "df.loc[mask, 'Sex_progeny'] = 'ж'"
   ],
   "metadata": {
    "collapsed": false,
    "ExecuteTime": {
     "end_time": "2023-12-30T08:47:48.371018Z",
     "start_time": "2023-12-30T08:47:48.127284Z"
    }
   },
   "id": "592105d0aa95e999",
   "execution_count": 635
  },
  {
   "cell_type": "code",
   "outputs": [
    {
     "data": {
      "text/plain": "<Figure size 600x400 with 1 Axes>",
      "image/png": "[encoded data removed]"
     },
     "metadata": {},
     "output_type": "display_data"
    }
   ],
   "source": [
    "value_counts = df['Sex_progeny'].value_counts(dropna=False)\n",
    "\n",
    "# Создание круговой диаграммы\n",
    "plt.figure(figsize=(6, 4))\n",
    "value_counts.plot.pie(autopct='%1.1f%%', startangle=90, pctdistance=0.85, explode=[0.05]*len(value_counts))\n",
    "plt.title('Распределение уникальных значений в столбце \"Sex_progeny\"')\n",
    "plt.ylabel('')  # Удаление надписи для оси Y\n",
    "plt.show()"
   ],
   "metadata": {
    "collapsed": false,
    "ExecuteTime": {
     "end_time": "2023-12-30T08:47:48.607144Z",
     "start_time": "2023-12-30T08:47:48.367784Z"
    }
   },
   "id": "7ce1f7750113db34",
   "execution_count": 636
  },
  {
   "cell_type": "code",
   "outputs": [
    {
     "data": {
      "text/plain": "0"
     },
     "execution_count": 638,
     "metadata": {},
     "output_type": "execute_result"
    }
   ],
   "source": [
    "df.isna().sum().sum()"
   ],
   "metadata": {
    "collapsed": false,
    "ExecuteTime": {
     "end_time": "2023-12-30T08:47:48.961460Z",
     "start_time": "2023-12-30T08:47:48.708424Z"
    }
   },
   "id": "7ce4c43c75c480b1",
   "execution_count": 638
  },
  {
   "cell_type": "code",
   "execution_count": 639,
   "outputs": [],
   "source": [
    "df.to_csv('Clean_data/File_7.csv')"
   ],
   "metadata": {
    "collapsed": false,
    "ExecuteTime": {
     "end_time": "2023-12-30T08:47:49.175190Z",
     "start_time": "2023-12-30T08:47:48.943247Z"
    }
   },
   "id": "3d682606ae1d7d2d"
  },
  {
   "cell_type": "markdown",
   "source": [
    "Седьмой файл завершен\n",
    "____"
   ],
   "metadata": {
    "collapsed": false
   },
   "id": "2ea6a12e3d7ac407"
  },
  {
   "cell_type": "code",
   "execution_count": 36,
   "outputs": [],
   "source": [
    "df = df.rename(columns={'бирка': 'ID'})\n",
    "df = df.rename(columns={'пр. ухо': 'Right_ear'})\n",
    "df = df.rename(columns={'лев. ухо': 'Left_ear'})\n",
    "df = df.rename(columns={'дата': 'Date_of_copulation'})\n",
    "df = df.rename(columns={'№ козла': 'Number_male'})\n",
    "df = df.rename(columns={'дата.1': 'Date_1'})\n",
    "df = df.rename(columns={'№ козла.1': 'Number_male1'})\n",
    "df = df.rename(columns={'пол': 'Sex_progeny'})\n",
    "df = df.rename(columns={'инд.№': 'ID_male'})\n",
    "df = df.rename(columns={'ж.м. (кг)': 'Weight_of_progeny'})\n",
    "df = df.drop('Unnamed: 0', axis=1)"
   ],
   "metadata": {
    "collapsed": false,
    "ExecuteTime": {
     "end_time": "2023-12-31T08:51:17.061234Z",
     "start_time": "2023-12-31T08:51:16.870431Z"
    }
   },
   "id": "582aa5eb14d0e5f2"
  },
  {
   "cell_type": "code",
   "execution_count": 37,
   "outputs": [
    {
     "data": {
      "text/plain": "   Right_ear  Left_ear  Unnamed: 4 Unnamed: 5 Date_of_copulation  Number_male  \\\n0        NaN       NaN         NaN        199                NaN          NaN   \n1        NaN       NaN         NaN       F180                NaN          NaN   \n2        NaN       NaN         NaN       F172                NaN          NaN   \n3        NaN       NaN         NaN        199                NaN          NaN   \n4        NaN       NaN         NaN       F172                NaN          NaN   \n5        NaN       NaN         NaN        199                NaN          NaN   \n6        NaN       NaN         NaN       F172                NaN          NaN   \n7        NaN       NaN         NaN       F180                NaN          NaN   \n8        NaN       NaN         NaN       F172                NaN          NaN   \n9        NaN       NaN         NaN       F180                NaN          NaN   \n\n  Date_1  Number_male1          Unnamed: 10 Sex_progeny ID_male  \\\n0    NaN           NaN  2016-08-10 00:00:00           ж    G001   \n1    NaN           NaN  2016-08-12 00:00:00           ж    G002   \n2    NaN           NaN  2016-08-11 00:00:00           ж  G002|1   \n3    NaN           NaN  2016-08-15 00:00:00           ж    G003   \n4    NaN           NaN  2016-08-17 00:00:00           м    G004   \n5    NaN           NaN  2016-08-17 00:00:00           м    G005   \n6    NaN           NaN  2016-08-19 00:00:00           ж    G006   \n7    NaN           NaN  2016-08-21 00:00:00           м    G007   \n8    NaN           NaN  2016-08-24 00:00:00           ж    G008   \n9    NaN           NaN  2016-08-28 00:00:00           ж    G009   \n\n  Weight_of_progeny Unnamed: 14  \n0               3,1         NaN  \n1              2,95         NaN  \n2               2,5         NaN  \n3               2.7         NaN  \n4              3.15         NaN  \n5              2.95         NaN  \n6              2.25         NaN  \n7              3.25         NaN  \n8                 3         NaN  \n9               3.1         NaN  ",
      "text/html": "<div>\n<style scoped>\n    .dataframe tbody tr th:only-of-type {\n        vertical-align: middle;\n    }\n\n    .dataframe tbody tr th {\n        vertical-align: top;\n    }\n\n    .dataframe thead th {\n        text-align: right;\n    }\n</style>\n<table border=\"1\" class=\"dataframe\">\n  <thead>\n    <tr style=\"text-align: right;\">\n      <th></th>\n      <th>Right_ear</th>\n      <th>Left_ear</th>\n      <th>Unnamed: 4</th>\n      <th>Unnamed: 5</th>\n      <th>Date_of_copulation</th>\n      <th>Number_male</th>\n      <th>Date_1</th>\n      <th>Number_male1</th>\n      <th>Unnamed: 10</th>\n      <th>Sex_progeny</th>\n      <th>ID_male</th>\n      <th>Weight_of_progeny</th>\n      <th>Unnamed: 14</th>\n    </tr>\n  </thead>\n  <tbody>\n    <tr>\n      <th>0</th>\n      <td>NaN</td>\n      <td>NaN</td>\n      <td>NaN</td>\n      <td>199</td>\n      <td>NaN</td>\n      <td>NaN</td>\n      <td>NaN</td>\n      <td>NaN</td>\n      <td>2016-08-10 00:00:00</td>\n      <td>ж</td>\n      <td>G001</td>\n      <td>3,1</td>\n      <td>NaN</td>\n    </tr>\n    <tr>\n      <th>1</th>\n      <td>NaN</td>\n      <td>NaN</td>\n      <td>NaN</td>\n      <td>F180</td>\n      <td>NaN</td>\n      <td>NaN</td>\n      <td>NaN</td>\n      <td>NaN</td>\n      <td>2016-08-12 00:00:00</td>\n      <td>ж</td>\n      <td>G002</td>\n      <td>2,95</td>\n      <td>NaN</td>\n    </tr>\n    <tr>\n      <th>2</th>\n      <td>NaN</td>\n      <td>NaN</td>\n      <td>NaN</td>\n      <td>F172</td>\n      <td>NaN</td>\n      <td>NaN</td>\n      <td>NaN</td>\n      <td>NaN</td>\n      <td>2016-08-11 00:00:00</td>\n      <td>ж</td>\n      <td>G002|1</td>\n      <td>2,5</td>\n      <td>NaN</td>\n    </tr>\n    <tr>\n      <th>3</th>\n      <td>NaN</td>\n      <td>NaN</td>\n      <td>NaN</td>\n      <td>199</td>\n      <td>NaN</td>\n      <td>NaN</td>\n      <td>NaN</td>\n      <td>NaN</td>\n      <td>2016-08-15 00:00:00</td>\n      <td>ж</td>\n      <td>G003</td>\n      <td>2.7</td>\n      <td>NaN</td>\n    </tr>\n    <tr>\n      <th>4</th>\n      <td>NaN</td>\n      <td>NaN</td>\n      <td>NaN</td>\n      <td>F172</td>\n      <td>NaN</td>\n      <td>NaN</td>\n      <td>NaN</td>\n      <td>NaN</td>\n      <td>2016-08-17 00:00:00</td>\n      <td>м</td>\n      <td>G004</td>\n      <td>3.15</td>\n      <td>NaN</td>\n    </tr>\n    <tr>\n      <th>5</th>\n      <td>NaN</td>\n      <td>NaN</td>\n      <td>NaN</td>\n      <td>199</td>\n      <td>NaN</td>\n      <td>NaN</td>\n      <td>NaN</td>\n      <td>NaN</td>\n      <td>2016-08-17 00:00:00</td>\n      <td>м</td>\n      <td>G005</td>\n      <td>2.95</td>\n      <td>NaN</td>\n    </tr>\n    <tr>\n      <th>6</th>\n      <td>NaN</td>\n      <td>NaN</td>\n      <td>NaN</td>\n      <td>F172</td>\n      <td>NaN</td>\n      <td>NaN</td>\n      <td>NaN</td>\n      <td>NaN</td>\n      <td>2016-08-19 00:00:00</td>\n      <td>ж</td>\n      <td>G006</td>\n      <td>2.25</td>\n      <td>NaN</td>\n    </tr>\n    <tr>\n      <th>7</th>\n      <td>NaN</td>\n      <td>NaN</td>\n      <td>NaN</td>\n      <td>F180</td>\n      <td>NaN</td>\n      <td>NaN</td>\n      <td>NaN</td>\n      <td>NaN</td>\n      <td>2016-08-21 00:00:00</td>\n      <td>м</td>\n      <td>G007</td>\n      <td>3.25</td>\n      <td>NaN</td>\n    </tr>\n    <tr>\n      <th>8</th>\n      <td>NaN</td>\n      <td>NaN</td>\n      <td>NaN</td>\n      <td>F172</td>\n      <td>NaN</td>\n      <td>NaN</td>\n      <td>NaN</td>\n      <td>NaN</td>\n      <td>2016-08-24 00:00:00</td>\n      <td>ж</td>\n      <td>G008</td>\n      <td>3</td>\n      <td>NaN</td>\n    </tr>\n    <tr>\n      <th>9</th>\n      <td>NaN</td>\n      <td>NaN</td>\n      <td>NaN</td>\n      <td>F180</td>\n      <td>NaN</td>\n      <td>NaN</td>\n      <td>NaN</td>\n      <td>NaN</td>\n      <td>2016-08-28 00:00:00</td>\n      <td>ж</td>\n      <td>G009</td>\n      <td>3.1</td>\n      <td>NaN</td>\n    </tr>\n  </tbody>\n</table>\n</div>"
     },
     "execution_count": 37,
     "metadata": {},
     "output_type": "execute_result"
    }
   ],
   "source": [
    "df = df.drop('ID', axis=1)\n",
    "df.head(10)"
   ],
   "metadata": {
    "collapsed": false,
    "ExecuteTime": {
     "end_time": "2023-12-31T08:51:20.522877Z",
     "start_time": "2023-12-31T08:51:20.295033Z"
    }
   },
   "id": "aae2ce6717125287"
  },
  {
   "cell_type": "code",
   "outputs": [],
   "source": [
    "df = df.drop('Number_male', axis=1)\n",
    "df = df.rename(columns={'Unnamed: 5': 'Number_male'})"
   ],
   "metadata": {
    "collapsed": false,
    "ExecuteTime": {
     "end_time": "2023-12-30T08:47:50.443777Z",
     "start_time": "2023-12-30T08:47:50.107592Z"
    }
   },
   "id": "c2399cca2e3297d1",
   "execution_count": 644
  },
  {
   "cell_type": "code",
   "outputs": [
    {
     "data": {
      "text/plain": "       ID Number_male Weight_of_progeny Sex_progeny\n0    H057         199               3,1           ж\n1    H505        F180              2,95           ж\n2    H299        F172               2,5           ж\n3    H013         199               2.7           ж\n4    H227        F172              3.15           м\n..    ...         ...               ...         ...\n162  Н299         973               2,1           ж\n163  5189         973               2,6           ж\n164  5189         973               2,3           ж\n165  5189         973              2,75           ж\n166  5347         973               NaN         NaN\n\n[167 rows x 4 columns]",
      "text/html": "<div>\n<style scoped>\n    .dataframe tbody tr th:only-of-type {\n        vertical-align: middle;\n    }\n\n    .dataframe tbody tr th {\n        vertical-align: top;\n    }\n\n    .dataframe thead th {\n        text-align: right;\n    }\n</style>\n<table border=\"1\" class=\"dataframe\">\n  <thead>\n    <tr style=\"text-align: right;\">\n      <th></th>\n      <th>ID</th>\n      <th>Number_male</th>\n      <th>Weight_of_progeny</th>\n      <th>Sex_progeny</th>\n    </tr>\n  </thead>\n  <tbody>\n    <tr>\n      <th>0</th>\n      <td>H057</td>\n      <td>199</td>\n      <td>3,1</td>\n      <td>ж</td>\n    </tr>\n    <tr>\n      <th>1</th>\n      <td>H505</td>\n      <td>F180</td>\n      <td>2,95</td>\n      <td>ж</td>\n    </tr>\n    <tr>\n      <th>2</th>\n      <td>H299</td>\n      <td>F172</td>\n      <td>2,5</td>\n      <td>ж</td>\n    </tr>\n    <tr>\n      <th>3</th>\n      <td>H013</td>\n      <td>199</td>\n      <td>2.7</td>\n      <td>ж</td>\n    </tr>\n    <tr>\n      <th>4</th>\n      <td>H227</td>\n      <td>F172</td>\n      <td>3.15</td>\n      <td>м</td>\n    </tr>\n    <tr>\n      <th>...</th>\n      <td>...</td>\n      <td>...</td>\n      <td>...</td>\n      <td>...</td>\n    </tr>\n    <tr>\n      <th>162</th>\n      <td>Н299</td>\n      <td>973</td>\n      <td>2,1</td>\n      <td>ж</td>\n    </tr>\n    <tr>\n      <th>163</th>\n      <td>5189</td>\n      <td>973</td>\n      <td>2,6</td>\n      <td>ж</td>\n    </tr>\n    <tr>\n      <th>164</th>\n      <td>5189</td>\n      <td>973</td>\n      <td>2,3</td>\n      <td>ж</td>\n    </tr>\n    <tr>\n      <th>165</th>\n      <td>5189</td>\n      <td>973</td>\n      <td>2,75</td>\n      <td>ж</td>\n    </tr>\n    <tr>\n      <th>166</th>\n      <td>5347</td>\n      <td>973</td>\n      <td>NaN</td>\n      <td>NaN</td>\n    </tr>\n  </tbody>\n</table>\n<p>167 rows × 4 columns</p>\n</div>"
     },
     "execution_count": 645,
     "metadata": {},
     "output_type": "execute_result"
    }
   ],
   "source": [
    "df = df[['ID', 'Number_male', 'Weight_of_progeny', 'Sex_progeny']].copy()\n",
    "df"
   ],
   "metadata": {
    "collapsed": false,
    "ExecuteTime": {
     "end_time": "2023-12-30T08:47:50.660563Z",
     "start_time": "2023-12-30T08:47:50.426063Z"
    }
   },
   "id": "eeb691730cb95ea",
   "execution_count": 645
  },
  {
   "cell_type": "code",
   "outputs": [],
   "source": [
    "df['Weight_of_progeny'] = pd.to_numeric(df['Weight_of_progeny'], errors='coerce')"
   ],
   "metadata": {
    "collapsed": false,
    "ExecuteTime": {
     "end_time": "2023-12-30T08:47:50.980965Z",
     "start_time": "2023-12-30T08:47:50.643294Z"
    }
   },
   "id": "1864358a956d4937",
   "execution_count": 646
  },
  {
   "cell_type": "code",
   "outputs": [
    {
     "name": "stdout",
     "output_type": "stream",
     "text": [
      "2.802325581395349\n",
      "2.8\n"
     ]
    }
   ],
   "source": [
    "print(df['Weight_of_progeny'].mean())\n",
    "print(df['Weight_of_progeny'].median())"
   ],
   "metadata": {
    "collapsed": false,
    "ExecuteTime": {
     "end_time": "2023-12-30T08:47:51.175005Z",
     "start_time": "2023-12-30T08:47:50.963523Z"
    }
   },
   "id": "d3fd67891cc5cc8",
   "execution_count": 647
  },
  {
   "cell_type": "code",
   "outputs": [],
   "source": [
    "median_weight = df['Weight_of_progeny'].median()\n",
    "df['Weight_of_progeny'].fillna(median_weight, inplace=True)"
   ],
   "metadata": {
    "collapsed": false,
    "ExecuteTime": {
     "end_time": "2023-12-30T08:47:51.466426Z",
     "start_time": "2023-12-30T08:47:51.152351Z"
    }
   },
   "id": "f34b367de9ab6f32",
   "execution_count": 648
  },
  {
   "cell_type": "code",
   "outputs": [
    {
     "data": {
      "text/plain": "'ж'"
     },
     "execution_count": 649,
     "metadata": {},
     "output_type": "execute_result"
    }
   ],
   "source": [
    "most_common_value = df['Sex_progeny'].mode()[0]  # Получаем самое популярное значение\n",
    "most_common_value"
   ],
   "metadata": {
    "collapsed": false,
    "ExecuteTime": {
     "end_time": "2023-12-30T08:47:51.630417Z",
     "start_time": "2023-12-30T08:47:51.442920Z"
    }
   },
   "id": "d1b35e892d8cc22",
   "execution_count": 649
  },
  {
   "cell_type": "code",
   "outputs": [
    {
     "name": "stdout",
     "output_type": "stream",
     "text": [
      "Процент пропусков в столбце 'Sex_progeny': 5.39%\n"
     ]
    }
   ],
   "source": [
    "total_rows = len(df['Sex_progeny'])\n",
    "missing_values_count = df['Sex_progeny'].isna().sum()\n",
    "\n",
    "percentage_missing = (missing_values_count / total_rows) * 100\n",
    "print(f\"Процент пропусков в столбце 'Sex_progeny': {percentage_missing:.2f}%\")"
   ],
   "metadata": {
    "collapsed": false,
    "ExecuteTime": {
     "end_time": "2023-12-30T08:47:51.817834Z",
     "start_time": "2023-12-30T08:47:51.612418Z"
    }
   },
   "id": "2e02c733091530f0",
   "execution_count": 650
  },
  {
   "cell_type": "code",
   "outputs": [],
   "source": [
    "df['Sex_progeny'].fillna(most_common_value, inplace=True)"
   ],
   "metadata": {
    "collapsed": false,
    "ExecuteTime": {
     "end_time": "2023-12-30T08:47:52.005449Z",
     "start_time": "2023-12-30T08:47:51.799793Z"
    }
   },
   "id": "f282ab31241e46d4",
   "execution_count": 651
  },
  {
   "cell_type": "code",
   "outputs": [],
   "source": [
    "mask = ~df['Sex_progeny'].isin(['м', 'ж'])\n",
    "\n",
    "# Заменяем значения, которые не \"м\" и не \"ж\", на \"ж\"\n",
    "df.loc[mask, 'Sex_progeny'] = 'м'"
   ],
   "metadata": {
    "collapsed": false,
    "ExecuteTime": {
     "end_time": "2023-12-30T08:47:52.248506Z",
     "start_time": "2023-12-30T08:47:51.981265Z"
    }
   },
   "id": "81994858a62dc519",
   "execution_count": 652
  },
  {
   "cell_type": "code",
   "outputs": [
    {
     "data": {
      "text/plain": "<Figure size 600x400 with 1 Axes>",
      "image/png": "[encoded data removed]"
     },
     "metadata": {},
     "output_type": "display_data"
    }
   ],
   "source": [
    "value_counts = df['Sex_progeny'].value_counts(dropna=False)\n",
    "\n",
    "# Создание круговой диаграммы\n",
    "plt.figure(figsize=(6, 4))\n",
    "value_counts.plot.pie(autopct='%1.1f%%', startangle=90, pctdistance=0.85, explode=[0.05]*len(value_counts))\n",
    "plt.title('Распределение уникальных значений в столбце \"Sex_progeny\"')\n",
    "plt.ylabel('')  # Удаление надписи для оси Y\n",
    "plt.show()"
   ],
   "metadata": {
    "collapsed": false,
    "ExecuteTime": {
     "end_time": "2023-12-30T08:47:52.509865Z",
     "start_time": "2023-12-30T08:47:52.234803Z"
    }
   },
   "id": "80fc28461b55c84b",
   "execution_count": 653
  },
  {
   "cell_type": "code",
   "outputs": [
    {
     "data": {
      "text/plain": "0"
     },
     "execution_count": 655,
     "metadata": {},
     "output_type": "execute_result"
    }
   ],
   "source": [
    "df.isna().sum().sum()"
   ],
   "metadata": {
    "collapsed": false,
    "ExecuteTime": {
     "end_time": "2023-12-30T08:47:52.866214Z",
     "start_time": "2023-12-30T08:47:52.593321Z"
    }
   },
   "id": "930ef155ac4f581a",
   "execution_count": 655
  },
  {
   "cell_type": "code",
   "execution_count": 656,
   "outputs": [],
   "source": [
    "df.to_csv('Clean_data/File_8.csv')"
   ],
   "metadata": {
    "collapsed": false,
    "ExecuteTime": {
     "end_time": "2023-12-30T08:47:53.079066Z",
     "start_time": "2023-12-30T08:47:52.843111Z"
    }
   },
   "id": "1e7b38fe6295cbe2"
  },
  {
   "cell_type": "markdown",
   "source": [
    "Восьмой файл завершен\n",
    "___"
   ],
   "metadata": {
    "collapsed": false
   },
   "id": "38418459bb33723"
  },
  {
   "cell_type": "code",
   "execution_count": 40,
   "outputs": [],
   "source": [
    "df = df.rename(columns={'бирка': 'ID'})\n",
    "df = df.rename(columns={'пр. ухо': 'Right_ear'})\n",
    "df = df.rename(columns={'лев. ухо': 'Left_ear'})\n",
    "df = df.rename(columns={'дата': 'Date_of_copulation'})\n",
    "df = df.rename(columns={'№ козла': 'Number_male'})\n",
    "df = df.rename(columns={'дата.1': 'Date_1'})\n",
    "df = df.rename(columns={'№ козла.1': 'Number_male1'})\n",
    "df = df.rename(columns={'пол': 'Sex_progeny'})\n",
    "df = df.rename(columns={'инд.№': 'ID_male'})\n",
    "df = df.rename(columns={'ж.м. (кг)': 'Weight_of_progeny'})\n",
    "df = df.drop('Unnamed: 0', axis=1)"
   ],
   "metadata": {
    "collapsed": false,
    "ExecuteTime": {
     "end_time": "2023-12-31T08:51:56.653138Z",
     "start_time": "2023-12-31T08:51:56.426764Z"
    }
   },
   "id": "b4d2bc1114edac3a"
  },
  {
   "cell_type": "code",
   "execution_count": 41,
   "outputs": [
    {
     "data": {
      "text/plain": "   Right_ear  Left_ear  Unnamed: 4 Unnamed: 5 Date_of_copulation  Number_male  \\\n0        NaN       NaN         NaN        199                NaN          NaN   \n1        NaN       NaN         NaN       F180                NaN          NaN   \n2        NaN       NaN         NaN       F172                NaN          NaN   \n3        NaN       NaN         NaN        199                NaN          NaN   \n4        NaN       NaN         NaN       F172                NaN          NaN   \n5        NaN       NaN         NaN        199                NaN          NaN   \n6        NaN       NaN         NaN       F172                NaN          NaN   \n7        NaN       NaN         NaN       F180                NaN          NaN   \n8        NaN       NaN         NaN       F172                NaN          NaN   \n9        NaN       NaN         NaN       F180                NaN          NaN   \n\n  Date_1  Number_male1          Unnamed: 10 Sex_progeny ID_male  \\\n0    NaN           NaN  2016-08-10 00:00:00           ж    G001   \n1    NaN           NaN  2016-08-12 00:00:00           ж    G002   \n2    NaN           NaN  2016-08-11 00:00:00           ж  G002|1   \n3    NaN           NaN  2016-08-15 00:00:00           ж    G003   \n4    NaN           NaN  2016-08-17 00:00:00           м    G004   \n5    NaN           NaN  2016-08-17 00:00:00           м    G005   \n6    NaN           NaN  2016-08-19 00:00:00           ж    G006   \n7    NaN           NaN  2016-08-21 00:00:00           м    G007   \n8    NaN           NaN  2016-08-24 00:00:00           ж    G008   \n9    NaN           NaN  2016-08-28 00:00:00           ж    G009   \n\n  Weight_of_progeny Unnamed: 14  \n0               3,1         NaN  \n1              2,95         NaN  \n2               2,5         NaN  \n3               2.7         NaN  \n4              3.15         NaN  \n5              2.95         NaN  \n6              2.25         NaN  \n7              3.25         NaN  \n8                 3         NaN  \n9               3.1         NaN  ",
      "text/html": "<div>\n<style scoped>\n    .dataframe tbody tr th:only-of-type {\n        vertical-align: middle;\n    }\n\n    .dataframe tbody tr th {\n        vertical-align: top;\n    }\n\n    .dataframe thead th {\n        text-align: right;\n    }\n</style>\n<table border=\"1\" class=\"dataframe\">\n  <thead>\n    <tr style=\"text-align: right;\">\n      <th></th>\n      <th>Right_ear</th>\n      <th>Left_ear</th>\n      <th>Unnamed: 4</th>\n      <th>Unnamed: 5</th>\n      <th>Date_of_copulation</th>\n      <th>Number_male</th>\n      <th>Date_1</th>\n      <th>Number_male1</th>\n      <th>Unnamed: 10</th>\n      <th>Sex_progeny</th>\n      <th>ID_male</th>\n      <th>Weight_of_progeny</th>\n      <th>Unnamed: 14</th>\n    </tr>\n  </thead>\n  <tbody>\n    <tr>\n      <th>0</th>\n      <td>NaN</td>\n      <td>NaN</td>\n      <td>NaN</td>\n      <td>199</td>\n      <td>NaN</td>\n      <td>NaN</td>\n      <td>NaN</td>\n      <td>NaN</td>\n      <td>2016-08-10 00:00:00</td>\n      <td>ж</td>\n      <td>G001</td>\n      <td>3,1</td>\n      <td>NaN</td>\n    </tr>\n    <tr>\n      <th>1</th>\n      <td>NaN</td>\n      <td>NaN</td>\n      <td>NaN</td>\n      <td>F180</td>\n      <td>NaN</td>\n      <td>NaN</td>\n      <td>NaN</td>\n      <td>NaN</td>\n      <td>2016-08-12 00:00:00</td>\n      <td>ж</td>\n      <td>G002</td>\n      <td>2,95</td>\n      <td>NaN</td>\n    </tr>\n    <tr>\n      <th>2</th>\n      <td>NaN</td>\n      <td>NaN</td>\n      <td>NaN</td>\n      <td>F172</td>\n      <td>NaN</td>\n      <td>NaN</td>\n      <td>NaN</td>\n      <td>NaN</td>\n      <td>2016-08-11 00:00:00</td>\n      <td>ж</td>\n      <td>G002|1</td>\n      <td>2,5</td>\n      <td>NaN</td>\n    </tr>\n    <tr>\n      <th>3</th>\n      <td>NaN</td>\n      <td>NaN</td>\n      <td>NaN</td>\n      <td>199</td>\n      <td>NaN</td>\n      <td>NaN</td>\n      <td>NaN</td>\n      <td>NaN</td>\n      <td>2016-08-15 00:00:00</td>\n      <td>ж</td>\n      <td>G003</td>\n      <td>2.7</td>\n      <td>NaN</td>\n    </tr>\n    <tr>\n      <th>4</th>\n      <td>NaN</td>\n      <td>NaN</td>\n      <td>NaN</td>\n      <td>F172</td>\n      <td>NaN</td>\n      <td>NaN</td>\n      <td>NaN</td>\n      <td>NaN</td>\n      <td>2016-08-17 00:00:00</td>\n      <td>м</td>\n      <td>G004</td>\n      <td>3.15</td>\n      <td>NaN</td>\n    </tr>\n    <tr>\n      <th>5</th>\n      <td>NaN</td>\n      <td>NaN</td>\n      <td>NaN</td>\n      <td>199</td>\n      <td>NaN</td>\n      <td>NaN</td>\n      <td>NaN</td>\n      <td>NaN</td>\n      <td>2016-08-17 00:00:00</td>\n      <td>м</td>\n      <td>G005</td>\n      <td>2.95</td>\n      <td>NaN</td>\n    </tr>\n    <tr>\n      <th>6</th>\n      <td>NaN</td>\n      <td>NaN</td>\n      <td>NaN</td>\n      <td>F172</td>\n      <td>NaN</td>\n      <td>NaN</td>\n      <td>NaN</td>\n      <td>NaN</td>\n      <td>2016-08-19 00:00:00</td>\n      <td>ж</td>\n      <td>G006</td>\n      <td>2.25</td>\n      <td>NaN</td>\n    </tr>\n    <tr>\n      <th>7</th>\n      <td>NaN</td>\n      <td>NaN</td>\n      <td>NaN</td>\n      <td>F180</td>\n      <td>NaN</td>\n      <td>NaN</td>\n      <td>NaN</td>\n      <td>NaN</td>\n      <td>2016-08-21 00:00:00</td>\n      <td>м</td>\n      <td>G007</td>\n      <td>3.25</td>\n      <td>NaN</td>\n    </tr>\n    <tr>\n      <th>8</th>\n      <td>NaN</td>\n      <td>NaN</td>\n      <td>NaN</td>\n      <td>F172</td>\n      <td>NaN</td>\n      <td>NaN</td>\n      <td>NaN</td>\n      <td>NaN</td>\n      <td>2016-08-24 00:00:00</td>\n      <td>ж</td>\n      <td>G008</td>\n      <td>3</td>\n      <td>NaN</td>\n    </tr>\n    <tr>\n      <th>9</th>\n      <td>NaN</td>\n      <td>NaN</td>\n      <td>NaN</td>\n      <td>F180</td>\n      <td>NaN</td>\n      <td>NaN</td>\n      <td>NaN</td>\n      <td>NaN</td>\n      <td>2016-08-28 00:00:00</td>\n      <td>ж</td>\n      <td>G009</td>\n      <td>3.1</td>\n      <td>NaN</td>\n    </tr>\n  </tbody>\n</table>\n</div>"
     },
     "execution_count": 41,
     "metadata": {},
     "output_type": "execute_result"
    }
   ],
   "source": [
    "df = df.drop('ID', axis=1)\n",
    "df.head(10)"
   ],
   "metadata": {
    "collapsed": false,
    "ExecuteTime": {
     "end_time": "2023-12-31T08:51:59.891783Z",
     "start_time": "2023-12-31T08:51:59.667257Z"
    }
   },
   "id": "9e4641dd41aca04d"
  },
  {
   "cell_type": "code",
   "outputs": [],
   "source": [
    "df = df.drop('Number_male', axis=1)\n",
    "df = df.rename(columns={'Unnamed: 5': 'Number_male'})"
   ],
   "metadata": {
    "collapsed": false,
    "ExecuteTime": {
     "end_time": "2023-12-30T08:47:54.323973Z",
     "start_time": "2023-12-30T08:47:53.996202Z"
    }
   },
   "id": "336f812b3ec26c6b",
   "execution_count": 661
  },
  {
   "cell_type": "code",
   "outputs": [],
   "source": [
    "df = df[['ID', 'Number_male', 'Weight_of_progeny', 'Sex_progeny']].copy()\n",
    "df"
   ],
   "metadata": {
    "collapsed": false
   },
   "id": "5dca7d52fcfe6db4",
   "execution_count": null
  },
  {
   "cell_type": "code",
   "outputs": [],
   "source": [
    "df['Weight_of_progeny'] = pd.to_numeric(df['Weight_of_progeny'], errors='coerce')"
   ],
   "metadata": {
    "collapsed": false,
    "ExecuteTime": {
     "end_time": "2023-12-30T08:47:54.852488Z",
     "start_time": "2023-12-30T08:47:54.512629Z"
    }
   },
   "id": "b4aa3482b7da92e1",
   "execution_count": 663
  },
  {
   "cell_type": "code",
   "outputs": [
    {
     "name": "stdout",
     "output_type": "stream",
     "text": [
      "2.802325581395349\n",
      "2.8\n"
     ]
    }
   ],
   "source": [
    "print(df['Weight_of_progeny'].mean())\n",
    "print(df['Weight_of_progeny'].median())"
   ],
   "metadata": {
    "collapsed": false,
    "ExecuteTime": {
     "end_time": "2023-12-30T08:47:55.069876Z",
     "start_time": "2023-12-30T08:47:54.835141Z"
    }
   },
   "id": "b736dd704461251",
   "execution_count": 664
  },
  {
   "cell_type": "code",
   "outputs": [],
   "source": [
    "median_weight = df['Weight_of_progeny'].median()\n",
    "df['Weight_of_progeny'].fillna(median_weight, inplace=True)"
   ],
   "metadata": {
    "collapsed": false,
    "ExecuteTime": {
     "end_time": "2023-12-30T08:47:55.371381Z",
     "start_time": "2023-12-30T08:47:55.051525Z"
    }
   },
   "id": "e4de5ba63ccca743",
   "execution_count": 665
  },
  {
   "cell_type": "code",
   "outputs": [
    {
     "data": {
      "text/plain": "'ж'"
     },
     "execution_count": 666,
     "metadata": {},
     "output_type": "execute_result"
    }
   ],
   "source": [
    "most_common_value = df['Sex_progeny'].mode()[0]  # Получаем самое популярное значение\n",
    "most_common_value"
   ],
   "metadata": {
    "collapsed": false,
    "ExecuteTime": {
     "end_time": "2023-12-30T08:47:55.534825Z",
     "start_time": "2023-12-30T08:47:55.348140Z"
    }
   },
   "id": "f623daa0c9da6d9c",
   "execution_count": 666
  },
  {
   "cell_type": "code",
   "outputs": [
    {
     "name": "stdout",
     "output_type": "stream",
     "text": [
      "Процент пропусков в столбце 'Sex_progeny': 5.39%\n"
     ]
    }
   ],
   "source": [
    "total_rows = len(df['Sex_progeny'])\n",
    "missing_values_count = df['Sex_progeny'].isna().sum()\n",
    "\n",
    "percentage_missing = (missing_values_count / total_rows) * 100\n",
    "print(f\"Процент пропусков в столбце 'Sex_progeny': {percentage_missing:.2f}%\")"
   ],
   "metadata": {
    "collapsed": false,
    "ExecuteTime": {
     "end_time": "2023-12-30T08:47:55.717748Z",
     "start_time": "2023-12-30T08:47:55.512387Z"
    }
   },
   "id": "6221eb5c76f60057",
   "execution_count": 667
  },
  {
   "cell_type": "code",
   "outputs": [],
   "source": [
    "df['Sex_progeny'].fillna(most_common_value, inplace=True)"
   ],
   "metadata": {
    "collapsed": false,
    "ExecuteTime": {
     "end_time": "2023-12-30T08:47:55.904707Z",
     "start_time": "2023-12-30T08:47:55.694181Z"
    }
   },
   "id": "cdd7a1528adb509",
   "execution_count": 668
  },
  {
   "cell_type": "code",
   "outputs": [],
   "source": [
    "mask = ~df['Sex_progeny'].isin(['м', 'ж'])\n",
    "\n",
    "# Заменяем значения, которые не \"м\" и не \"ж\", на \"ж\"\n",
    "df.loc[mask, 'Sex_progeny'] = 'ж'"
   ],
   "metadata": {
    "collapsed": false,
    "ExecuteTime": {
     "end_time": "2023-12-30T08:47:56.148853Z",
     "start_time": "2023-12-30T08:47:55.887105Z"
    }
   },
   "id": "f0d42f61b8f3b733",
   "execution_count": 669
  },
  {
   "cell_type": "code",
   "outputs": [
    {
     "data": {
      "text/plain": "<Figure size 600x400 with 1 Axes>",
      "image/png": "[encoded data removed]"
     },
     "metadata": {},
     "output_type": "display_data"
    }
   ],
   "source": [
    "value_counts = df['Sex_progeny'].value_counts(dropna=False)\n",
    "\n",
    "# Создание круговой диаграммы\n",
    "plt.figure(figsize=(6, 4))\n",
    "value_counts.plot.pie(autopct='%1.1f%%', startangle=90, pctdistance=0.85, explode=[0.05]*len(value_counts))\n",
    "plt.title('Распределение уникальных значений в столбце \"Sex_progeny\"')\n",
    "plt.ylabel('')  # Удаление надписи для оси Y\n",
    "plt.show()"
   ],
   "metadata": {
    "collapsed": false,
    "ExecuteTime": {
     "end_time": "2023-12-30T08:47:56.350239Z",
     "start_time": "2023-12-30T08:47:56.134604Z"
    }
   },
   "id": "6e9068f715620efc",
   "execution_count": 670
  },
  {
   "cell_type": "code",
   "outputs": [
    {
     "data": {
      "text/plain": "0"
     },
     "execution_count": 671,
     "metadata": {},
     "output_type": "execute_result"
    }
   ],
   "source": [
    "df.isna().sum().sum()"
   ],
   "metadata": {
    "collapsed": false,
    "ExecuteTime": {
     "end_time": "2023-12-30T08:47:56.473993Z",
     "start_time": "2023-12-30T08:47:56.258425Z"
    }
   },
   "id": "940ab805ebcf65a0",
   "execution_count": 671
  },
  {
   "cell_type": "code",
   "execution_count": 672,
   "outputs": [],
   "source": [
    "df.to_csv('Clean_data/File_9.csv')"
   ],
   "metadata": {
    "collapsed": false,
    "ExecuteTime": {
     "end_time": "2023-12-30T08:47:56.709209Z",
     "start_time": "2023-12-30T08:47:56.455658Z"
    }
   },
   "id": "ab484583892523ca"
  },
  {
   "cell_type": "markdown",
   "source": [
    "Девятый файл завершен\n",
    "___"
   ],
   "metadata": {
    "collapsed": false
   },
   "id": "6036e28c75bdce09"
  },
  {
   "cell_type": "code",
   "execution_count": 44,
   "outputs": [],
   "source": [
    "df = df.rename(columns={'бирка': 'ID'})\n",
    "df = df.rename(columns={'пр. ухо': 'Right_ear'})\n",
    "df = df.rename(columns={'лев. ухо': 'Left_ear'})\n",
    "df = df.rename(columns={'дата': 'Date_of_copulation'})\n",
    "df = df.rename(columns={'№ козла': 'Number_male'})\n",
    "df = df.rename(columns={'дата.1': 'Date_1'})\n",
    "df = df.rename(columns={'№ козла.1': 'Number_male1'})\n",
    "df = df.rename(columns={'пол': 'Sex_progeny'})\n",
    "df = df.rename(columns={'инд.№': 'ID_male'})\n",
    "df = df.rename(columns={'ж.м. (кг)': 'Weight_of_progeny'})\n",
    "df = df.drop('Unnamed: 0', axis=1)"
   ],
   "metadata": {
    "collapsed": false,
    "ExecuteTime": {
     "end_time": "2023-12-31T08:52:46.984296Z",
     "start_time": "2023-12-31T08:52:46.821378Z"
    }
   },
   "id": "ef184779404f649a"
  },
  {
   "cell_type": "code",
   "execution_count": 45,
   "outputs": [
    {
     "data": {
      "text/plain": "  Right_ear Unnamed: 3  Left_ear  Unnamed: 5 Unnamed: 6 Date_of_copulation  \\\n0       NaN        NaN       NaN         NaN        NaN                NaN   \n1       NaN        NaN       5.0      2019.0       К925           08.08.20   \n2       NaN        NaN       NaN         NaN       К925           17.10.20   \n3       NaN        NaN       NaN         NaN       К925           17.10.20   \n4       NaN        NaN       NaN         NaN       К914           09.11.20   \n5       NaN        NaN       NaN         NaN       СГ23           30.12.20   \n6       NaN        NaN       NaN         NaN       СГ23           30.12.20   \n7       NaN        NaN       NaN         NaN       СГ23           30.12.20   \n8       NaN        NaN       NaN         NaN       СГ23           30.12.20   \n9       NaN        NaN       NaN         NaN       СГ23           30.12.20   \n\n  Number_male Date_1 Number_male1 Unnamed: 11 Sex_progeny ID_male  \\\n0         NaN    NaN          NaN         NaN         NaN     NaN   \n1        К925    NaN          NaN    08.01.21           м    К211   \n2         NaN    NaN          NaN    17.03.21           ж   21030   \n3         NaN    NaN          NaN    17.03.21           ж   21031   \n4         NaN    NaN          NaN    09.04.21           ж   21041   \n5         NaN    NaN          NaN    04.06.21           м    К298   \n6         NaN    NaN          NaN    04.06.21           м    К299   \n7         NaN    NaN          NaN    04.06.21           м    К300   \n8         NaN    NaN          NaN    04.06.21           м    К295   \n9         NaN    NaN          NaN    04.06.21           м    К296   \n\n  Weight_of_progeny Unnamed: 15 Unnamed: 16 Unnamed: 17 Unnamed: 18  \\\n0               NaN         NaN         NaN         NaN         NaN   \n1               3,6         NaN         NaN         NaN         NaN   \n2               1,8         NaN         NaN         NaN         NaN   \n3               2,4         NaN         NaN         NaN         NaN   \n4              4,05         NaN         NaN         NaN         NaN   \n5               2,5         NaN         NaN         NaN         NaN   \n6               2,6         NaN         NaN         NaN         NaN   \n7               2,3         NaN         NaN         NaN         NaN   \n8               2,5         NaN         NaN         NaN         NaN   \n9               2,6         NaN         NaN         NaN         NaN   \n\n  Unnamed: 19 Unnamed: 20 Unnamed: 21  \n0         NaN         NaN         NaN  \n1         NaN         NaN         NaN  \n2         NaN         NaN         NaN  \n3         NaN         NaN         NaN  \n4         NaN         NaN         NaN  \n5         NaN         NaN         NaN  \n6         NaN         NaN         NaN  \n7         NaN         NaN         NaN  \n8         NaN         NaN         NaN  \n9         NaN         NaN         NaN  ",
      "text/html": "<div>\n<style scoped>\n    .dataframe tbody tr th:only-of-type {\n        vertical-align: middle;\n    }\n\n    .dataframe tbody tr th {\n        vertical-align: top;\n    }\n\n    .dataframe thead th {\n        text-align: right;\n    }\n</style>\n<table border=\"1\" class=\"dataframe\">\n  <thead>\n    <tr style=\"text-align: right;\">\n      <th></th>\n      <th>Right_ear</th>\n      <th>Unnamed: 3</th>\n      <th>Left_ear</th>\n      <th>Unnamed: 5</th>\n      <th>Unnamed: 6</th>\n      <th>Date_of_copulation</th>\n      <th>Number_male</th>\n      <th>Date_1</th>\n      <th>Number_male1</th>\n      <th>Unnamed: 11</th>\n      <th>Sex_progeny</th>\n      <th>ID_male</th>\n      <th>Weight_of_progeny</th>\n      <th>Unnamed: 15</th>\n      <th>Unnamed: 16</th>\n      <th>Unnamed: 17</th>\n      <th>Unnamed: 18</th>\n      <th>Unnamed: 19</th>\n      <th>Unnamed: 20</th>\n      <th>Unnamed: 21</th>\n    </tr>\n  </thead>\n  <tbody>\n    <tr>\n      <th>0</th>\n      <td>NaN</td>\n      <td>NaN</td>\n      <td>NaN</td>\n      <td>NaN</td>\n      <td>NaN</td>\n      <td>NaN</td>\n      <td>NaN</td>\n      <td>NaN</td>\n      <td>NaN</td>\n      <td>NaN</td>\n      <td>NaN</td>\n      <td>NaN</td>\n      <td>NaN</td>\n      <td>NaN</td>\n      <td>NaN</td>\n      <td>NaN</td>\n      <td>NaN</td>\n      <td>NaN</td>\n      <td>NaN</td>\n      <td>NaN</td>\n    </tr>\n    <tr>\n      <th>1</th>\n      <td>NaN</td>\n      <td>NaN</td>\n      <td>5.0</td>\n      <td>2019.0</td>\n      <td>К925</td>\n      <td>08.08.20</td>\n      <td>К925</td>\n      <td>NaN</td>\n      <td>NaN</td>\n      <td>08.01.21</td>\n      <td>м</td>\n      <td>К211</td>\n      <td>3,6</td>\n      <td>NaN</td>\n      <td>NaN</td>\n      <td>NaN</td>\n      <td>NaN</td>\n      <td>NaN</td>\n      <td>NaN</td>\n      <td>NaN</td>\n    </tr>\n    <tr>\n      <th>2</th>\n      <td>NaN</td>\n      <td>NaN</td>\n      <td>NaN</td>\n      <td>NaN</td>\n      <td>К925</td>\n      <td>17.10.20</td>\n      <td>NaN</td>\n      <td>NaN</td>\n      <td>NaN</td>\n      <td>17.03.21</td>\n      <td>ж</td>\n      <td>21030</td>\n      <td>1,8</td>\n      <td>NaN</td>\n      <td>NaN</td>\n      <td>NaN</td>\n      <td>NaN</td>\n      <td>NaN</td>\n      <td>NaN</td>\n      <td>NaN</td>\n    </tr>\n    <tr>\n      <th>3</th>\n      <td>NaN</td>\n      <td>NaN</td>\n      <td>NaN</td>\n      <td>NaN</td>\n      <td>К925</td>\n      <td>17.10.20</td>\n      <td>NaN</td>\n      <td>NaN</td>\n      <td>NaN</td>\n      <td>17.03.21</td>\n      <td>ж</td>\n      <td>21031</td>\n      <td>2,4</td>\n      <td>NaN</td>\n      <td>NaN</td>\n      <td>NaN</td>\n      <td>NaN</td>\n      <td>NaN</td>\n      <td>NaN</td>\n      <td>NaN</td>\n    </tr>\n    <tr>\n      <th>4</th>\n      <td>NaN</td>\n      <td>NaN</td>\n      <td>NaN</td>\n      <td>NaN</td>\n      <td>К914</td>\n      <td>09.11.20</td>\n      <td>NaN</td>\n      <td>NaN</td>\n      <td>NaN</td>\n      <td>09.04.21</td>\n      <td>ж</td>\n      <td>21041</td>\n      <td>4,05</td>\n      <td>NaN</td>\n      <td>NaN</td>\n      <td>NaN</td>\n      <td>NaN</td>\n      <td>NaN</td>\n      <td>NaN</td>\n      <td>NaN</td>\n    </tr>\n    <tr>\n      <th>5</th>\n      <td>NaN</td>\n      <td>NaN</td>\n      <td>NaN</td>\n      <td>NaN</td>\n      <td>СГ23</td>\n      <td>30.12.20</td>\n      <td>NaN</td>\n      <td>NaN</td>\n      <td>NaN</td>\n      <td>04.06.21</td>\n      <td>м</td>\n      <td>К298</td>\n      <td>2,5</td>\n      <td>NaN</td>\n      <td>NaN</td>\n      <td>NaN</td>\n      <td>NaN</td>\n      <td>NaN</td>\n      <td>NaN</td>\n      <td>NaN</td>\n    </tr>\n    <tr>\n      <th>6</th>\n      <td>NaN</td>\n      <td>NaN</td>\n      <td>NaN</td>\n      <td>NaN</td>\n      <td>СГ23</td>\n      <td>30.12.20</td>\n      <td>NaN</td>\n      <td>NaN</td>\n      <td>NaN</td>\n      <td>04.06.21</td>\n      <td>м</td>\n      <td>К299</td>\n      <td>2,6</td>\n      <td>NaN</td>\n      <td>NaN</td>\n      <td>NaN</td>\n      <td>NaN</td>\n      <td>NaN</td>\n      <td>NaN</td>\n      <td>NaN</td>\n    </tr>\n    <tr>\n      <th>7</th>\n      <td>NaN</td>\n      <td>NaN</td>\n      <td>NaN</td>\n      <td>NaN</td>\n      <td>СГ23</td>\n      <td>30.12.20</td>\n      <td>NaN</td>\n      <td>NaN</td>\n      <td>NaN</td>\n      <td>04.06.21</td>\n      <td>м</td>\n      <td>К300</td>\n      <td>2,3</td>\n      <td>NaN</td>\n      <td>NaN</td>\n      <td>NaN</td>\n      <td>NaN</td>\n      <td>NaN</td>\n      <td>NaN</td>\n      <td>NaN</td>\n    </tr>\n    <tr>\n      <th>8</th>\n      <td>NaN</td>\n      <td>NaN</td>\n      <td>NaN</td>\n      <td>NaN</td>\n      <td>СГ23</td>\n      <td>30.12.20</td>\n      <td>NaN</td>\n      <td>NaN</td>\n      <td>NaN</td>\n      <td>04.06.21</td>\n      <td>м</td>\n      <td>К295</td>\n      <td>2,5</td>\n      <td>NaN</td>\n      <td>NaN</td>\n      <td>NaN</td>\n      <td>NaN</td>\n      <td>NaN</td>\n      <td>NaN</td>\n      <td>NaN</td>\n    </tr>\n    <tr>\n      <th>9</th>\n      <td>NaN</td>\n      <td>NaN</td>\n      <td>NaN</td>\n      <td>NaN</td>\n      <td>СГ23</td>\n      <td>30.12.20</td>\n      <td>NaN</td>\n      <td>NaN</td>\n      <td>NaN</td>\n      <td>04.06.21</td>\n      <td>м</td>\n      <td>К296</td>\n      <td>2,6</td>\n      <td>NaN</td>\n      <td>NaN</td>\n      <td>NaN</td>\n      <td>NaN</td>\n      <td>NaN</td>\n      <td>NaN</td>\n      <td>NaN</td>\n    </tr>\n  </tbody>\n</table>\n</div>"
     },
     "execution_count": 45,
     "metadata": {},
     "output_type": "execute_result"
    }
   ],
   "source": [
    "df = df.drop('ID', axis=1)\n",
    "df.head(10)"
   ],
   "metadata": {
    "collapsed": false,
    "ExecuteTime": {
     "end_time": "2023-12-31T08:52:49.116998Z",
     "start_time": "2023-12-31T08:52:48.904612Z"
    }
   },
   "id": "79554e35b701d743"
  },
  {
   "cell_type": "code",
   "outputs": [],
   "source": [
    "df = df.drop(0)"
   ],
   "metadata": {
    "collapsed": false,
    "ExecuteTime": {
     "end_time": "2023-12-30T08:47:57.872659Z",
     "start_time": "2023-12-30T08:47:57.515304Z"
    }
   },
   "id": "bb233a8a517c8c38",
   "execution_count": 677
  },
  {
   "cell_type": "code",
   "outputs": [],
   "source": [
    "df = df.drop('Number_male', axis=1)\n",
    "df = df.rename(columns={'Unnamed: 6': 'Number_male'})"
   ],
   "metadata": {
    "collapsed": false,
    "ExecuteTime": {
     "end_time": "2023-12-30T08:47:58.077817Z",
     "start_time": "2023-12-30T08:47:57.855706Z"
    }
   },
   "id": "b57515c8aeb170bf",
   "execution_count": 678
  },
  {
   "cell_type": "code",
   "outputs": [],
   "source": [
    "df['ID'] = df['ID'].str.split('/').str.get(0)\n",
    "\n",
    "random_values = np.random.randint(1, 100, df['ID'].isnull().sum())\n",
    "\n",
    "# Заполнение NaN случайными значениями\n",
    "df.loc[df['ID'].isnull(), 'ID'] = random_values"
   ],
   "metadata": {
    "collapsed": false,
    "ExecuteTime": {
     "end_time": "2023-12-30T08:47:58.360217Z",
     "start_time": "2023-12-30T08:47:58.057012Z"
    }
   },
   "id": "1e499c9a4333a7ce",
   "execution_count": 679
  },
  {
   "cell_type": "code",
   "outputs": [],
   "source": [
    "df = df[['ID', 'Number_male', 'Weight_of_progeny', 'Sex_progeny']].copy()\n",
    "df"
   ],
   "metadata": {
    "collapsed": false
   },
   "id": "9325e2cda7a61a99",
   "execution_count": null
  },
  {
   "cell_type": "code",
   "outputs": [],
   "source": [
    "df = df.dropna(subset=['ID'])"
   ],
   "metadata": {
    "collapsed": false,
    "ExecuteTime": {
     "end_time": "2023-12-30T08:47:58.750526Z",
     "start_time": "2023-12-30T08:47:58.495582Z"
    }
   },
   "id": "b272639f87b42e4f",
   "execution_count": 681
  },
  {
   "cell_type": "code",
   "outputs": [],
   "source": [
    "df['ID'] = df['ID'].str.split('/').str.get(0)\n",
    "\n",
    "random_values = np.random.randint(1, 100, df['ID'].isnull().sum())\n",
    "\n",
    "# Заполнение NaN случайными значениями\n",
    "df.loc[df['ID'].isnull(), 'ID'] = random_values"
   ],
   "metadata": {
    "collapsed": false,
    "ExecuteTime": {
     "end_time": "2023-12-30T08:47:59.253191Z",
     "start_time": "2023-12-30T08:47:58.926998Z"
    }
   },
   "id": "ec0190cb260095e3",
   "execution_count": 683
  },
  {
   "cell_type": "code",
   "outputs": [],
   "source": [
    "most_common_value = df['Number_male'].mode()[0]  # Получаем самое популярное значение\n",
    "df['Number_male'].fillna(most_common_value, inplace=True)"
   ],
   "metadata": {
    "collapsed": false,
    "ExecuteTime": {
     "end_time": "2023-12-30T08:47:59.452009Z",
     "start_time": "2023-12-30T08:47:59.210459Z"
    }
   },
   "id": "77fe0eb3240611bd",
   "execution_count": 684
  },
  {
   "cell_type": "code",
   "outputs": [],
   "source": [
    "df['Weight_of_progeny'] = pd.to_numeric(df['Weight_of_progeny'], errors='coerce')"
   ],
   "metadata": {
    "collapsed": false,
    "ExecuteTime": {
     "end_time": "2023-12-30T08:47:59.721631Z",
     "start_time": "2023-12-30T08:47:59.428987Z"
    }
   },
   "id": "3f6b55a7503fa924",
   "execution_count": 685
  },
  {
   "cell_type": "code",
   "outputs": [
    {
     "name": "stdout",
     "output_type": "stream",
     "text": [
      "2.9457142857142857\n",
      "2.9\n"
     ]
    }
   ],
   "source": [
    "print(df['Weight_of_progeny'].mean())\n",
    "print(df['Weight_of_progeny'].median())"
   ],
   "metadata": {
    "collapsed": false,
    "ExecuteTime": {
     "end_time": "2023-12-30T08:47:59.889937Z",
     "start_time": "2023-12-30T08:47:59.697846Z"
    }
   },
   "id": "cefebc8544d7e70c",
   "execution_count": 686
  },
  {
   "cell_type": "code",
   "outputs": [],
   "source": [
    "mean_weight = df['Weight_of_progeny'].mean()\n",
    "df['Weight_of_progeny'].fillna(mean_weight, inplace=True)"
   ],
   "metadata": {
    "collapsed": false,
    "ExecuteTime": {
     "end_time": "2023-12-30T08:48:00.082242Z",
     "start_time": "2023-12-30T08:47:59.871993Z"
    }
   },
   "id": "4659c7d3eeab616b",
   "execution_count": 687
  },
  {
   "cell_type": "code",
   "outputs": [
    {
     "data": {
      "text/plain": "'м'"
     },
     "execution_count": 688,
     "metadata": {},
     "output_type": "execute_result"
    }
   ],
   "source": [
    "most_common_value = df['Sex_progeny'].mode()[0]  # Получаем самое популярное значение\n",
    "most_common_value"
   ],
   "metadata": {
    "collapsed": false,
    "ExecuteTime": {
     "end_time": "2023-12-30T08:48:00.242853Z",
     "start_time": "2023-12-30T08:48:00.059107Z"
    }
   },
   "id": "2c573b229219d71",
   "execution_count": 688
  },
  {
   "cell_type": "code",
   "outputs": [
    {
     "name": "stdout",
     "output_type": "stream",
     "text": [
      "Процент пропусков в столбце 'Sex_progeny': 35.05%\n"
     ]
    }
   ],
   "source": [
    "total_rows = len(df['Sex_progeny'])\n",
    "missing_values_count = df['Sex_progeny'].isna().sum()\n",
    "\n",
    "percentage_missing = (missing_values_count / total_rows) * 100\n",
    "print(f\"Процент пропусков в столбце 'Sex_progeny': {percentage_missing:.2f}%\")"
   ],
   "metadata": {
    "collapsed": false,
    "ExecuteTime": {
     "end_time": "2023-12-30T08:48:00.469502Z",
     "start_time": "2023-12-30T08:48:00.224745Z"
    }
   },
   "id": "665c1e312121a7c7",
   "execution_count": 689
  },
  {
   "cell_type": "code",
   "outputs": [],
   "source": [
    "df['Sex_progeny'].fillna(most_common_value, inplace=True)"
   ],
   "metadata": {
    "collapsed": false,
    "ExecuteTime": {
     "end_time": "2023-12-30T08:48:00.638449Z",
     "start_time": "2023-12-30T08:48:00.451786Z"
    }
   },
   "id": "cfb59ab6684a483f",
   "execution_count": 690
  },
  {
   "cell_type": "code",
   "outputs": [],
   "source": [
    "mask = ~df['Sex_progeny'].isin(['м', 'ж'])\n",
    "\n",
    "# Заменяем значения, которые не \"м\" и не \"ж\", на \"ж\"\n",
    "df.loc[mask, 'Sex_progeny'] = 'ж'"
   ],
   "metadata": {
    "collapsed": false,
    "ExecuteTime": {
     "end_time": "2023-12-30T08:48:00.868296Z",
     "start_time": "2023-12-30T08:48:00.620388Z"
    }
   },
   "id": "c554a08846eb517e",
   "execution_count": 691
  },
  {
   "cell_type": "code",
   "outputs": [
    {
     "data": {
      "text/plain": "<Figure size 600x400 with 1 Axes>",
      "image/png": "[encoded data removed]"
     },
     "metadata": {},
     "output_type": "display_data"
    }
   ],
   "source": [
    "value_counts = df['Sex_progeny'].value_counts(dropna=False)\n",
    "\n",
    "# Создание круговой диаграммы\n",
    "plt.figure(figsize=(6, 4))\n",
    "value_counts.plot.pie(autopct='%1.1f%%', startangle=90, pctdistance=0.85, explode=[0.05]*len(value_counts))\n",
    "plt.title('Распределение уникальных значений в столбце \"Sex_progeny\"')\n",
    "plt.ylabel('')  # Удаление надписи для оси Y\n",
    "plt.show()"
   ],
   "metadata": {
    "collapsed": false,
    "ExecuteTime": {
     "end_time": "2023-12-30T08:48:01.113482Z",
     "start_time": "2023-12-30T08:48:00.853511Z"
    }
   },
   "id": "927d54268102877a",
   "execution_count": 692
  },
  {
   "cell_type": "code",
   "outputs": [
    {
     "data": {
      "text/plain": "0"
     },
     "execution_count": 693,
     "metadata": {},
     "output_type": "execute_result"
    }
   ],
   "source": [
    "df.isna().sum().sum()"
   ],
   "metadata": {
    "collapsed": false,
    "ExecuteTime": {
     "end_time": "2023-12-30T08:48:01.231415Z",
     "start_time": "2023-12-30T08:48:00.998428Z"
    }
   },
   "id": "8e83ed812bae5083",
   "execution_count": 693
  },
  {
   "cell_type": "code",
   "execution_count": 694,
   "outputs": [],
   "source": [
    "df.to_csv('Clean_data/File_10.csv')"
   ],
   "metadata": {
    "collapsed": false,
    "ExecuteTime": {
     "end_time": "2023-12-30T08:48:01.467941Z",
     "start_time": "2023-12-30T08:48:01.213722Z"
    }
   },
   "id": "25f65d10e8fd6581"
  },
  {
   "cell_type": "markdown",
   "source": [
    "Десятый файл завершен\n",
    "___"
   ],
   "metadata": {
    "collapsed": false
   },
   "id": "732e657eb6251b96"
  },
  {
   "cell_type": "code",
   "execution_count": 48,
   "outputs": [],
   "source": [
    "df = df.rename(columns={'бирка': 'ID'})\n",
    "df = df.rename(columns={'пр. ухо': 'Right_ear'})\n",
    "df = df.rename(columns={'лев. ухо': 'Left_ear'})\n",
    "df = df.rename(columns={'дата': 'Date_of_copulation'})\n",
    "df = df.rename(columns={'№ козла': 'Number_male'})\n",
    "df = df.rename(columns={'дата.1': 'Date_1'})\n",
    "df = df.rename(columns={'№ козла.1': 'Number_male1'})\n",
    "df = df.rename(columns={'пол': 'Sex_progeny'})\n",
    "df = df.rename(columns={'инд.№': 'ID_male'})\n",
    "df = df.rename(columns={'ж.м. (кг)': 'Weight_of_progeny'})\n",
    "df = df.drop('Unnamed: 0', axis=1)"
   ],
   "metadata": {
    "collapsed": false,
    "ExecuteTime": {
     "end_time": "2023-12-31T08:53:18.096653Z",
     "start_time": "2023-12-31T08:53:17.933724Z"
    }
   },
   "id": "a97308fec44e43e2"
  },
  {
   "cell_type": "code",
   "execution_count": 49,
   "outputs": [
    {
     "data": {
      "text/plain": "   Right_ear  Left_ear  Unnamed: 4 Unnamed: 5 Date_of_copulation  Number_male  \\\n0        NaN       NaN      2015.0        973           23.09.16        973.0   \n1        NaN       NaN         NaN        NaN                NaN          NaN   \n2        NaN       NaN      2015.0        973           23.09.16        973.0   \n3        NaN       NaN      2015.0        973           23.09.16        973.0   \n4        NaN       NaN      2015.0        973           24.09.16        973.0   \n5        NaN       NaN      2015.0        973           24.09.16        973.0   \n6        NaN       NaN      2015.0        973           25.09.16        973.0   \n7        NaN       NaN      2015.0        973           25.09.16        973.0   \n8        NaN       NaN      2015.0        973           26.09.16        973.0   \n9        NaN       NaN         NaN        NaN                NaN          NaN   \n\n     Date_1  Number_male1 Unnamed: 10 Sex_progeny  ID_male  Weight_of_progeny  \\\n0       NaN           NaN    23.02.17           м    h 060             2000.0   \n1       NaN           NaN    23.02.17           м    h 059             2400.0   \n2       NaN           NaN    21.03.17           ж    h 088             2950.0   \n3  26.09.16         973.0    16.02.17           м    h 058             1900.0   \n4  14.10.16         973.0    02.02.17         NaN  выкидыш                NaN   \n5       NaN           NaN    21.02.17           м   мертвр                NaN   \n6       NaN           NaN    03.02.17         NaN  выкидыш                NaN   \n7       NaN           NaN    23.02.17           м    h 065             2900.0   \n8       NaN           NaN    23.02.17           м    h 062             2600.0   \n9       NaN           NaN    23.02.17           ж    h 063             1500.0   \n\n    Unnamed: 14 Unnamed: 15             Unnamed: 16  \n0           NaN         NaN                     NaN  \n1           NaN         NaN                     NaN  \n2           NaN         NaN            через 6 мес?  \n3  умер17.02.17         NaN                     NaN  \n4           NaN         NaN  2.02.17 скинула двойню  \n5           NaN         NaN                     NaN  \n6           NaN         NaN        3.02.17 скинула   \n7           NaN         NaN                     NaN  \n8           NaN         NaN                     NaN  \n9           NaN         NaN                     NaN  ",
      "text/html": "<div>\n<style scoped>\n    .dataframe tbody tr th:only-of-type {\n        vertical-align: middle;\n    }\n\n    .dataframe tbody tr th {\n        vertical-align: top;\n    }\n\n    .dataframe thead th {\n        text-align: right;\n    }\n</style>\n<table border=\"1\" class=\"dataframe\">\n  <thead>\n    <tr style=\"text-align: right;\">\n      <th></th>\n      <th>Right_ear</th>\n      <th>Left_ear</th>\n      <th>Unnamed: 4</th>\n      <th>Unnamed: 5</th>\n      <th>Date_of_copulation</th>\n      <th>Number_male</th>\n      <th>Date_1</th>\n      <th>Number_male1</th>\n      <th>Unnamed: 10</th>\n      <th>Sex_progeny</th>\n      <th>ID_male</th>\n      <th>Weight_of_progeny</th>\n      <th>Unnamed: 14</th>\n      <th>Unnamed: 15</th>\n      <th>Unnamed: 16</th>\n    </tr>\n  </thead>\n  <tbody>\n    <tr>\n      <th>0</th>\n      <td>NaN</td>\n      <td>NaN</td>\n      <td>2015.0</td>\n      <td>973</td>\n      <td>23.09.16</td>\n      <td>973.0</td>\n      <td>NaN</td>\n      <td>NaN</td>\n      <td>23.02.17</td>\n      <td>м</td>\n      <td>h 060</td>\n      <td>2000.0</td>\n      <td>NaN</td>\n      <td>NaN</td>\n      <td>NaN</td>\n    </tr>\n    <tr>\n      <th>1</th>\n      <td>NaN</td>\n      <td>NaN</td>\n      <td>NaN</td>\n      <td>NaN</td>\n      <td>NaN</td>\n      <td>NaN</td>\n      <td>NaN</td>\n      <td>NaN</td>\n      <td>23.02.17</td>\n      <td>м</td>\n      <td>h 059</td>\n      <td>2400.0</td>\n      <td>NaN</td>\n      <td>NaN</td>\n      <td>NaN</td>\n    </tr>\n    <tr>\n      <th>2</th>\n      <td>NaN</td>\n      <td>NaN</td>\n      <td>2015.0</td>\n      <td>973</td>\n      <td>23.09.16</td>\n      <td>973.0</td>\n      <td>NaN</td>\n      <td>NaN</td>\n      <td>21.03.17</td>\n      <td>ж</td>\n      <td>h 088</td>\n      <td>2950.0</td>\n      <td>NaN</td>\n      <td>NaN</td>\n      <td>через 6 мес?</td>\n    </tr>\n    <tr>\n      <th>3</th>\n      <td>NaN</td>\n      <td>NaN</td>\n      <td>2015.0</td>\n      <td>973</td>\n      <td>23.09.16</td>\n      <td>973.0</td>\n      <td>26.09.16</td>\n      <td>973.0</td>\n      <td>16.02.17</td>\n      <td>м</td>\n      <td>h 058</td>\n      <td>1900.0</td>\n      <td>умер17.02.17</td>\n      <td>NaN</td>\n      <td>NaN</td>\n    </tr>\n    <tr>\n      <th>4</th>\n      <td>NaN</td>\n      <td>NaN</td>\n      <td>2015.0</td>\n      <td>973</td>\n      <td>24.09.16</td>\n      <td>973.0</td>\n      <td>14.10.16</td>\n      <td>973.0</td>\n      <td>02.02.17</td>\n      <td>NaN</td>\n      <td>выкидыш</td>\n      <td>NaN</td>\n      <td>NaN</td>\n      <td>NaN</td>\n      <td>2.02.17 скинула двойню</td>\n    </tr>\n    <tr>\n      <th>5</th>\n      <td>NaN</td>\n      <td>NaN</td>\n      <td>2015.0</td>\n      <td>973</td>\n      <td>24.09.16</td>\n      <td>973.0</td>\n      <td>NaN</td>\n      <td>NaN</td>\n      <td>21.02.17</td>\n      <td>м</td>\n      <td>мертвр</td>\n      <td>NaN</td>\n      <td>NaN</td>\n      <td>NaN</td>\n      <td>NaN</td>\n    </tr>\n    <tr>\n      <th>6</th>\n      <td>NaN</td>\n      <td>NaN</td>\n      <td>2015.0</td>\n      <td>973</td>\n      <td>25.09.16</td>\n      <td>973.0</td>\n      <td>NaN</td>\n      <td>NaN</td>\n      <td>03.02.17</td>\n      <td>NaN</td>\n      <td>выкидыш</td>\n      <td>NaN</td>\n      <td>NaN</td>\n      <td>NaN</td>\n      <td>3.02.17 скинула</td>\n    </tr>\n    <tr>\n      <th>7</th>\n      <td>NaN</td>\n      <td>NaN</td>\n      <td>2015.0</td>\n      <td>973</td>\n      <td>25.09.16</td>\n      <td>973.0</td>\n      <td>NaN</td>\n      <td>NaN</td>\n      <td>23.02.17</td>\n      <td>м</td>\n      <td>h 065</td>\n      <td>2900.0</td>\n      <td>NaN</td>\n      <td>NaN</td>\n      <td>NaN</td>\n    </tr>\n    <tr>\n      <th>8</th>\n      <td>NaN</td>\n      <td>NaN</td>\n      <td>2015.0</td>\n      <td>973</td>\n      <td>26.09.16</td>\n      <td>973.0</td>\n      <td>NaN</td>\n      <td>NaN</td>\n      <td>23.02.17</td>\n      <td>м</td>\n      <td>h 062</td>\n      <td>2600.0</td>\n      <td>NaN</td>\n      <td>NaN</td>\n      <td>NaN</td>\n    </tr>\n    <tr>\n      <th>9</th>\n      <td>NaN</td>\n      <td>NaN</td>\n      <td>NaN</td>\n      <td>NaN</td>\n      <td>NaN</td>\n      <td>NaN</td>\n      <td>NaN</td>\n      <td>NaN</td>\n      <td>23.02.17</td>\n      <td>ж</td>\n      <td>h 063</td>\n      <td>1500.0</td>\n      <td>NaN</td>\n      <td>NaN</td>\n      <td>NaN</td>\n    </tr>\n  </tbody>\n</table>\n</div>"
     },
     "execution_count": 49,
     "metadata": {},
     "output_type": "execute_result"
    }
   ],
   "source": [
    "df = df.drop('ID', axis=1)\n",
    "df.head(10)"
   ],
   "metadata": {
    "collapsed": false,
    "ExecuteTime": {
     "end_time": "2023-12-31T08:53:22.613362Z",
     "start_time": "2023-12-31T08:53:22.396219Z"
    }
   },
   "id": "f0d4ff3c0c194488"
  },
  {
   "cell_type": "code",
   "outputs": [],
   "source": [
    "df = df.dropna(subset=['ID'])"
   ],
   "metadata": {
    "collapsed": false,
    "ExecuteTime": {
     "end_time": "2023-12-30T08:48:02.468194Z",
     "start_time": "2023-12-30T08:48:02.268541Z"
    }
   },
   "id": "1b0e1728bae11a9",
   "execution_count": 699
  },
  {
   "cell_type": "code",
   "outputs": [],
   "source": [
    "df = df.drop('Number_male', axis=1)\n",
    "df = df.rename(columns={'Unnamed: 5': 'Number_male'})"
   ],
   "metadata": {
    "collapsed": false,
    "ExecuteTime": {
     "end_time": "2023-12-30T08:48:02.824419Z",
     "start_time": "2023-12-30T08:48:02.450857Z"
    }
   },
   "id": "2d4bc13a86196ab1",
   "execution_count": 700
  },
  {
   "cell_type": "code",
   "outputs": [],
   "source": [
    "df = df[['ID', 'Number_male', 'Weight_of_progeny', 'Sex_progeny']].copy()\n",
    "df"
   ],
   "metadata": {
    "collapsed": false
   },
   "id": "76f9032bec5260a9",
   "execution_count": null
  },
  {
   "cell_type": "code",
   "outputs": [],
   "source": [
    "df['ID'] = df['ID'].str.split('/').str.get(0)\n",
    "\n",
    "random_values = np.random.randint(1, 100, df['ID'].isnull().sum())\n",
    "\n",
    "# Заполнение NaN случайными значениями\n",
    "df.loc[df['ID'].isnull(), 'ID'] = random_values"
   ],
   "metadata": {
    "collapsed": false,
    "ExecuteTime": {
     "end_time": "2023-12-30T08:48:03.311279Z",
     "start_time": "2023-12-30T08:48:02.981508Z"
    }
   },
   "id": "90014c5d576d2891",
   "execution_count": 702
  },
  {
   "cell_type": "code",
   "outputs": [],
   "source": [
    "most_common_value = df['Number_male'].mode()[0]  # Получаем самое популярное значение\n",
    "df['Number_male'].fillna(most_common_value, inplace=True)"
   ],
   "metadata": {
    "collapsed": false,
    "ExecuteTime": {
     "end_time": "2023-12-30T08:48:03.513542Z",
     "start_time": "2023-12-30T08:48:03.291301Z"
    }
   },
   "id": "92ef7d729067513d",
   "execution_count": 703
  },
  {
   "cell_type": "code",
   "outputs": [],
   "source": [
    "df['Weight_of_progeny'] = pd.to_numeric(df['Weight_of_progeny'], errors='coerce')"
   ],
   "metadata": {
    "collapsed": false,
    "ExecuteTime": {
     "end_time": "2023-12-30T08:48:03.815703Z",
     "start_time": "2023-12-30T08:48:03.490537Z"
    }
   },
   "id": "dae3ca5d8067f63e",
   "execution_count": 704
  },
  {
   "cell_type": "code",
   "outputs": [
    {
     "name": "stdout",
     "output_type": "stream",
     "text": [
      "2890.1785714285716\n",
      "2825.0\n"
     ]
    }
   ],
   "source": [
    "print(df['Weight_of_progeny'].mean())\n",
    "print(df['Weight_of_progeny'].median())"
   ],
   "metadata": {
    "collapsed": false,
    "ExecuteTime": {
     "end_time": "2023-12-30T08:48:03.949119Z",
     "start_time": "2023-12-30T08:48:03.769519Z"
    }
   },
   "id": "70ef20357d91bab7",
   "execution_count": 705
  },
  {
   "cell_type": "code",
   "outputs": [],
   "source": [
    "mean_weight = df['Weight_of_progeny'].mean()\n",
    "df['Weight_of_progeny'].fillna(mean_weight, inplace=True)"
   ],
   "metadata": {
    "collapsed": false,
    "ExecuteTime": {
     "end_time": "2023-12-30T08:48:04.127515Z",
     "start_time": "2023-12-30T08:48:03.917328Z"
    }
   },
   "id": "b3b3eaf48f674932",
   "execution_count": 706
  },
  {
   "cell_type": "code",
   "outputs": [
    {
     "data": {
      "text/plain": "'ж'"
     },
     "execution_count": 707,
     "metadata": {},
     "output_type": "execute_result"
    }
   ],
   "source": [
    "most_common_value = df['Sex_progeny'].mode()[0]  # Получаем самое популярное значение\n",
    "most_common_value"
   ],
   "metadata": {
    "collapsed": false,
    "ExecuteTime": {
     "end_time": "2023-12-30T08:48:04.286483Z",
     "start_time": "2023-12-30T08:48:04.104724Z"
    }
   },
   "id": "d5bb4a30805d83b9",
   "execution_count": 707
  },
  {
   "cell_type": "code",
   "outputs": [
    {
     "name": "stdout",
     "output_type": "stream",
     "text": [
      "Процент пропусков в столбце 'Sex_progeny': 24.68%\n"
     ]
    }
   ],
   "source": [
    "total_rows = len(df['Sex_progeny'])\n",
    "missing_values_count = df['Sex_progeny'].isna().sum()\n",
    "\n",
    "percentage_missing = (missing_values_count / total_rows) * 100\n",
    "print(f\"Процент пропусков в столбце 'Sex_progeny': {percentage_missing:.2f}%\")"
   ],
   "metadata": {
    "collapsed": false,
    "ExecuteTime": {
     "end_time": "2023-12-30T08:48:04.487575Z",
     "start_time": "2023-12-30T08:48:04.268835Z"
    }
   },
   "id": "5bd8e0196abb6f85",
   "execution_count": 708
  },
  {
   "cell_type": "code",
   "outputs": [],
   "source": [
    "df['Sex_progeny'].fillna(most_common_value, inplace=True)"
   ],
   "metadata": {
    "collapsed": false,
    "ExecuteTime": {
     "end_time": "2023-12-30T08:48:04.649179Z",
     "start_time": "2023-12-30T08:48:04.464857Z"
    }
   },
   "id": "be89cbc8d2b67255",
   "execution_count": 709
  },
  {
   "cell_type": "code",
   "outputs": [],
   "source": [
    "mask = ~df['Sex_progeny'].isin(['м', 'ж'])\n",
    "\n",
    "# Заменяем значения, которые не \"м\" и не \"ж\", на \"ж\"\n",
    "df.loc[mask, 'Sex_progeny'] = 'м'"
   ],
   "metadata": {
    "collapsed": false,
    "ExecuteTime": {
     "end_time": "2023-12-30T08:48:04.871660Z",
     "start_time": "2023-12-30T08:48:04.631747Z"
    }
   },
   "id": "9b6c01eb8ba7b325",
   "execution_count": 710
  },
  {
   "cell_type": "code",
   "outputs": [
    {
     "data": {
      "text/plain": "<Figure size 600x400 with 1 Axes>",
      "image/png": "[encoded data removed]"
     },
     "metadata": {},
     "output_type": "display_data"
    }
   ],
   "source": [
    "value_counts = df['Sex_progeny'].value_counts(dropna=False)\n",
    "\n",
    "# Создание круговой диаграммы\n",
    "plt.figure(figsize=(6, 4))\n",
    "value_counts.plot.pie(autopct='%1.1f%%', startangle=90, pctdistance=0.85, explode=[0.05]*len(value_counts))\n",
    "plt.title('Распределение уникальных значений в столбце \"Sex_progeny\"')\n",
    "plt.ylabel('')  # Удаление надписи для оси Y\n",
    "plt.show()"
   ],
   "metadata": {
    "collapsed": false,
    "ExecuteTime": {
     "end_time": "2023-12-30T08:48:05.118435Z",
     "start_time": "2023-12-30T08:48:04.857376Z"
    }
   },
   "id": "95032cffb24abeae",
   "execution_count": 711
  },
  {
   "cell_type": "code",
   "outputs": [
    {
     "data": {
      "text/plain": "0"
     },
     "execution_count": 712,
     "metadata": {},
     "output_type": "execute_result"
    }
   ],
   "source": [
    "df.isna().sum().sum()"
   ],
   "metadata": {
    "collapsed": false,
    "ExecuteTime": {
     "end_time": "2023-12-30T08:48:05.243288Z",
     "start_time": "2023-12-30T08:48:05.028567Z"
    }
   },
   "id": "614d7817629db6a7",
   "execution_count": 712
  },
  {
   "cell_type": "code",
   "execution_count": 713,
   "outputs": [],
   "source": [
    "df.to_csv('Clean_data/File_11.csv')"
   ],
   "metadata": {
    "collapsed": false,
    "ExecuteTime": {
     "end_time": "2023-12-30T08:48:05.522232Z",
     "start_time": "2023-12-30T08:48:05.225283Z"
    }
   },
   "id": "4f7dcfb39bee8b9f"
  },
  {
   "cell_type": "markdown",
   "source": [
    "Одиннадцатый файл завершен\n",
    "___"
   ],
   "metadata": {
    "collapsed": false
   },
   "id": "9404cffb20d8208a"
  },
  {
   "cell_type": "code",
   "execution_count": 52,
   "outputs": [],
   "source": [
    "df = df.drop(30)\n",
    "df = df.drop(31)\n",
    "df = df.drop(' п\\\\п', axis=1)\n",
    "df = df.rename(columns={'Unnamed: 1': 'ID'})\n",
    "df = df.rename(columns={'утро': 'Morning_17.01.17'})\n",
    "df = df.rename(columns={'полдень': 'Afternoon_17.01.17'})\n",
    "df = df.rename(columns={'вечер': 'Evening_17.01.17'})\n",
    "df = df.rename(columns={'Всего': 'Total_17.01.17'})\n",
    "\n",
    "df = df.rename(columns={'утро.1': 'Morning_18.02.17'})\n",
    "df = df.rename(columns={'полдень.1': 'Afternoon_18.02.17'})\n",
    "df = df.rename(columns={'вечер.1': 'Evening_18.02.17'})\n",
    "df = df.rename(columns={'Всего.1': 'Total_18.02.17'})\n",
    "\n",
    "df = df.rename(columns={'утро.2': 'Morning_21.03.17'})\n",
    "df = df.rename(columns={'полдень.2': 'Afternoon_21.03.17'})\n",
    "df = df.rename(columns={'вечер.2': 'Evening_21.03.17'})\n",
    "df = df.rename(columns={'Всего.2': 'Total_21.03.17'})\n",
    "\n",
    "df = df.rename(columns={'утро.3': 'Morning_20.04.17'})\n",
    "df = df.rename(columns={'полдень.3': 'Afternoon_20.04.17'})\n",
    "df = df.rename(columns={'вечер.3': 'Evening_20.04.17'})\n",
    "df = df.rename(columns={'Всего.3': 'Total_20.04.17'})\n",
    "\n",
    "df = df.rename(columns={'утро.4': 'Morning_27.05.17'})\n",
    "df = df.rename(columns={'полдень.4': 'Afternoon_27.05.17'})\n",
    "df = df.rename(columns={'вечер.4': 'Evening_27.05.17'})\n",
    "df = df.rename(columns={'Всего.4': 'Total_27.05.17'})\n",
    "\n",
    "df = df.rename(columns={'утро.5': 'Morning_26.06.17'})\n",
    "df = df.rename(columns={'полдень.5': 'Afternoon_26.06.17'})\n",
    "df = df.rename(columns={'вечер.5': 'Evening_26.06.17'})\n",
    "df = df.rename(columns={'Всего.5': 'Total_26.06.17'})\n",
    "\n",
    "df = df.rename(columns={'утро.6': 'Morning_20.07.17'})\n",
    "df = df.rename(columns={'полдень.6': 'Afternoon_20.07.17'})\n",
    "df = df.rename(columns={'вечер.6': 'Evening_20.07.17'})\n",
    "df = df.rename(columns={'Всего.6': 'Total_20.07.17'})\n",
    "\n",
    "df = df.rename(columns={'утро.7': 'Morning_21.08.17'})\n",
    "df = df.rename(columns={'полдень.7': 'Afternoon_21.08.17'})\n",
    "df = df.rename(columns={'вечер.7': 'Evening_21.08.17'})\n",
    "df = df.rename(columns={'Всего.7': 'Total_21.08.17'})\n",
    "\n",
    "df = df.rename(columns={'утро.8': 'Morning_20.09.17'})\n",
    "df = df.rename(columns={'полдень.8': 'Afternoon_20.09.17'})\n",
    "df = df.rename(columns={'вечер.8': 'Evening_20.09.17'})\n",
    "df = df.rename(columns={'Всего.8': 'Total_20.09.17'})\n",
    "\n",
    "df = df.rename(columns={'утро.9': 'Morning_26.10.17'})\n",
    "df = df.rename(columns={'полдень.9': 'Afternoon_26.10.17'})\n",
    "df = df.rename(columns={'вечер.9': 'Evening_26.10.17'})\n",
    "df = df.rename(columns={'Всего.9': 'Total_26.10.17'})\n",
    "\n",
    "df = df.rename(columns={'утро.10': 'Morning_15.11.17'})\n",
    "df = df.rename(columns={'полдень.10': 'Afternoon_15.11.17'})\n",
    "df = df.rename(columns={'вечер.10': 'Evening_15.11.17'})\n",
    "df = df.rename(columns={'Всего.10': 'Total_15.11.17'})\n",
    "\n",
    "df = df.rename(columns={'утро.11': 'Morning_31.12.17'})\n",
    "df = df.rename(columns={'полдень.11': 'Afternoon_31.12.17'})\n",
    "df = df.rename(columns={'вечер.11': 'Evening_31.12.17'})\n",
    "df = df.rename(columns={'Всего.11': 'Total_31.12.17'})\n",
    "\n",
    "df = df.rename(columns={'1 коза': 'Mean_per_1'})"
   ],
   "metadata": {
    "collapsed": false,
    "ExecuteTime": {
     "end_time": "2023-12-31T08:53:46.369467Z",
     "start_time": "2023-12-31T08:53:46.183092Z"
    }
   },
   "id": "fd989c5ec4ffa818"
  },
  {
   "cell_type": "code",
   "execution_count": 53,
   "outputs": [
    {
     "data": {
      "text/plain": "   Morning_17.01.17  Afternoon_17.01.17  Evening_17.01.17  Total_17.01.17  \\\n0               0.5                 0.3               0.5             1.3   \n1               0.9                 0.4               0.2             1.5   \n2               1.0                 1.0               0.9             2.9   \n3               0.6                 0.5               0.2             1.3   \n4               1.0                 0.8               0.7             2.5   \n5               0.9                 0.7               0.5             2.1   \n6               1.0                 0.7               0.6             2.3   \n7               0.6                 0.6               0.6             1.8   \n8               0.5                 0.1               0.1             0.7   \n9               1.0                 0.8               0.5             2.3   \n\n   Morning_18.02.17  Afternoon_18.02.17  Evening_18.02.17  Total_18.02.17  \\\n0               0.5                 0.2               0.0             0.7   \n1               0.0                 0.0               0.0             0.0   \n2               1.0                 0.9               0.8             2.7   \n3               0.5                 0.5               0.3             1.3   \n4               0.9                 0.7               0.7             2.3   \n5               NaN                 NaN               NaN             0.0   \n6               NaN                 NaN               NaN             0.0   \n7               0.4                 0.4               0.4             1.2   \n8               0.1                 0.0               0.5             0.6   \n9               0.9                 0.8               0.4             2.1   \n\n   Morning_21.03.17  Afternoon_21.03.17  ...  Total_15.11.17  \\\n0               NaN                 NaN  ...             2.1   \n1               NaN                 NaN  ...             2.2   \n2               NaN                 NaN  ...             0.2   \n3               0.5                 0.4  ...             0.1   \n4               NaN                 NaN  ...             0.1   \n5               NaN                 NaN  ...             0.0   \n6               NaN                 NaN  ...             0.0   \n7               NaN                 NaN  ...             2.5   \n8               NaN                 NaN  ...             2.5   \n9               NaN                 NaN  ...             0.0   \n\n   Morning_31.12.17  Afternoon_31.12.17  Evening_31.12.17  Total_31.12.17  \\\n0               1.0                 0.7               0.3             2.0   \n1               1.0                 0.8               0.4             2.2   \n2               0.1                 0.0               0.0             0.1   \n3               NaN                 NaN               NaN             0.0   \n4               NaN                 NaN               NaN             0.0   \n5               1.5                 0.7               0.6             2.8   \n6               1.0                 1.0               0.9             2.9   \n7               0.9                 0.7               0.6             2.2   \n8               1.0                 0.9               0.6             2.5   \n9               NaN                 NaN               NaN             0.0   \n\n   Unnamed: 52 Unnamed: 53  Mean_per_1  Unnamed: 55  Unnamed: 56  \n0         25.4        11.0    2.309091          1.0          NaN  \n1         22.1        10.0    2.210000          2.0          NaN  \n2          7.3         9.0    0.811111          3.0          NaN  \n3          4.9         9.0    0.544444          4.0          NaN  \n4          7.4         9.0    0.822222          5.0          NaN  \n5          6.9        11.0    0.627273          6.0          NaN  \n6          7.0        11.0    0.636364          7.0          NaN  \n7         23.2        10.0    2.320000          8.0          NaN  \n8         21.5        10.0    2.150000          9.0          NaN  \n9          5.8        10.0    0.580000         10.0          NaN  \n\n[10 rows x 55 columns]",
      "text/html": "<div>\n<style scoped>\n    .dataframe tbody tr th:only-of-type {\n        vertical-align: middle;\n    }\n\n    .dataframe tbody tr th {\n        vertical-align: top;\n    }\n\n    .dataframe thead th {\n        text-align: right;\n    }\n</style>\n<table border=\"1\" class=\"dataframe\">\n  <thead>\n    <tr style=\"text-align: right;\">\n      <th></th>\n      <th>Morning_17.01.17</th>\n      <th>Afternoon_17.01.17</th>\n      <th>Evening_17.01.17</th>\n      <th>Total_17.01.17</th>\n      <th>Morning_18.02.17</th>\n      <th>Afternoon_18.02.17</th>\n      <th>Evening_18.02.17</th>\n      <th>Total_18.02.17</th>\n      <th>Morning_21.03.17</th>\n      <th>Afternoon_21.03.17</th>\n      <th>...</th>\n      <th>Total_15.11.17</th>\n      <th>Morning_31.12.17</th>\n      <th>Afternoon_31.12.17</th>\n      <th>Evening_31.12.17</th>\n      <th>Total_31.12.17</th>\n      <th>Unnamed: 52</th>\n      <th>Unnamed: 53</th>\n      <th>Mean_per_1</th>\n      <th>Unnamed: 55</th>\n      <th>Unnamed: 56</th>\n    </tr>\n  </thead>\n  <tbody>\n    <tr>\n      <th>0</th>\n      <td>0.5</td>\n      <td>0.3</td>\n      <td>0.5</td>\n      <td>1.3</td>\n      <td>0.5</td>\n      <td>0.2</td>\n      <td>0.0</td>\n      <td>0.7</td>\n      <td>NaN</td>\n      <td>NaN</td>\n      <td>...</td>\n      <td>2.1</td>\n      <td>1.0</td>\n      <td>0.7</td>\n      <td>0.3</td>\n      <td>2.0</td>\n      <td>25.4</td>\n      <td>11.0</td>\n      <td>2.309091</td>\n      <td>1.0</td>\n      <td>NaN</td>\n    </tr>\n    <tr>\n      <th>1</th>\n      <td>0.9</td>\n      <td>0.4</td>\n      <td>0.2</td>\n      <td>1.5</td>\n      <td>0.0</td>\n      <td>0.0</td>\n      <td>0.0</td>\n      <td>0.0</td>\n      <td>NaN</td>\n      <td>NaN</td>\n      <td>...</td>\n      <td>2.2</td>\n      <td>1.0</td>\n      <td>0.8</td>\n      <td>0.4</td>\n      <td>2.2</td>\n      <td>22.1</td>\n      <td>10.0</td>\n      <td>2.210000</td>\n      <td>2.0</td>\n      <td>NaN</td>\n    </tr>\n    <tr>\n      <th>2</th>\n      <td>1.0</td>\n      <td>1.0</td>\n      <td>0.9</td>\n      <td>2.9</td>\n      <td>1.0</td>\n      <td>0.9</td>\n      <td>0.8</td>\n      <td>2.7</td>\n      <td>NaN</td>\n      <td>NaN</td>\n      <td>...</td>\n      <td>0.2</td>\n      <td>0.1</td>\n      <td>0.0</td>\n      <td>0.0</td>\n      <td>0.1</td>\n      <td>7.3</td>\n      <td>9.0</td>\n      <td>0.811111</td>\n      <td>3.0</td>\n      <td>NaN</td>\n    </tr>\n    <tr>\n      <th>3</th>\n      <td>0.6</td>\n      <td>0.5</td>\n      <td>0.2</td>\n      <td>1.3</td>\n      <td>0.5</td>\n      <td>0.5</td>\n      <td>0.3</td>\n      <td>1.3</td>\n      <td>0.5</td>\n      <td>0.4</td>\n      <td>...</td>\n      <td>0.1</td>\n      <td>NaN</td>\n      <td>NaN</td>\n      <td>NaN</td>\n      <td>0.0</td>\n      <td>4.9</td>\n      <td>9.0</td>\n      <td>0.544444</td>\n      <td>4.0</td>\n      <td>NaN</td>\n    </tr>\n    <tr>\n      <th>4</th>\n      <td>1.0</td>\n      <td>0.8</td>\n      <td>0.7</td>\n      <td>2.5</td>\n      <td>0.9</td>\n      <td>0.7</td>\n      <td>0.7</td>\n      <td>2.3</td>\n      <td>NaN</td>\n      <td>NaN</td>\n      <td>...</td>\n      <td>0.1</td>\n      <td>NaN</td>\n      <td>NaN</td>\n      <td>NaN</td>\n      <td>0.0</td>\n      <td>7.4</td>\n      <td>9.0</td>\n      <td>0.822222</td>\n      <td>5.0</td>\n      <td>NaN</td>\n    </tr>\n    <tr>\n      <th>5</th>\n      <td>0.9</td>\n      <td>0.7</td>\n      <td>0.5</td>\n      <td>2.1</td>\n      <td>NaN</td>\n      <td>NaN</td>\n      <td>NaN</td>\n      <td>0.0</td>\n      <td>NaN</td>\n      <td>NaN</td>\n      <td>...</td>\n      <td>0.0</td>\n      <td>1.5</td>\n      <td>0.7</td>\n      <td>0.6</td>\n      <td>2.8</td>\n      <td>6.9</td>\n      <td>11.0</td>\n      <td>0.627273</td>\n      <td>6.0</td>\n      <td>NaN</td>\n    </tr>\n    <tr>\n      <th>6</th>\n      <td>1.0</td>\n      <td>0.7</td>\n      <td>0.6</td>\n      <td>2.3</td>\n      <td>NaN</td>\n      <td>NaN</td>\n      <td>NaN</td>\n      <td>0.0</td>\n      <td>NaN</td>\n      <td>NaN</td>\n      <td>...</td>\n      <td>0.0</td>\n      <td>1.0</td>\n      <td>1.0</td>\n      <td>0.9</td>\n      <td>2.9</td>\n      <td>7.0</td>\n      <td>11.0</td>\n      <td>0.636364</td>\n      <td>7.0</td>\n      <td>NaN</td>\n    </tr>\n    <tr>\n      <th>7</th>\n      <td>0.6</td>\n      <td>0.6</td>\n      <td>0.6</td>\n      <td>1.8</td>\n      <td>0.4</td>\n      <td>0.4</td>\n      <td>0.4</td>\n      <td>1.2</td>\n      <td>NaN</td>\n      <td>NaN</td>\n      <td>...</td>\n      <td>2.5</td>\n      <td>0.9</td>\n      <td>0.7</td>\n      <td>0.6</td>\n      <td>2.2</td>\n      <td>23.2</td>\n      <td>10.0</td>\n      <td>2.320000</td>\n      <td>8.0</td>\n      <td>NaN</td>\n    </tr>\n    <tr>\n      <th>8</th>\n      <td>0.5</td>\n      <td>0.1</td>\n      <td>0.1</td>\n      <td>0.7</td>\n      <td>0.1</td>\n      <td>0.0</td>\n      <td>0.5</td>\n      <td>0.6</td>\n      <td>NaN</td>\n      <td>NaN</td>\n      <td>...</td>\n      <td>2.5</td>\n      <td>1.0</td>\n      <td>0.9</td>\n      <td>0.6</td>\n      <td>2.5</td>\n      <td>21.5</td>\n      <td>10.0</td>\n      <td>2.150000</td>\n      <td>9.0</td>\n      <td>NaN</td>\n    </tr>\n    <tr>\n      <th>9</th>\n      <td>1.0</td>\n      <td>0.8</td>\n      <td>0.5</td>\n      <td>2.3</td>\n      <td>0.9</td>\n      <td>0.8</td>\n      <td>0.4</td>\n      <td>2.1</td>\n      <td>NaN</td>\n      <td>NaN</td>\n      <td>...</td>\n      <td>0.0</td>\n      <td>NaN</td>\n      <td>NaN</td>\n      <td>NaN</td>\n      <td>0.0</td>\n      <td>5.8</td>\n      <td>10.0</td>\n      <td>0.580000</td>\n      <td>10.0</td>\n      <td>NaN</td>\n    </tr>\n  </tbody>\n</table>\n<p>10 rows × 55 columns</p>\n</div>"
     },
     "execution_count": 53,
     "metadata": {},
     "output_type": "execute_result"
    }
   ],
   "source": [
    "df = df.drop('ID', axis=1)\n",
    "df.head(10)"
   ],
   "metadata": {
    "collapsed": false,
    "ExecuteTime": {
     "end_time": "2023-12-31T08:53:53.614241Z",
     "start_time": "2023-12-31T08:53:53.407769Z"
    }
   },
   "id": "4d72afa793aecab8"
  },
  {
   "cell_type": "code",
   "outputs": [],
   "source": [
    "df = df[['ID', 'Mean_per_1']]\n",
    "df"
   ],
   "metadata": {
    "collapsed": false
   },
   "id": "2c79143b41d56abd",
   "execution_count": null
  },
  {
   "cell_type": "code",
   "outputs": [],
   "source": [
    "df = df.dropna(subset='ID')"
   ],
   "metadata": {
    "collapsed": false,
    "ExecuteTime": {
     "end_time": "2023-12-30T08:48:06.861194Z",
     "start_time": "2023-12-30T08:48:06.512381Z"
    }
   },
   "id": "a7c4c1388bca9e9e",
   "execution_count": 719
  },
  {
   "cell_type": "code",
   "outputs": [
    {
     "name": "stdout",
     "output_type": "stream",
     "text": [
      "1.7555555555555555\n",
      "1.6066377398321845\n"
     ]
    }
   ],
   "source": [
    "print(df['Mean_per_1'].median())\n",
    "print(df['Mean_per_1'].mean())"
   ],
   "metadata": {
    "collapsed": false,
    "ExecuteTime": {
     "end_time": "2023-12-30T08:48:07.084533Z",
     "start_time": "2023-12-30T08:48:06.843592Z"
    }
   },
   "id": "3ebe910a9e3e4bdf",
   "execution_count": 720
  },
  {
   "cell_type": "code",
   "outputs": [],
   "source": [
    "median_date = df['Mean_per_1'].median()\n",
    "df['Mean_per_1'] = df['Mean_per_1'].fillna(median_date)"
   ],
   "metadata": {
    "collapsed": false
   },
   "id": "c540b3f411a6210c",
   "execution_count": null
  },
  {
   "cell_type": "code",
   "execution_count": 722,
   "outputs": [],
   "source": [
    "df.to_csv('Clean_data/Target_1.csv')"
   ],
   "metadata": {
    "collapsed": false,
    "ExecuteTime": {
     "end_time": "2023-12-30T08:48:07.566792Z",
     "start_time": "2023-12-30T08:48:07.373362Z"
    }
   },
   "id": "1d70a85065b0c56a"
  },
  {
   "cell_type": "markdown",
   "source": [
    "Первый таргет завершен\n",
    "___"
   ],
   "metadata": {
    "collapsed": false
   },
   "id": "59628ae5f94c3f3b"
  },
  {
   "cell_type": "code",
   "execution_count": 56,
   "outputs": [],
   "source": [
    "df = df.rename(columns={'Unnamed: 1': 'ID'})\n",
    "df = df.rename(columns={'надои': 'Mean_per_1'})\n",
    "df = df.drop(30)\n",
    "df = df.drop(31)\n",
    "df = df.drop(' п\\\\п', axis=1)"
   ],
   "metadata": {
    "collapsed": false,
    "ExecuteTime": {
     "end_time": "2023-12-31T08:54:48.228911Z",
     "start_time": "2023-12-31T08:54:48.062766Z"
    }
   },
   "id": "59359e6a4885d45d"
  },
  {
   "cell_type": "code",
   "execution_count": 57,
   "outputs": [
    {
     "data": {
      "text/plain": "   утро  полдень  вечер  Всего  утро.1  полдень.1  вечер.1  Всего.1  утро.2  \\\n0   0.6      0.4    0.4    1.4     0.9        0.5      0.3      1.7     0.9   \n1   0.5      0.4    0.5    1.4     0.9        0.4      0.3      1.6     0.8   \n2   1.3      0.9    0.7    2.9     1.0        1.0      0.9      2.9     0.9   \n3   0.6      0.4    0.2    1.2     0.4        0.3      0.2      0.9     0.9   \n4   1.2      0.9    0.5    2.6     1.1        0.9      0.6      2.6     1.0   \n5   0.9      0.7    0.5    2.1     1.0        0.7      0.5      2.2     1.1   \n6   1.5      0.6    0.6    2.7     1.6        0.5      0.5      2.6     1.4   \n7   0.7      0.6    0.5    1.8     0.8        0.8      0.3      1.9     0.9   \n8   1.0      0.5    0.3    1.8     1.0        0.4      0.4      1.8     1.0   \n9   1.0      0.8    0.7    2.5     0.9        0.9      0.7      2.5     0.9   \n\n   полдень.2  ...  полдень.5  вечер.5  Всего.5  утро.6  полдень.6  вечер.6  \\\n0        0.2  ...        0.3      0.2      1.6     1.1        0.3      0.1   \n1        0.2  ...        0.3      0.2      1.7     1.0        0.4      0.3   \n2        1.0  ...        0.9      0.9      2.9     1.0        1.0      0.9   \n3        0.4  ...        0.4      0.3      1.6     0.9        0.3      0.1   \n4        0.9  ...        0.9      0.7      2.6     1.0        0.8      0.8   \n5        0.7  ...        0.6      0.5      2.1     1.0        0.6      0.5   \n6        0.6  ...        0.8      0.6      2.4     1.0        0.7      0.6   \n7        0.7  ...        0.7      0.2      1.8     0.8        0.6      0.3   \n8        0.5  ...        0.5      0.4      1.8     0.8        0.5      0.5   \n9        0.9  ...        0.8      0.8      2.5     0.9        0.9      0.7   \n\n  Всего.6  Unnamed: 31  мес.  Mean_per_1  \n0     1.5         10.0   7.0    1.428571  \n1     1.7         10.9   7.0    1.557143  \n2     2.9         20.1   7.0    2.871429  \n3     1.3          9.4   7.0    1.342857  \n4     2.6         18.2   7.0    2.600000  \n5     2.1         15.1   7.0    2.157143  \n6     2.3         17.5   7.0    2.500000  \n7     1.7         13.1   7.0    1.871429  \n8     1.8         12.7   7.0    1.814286  \n9     2.5         17.7   7.0    2.528571  \n\n[10 rows x 32 columns]",
      "text/html": "<div>\n<style scoped>\n    .dataframe tbody tr th:only-of-type {\n        vertical-align: middle;\n    }\n\n    .dataframe tbody tr th {\n        vertical-align: top;\n    }\n\n    .dataframe thead th {\n        text-align: right;\n    }\n</style>\n<table border=\"1\" class=\"dataframe\">\n  <thead>\n    <tr style=\"text-align: right;\">\n      <th></th>\n      <th>утро</th>\n      <th>полдень</th>\n      <th>вечер</th>\n      <th>Всего</th>\n      <th>утро.1</th>\n      <th>полдень.1</th>\n      <th>вечер.1</th>\n      <th>Всего.1</th>\n      <th>утро.2</th>\n      <th>полдень.2</th>\n      <th>...</th>\n      <th>полдень.5</th>\n      <th>вечер.5</th>\n      <th>Всего.5</th>\n      <th>утро.6</th>\n      <th>полдень.6</th>\n      <th>вечер.6</th>\n      <th>Всего.6</th>\n      <th>Unnamed: 31</th>\n      <th>мес.</th>\n      <th>Mean_per_1</th>\n    </tr>\n  </thead>\n  <tbody>\n    <tr>\n      <th>0</th>\n      <td>0.6</td>\n      <td>0.4</td>\n      <td>0.4</td>\n      <td>1.4</td>\n      <td>0.9</td>\n      <td>0.5</td>\n      <td>0.3</td>\n      <td>1.7</td>\n      <td>0.9</td>\n      <td>0.2</td>\n      <td>...</td>\n      <td>0.3</td>\n      <td>0.2</td>\n      <td>1.6</td>\n      <td>1.1</td>\n      <td>0.3</td>\n      <td>0.1</td>\n      <td>1.5</td>\n      <td>10.0</td>\n      <td>7.0</td>\n      <td>1.428571</td>\n    </tr>\n    <tr>\n      <th>1</th>\n      <td>0.5</td>\n      <td>0.4</td>\n      <td>0.5</td>\n      <td>1.4</td>\n      <td>0.9</td>\n      <td>0.4</td>\n      <td>0.3</td>\n      <td>1.6</td>\n      <td>0.8</td>\n      <td>0.2</td>\n      <td>...</td>\n      <td>0.3</td>\n      <td>0.2</td>\n      <td>1.7</td>\n      <td>1.0</td>\n      <td>0.4</td>\n      <td>0.3</td>\n      <td>1.7</td>\n      <td>10.9</td>\n      <td>7.0</td>\n      <td>1.557143</td>\n    </tr>\n    <tr>\n      <th>2</th>\n      <td>1.3</td>\n      <td>0.9</td>\n      <td>0.7</td>\n      <td>2.9</td>\n      <td>1.0</td>\n      <td>1.0</td>\n      <td>0.9</td>\n      <td>2.9</td>\n      <td>0.9</td>\n      <td>1.0</td>\n      <td>...</td>\n      <td>0.9</td>\n      <td>0.9</td>\n      <td>2.9</td>\n      <td>1.0</td>\n      <td>1.0</td>\n      <td>0.9</td>\n      <td>2.9</td>\n      <td>20.1</td>\n      <td>7.0</td>\n      <td>2.871429</td>\n    </tr>\n    <tr>\n      <th>3</th>\n      <td>0.6</td>\n      <td>0.4</td>\n      <td>0.2</td>\n      <td>1.2</td>\n      <td>0.4</td>\n      <td>0.3</td>\n      <td>0.2</td>\n      <td>0.9</td>\n      <td>0.9</td>\n      <td>0.4</td>\n      <td>...</td>\n      <td>0.4</td>\n      <td>0.3</td>\n      <td>1.6</td>\n      <td>0.9</td>\n      <td>0.3</td>\n      <td>0.1</td>\n      <td>1.3</td>\n      <td>9.4</td>\n      <td>7.0</td>\n      <td>1.342857</td>\n    </tr>\n    <tr>\n      <th>4</th>\n      <td>1.2</td>\n      <td>0.9</td>\n      <td>0.5</td>\n      <td>2.6</td>\n      <td>1.1</td>\n      <td>0.9</td>\n      <td>0.6</td>\n      <td>2.6</td>\n      <td>1.0</td>\n      <td>0.9</td>\n      <td>...</td>\n      <td>0.9</td>\n      <td>0.7</td>\n      <td>2.6</td>\n      <td>1.0</td>\n      <td>0.8</td>\n      <td>0.8</td>\n      <td>2.6</td>\n      <td>18.2</td>\n      <td>7.0</td>\n      <td>2.600000</td>\n    </tr>\n    <tr>\n      <th>5</th>\n      <td>0.9</td>\n      <td>0.7</td>\n      <td>0.5</td>\n      <td>2.1</td>\n      <td>1.0</td>\n      <td>0.7</td>\n      <td>0.5</td>\n      <td>2.2</td>\n      <td>1.1</td>\n      <td>0.7</td>\n      <td>...</td>\n      <td>0.6</td>\n      <td>0.5</td>\n      <td>2.1</td>\n      <td>1.0</td>\n      <td>0.6</td>\n      <td>0.5</td>\n      <td>2.1</td>\n      <td>15.1</td>\n      <td>7.0</td>\n      <td>2.157143</td>\n    </tr>\n    <tr>\n      <th>6</th>\n      <td>1.5</td>\n      <td>0.6</td>\n      <td>0.6</td>\n      <td>2.7</td>\n      <td>1.6</td>\n      <td>0.5</td>\n      <td>0.5</td>\n      <td>2.6</td>\n      <td>1.4</td>\n      <td>0.6</td>\n      <td>...</td>\n      <td>0.8</td>\n      <td>0.6</td>\n      <td>2.4</td>\n      <td>1.0</td>\n      <td>0.7</td>\n      <td>0.6</td>\n      <td>2.3</td>\n      <td>17.5</td>\n      <td>7.0</td>\n      <td>2.500000</td>\n    </tr>\n    <tr>\n      <th>7</th>\n      <td>0.7</td>\n      <td>0.6</td>\n      <td>0.5</td>\n      <td>1.8</td>\n      <td>0.8</td>\n      <td>0.8</td>\n      <td>0.3</td>\n      <td>1.9</td>\n      <td>0.9</td>\n      <td>0.7</td>\n      <td>...</td>\n      <td>0.7</td>\n      <td>0.2</td>\n      <td>1.8</td>\n      <td>0.8</td>\n      <td>0.6</td>\n      <td>0.3</td>\n      <td>1.7</td>\n      <td>13.1</td>\n      <td>7.0</td>\n      <td>1.871429</td>\n    </tr>\n    <tr>\n      <th>8</th>\n      <td>1.0</td>\n      <td>0.5</td>\n      <td>0.3</td>\n      <td>1.8</td>\n      <td>1.0</td>\n      <td>0.4</td>\n      <td>0.4</td>\n      <td>1.8</td>\n      <td>1.0</td>\n      <td>0.5</td>\n      <td>...</td>\n      <td>0.5</td>\n      <td>0.4</td>\n      <td>1.8</td>\n      <td>0.8</td>\n      <td>0.5</td>\n      <td>0.5</td>\n      <td>1.8</td>\n      <td>12.7</td>\n      <td>7.0</td>\n      <td>1.814286</td>\n    </tr>\n    <tr>\n      <th>9</th>\n      <td>1.0</td>\n      <td>0.8</td>\n      <td>0.7</td>\n      <td>2.5</td>\n      <td>0.9</td>\n      <td>0.9</td>\n      <td>0.7</td>\n      <td>2.5</td>\n      <td>0.9</td>\n      <td>0.9</td>\n      <td>...</td>\n      <td>0.8</td>\n      <td>0.8</td>\n      <td>2.5</td>\n      <td>0.9</td>\n      <td>0.9</td>\n      <td>0.7</td>\n      <td>2.5</td>\n      <td>17.7</td>\n      <td>7.0</td>\n      <td>2.528571</td>\n    </tr>\n  </tbody>\n</table>\n<p>10 rows × 32 columns</p>\n</div>"
     },
     "execution_count": 57,
     "metadata": {},
     "output_type": "execute_result"
    }
   ],
   "source": [
    "df = df.drop('ID', axis=1)\n",
    "df.head(10)"
   ],
   "metadata": {
    "collapsed": false,
    "ExecuteTime": {
     "end_time": "2023-12-31T08:54:52.271458Z",
     "start_time": "2023-12-31T08:54:52.087032Z"
    }
   },
   "id": "b2c9f593fd394f8f"
  },
  {
   "cell_type": "code",
   "execution_count": null,
   "outputs": [],
   "source": [
    "df = df[['ID', 'Mean_per_1']]\n",
    "df"
   ],
   "metadata": {
    "collapsed": false
   },
   "id": "955182486639d9ef"
  },
  {
   "cell_type": "code",
   "outputs": [],
   "source": [
    "df = df.dropna(subset='ID')"
   ],
   "metadata": {
    "collapsed": false,
    "ExecuteTime": {
     "end_time": "2023-12-30T08:48:08.982495Z",
     "start_time": "2023-12-30T08:48:08.743488Z"
    }
   },
   "id": "33aa08dc34df6b24",
   "execution_count": 728
  },
  {
   "cell_type": "code",
   "outputs": [
    {
     "data": {
      "text/plain": "ID             0\nMean_per_1    17\ndtype: int64"
     },
     "execution_count": 729,
     "metadata": {},
     "output_type": "execute_result"
    }
   ],
   "source": [
    "df.isna().sum()"
   ],
   "metadata": {
    "collapsed": false,
    "ExecuteTime": {
     "end_time": "2023-12-30T08:48:09.310038Z",
     "start_time": "2023-12-30T08:48:08.965549Z"
    }
   },
   "id": "d8b6ba4d2aaa6d61",
   "execution_count": 729
  },
  {
   "cell_type": "code",
   "execution_count": 730,
   "outputs": [],
   "source": [
    "df.to_csv('Clean_data/Target_2.csv')"
   ],
   "metadata": {
    "collapsed": false,
    "ExecuteTime": {
     "end_time": "2023-12-30T08:48:09.498359Z",
     "start_time": "2023-12-30T08:48:09.293154Z"
    }
   },
   "id": "ff948c97ac61b50b"
  },
  {
   "cell_type": "markdown",
   "source": [
    "Второй таргет завершен\n",
    "___"
   ],
   "metadata": {
    "collapsed": false
   },
   "id": "aecca1f6a8f6cdad"
  },
  {
   "cell_type": "code",
   "execution_count": 60,
   "outputs": [],
   "source": [
    "df = df.rename(columns={'Unnamed: 1': 'ID'})\n",
    "df = df.rename(columns={'1 коза': 'Mean_per_1'})\n",
    "df = df.drop(30)\n",
    "df = df.drop(31)\n",
    "df = df.drop(' п\\\\п', axis=1)"
   ],
   "metadata": {
    "collapsed": false,
    "ExecuteTime": {
     "end_time": "2023-12-31T08:55:14.987189Z",
     "start_time": "2023-12-31T08:55:14.839420Z"
    }
   },
   "id": "2605c1666061a7cb"
  },
  {
   "cell_type": "code",
   "outputs": [
    {
     "data": {
      "text/plain": "   утро  полдень  вечер  Всего  утро.1  полдень.1  вечер.1  Всего.1  утро.2  \\\n0   NaN      NaN    NaN    0.0     NaN        NaN      NaN      0.0     NaN   \n1   0.9      0.8    0.5    2.2     NaN        NaN      NaN      0.0     1.0   \n2   NaN      NaN    NaN    0.0     NaN        NaN      NaN      0.0     NaN   \n3   NaN      NaN    NaN    0.0     NaN        NaN      NaN      0.0     0.8   \n4   NaN      NaN    NaN    0.0     NaN        NaN      NaN      0.0     1.0   \n5   1.5      0.8    0.5    2.8     1.4        0.9      0.5      2.8     1.4   \n6   1.2      1.0    0.7    2.9     1.2        1.0      0.7      2.9     1.1   \n7   NaN      NaN    NaN    0.0     NaN        NaN      NaN      0.0     1.3   \n8   NaN      NaN    NaN    0.0     NaN        NaN      NaN      0.0     1.3   \n9   NaN      NaN    NaN    0.0     NaN        NaN      NaN      0.0     1.0   \n\n   полдень.2  ...  Всего.11  надои   мес  Mean_per_1  Unnamed: 55  \\\n0        NaN  ...       0.0    0.0   6.0    0.000000          2.6   \n1        0.7  ...       2.1   24.8   6.0    4.133333          2.3   \n2        NaN  ...       2.9   23.2   8.0    2.900000          NaN   \n3        0.7  ...       2.2   22.9  10.0    2.290000          2.3   \n4        1.0  ...       2.7   28.8   6.0    4.800000          2.6   \n5        0.8  ...       2.6   33.2  12.0    2.766667          2.8   \n6        1.0  ...       2.7   34.4  12.0    2.866667          3.1   \n7        1.1  ...       2.4   28.5  10.0    2.850000          2.5   \n8        0.9  ...       0.0   20.0   7.0    2.857143          2.5   \n9        0.9  ...       0.0   24.9   6.0    4.150000          2.8   \n\n   Unnamed: 56 Unnamed: 57  Unnamed: 58  Unnamed: 59  Unnamed: 60  \n0          NaN        5016          NaN          NaN          NaN  \n1          NaN        5020          NaN          NaN          NaN  \n2          NaN        5051          NaN          NaN          NaN  \n3          NaN        5055          NaN          NaN          NaN  \n4  запуск  вык        5059          NaN          NaN          NaN  \n5          NaN        5065          NaN          NaN          NaN  \n6          NaN        5079          NaN          NaN          NaN  \n7          NaN        5091          NaN          NaN          NaN  \n8          NaN        5092          NaN          NaN          NaN  \n9          NaN        5099          NaN          NaN          NaN  \n\n[10 rows x 59 columns]",
      "text/html": "<div>\n<style scoped>\n    .dataframe tbody tr th:only-of-type {\n        vertical-align: middle;\n    }\n\n    .dataframe tbody tr th {\n        vertical-align: top;\n    }\n\n    .dataframe thead th {\n        text-align: right;\n    }\n</style>\n<table border=\"1\" class=\"dataframe\">\n  <thead>\n    <tr style=\"text-align: right;\">\n      <th></th>\n      <th>утро</th>\n      <th>полдень</th>\n      <th>вечер</th>\n      <th>Всего</th>\n      <th>утро.1</th>\n      <th>полдень.1</th>\n      <th>вечер.1</th>\n      <th>Всего.1</th>\n      <th>утро.2</th>\n      <th>полдень.2</th>\n      <th>...</th>\n      <th>Всего.11</th>\n      <th>надои</th>\n      <th>мес</th>\n      <th>Mean_per_1</th>\n      <th>Unnamed: 55</th>\n      <th>Unnamed: 56</th>\n      <th>Unnamed: 57</th>\n      <th>Unnamed: 58</th>\n      <th>Unnamed: 59</th>\n      <th>Unnamed: 60</th>\n    </tr>\n  </thead>\n  <tbody>\n    <tr>\n      <th>0</th>\n      <td>NaN</td>\n      <td>NaN</td>\n      <td>NaN</td>\n      <td>0.0</td>\n      <td>NaN</td>\n      <td>NaN</td>\n      <td>NaN</td>\n      <td>0.0</td>\n      <td>NaN</td>\n      <td>NaN</td>\n      <td>...</td>\n      <td>0.0</td>\n      <td>0.0</td>\n      <td>6.0</td>\n      <td>0.000000</td>\n      <td>2.6</td>\n      <td>NaN</td>\n      <td>5016</td>\n      <td>NaN</td>\n      <td>NaN</td>\n      <td>NaN</td>\n    </tr>\n    <tr>\n      <th>1</th>\n      <td>0.9</td>\n      <td>0.8</td>\n      <td>0.5</td>\n      <td>2.2</td>\n      <td>NaN</td>\n      <td>NaN</td>\n      <td>NaN</td>\n      <td>0.0</td>\n      <td>1.0</td>\n      <td>0.7</td>\n      <td>...</td>\n      <td>2.1</td>\n      <td>24.8</td>\n      <td>6.0</td>\n      <td>4.133333</td>\n      <td>2.3</td>\n      <td>NaN</td>\n      <td>5020</td>\n      <td>NaN</td>\n      <td>NaN</td>\n      <td>NaN</td>\n    </tr>\n    <tr>\n      <th>2</th>\n      <td>NaN</td>\n      <td>NaN</td>\n      <td>NaN</td>\n      <td>0.0</td>\n      <td>NaN</td>\n      <td>NaN</td>\n      <td>NaN</td>\n      <td>0.0</td>\n      <td>NaN</td>\n      <td>NaN</td>\n      <td>...</td>\n      <td>2.9</td>\n      <td>23.2</td>\n      <td>8.0</td>\n      <td>2.900000</td>\n      <td>NaN</td>\n      <td>NaN</td>\n      <td>5051</td>\n      <td>NaN</td>\n      <td>NaN</td>\n      <td>NaN</td>\n    </tr>\n    <tr>\n      <th>3</th>\n      <td>NaN</td>\n      <td>NaN</td>\n      <td>NaN</td>\n      <td>0.0</td>\n      <td>NaN</td>\n      <td>NaN</td>\n      <td>NaN</td>\n      <td>0.0</td>\n      <td>0.8</td>\n      <td>0.7</td>\n      <td>...</td>\n      <td>2.2</td>\n      <td>22.9</td>\n      <td>10.0</td>\n      <td>2.290000</td>\n      <td>2.3</td>\n      <td>NaN</td>\n      <td>5055</td>\n      <td>NaN</td>\n      <td>NaN</td>\n      <td>NaN</td>\n    </tr>\n    <tr>\n      <th>4</th>\n      <td>NaN</td>\n      <td>NaN</td>\n      <td>NaN</td>\n      <td>0.0</td>\n      <td>NaN</td>\n      <td>NaN</td>\n      <td>NaN</td>\n      <td>0.0</td>\n      <td>1.0</td>\n      <td>1.0</td>\n      <td>...</td>\n      <td>2.7</td>\n      <td>28.8</td>\n      <td>6.0</td>\n      <td>4.800000</td>\n      <td>2.6</td>\n      <td>запуск  вык</td>\n      <td>5059</td>\n      <td>NaN</td>\n      <td>NaN</td>\n      <td>NaN</td>\n    </tr>\n    <tr>\n      <th>5</th>\n      <td>1.5</td>\n      <td>0.8</td>\n      <td>0.5</td>\n      <td>2.8</td>\n      <td>1.4</td>\n      <td>0.9</td>\n      <td>0.5</td>\n      <td>2.8</td>\n      <td>1.4</td>\n      <td>0.8</td>\n      <td>...</td>\n      <td>2.6</td>\n      <td>33.2</td>\n      <td>12.0</td>\n      <td>2.766667</td>\n      <td>2.8</td>\n      <td>NaN</td>\n      <td>5065</td>\n      <td>NaN</td>\n      <td>NaN</td>\n      <td>NaN</td>\n    </tr>\n    <tr>\n      <th>6</th>\n      <td>1.2</td>\n      <td>1.0</td>\n      <td>0.7</td>\n      <td>2.9</td>\n      <td>1.2</td>\n      <td>1.0</td>\n      <td>0.7</td>\n      <td>2.9</td>\n      <td>1.1</td>\n      <td>1.0</td>\n      <td>...</td>\n      <td>2.7</td>\n      <td>34.4</td>\n      <td>12.0</td>\n      <td>2.866667</td>\n      <td>3.1</td>\n      <td>NaN</td>\n      <td>5079</td>\n      <td>NaN</td>\n      <td>NaN</td>\n      <td>NaN</td>\n    </tr>\n    <tr>\n      <th>7</th>\n      <td>NaN</td>\n      <td>NaN</td>\n      <td>NaN</td>\n      <td>0.0</td>\n      <td>NaN</td>\n      <td>NaN</td>\n      <td>NaN</td>\n      <td>0.0</td>\n      <td>1.3</td>\n      <td>1.1</td>\n      <td>...</td>\n      <td>2.4</td>\n      <td>28.5</td>\n      <td>10.0</td>\n      <td>2.850000</td>\n      <td>2.5</td>\n      <td>NaN</td>\n      <td>5091</td>\n      <td>NaN</td>\n      <td>NaN</td>\n      <td>NaN</td>\n    </tr>\n    <tr>\n      <th>8</th>\n      <td>NaN</td>\n      <td>NaN</td>\n      <td>NaN</td>\n      <td>0.0</td>\n      <td>NaN</td>\n      <td>NaN</td>\n      <td>NaN</td>\n      <td>0.0</td>\n      <td>1.3</td>\n      <td>0.9</td>\n      <td>...</td>\n      <td>0.0</td>\n      <td>20.0</td>\n      <td>7.0</td>\n      <td>2.857143</td>\n      <td>2.5</td>\n      <td>NaN</td>\n      <td>5092</td>\n      <td>NaN</td>\n      <td>NaN</td>\n      <td>NaN</td>\n    </tr>\n    <tr>\n      <th>9</th>\n      <td>NaN</td>\n      <td>NaN</td>\n      <td>NaN</td>\n      <td>0.0</td>\n      <td>NaN</td>\n      <td>NaN</td>\n      <td>NaN</td>\n      <td>0.0</td>\n      <td>1.0</td>\n      <td>0.9</td>\n      <td>...</td>\n      <td>0.0</td>\n      <td>24.9</td>\n      <td>6.0</td>\n      <td>4.150000</td>\n      <td>2.8</td>\n      <td>NaN</td>\n      <td>5099</td>\n      <td>NaN</td>\n      <td>NaN</td>\n      <td>NaN</td>\n    </tr>\n  </tbody>\n</table>\n<p>10 rows × 59 columns</p>\n</div>"
     },
     "execution_count": 61,
     "metadata": {},
     "output_type": "execute_result"
    }
   ],
   "source": [
    "df = df.drop('ID', axis=1)\n",
    "df.head(10)"
   ],
   "metadata": {
    "collapsed": false,
    "ExecuteTime": {
     "end_time": "2023-12-31T08:55:20.631680Z",
     "start_time": "2023-12-31T08:55:20.454781Z"
    }
   },
   "id": "22d49afbe1070149",
   "execution_count": 61
  },
  {
   "cell_type": "code",
   "execution_count": null,
   "outputs": [],
   "source": [
    "df = df[['ID', 'Mean_per_1']]\n",
    "df"
   ],
   "metadata": {
    "collapsed": false
   },
   "id": "bad2ebee8de0bbc5"
  },
  {
   "cell_type": "code",
   "outputs": [],
   "source": [
    "df = df.dropna(subset='ID')"
   ],
   "metadata": {
    "collapsed": false,
    "ExecuteTime": {
     "end_time": "2023-12-30T08:48:10.746156Z",
     "start_time": "2023-12-30T08:48:10.403349Z"
    }
   },
   "id": "cfcfcc42d348914b",
   "execution_count": 735
  },
  {
   "cell_type": "code",
   "outputs": [
    {
     "data": {
      "text/plain": "0      0.000000\n1      4.133333\n2      2.900000\n3      2.290000\n4      4.800000\n         ...   \n138    1.466667\n139    1.590000\n140    1.600000\n141    2.184444\n142    2.184444\nName: Mean_per_1, Length: 138, dtype: float64"
     },
     "execution_count": 736,
     "metadata": {},
     "output_type": "execute_result"
    }
   ],
   "source": [
    "median_date = df['Mean_per_1'].median()\n",
    "df['Mean_per_1'].fillna(median_date)"
   ],
   "metadata": {
    "collapsed": false,
    "ExecuteTime": {
     "end_time": "2023-12-30T08:48:10.956999Z",
     "start_time": "2023-12-30T08:48:10.729345Z"
    }
   },
   "id": "6932f4a7c06f9dbd",
   "execution_count": 736
  },
  {
   "cell_type": "code",
   "execution_count": 737,
   "outputs": [],
   "source": [
    "df.to_csv('Clean_data/Target_3.csv')"
   ],
   "metadata": {
    "collapsed": false,
    "ExecuteTime": {
     "end_time": "2023-12-30T08:48:11.252618Z",
     "start_time": "2023-12-30T08:48:10.934594Z"
    }
   },
   "id": "26e4f7b6e4eab299"
  },
  {
   "cell_type": "markdown",
   "source": [
    "Третий таргет завершен\n",
    "___"
   ],
   "metadata": {
    "collapsed": false
   },
   "id": "d2be4199f294161"
  },
  {
   "cell_type": "code",
   "execution_count": 64,
   "outputs": [],
   "source": [
    "df = df.rename(columns={'Номер козы': 'ID'})\n",
    "df = df.rename(columns={'Ср надои': 'Mean_per_1'})\n",
    "df = df.rename(columns={'класс': 'Class'})\n",
    "df = df.rename(columns={'жир': 'Fat'})\n",
    "df = df.rename(columns={'белок': 'Protein'})\n",
    "df = df.rename(columns={'лактация.1': 'Lact_count'})\n",
    "df = df.rename(columns={'Всего надои': 'Total_yield'})\n",
    "df = df.rename(columns={'число': 'Count_of_month'})\n",
    "df = df.drop(30)\n",
    "df = df.drop(0)"
   ],
   "metadata": {
    "collapsed": false,
    "ExecuteTime": {
     "end_time": "2023-12-31T08:55:57.514331Z",
     "start_time": "2023-12-31T08:55:57.313800Z"
    }
   },
   "id": "300e3bf65c374fdf"
  },
  {
   "cell_type": "code",
   "outputs": [
    {
     "data": {
      "text/plain": "     Unnamed: 0 лактация Class Дата:30.01.19 Unnamed: 5 Unnamed: 6 Unnamed: 7  \\\n1           NaN    4лакт     I           NaN        NaN        NaN          0   \n2           NaN    4лакт     I           NaN        NaN        NaN          0   \n3    вык16.2.19      NaN     Э           1.5        0.8        0.6        2.9   \n4            ум      NaN     I           0.8        0.6        0.4        1.8   \n5   вык19.12.18      NaN     Э           0.9        0.8        0.6        2.3   \n6           NaN    4лакт     Э           NaN        NaN        NaN          0   \n7           NaN    4лакт     Э           NaN        NaN        NaN          0   \n8        не рож      NaN     Э           0.7        0.6        0.4        1.7   \n9           NaN    4лакт     Э           NaN        NaN        NaN          0   \n10          NaN    4лакт     Э           NaN        NaN        NaN          0   \n\n   Номер козы.1 Дата:18.02.19 Unnamed: 10  ... 4лактация.1 Unnamed: 116  \\\n1          5016           NaN         NaN  ...         NaN            1   \n2          5020           NaN         NaN  ...         NaN            2   \n3          5051           1.5         0.8  ...         NaN          NaN   \n4          5055           0.6         0.4  ...         NaN          NaN   \n5          5059           0.7         0.6  ...         NaN          NaN   \n6          5065           NaN         NaN  ...           1          NaN   \n7          5079           NaN         NaN  ...           2          NaN   \n8          5091           0.5         0.4  ...         NaN          NaN   \n9          5092           NaN         NaN  ...           3          NaN   \n10         5099           NaN         NaN  ...           4          NaN   \n\n   3лактация и выше.3 Unnamed: 118 2лактация.4 Unnamed: 120 Unnamed: 121  \\\n1                 NaN           61         NaN          NaN          NaN   \n2                 NaN           63         NaN          NaN          NaN   \n3                  67          NaN         NaN          NaN          NaN   \n4                 NaN           62         NaN          NaN          NaN   \n5                  58          NaN         NaN          NaN          NaN   \n6                  66          NaN         NaN          NaN          NaN   \n7                  66          NaN         NaN          NaN          NaN   \n8                  62          NaN         NaN          NaN          NaN   \n9                  65          NaN         NaN          NaN          NaN   \n10                 68          NaN         NaN          NaN          NaN   \n\n   1лактация.4 Unnamed: 123 Unnamed: 124  \n1          NaN          NaN          NaN  \n2          NaN          NaN          NaN  \n3          NaN          NaN          NaN  \n4          NaN          NaN          NaN  \n5          NaN          NaN          NaN  \n6          NaN          NaN          NaN  \n7          NaN          NaN          NaN  \n8          NaN          NaN          NaN  \n9          NaN          NaN          NaN  \n10         NaN          NaN          NaN  \n\n[10 rows x 124 columns]",
      "text/html": "<div>\n<style scoped>\n    .dataframe tbody tr th:only-of-type {\n        vertical-align: middle;\n    }\n\n    .dataframe tbody tr th {\n        vertical-align: top;\n    }\n\n    .dataframe thead th {\n        text-align: right;\n    }\n</style>\n<table border=\"1\" class=\"dataframe\">\n  <thead>\n    <tr style=\"text-align: right;\">\n      <th></th>\n      <th>Unnamed: 0</th>\n      <th>лактация</th>\n      <th>Class</th>\n      <th>Дата:30.01.19</th>\n      <th>Unnamed: 5</th>\n      <th>Unnamed: 6</th>\n      <th>Unnamed: 7</th>\n      <th>Номер козы.1</th>\n      <th>Дата:18.02.19</th>\n      <th>Unnamed: 10</th>\n      <th>...</th>\n      <th>4лактация.1</th>\n      <th>Unnamed: 116</th>\n      <th>3лактация и выше.3</th>\n      <th>Unnamed: 118</th>\n      <th>2лактация.4</th>\n      <th>Unnamed: 120</th>\n      <th>Unnamed: 121</th>\n      <th>1лактация.4</th>\n      <th>Unnamed: 123</th>\n      <th>Unnamed: 124</th>\n    </tr>\n  </thead>\n  <tbody>\n    <tr>\n      <th>1</th>\n      <td>NaN</td>\n      <td>4лакт</td>\n      <td>I</td>\n      <td>NaN</td>\n      <td>NaN</td>\n      <td>NaN</td>\n      <td>0</td>\n      <td>5016</td>\n      <td>NaN</td>\n      <td>NaN</td>\n      <td>...</td>\n      <td>NaN</td>\n      <td>1</td>\n      <td>NaN</td>\n      <td>61</td>\n      <td>NaN</td>\n      <td>NaN</td>\n      <td>NaN</td>\n      <td>NaN</td>\n      <td>NaN</td>\n      <td>NaN</td>\n    </tr>\n    <tr>\n      <th>2</th>\n      <td>NaN</td>\n      <td>4лакт</td>\n      <td>I</td>\n      <td>NaN</td>\n      <td>NaN</td>\n      <td>NaN</td>\n      <td>0</td>\n      <td>5020</td>\n      <td>NaN</td>\n      <td>NaN</td>\n      <td>...</td>\n      <td>NaN</td>\n      <td>2</td>\n      <td>NaN</td>\n      <td>63</td>\n      <td>NaN</td>\n      <td>NaN</td>\n      <td>NaN</td>\n      <td>NaN</td>\n      <td>NaN</td>\n      <td>NaN</td>\n    </tr>\n    <tr>\n      <th>3</th>\n      <td>вык16.2.19</td>\n      <td>NaN</td>\n      <td>Э</td>\n      <td>1.5</td>\n      <td>0.8</td>\n      <td>0.6</td>\n      <td>2.9</td>\n      <td>5051</td>\n      <td>1.5</td>\n      <td>0.8</td>\n      <td>...</td>\n      <td>NaN</td>\n      <td>NaN</td>\n      <td>67</td>\n      <td>NaN</td>\n      <td>NaN</td>\n      <td>NaN</td>\n      <td>NaN</td>\n      <td>NaN</td>\n      <td>NaN</td>\n      <td>NaN</td>\n    </tr>\n    <tr>\n      <th>4</th>\n      <td>ум</td>\n      <td>NaN</td>\n      <td>I</td>\n      <td>0.8</td>\n      <td>0.6</td>\n      <td>0.4</td>\n      <td>1.8</td>\n      <td>5055</td>\n      <td>0.6</td>\n      <td>0.4</td>\n      <td>...</td>\n      <td>NaN</td>\n      <td>NaN</td>\n      <td>NaN</td>\n      <td>62</td>\n      <td>NaN</td>\n      <td>NaN</td>\n      <td>NaN</td>\n      <td>NaN</td>\n      <td>NaN</td>\n      <td>NaN</td>\n    </tr>\n    <tr>\n      <th>5</th>\n      <td>вык19.12.18</td>\n      <td>NaN</td>\n      <td>Э</td>\n      <td>0.9</td>\n      <td>0.8</td>\n      <td>0.6</td>\n      <td>2.3</td>\n      <td>5059</td>\n      <td>0.7</td>\n      <td>0.6</td>\n      <td>...</td>\n      <td>NaN</td>\n      <td>NaN</td>\n      <td>58</td>\n      <td>NaN</td>\n      <td>NaN</td>\n      <td>NaN</td>\n      <td>NaN</td>\n      <td>NaN</td>\n      <td>NaN</td>\n      <td>NaN</td>\n    </tr>\n    <tr>\n      <th>6</th>\n      <td>NaN</td>\n      <td>4лакт</td>\n      <td>Э</td>\n      <td>NaN</td>\n      <td>NaN</td>\n      <td>NaN</td>\n      <td>0</td>\n      <td>5065</td>\n      <td>NaN</td>\n      <td>NaN</td>\n      <td>...</td>\n      <td>1</td>\n      <td>NaN</td>\n      <td>66</td>\n      <td>NaN</td>\n      <td>NaN</td>\n      <td>NaN</td>\n      <td>NaN</td>\n      <td>NaN</td>\n      <td>NaN</td>\n      <td>NaN</td>\n    </tr>\n    <tr>\n      <th>7</th>\n      <td>NaN</td>\n      <td>4лакт</td>\n      <td>Э</td>\n      <td>NaN</td>\n      <td>NaN</td>\n      <td>NaN</td>\n      <td>0</td>\n      <td>5079</td>\n      <td>NaN</td>\n      <td>NaN</td>\n      <td>...</td>\n      <td>2</td>\n      <td>NaN</td>\n      <td>66</td>\n      <td>NaN</td>\n      <td>NaN</td>\n      <td>NaN</td>\n      <td>NaN</td>\n      <td>NaN</td>\n      <td>NaN</td>\n      <td>NaN</td>\n    </tr>\n    <tr>\n      <th>8</th>\n      <td>не рож</td>\n      <td>NaN</td>\n      <td>Э</td>\n      <td>0.7</td>\n      <td>0.6</td>\n      <td>0.4</td>\n      <td>1.7</td>\n      <td>5091</td>\n      <td>0.5</td>\n      <td>0.4</td>\n      <td>...</td>\n      <td>NaN</td>\n      <td>NaN</td>\n      <td>62</td>\n      <td>NaN</td>\n      <td>NaN</td>\n      <td>NaN</td>\n      <td>NaN</td>\n      <td>NaN</td>\n      <td>NaN</td>\n      <td>NaN</td>\n    </tr>\n    <tr>\n      <th>9</th>\n      <td>NaN</td>\n      <td>4лакт</td>\n      <td>Э</td>\n      <td>NaN</td>\n      <td>NaN</td>\n      <td>NaN</td>\n      <td>0</td>\n      <td>5092</td>\n      <td>NaN</td>\n      <td>NaN</td>\n      <td>...</td>\n      <td>3</td>\n      <td>NaN</td>\n      <td>65</td>\n      <td>NaN</td>\n      <td>NaN</td>\n      <td>NaN</td>\n      <td>NaN</td>\n      <td>NaN</td>\n      <td>NaN</td>\n      <td>NaN</td>\n    </tr>\n    <tr>\n      <th>10</th>\n      <td>NaN</td>\n      <td>4лакт</td>\n      <td>Э</td>\n      <td>NaN</td>\n      <td>NaN</td>\n      <td>NaN</td>\n      <td>0</td>\n      <td>5099</td>\n      <td>NaN</td>\n      <td>NaN</td>\n      <td>...</td>\n      <td>4</td>\n      <td>NaN</td>\n      <td>68</td>\n      <td>NaN</td>\n      <td>NaN</td>\n      <td>NaN</td>\n      <td>NaN</td>\n      <td>NaN</td>\n      <td>NaN</td>\n      <td>NaN</td>\n    </tr>\n  </tbody>\n</table>\n<p>10 rows × 124 columns</p>\n</div>"
     },
     "execution_count": 65,
     "metadata": {},
     "output_type": "execute_result"
    }
   ],
   "source": [
    "df = df.drop('ID', axis=1)\n",
    "df.head(10)"
   ],
   "metadata": {
    "collapsed": false,
    "ExecuteTime": {
     "end_time": "2023-12-31T08:56:08.998993Z",
     "start_time": "2023-12-31T08:56:08.802231Z"
    }
   },
   "id": "275e4e7d80eee56d",
   "execution_count": 65
  },
  {
   "cell_type": "code",
   "execution_count": 741,
   "outputs": [],
   "source": [
    "df = df[['ID', 'Mean_per_1', 'Class', 'Fat', 'Protein', 'Lact_count', 'Total_yield', 'Count_of_month']]"
   ],
   "metadata": {
    "collapsed": false,
    "ExecuteTime": {
     "end_time": "2023-12-30T08:48:12.157861Z",
     "start_time": "2023-12-30T08:48:11.943664Z"
    }
   },
   "id": "c8421100ff00e8b7"
  },
  {
   "cell_type": "code",
   "outputs": [
    {
     "data": {
      "text/plain": "(182, 8)"
     },
     "execution_count": 743,
     "metadata": {},
     "output_type": "execute_result"
    }
   ],
   "source": [
    "df.shape"
   ],
   "metadata": {
    "collapsed": false,
    "ExecuteTime": {
     "end_time": "2023-12-30T08:48:12.611451Z",
     "start_time": "2023-12-30T08:48:12.446734Z"
    }
   },
   "id": "a4f9b3baf9f919f5",
   "execution_count": 743
  },
  {
   "cell_type": "code",
   "outputs": [
    {
     "data": {
      "text/plain": "ID                13\nMean_per_1        14\nClass             46\nFat               18\nProtein           18\nLact_count        17\nTotal_yield       15\nCount_of_month    14\ndtype: int64"
     },
     "execution_count": 744,
     "metadata": {},
     "output_type": "execute_result"
    }
   ],
   "source": [
    "df.isna().sum()"
   ],
   "metadata": {
    "collapsed": false,
    "ExecuteTime": {
     "end_time": "2023-12-30T08:48:12.843093Z",
     "start_time": "2023-12-30T08:48:12.589270Z"
    }
   },
   "id": "27ec2f68ea06afe0",
   "execution_count": 744
  },
  {
   "cell_type": "code",
   "outputs": [],
   "source": [
    "target = df[['ID', 'Mean_per_1']]\n",
    "target"
   ],
   "metadata": {
    "collapsed": false
   },
   "id": "c4eb35e5859618ce",
   "execution_count": null
  },
  {
   "cell_type": "code",
   "outputs": [],
   "source": [
    "target = target.dropna(subset='ID')"
   ],
   "metadata": {
    "collapsed": false,
    "ExecuteTime": {
     "end_time": "2023-12-30T08:48:13.386864Z",
     "start_time": "2023-12-30T08:48:13.033583Z"
    }
   },
   "id": "449f2f38b7dcf20a",
   "execution_count": 746
  },
  {
   "cell_type": "code",
   "outputs": [
    {
     "name": "stdout",
     "output_type": "stream",
     "text": [
      "3.1066167954135016\n",
      "2.05\n"
     ]
    }
   ],
   "source": [
    "print(target.Mean_per_1.mean())\n",
    "print(target.Mean_per_1.median())"
   ],
   "metadata": {
    "collapsed": false,
    "ExecuteTime": {
     "end_time": "2023-12-30T08:48:13.595720Z",
     "start_time": "2023-12-30T08:48:13.361959Z"
    }
   },
   "id": "de56847d7cdf7a0f",
   "execution_count": 747
  },
  {
   "cell_type": "code",
   "outputs": [
    {
     "data": {
      "text/plain": "1      0.410000\n2      0.000000\n3      1.058333\n4      0.550000\n5      0.675000\n         ...   \n169    1.712500\n170    1.622222\n171    1.700000\n173    3.106617\n174    3.106617\nName: Mean_per_1, Length: 169, dtype: float64"
     },
     "execution_count": 748,
     "metadata": {},
     "output_type": "execute_result"
    }
   ],
   "source": [
    "mean_weight = target['Mean_per_1'].mean()\n",
    "target['Mean_per_1'].fillna(mean_weight)"
   ],
   "metadata": {
    "collapsed": false,
    "ExecuteTime": {
     "end_time": "2023-12-30T08:48:13.868898Z",
     "start_time": "2023-12-30T08:48:13.579238Z"
    }
   },
   "id": "cfd86311bda8952b",
   "execution_count": 748
  },
  {
   "cell_type": "code",
   "outputs": [],
   "source": [
    "target.to_csv('Clean_data/Target_4.csv')"
   ],
   "metadata": {
    "collapsed": false,
    "ExecuteTime": {
     "end_time": "2023-12-30T08:48:14.050039Z",
     "start_time": "2023-12-30T08:48:13.846007Z"
    }
   },
   "id": "130800ea97e2b8b4",
   "execution_count": 749
  },
  {
   "cell_type": "markdown",
   "source": [
    "Этот файл уйдет в основные данные, а не в таргет"
   ],
   "metadata": {
    "collapsed": false
   },
   "id": "cbde9255e512f3fa"
  },
  {
   "cell_type": "code",
   "outputs": [],
   "source": [
    "df = df.drop('Mean_per_1', axis=1)"
   ],
   "metadata": {
    "collapsed": false,
    "ExecuteTime": {
     "end_time": "2023-12-30T08:48:14.298030Z",
     "start_time": "2023-12-30T08:48:14.008490Z"
    }
   },
   "id": "86bfb99e40efc161",
   "execution_count": 750
  },
  {
   "cell_type": "code",
   "outputs": [],
   "source": [
    "df = df.dropna(subset='ID')"
   ],
   "metadata": {
    "collapsed": false,
    "ExecuteTime": {
     "end_time": "2023-12-30T08:48:14.433663Z",
     "start_time": "2023-12-30T08:48:14.280829Z"
    }
   },
   "id": "6b74ca826acc9562",
   "execution_count": 751
  },
  {
   "cell_type": "code",
   "outputs": [
    {
     "data": {
      "text/plain": "'Э '"
     },
     "execution_count": 753,
     "metadata": {},
     "output_type": "execute_result"
    }
   ],
   "source": [
    "most_common_value = df['Class'].mode()[0]  # Получаем самое популярное значение\n",
    "most_common_value"
   ],
   "metadata": {
    "collapsed": false,
    "ExecuteTime": {
     "end_time": "2023-12-30T08:48:14.800062Z",
     "start_time": "2023-12-30T08:48:14.629281Z"
    }
   },
   "id": "67ae7497f2517416",
   "execution_count": 753
  },
  {
   "cell_type": "code",
   "outputs": [],
   "source": [
    "df['Class'].fillna(most_common_value, inplace=True)"
   ],
   "metadata": {
    "collapsed": false,
    "ExecuteTime": {
     "end_time": "2023-12-30T08:48:15.011640Z",
     "start_time": "2023-12-30T08:48:14.774861Z"
    }
   },
   "id": "2b227ea6377c3212",
   "execution_count": 754
  },
  {
   "cell_type": "code",
   "outputs": [
    {
     "name": "stdout",
     "output_type": "stream",
     "text": [
      "3.579878048780488\n",
      "3.6\n"
     ]
    }
   ],
   "source": [
    "print(df['Fat'].mean())\n",
    "print(df['Fat'].median())"
   ],
   "metadata": {
    "collapsed": false,
    "ExecuteTime": {
     "end_time": "2023-12-30T08:48:15.222653Z",
     "start_time": "2023-12-30T08:48:14.989192Z"
    }
   },
   "id": "f95ba17676dabac5",
   "execution_count": 755
  },
  {
   "cell_type": "code",
   "outputs": [],
   "source": [
    "median_weight = df['Fat'].median()\n",
    "df['Fat'].fillna(median_weight, inplace=True)"
   ],
   "metadata": {
    "collapsed": false,
    "ExecuteTime": {
     "end_time": "2023-12-30T08:48:15.501268Z",
     "start_time": "2023-12-30T08:48:15.204992Z"
    }
   },
   "id": "3866227318f5e51",
   "execution_count": 756
  },
  {
   "cell_type": "code",
   "outputs": [
    {
     "name": "stdout",
     "output_type": "stream",
     "text": [
      "3.094939024390244\n",
      "3.1\n"
     ]
    }
   ],
   "source": [
    "print(df['Protein'].mean())\n",
    "print(df['Protein'].median())"
   ],
   "metadata": {
    "collapsed": false,
    "ExecuteTime": {
     "end_time": "2023-12-30T08:48:15.654616Z",
     "start_time": "2023-12-30T08:48:15.483320Z"
    }
   },
   "id": "cace13722ec0f07b",
   "execution_count": 757
  },
  {
   "cell_type": "code",
   "outputs": [],
   "source": [
    "median_weight = df['Protein'].median()\n",
    "df['Protein'].fillna(median_weight, inplace=True)"
   ],
   "metadata": {
    "collapsed": false,
    "ExecuteTime": {
     "end_time": "2023-12-30T08:48:15.871013Z",
     "start_time": "2023-12-30T08:48:15.631617Z"
    }
   },
   "id": "26f7c2dbb92d0003",
   "execution_count": 758
  },
  {
   "cell_type": "code",
   "outputs": [],
   "source": [
    "mode_value = df['Lact_count'].mode()[0]  # Получаем первое значение из результата mode()\n",
    "df['Lact_count'].fillna(mode_value, inplace=True)"
   ],
   "metadata": {
    "collapsed": false,
    "ExecuteTime": {
     "end_time": "2023-12-30T08:48:16.029151Z",
     "start_time": "2023-12-30T08:48:15.848355Z"
    }
   },
   "id": "d5b4101d36314852",
   "execution_count": 759
  },
  {
   "cell_type": "code",
   "outputs": [
    {
     "data": {
      "text/plain": "'3лакт'"
     },
     "execution_count": 760,
     "metadata": {},
     "output_type": "execute_result"
    }
   ],
   "source": [
    "mode_value"
   ],
   "metadata": {
    "collapsed": false,
    "ExecuteTime": {
     "end_time": "2023-12-30T08:48:16.210529Z",
     "start_time": "2023-12-30T08:48:16.006501Z"
    }
   },
   "id": "fcf195e79aa71c64",
   "execution_count": 760
  },
  {
   "cell_type": "code",
   "outputs": [
    {
     "data": {
      "text/plain": "array(['4лакт', 3, 2, 1, '3лакт', '2лакт', '3 лакт', '3лакт/4лакт кг',\n       '1/2лакт', '3лакт кг', '1лакт'], dtype=object)"
     },
     "execution_count": 761,
     "metadata": {},
     "output_type": "execute_result"
    }
   ],
   "source": [
    "df['Lact_count'].unique()"
   ],
   "metadata": {
    "collapsed": false,
    "ExecuteTime": {
     "end_time": "2023-12-30T08:48:16.370528Z",
     "start_time": "2023-12-30T08:48:16.187348Z"
    }
   },
   "id": "92c2e9240e4d8438",
   "execution_count": 761
  },
  {
   "cell_type": "code",
   "outputs": [],
   "source": [
    "df['Lact_count'] = df['Lact_count'].str.replace('лакт', '').str.strip()"
   ],
   "metadata": {
    "collapsed": false,
    "ExecuteTime": {
     "end_time": "2023-12-30T08:48:16.607733Z",
     "start_time": "2023-12-30T08:48:16.348070Z"
    }
   },
   "id": "a67c60dfe3d726af",
   "execution_count": 762
  },
  {
   "cell_type": "code",
   "outputs": [],
   "source": [
    "df['Lact_count'] = df['Lact_count'].apply(lambda x: x if x in ['1', '2', '3', '4'] else '3')"
   ],
   "metadata": {
    "collapsed": false,
    "ExecuteTime": {
     "end_time": "2023-12-30T08:48:16.759895Z",
     "start_time": "2023-12-30T08:48:16.590729Z"
    }
   },
   "id": "d7eb98841090f8ef",
   "execution_count": 763
  },
  {
   "cell_type": "code",
   "outputs": [],
   "source": [
    "df['Lact_count'] = df['Lact_count'].astype(int)"
   ],
   "metadata": {
    "collapsed": false,
    "ExecuteTime": {
     "end_time": "2023-12-30T08:48:16.952819Z",
     "start_time": "2023-12-30T08:48:16.742902Z"
    }
   },
   "id": "b7832b7c76fec709",
   "execution_count": 764
  },
  {
   "cell_type": "code",
   "outputs": [
    {
     "data": {
      "text/plain": "array([4, 3, 2, 1])"
     },
     "execution_count": 765,
     "metadata": {},
     "output_type": "execute_result"
    }
   ],
   "source": [
    "df['Lact_count'].unique()"
   ],
   "metadata": {
    "collapsed": false,
    "ExecuteTime": {
     "end_time": "2023-12-30T08:48:17.087649Z",
     "start_time": "2023-12-30T08:48:16.930596Z"
    }
   },
   "id": "a84fcdfde90cdaa3",
   "execution_count": 765
  },
  {
   "cell_type": "code",
   "outputs": [
    {
     "name": "stdout",
     "output_type": "stream",
     "text": [
      "692.5306939793807\n",
      "732.0\n"
     ]
    }
   ],
   "source": [
    "print(df.Total_yield.mean())\n",
    "print(df.Total_yield.median())"
   ],
   "metadata": {
    "collapsed": false,
    "ExecuteTime": {
     "end_time": "2023-12-30T08:48:17.265085Z",
     "start_time": "2023-12-30T08:48:17.064441Z"
    }
   },
   "id": "b92bf11733fc8d8",
   "execution_count": 766
  },
  {
   "cell_type": "code",
   "outputs": [],
   "source": [
    "median_date = df['Total_yield'].median()\n",
    "df['Total_yield'].fillna(median_date, inplace=True)"
   ],
   "metadata": {
    "collapsed": false,
    "ExecuteTime": {
     "end_time": "2023-12-30T08:48:17.416280Z",
     "start_time": "2023-12-30T08:48:17.242605Z"
    }
   },
   "id": "800ed619d4859674",
   "execution_count": 767
  },
  {
   "cell_type": "code",
   "outputs": [
    {
     "name": "stdout",
     "output_type": "stream",
     "text": [
      "9.706586826347305\n",
      "10.0\n"
     ]
    }
   ],
   "source": [
    "print(df.Count_of_month.mean())\n",
    "print(df.Count_of_month.median())"
   ],
   "metadata": {
    "collapsed": false,
    "ExecuteTime": {
     "end_time": "2023-12-30T08:48:17.664494Z",
     "start_time": "2023-12-30T08:48:17.393790Z"
    }
   },
   "id": "8c346b9408c5c57e",
   "execution_count": 768
  },
  {
   "cell_type": "code",
   "outputs": [],
   "source": [
    "median_date = df['Count_of_month'].median()\n",
    "df['Count_of_month'].fillna(median_date, inplace=True)"
   ],
   "metadata": {
    "collapsed": false,
    "ExecuteTime": {
     "end_time": "2023-12-30T08:48:17.808756Z",
     "start_time": "2023-12-30T08:48:17.646589Z"
    }
   },
   "id": "97ee873ab2135912",
   "execution_count": 769
  },
  {
   "cell_type": "code",
   "execution_count": 770,
   "outputs": [],
   "source": [
    "df.to_csv('Clean_data/File_12.csv')"
   ],
   "metadata": {
    "collapsed": false,
    "ExecuteTime": {
     "end_time": "2023-12-30T08:48:18.072165Z",
     "start_time": "2023-12-30T08:48:17.791484Z"
    }
   },
   "id": "7c1f2619e1df8f96"
  },
  {
   "cell_type": "markdown",
   "source": [
    "Двенадцатый файл завершен\n",
    "___"
   ],
   "metadata": {
    "collapsed": false
   },
   "id": "d939528fcf7242f4"
  },
  {
   "cell_type": "code",
   "execution_count": 68,
   "outputs": [],
   "source": [
    "df = df.rename(columns={'Номер козы': 'ID'})\n",
    "df = df.rename(columns={'Ср надои': 'Mean_per_1'})\n",
    "df = df.rename(columns={'класс': 'Class'})\n",
    "df = df.rename(columns={'жир': 'Fat'})\n",
    "df = df.rename(columns={'белок': 'Protein'})\n",
    "df = df.rename(columns={'лактация.1': 'Lact_count'})\n",
    "df = df.rename(columns={'Всего надои': 'Total_yield'})\n",
    "df = df.rename(columns={'число': 'Count_of_month'})\n",
    "df = df.drop(30)\n",
    "df = df.drop(0)"
   ],
   "metadata": {
    "collapsed": false,
    "ExecuteTime": {
     "end_time": "2023-12-31T08:56:58.250049Z",
     "start_time": "2023-12-31T08:56:58.070484Z"
    }
   },
   "id": "9e5e925d9fd99aa2"
  },
  {
   "cell_type": "code",
   "outputs": [
    {
     "data": {
      "text/plain": "     Unnamed: 0 лактация Class Дата:04.01.20 Unnamed: 5 Unnamed: 6 Unnamed: 7  \\\n1           NaN    4лакт     I           NaN        NaN        NaN          0   \n2           NaN    4лакт     I           NaN        NaN        NaN          0   \n3    вык16.2.19      NaN     Э           1.5        0.8        0.6        2.9   \n4            ум      NaN     I           0.8        0.6        0.4        1.8   \n5   вык19.12.18      NaN     Э           0.9        0.8        0.6        2.3   \n6           NaN    4лакт     Э           NaN        NaN        NaN          0   \n7           NaN    4лакт     Э           NaN        NaN        NaN          0   \n8        не рож      NaN     Э           0.7        0.6        0.4        1.7   \n9           NaN    4лакт     Э           NaN        NaN        NaN          0   \n10          NaN    4лакт     Э           NaN        NaN        NaN          0   \n\n   Номер козы.1 Дата:20.02.20 Unnamed: 10  ... Вес на  3лактация и выше.3  \\\n1          5016           NaN         NaN  ...     NaN                NaN   \n2          5020           NaN         NaN  ...     NaN                NaN   \n3          5051           1.5         0.8  ...     NaN                 67   \n4          5055           0.6         0.4  ...     NaN                 62   \n5          5059           0.7         0.6  ...     NaN                 58   \n6          5065           NaN         NaN  ...     NaN                 66   \n7          5079           NaN         NaN  ...     NaN                 66   \n8          5091           0.5         0.4  ...     NaN                 62   \n9          5092           NaN         NaN  ...     NaN                 65   \n10         5099           NaN         NaN  ...     NaN                 68   \n\n   Unnamed: 125 Unnamed: 126 2лактация.4 Unnamed: 128 Unnamed: 129  \\\n1            61          NaN         NaN          NaN          NaN   \n2            63          NaN         NaN          NaN          NaN   \n3           NaN          NaN         NaN          NaN          NaN   \n4           NaN          NaN         NaN          NaN          NaN   \n5           NaN          NaN         NaN          NaN          NaN   \n6           NaN          NaN         NaN          NaN          NaN   \n7           NaN          NaN         NaN          NaN          NaN   \n8           NaN          NaN         NaN          NaN          NaN   \n9           NaN          NaN         NaN          NaN          NaN   \n10          NaN          NaN         NaN          NaN          NaN   \n\n   1лактация.4 Unnamed: 131 Unnamed: 132  \n1          NaN          NaN          NaN  \n2          NaN          NaN          NaN  \n3          NaN          NaN          NaN  \n4          NaN          NaN          NaN  \n5          NaN          NaN          NaN  \n6          NaN          NaN          NaN  \n7          NaN          NaN          NaN  \n8          NaN          NaN          NaN  \n9          NaN          NaN          NaN  \n10         NaN          NaN          NaN  \n\n[10 rows x 132 columns]",
      "text/html": "<div>\n<style scoped>\n    .dataframe tbody tr th:only-of-type {\n        vertical-align: middle;\n    }\n\n    .dataframe tbody tr th {\n        vertical-align: top;\n    }\n\n    .dataframe thead th {\n        text-align: right;\n    }\n</style>\n<table border=\"1\" class=\"dataframe\">\n  <thead>\n    <tr style=\"text-align: right;\">\n      <th></th>\n      <th>Unnamed: 0</th>\n      <th>лактация</th>\n      <th>Class</th>\n      <th>Дата:04.01.20</th>\n      <th>Unnamed: 5</th>\n      <th>Unnamed: 6</th>\n      <th>Unnamed: 7</th>\n      <th>Номер козы.1</th>\n      <th>Дата:20.02.20</th>\n      <th>Unnamed: 10</th>\n      <th>...</th>\n      <th>Вес на</th>\n      <th>3лактация и выше.3</th>\n      <th>Unnamed: 125</th>\n      <th>Unnamed: 126</th>\n      <th>2лактация.4</th>\n      <th>Unnamed: 128</th>\n      <th>Unnamed: 129</th>\n      <th>1лактация.4</th>\n      <th>Unnamed: 131</th>\n      <th>Unnamed: 132</th>\n    </tr>\n  </thead>\n  <tbody>\n    <tr>\n      <th>1</th>\n      <td>NaN</td>\n      <td>4лакт</td>\n      <td>I</td>\n      <td>NaN</td>\n      <td>NaN</td>\n      <td>NaN</td>\n      <td>0</td>\n      <td>5016</td>\n      <td>NaN</td>\n      <td>NaN</td>\n      <td>...</td>\n      <td>NaN</td>\n      <td>NaN</td>\n      <td>61</td>\n      <td>NaN</td>\n      <td>NaN</td>\n      <td>NaN</td>\n      <td>NaN</td>\n      <td>NaN</td>\n      <td>NaN</td>\n      <td>NaN</td>\n    </tr>\n    <tr>\n      <th>2</th>\n      <td>NaN</td>\n      <td>4лакт</td>\n      <td>I</td>\n      <td>NaN</td>\n      <td>NaN</td>\n      <td>NaN</td>\n      <td>0</td>\n      <td>5020</td>\n      <td>NaN</td>\n      <td>NaN</td>\n      <td>...</td>\n      <td>NaN</td>\n      <td>NaN</td>\n      <td>63</td>\n      <td>NaN</td>\n      <td>NaN</td>\n      <td>NaN</td>\n      <td>NaN</td>\n      <td>NaN</td>\n      <td>NaN</td>\n      <td>NaN</td>\n    </tr>\n    <tr>\n      <th>3</th>\n      <td>вык16.2.19</td>\n      <td>NaN</td>\n      <td>Э</td>\n      <td>1.5</td>\n      <td>0.8</td>\n      <td>0.6</td>\n      <td>2.9</td>\n      <td>5051</td>\n      <td>1.5</td>\n      <td>0.8</td>\n      <td>...</td>\n      <td>NaN</td>\n      <td>67</td>\n      <td>NaN</td>\n      <td>NaN</td>\n      <td>NaN</td>\n      <td>NaN</td>\n      <td>NaN</td>\n      <td>NaN</td>\n      <td>NaN</td>\n      <td>NaN</td>\n    </tr>\n    <tr>\n      <th>4</th>\n      <td>ум</td>\n      <td>NaN</td>\n      <td>I</td>\n      <td>0.8</td>\n      <td>0.6</td>\n      <td>0.4</td>\n      <td>1.8</td>\n      <td>5055</td>\n      <td>0.6</td>\n      <td>0.4</td>\n      <td>...</td>\n      <td>NaN</td>\n      <td>62</td>\n      <td>NaN</td>\n      <td>NaN</td>\n      <td>NaN</td>\n      <td>NaN</td>\n      <td>NaN</td>\n      <td>NaN</td>\n      <td>NaN</td>\n      <td>NaN</td>\n    </tr>\n    <tr>\n      <th>5</th>\n      <td>вык19.12.18</td>\n      <td>NaN</td>\n      <td>Э</td>\n      <td>0.9</td>\n      <td>0.8</td>\n      <td>0.6</td>\n      <td>2.3</td>\n      <td>5059</td>\n      <td>0.7</td>\n      <td>0.6</td>\n      <td>...</td>\n      <td>NaN</td>\n      <td>58</td>\n      <td>NaN</td>\n      <td>NaN</td>\n      <td>NaN</td>\n      <td>NaN</td>\n      <td>NaN</td>\n      <td>NaN</td>\n      <td>NaN</td>\n      <td>NaN</td>\n    </tr>\n    <tr>\n      <th>6</th>\n      <td>NaN</td>\n      <td>4лакт</td>\n      <td>Э</td>\n      <td>NaN</td>\n      <td>NaN</td>\n      <td>NaN</td>\n      <td>0</td>\n      <td>5065</td>\n      <td>NaN</td>\n      <td>NaN</td>\n      <td>...</td>\n      <td>NaN</td>\n      <td>66</td>\n      <td>NaN</td>\n      <td>NaN</td>\n      <td>NaN</td>\n      <td>NaN</td>\n      <td>NaN</td>\n      <td>NaN</td>\n      <td>NaN</td>\n      <td>NaN</td>\n    </tr>\n    <tr>\n      <th>7</th>\n      <td>NaN</td>\n      <td>4лакт</td>\n      <td>Э</td>\n      <td>NaN</td>\n      <td>NaN</td>\n      <td>NaN</td>\n      <td>0</td>\n      <td>5079</td>\n      <td>NaN</td>\n      <td>NaN</td>\n      <td>...</td>\n      <td>NaN</td>\n      <td>66</td>\n      <td>NaN</td>\n      <td>NaN</td>\n      <td>NaN</td>\n      <td>NaN</td>\n      <td>NaN</td>\n      <td>NaN</td>\n      <td>NaN</td>\n      <td>NaN</td>\n    </tr>\n    <tr>\n      <th>8</th>\n      <td>не рож</td>\n      <td>NaN</td>\n      <td>Э</td>\n      <td>0.7</td>\n      <td>0.6</td>\n      <td>0.4</td>\n      <td>1.7</td>\n      <td>5091</td>\n      <td>0.5</td>\n      <td>0.4</td>\n      <td>...</td>\n      <td>NaN</td>\n      <td>62</td>\n      <td>NaN</td>\n      <td>NaN</td>\n      <td>NaN</td>\n      <td>NaN</td>\n      <td>NaN</td>\n      <td>NaN</td>\n      <td>NaN</td>\n      <td>NaN</td>\n    </tr>\n    <tr>\n      <th>9</th>\n      <td>NaN</td>\n      <td>4лакт</td>\n      <td>Э</td>\n      <td>NaN</td>\n      <td>NaN</td>\n      <td>NaN</td>\n      <td>0</td>\n      <td>5092</td>\n      <td>NaN</td>\n      <td>NaN</td>\n      <td>...</td>\n      <td>NaN</td>\n      <td>65</td>\n      <td>NaN</td>\n      <td>NaN</td>\n      <td>NaN</td>\n      <td>NaN</td>\n      <td>NaN</td>\n      <td>NaN</td>\n      <td>NaN</td>\n      <td>NaN</td>\n    </tr>\n    <tr>\n      <th>10</th>\n      <td>NaN</td>\n      <td>4лакт</td>\n      <td>Э</td>\n      <td>NaN</td>\n      <td>NaN</td>\n      <td>NaN</td>\n      <td>0</td>\n      <td>5099</td>\n      <td>NaN</td>\n      <td>NaN</td>\n      <td>...</td>\n      <td>NaN</td>\n      <td>68</td>\n      <td>NaN</td>\n      <td>NaN</td>\n      <td>NaN</td>\n      <td>NaN</td>\n      <td>NaN</td>\n      <td>NaN</td>\n      <td>NaN</td>\n      <td>NaN</td>\n    </tr>\n  </tbody>\n</table>\n<p>10 rows × 132 columns</p>\n</div>"
     },
     "execution_count": 69,
     "metadata": {},
     "output_type": "execute_result"
    }
   ],
   "source": [
    "df = df.drop('ID', axis=1)\n",
    "df.head(10)"
   ],
   "metadata": {
    "collapsed": false,
    "ExecuteTime": {
     "end_time": "2023-12-31T08:57:02.701043Z",
     "start_time": "2023-12-31T08:57:02.496502Z"
    }
   },
   "id": "2939b6ef7bed3c0d",
   "execution_count": 69
  },
  {
   "cell_type": "code",
   "execution_count": null,
   "outputs": [],
   "source": [
    "df = df[['ID', 'Mean_per_1', 'Class', 'Fat', 'Protein', 'Lact_count', 'Total_yield', 'Count_of_month']]"
   ],
   "metadata": {
    "collapsed": false
   },
   "id": "3bc57d4d9f3bc855"
  },
  {
   "cell_type": "code",
   "execution_count": 775,
   "outputs": [],
   "source": [
    "df = df.dropna(subset='ID')"
   ],
   "metadata": {
    "collapsed": false,
    "ExecuteTime": {
     "end_time": "2023-12-30T08:48:19.081187Z",
     "start_time": "2023-12-30T08:48:18.896466Z"
    }
   },
   "id": "48791ea0d70b08f7"
  },
  {
   "cell_type": "code",
   "outputs": [],
   "source": [
    "df = df.drop('Mean_per_1', axis=1)"
   ],
   "metadata": {
    "collapsed": false,
    "ExecuteTime": {
     "end_time": "2023-12-30T08:48:19.353242Z",
     "start_time": "2023-12-30T08:48:19.059080Z"
    }
   },
   "id": "b30c38fdf428ebc9",
   "execution_count": 776
  },
  {
   "cell_type": "code",
   "outputs": [
    {
     "name": "stdout",
     "output_type": "stream",
     "text": [
      "3.5836683417085426\n",
      "3.6\n",
      "3.092613065326634\n",
      "3.1\n"
     ]
    }
   ],
   "source": [
    "most_common_value = df['Class'].mode()[0]  # Получаем самое популярное значение\n",
    "most_common_value\n",
    "df['Class'].fillna(most_common_value, inplace=True)\n",
    "print(df['Fat'].mean())\n",
    "print(df['Fat'].median())\n",
    "median_weight = df['Fat'].median()\n",
    "df['Fat'].fillna(median_weight, inplace=True)\n",
    "print(df['Protein'].mean())\n",
    "print(df['Protein'].median())\n",
    "median_weight = df['Protein'].median()\n",
    "df['Protein'].fillna(median_weight, inplace=True)"
   ],
   "metadata": {
    "collapsed": false,
    "ExecuteTime": {
     "end_time": "2023-12-30T08:48:19.484421Z",
     "start_time": "2023-12-30T08:48:19.337572Z"
    }
   },
   "id": "3f7285c05a421901",
   "execution_count": 777
  },
  {
   "cell_type": "code",
   "outputs": [
    {
     "name": "stdout",
     "output_type": "stream",
     "text": [
      "583.7498033120125\n",
      "643.5500000000001\n",
      "9.573033707865168\n",
      "10.0\n"
     ]
    }
   ],
   "source": [
    "mode_value = df['Lact_count'].mode()[0]  # Получаем первое значение из результата mode()\n",
    "df['Lact_count'].fillna(mode_value, inplace=True)\n",
    "mode_value\n",
    "df['Lact_count'].unique()\n",
    "df['Lact_count'] = df['Lact_count'].apply(lambda x: x if x in ['1', '2', '3', '4'] else '3')\n",
    "df['Lact_count'] = df['Lact_count'].str.replace('лакт', '', regex=False)\n",
    "df['Lact_count'] = df['Lact_count'].astype(int)\n",
    "df['Lact_count'].unique()\n",
    "print(df.Total_yield.mean())\n",
    "print(df.Total_yield.median())\n",
    "median_date = df['Total_yield'].median()\n",
    "df['Total_yield'].fillna(median_date, inplace=True)\n",
    "print(df.Count_of_month.mean())\n",
    "print(df.Count_of_month.median())\n",
    "median_date = df['Count_of_month'].median()\n",
    "df['Count_of_month'].fillna(median_date, inplace=True)"
   ],
   "metadata": {
    "collapsed": false,
    "ExecuteTime": {
     "end_time": "2023-12-30T08:48:19.851060Z",
     "start_time": "2023-12-30T08:48:19.663156Z"
    }
   },
   "id": "cba2cbdc34719e6f",
   "execution_count": 779
  },
  {
   "cell_type": "code",
   "execution_count": 781,
   "outputs": [],
   "source": [
    "df.to_csv('Clean_data/File_13.csv')"
   ],
   "metadata": {
    "collapsed": false,
    "ExecuteTime": {
     "end_time": "2023-12-30T08:48:20.321047Z",
     "start_time": "2023-12-30T08:48:20.079481Z"
    }
   },
   "id": "49f0739b70dba4da"
  },
  {
   "cell_type": "markdown",
   "source": [
    "Тринадцатый файл завершен\n",
    "___"
   ],
   "metadata": {
    "collapsed": false
   },
   "id": "70a32903276f8f1e"
  },
  {
   "cell_type": "code",
   "execution_count": 72,
   "outputs": [],
   "source": [
    "df = df.rename(columns={'Номер козы': 'ID'})\n",
    "df = df.rename(columns={'Ср надои': 'Mean_per_1'})\n",
    "df = df.rename(columns={'класс': 'Class'})\n",
    "df = df.rename(columns={'жир': 'Fat'})\n",
    "df = df.rename(columns={'белок': 'Protein'})\n",
    "df = df.rename(columns={'лактация.1': 'Lact_count'})\n",
    "df = df.rename(columns={'Всего надои': 'Total_yield'})\n",
    "df = df.rename(columns={'число': 'Count_of_month'})\n",
    "df = df.drop(30)\n",
    "df = df.drop(0)"
   ],
   "metadata": {
    "collapsed": false,
    "ExecuteTime": {
     "end_time": "2023-12-31T08:58:10.528425Z",
     "start_time": "2023-12-31T08:58:10.295046Z"
    }
   },
   "id": "c106ba3944cf2a4c"
  },
  {
   "cell_type": "code",
   "outputs": [
    {
     "data": {
      "text/plain": "     Unnamed: 0 лактация Class Дата:04.01.20 Unnamed: 5 Unnamed: 6 Unnamed: 7  \\\n1           NaN    4лакт     I           NaN        NaN        NaN          0   \n2           NaN    4лакт     I           NaN        NaN        NaN          0   \n3    вык16.2.19      NaN     Э           1.5        0.8        0.6        2.9   \n4            ум      NaN     I           0.8        0.6        0.4        1.8   \n5   вык19.12.18      NaN     Э           0.9        0.8        0.6        2.3   \n6           NaN    4лакт     Э           NaN        NaN        NaN          0   \n7           NaN    4лакт     Э           NaN        NaN        NaN          0   \n8        не рож      NaN     Э           0.7        0.6        0.4        1.7   \n9           NaN    4лакт     Э           NaN        NaN        NaN          0   \n10          NaN    4лакт     Э           NaN        NaN        NaN          0   \n\n   Номер козы.1 Дата:20.02.20 Unnamed: 10  ... 3лактация и выше.3  \\\n1          5016           NaN         NaN  ...                NaN   \n2          5020           NaN         NaN  ...                NaN   \n3          5051           1.5         0.8  ...                 67   \n4          5055           0.6         0.4  ...                 62   \n5          5059           0.7         0.6  ...                 58   \n6          5065           NaN         NaN  ...                 66   \n7          5079           NaN         NaN  ...                 66   \n8          5091           0.5         0.4  ...                 62   \n9          5092           NaN         NaN  ...                 65   \n10         5099           NaN         NaN  ...                 68   \n\n   Unnamed: 125 Unnamed: 126 2лактация.4 Unnamed: 128 Unnamed: 129  \\\n1            61          NaN         NaN          NaN          NaN   \n2            63          NaN         NaN          NaN          NaN   \n3           NaN          NaN         NaN          NaN          NaN   \n4           NaN          NaN         NaN          NaN          NaN   \n5           NaN          NaN         NaN          NaN          NaN   \n6           NaN          NaN         NaN          NaN          NaN   \n7           NaN          NaN         NaN          NaN          NaN   \n8           NaN          NaN         NaN          NaN          NaN   \n9           NaN          NaN         NaN          NaN          NaN   \n10          NaN          NaN         NaN          NaN          NaN   \n\n   1лактация.4 Unnamed: 131 Unnamed: 132 Unnamed: 133  \n1          NaN          NaN          NaN          NaN  \n2          NaN          NaN          NaN          NaN  \n3          NaN          NaN          NaN          NaN  \n4          NaN          NaN          NaN          NaN  \n5          NaN          NaN          NaN          NaN  \n6          NaN          NaN          NaN          NaN  \n7          NaN          NaN          NaN          NaN  \n8          NaN          NaN          NaN          NaN  \n9          NaN          NaN          NaN          NaN  \n10         NaN          NaN          NaN          NaN  \n\n[10 rows x 133 columns]",
      "text/html": "<div>\n<style scoped>\n    .dataframe tbody tr th:only-of-type {\n        vertical-align: middle;\n    }\n\n    .dataframe tbody tr th {\n        vertical-align: top;\n    }\n\n    .dataframe thead th {\n        text-align: right;\n    }\n</style>\n<table border=\"1\" class=\"dataframe\">\n  <thead>\n    <tr style=\"text-align: right;\">\n      <th></th>\n      <th>Unnamed: 0</th>\n      <th>лактация</th>\n      <th>Class</th>\n      <th>Дата:04.01.20</th>\n      <th>Unnamed: 5</th>\n      <th>Unnamed: 6</th>\n      <th>Unnamed: 7</th>\n      <th>Номер козы.1</th>\n      <th>Дата:20.02.20</th>\n      <th>Unnamed: 10</th>\n      <th>...</th>\n      <th>3лактация и выше.3</th>\n      <th>Unnamed: 125</th>\n      <th>Unnamed: 126</th>\n      <th>2лактация.4</th>\n      <th>Unnamed: 128</th>\n      <th>Unnamed: 129</th>\n      <th>1лактация.4</th>\n      <th>Unnamed: 131</th>\n      <th>Unnamed: 132</th>\n      <th>Unnamed: 133</th>\n    </tr>\n  </thead>\n  <tbody>\n    <tr>\n      <th>1</th>\n      <td>NaN</td>\n      <td>4лакт</td>\n      <td>I</td>\n      <td>NaN</td>\n      <td>NaN</td>\n      <td>NaN</td>\n      <td>0</td>\n      <td>5016</td>\n      <td>NaN</td>\n      <td>NaN</td>\n      <td>...</td>\n      <td>NaN</td>\n      <td>61</td>\n      <td>NaN</td>\n      <td>NaN</td>\n      <td>NaN</td>\n      <td>NaN</td>\n      <td>NaN</td>\n      <td>NaN</td>\n      <td>NaN</td>\n      <td>NaN</td>\n    </tr>\n    <tr>\n      <th>2</th>\n      <td>NaN</td>\n      <td>4лакт</td>\n      <td>I</td>\n      <td>NaN</td>\n      <td>NaN</td>\n      <td>NaN</td>\n      <td>0</td>\n      <td>5020</td>\n      <td>NaN</td>\n      <td>NaN</td>\n      <td>...</td>\n      <td>NaN</td>\n      <td>63</td>\n      <td>NaN</td>\n      <td>NaN</td>\n      <td>NaN</td>\n      <td>NaN</td>\n      <td>NaN</td>\n      <td>NaN</td>\n      <td>NaN</td>\n      <td>NaN</td>\n    </tr>\n    <tr>\n      <th>3</th>\n      <td>вык16.2.19</td>\n      <td>NaN</td>\n      <td>Э</td>\n      <td>1.5</td>\n      <td>0.8</td>\n      <td>0.6</td>\n      <td>2.9</td>\n      <td>5051</td>\n      <td>1.5</td>\n      <td>0.8</td>\n      <td>...</td>\n      <td>67</td>\n      <td>NaN</td>\n      <td>NaN</td>\n      <td>NaN</td>\n      <td>NaN</td>\n      <td>NaN</td>\n      <td>NaN</td>\n      <td>NaN</td>\n      <td>NaN</td>\n      <td>NaN</td>\n    </tr>\n    <tr>\n      <th>4</th>\n      <td>ум</td>\n      <td>NaN</td>\n      <td>I</td>\n      <td>0.8</td>\n      <td>0.6</td>\n      <td>0.4</td>\n      <td>1.8</td>\n      <td>5055</td>\n      <td>0.6</td>\n      <td>0.4</td>\n      <td>...</td>\n      <td>62</td>\n      <td>NaN</td>\n      <td>NaN</td>\n      <td>NaN</td>\n      <td>NaN</td>\n      <td>NaN</td>\n      <td>NaN</td>\n      <td>NaN</td>\n      <td>NaN</td>\n      <td>NaN</td>\n    </tr>\n    <tr>\n      <th>5</th>\n      <td>вык19.12.18</td>\n      <td>NaN</td>\n      <td>Э</td>\n      <td>0.9</td>\n      <td>0.8</td>\n      <td>0.6</td>\n      <td>2.3</td>\n      <td>5059</td>\n      <td>0.7</td>\n      <td>0.6</td>\n      <td>...</td>\n      <td>58</td>\n      <td>NaN</td>\n      <td>NaN</td>\n      <td>NaN</td>\n      <td>NaN</td>\n      <td>NaN</td>\n      <td>NaN</td>\n      <td>NaN</td>\n      <td>NaN</td>\n      <td>NaN</td>\n    </tr>\n    <tr>\n      <th>6</th>\n      <td>NaN</td>\n      <td>4лакт</td>\n      <td>Э</td>\n      <td>NaN</td>\n      <td>NaN</td>\n      <td>NaN</td>\n      <td>0</td>\n      <td>5065</td>\n      <td>NaN</td>\n      <td>NaN</td>\n      <td>...</td>\n      <td>66</td>\n      <td>NaN</td>\n      <td>NaN</td>\n      <td>NaN</td>\n      <td>NaN</td>\n      <td>NaN</td>\n      <td>NaN</td>\n      <td>NaN</td>\n      <td>NaN</td>\n      <td>NaN</td>\n    </tr>\n    <tr>\n      <th>7</th>\n      <td>NaN</td>\n      <td>4лакт</td>\n      <td>Э</td>\n      <td>NaN</td>\n      <td>NaN</td>\n      <td>NaN</td>\n      <td>0</td>\n      <td>5079</td>\n      <td>NaN</td>\n      <td>NaN</td>\n      <td>...</td>\n      <td>66</td>\n      <td>NaN</td>\n      <td>NaN</td>\n      <td>NaN</td>\n      <td>NaN</td>\n      <td>NaN</td>\n      <td>NaN</td>\n      <td>NaN</td>\n      <td>NaN</td>\n      <td>NaN</td>\n    </tr>\n    <tr>\n      <th>8</th>\n      <td>не рож</td>\n      <td>NaN</td>\n      <td>Э</td>\n      <td>0.7</td>\n      <td>0.6</td>\n      <td>0.4</td>\n      <td>1.7</td>\n      <td>5091</td>\n      <td>0.5</td>\n      <td>0.4</td>\n      <td>...</td>\n      <td>62</td>\n      <td>NaN</td>\n      <td>NaN</td>\n      <td>NaN</td>\n      <td>NaN</td>\n      <td>NaN</td>\n      <td>NaN</td>\n      <td>NaN</td>\n      <td>NaN</td>\n      <td>NaN</td>\n    </tr>\n    <tr>\n      <th>9</th>\n      <td>NaN</td>\n      <td>4лакт</td>\n      <td>Э</td>\n      <td>NaN</td>\n      <td>NaN</td>\n      <td>NaN</td>\n      <td>0</td>\n      <td>5092</td>\n      <td>NaN</td>\n      <td>NaN</td>\n      <td>...</td>\n      <td>65</td>\n      <td>NaN</td>\n      <td>NaN</td>\n      <td>NaN</td>\n      <td>NaN</td>\n      <td>NaN</td>\n      <td>NaN</td>\n      <td>NaN</td>\n      <td>NaN</td>\n      <td>NaN</td>\n    </tr>\n    <tr>\n      <th>10</th>\n      <td>NaN</td>\n      <td>4лакт</td>\n      <td>Э</td>\n      <td>NaN</td>\n      <td>NaN</td>\n      <td>NaN</td>\n      <td>0</td>\n      <td>5099</td>\n      <td>NaN</td>\n      <td>NaN</td>\n      <td>...</td>\n      <td>68</td>\n      <td>NaN</td>\n      <td>NaN</td>\n      <td>NaN</td>\n      <td>NaN</td>\n      <td>NaN</td>\n      <td>NaN</td>\n      <td>NaN</td>\n      <td>NaN</td>\n      <td>NaN</td>\n    </tr>\n  </tbody>\n</table>\n<p>10 rows × 133 columns</p>\n</div>"
     },
     "execution_count": 73,
     "metadata": {},
     "output_type": "execute_result"
    }
   ],
   "source": [
    "df = df.drop('ID', axis=1)\n",
    "df.head(10)"
   ],
   "metadata": {
    "collapsed": false,
    "ExecuteTime": {
     "end_time": "2023-12-31T08:58:14.569542Z",
     "start_time": "2023-12-31T08:58:14.384068Z"
    }
   },
   "id": "6b38e513a819c930",
   "execution_count": 73
  },
  {
   "cell_type": "code",
   "execution_count": 785,
   "outputs": [],
   "source": [
    "df = df[['ID', 'Mean_per_1', 'Class', 'Fat', 'Protein', 'Lact_count', 'Total_yield', 'Count_of_month']]"
   ],
   "metadata": {
    "collapsed": false,
    "ExecuteTime": {
     "end_time": "2023-12-30T08:48:21.456990Z",
     "start_time": "2023-12-30T08:48:21.229713Z"
    }
   },
   "id": "34809ec835f71613"
  },
  {
   "cell_type": "code",
   "outputs": [
    {
     "name": "stdout",
     "output_type": "stream",
     "text": [
      "3.16363032289184\n",
      "2.1849999999999996\n"
     ]
    }
   ],
   "source": [
    "target = df[['ID', 'Mean_per_1']]\n",
    "target = target.dropna(subset='ID')\n",
    "print(target.Mean_per_1.mean())\n",
    "print(target.Mean_per_1.median())"
   ],
   "metadata": {
    "collapsed": false,
    "ExecuteTime": {
     "end_time": "2023-12-30T08:48:21.875941Z",
     "start_time": "2023-12-30T08:48:21.723973Z"
    }
   },
   "id": "462c201ed03ff05d",
   "execution_count": 787
  },
  {
   "cell_type": "code",
   "outputs": [],
   "source": [
    "mean_total = target['Mean_per_1'].mean()\n",
    "target['Mean_per_1'] = target['Mean_per_1'].fillna(mean_total)"
   ],
   "metadata": {
    "collapsed": false,
    "ExecuteTime": {
     "end_time": "2023-12-30T08:48:22.308992Z",
     "start_time": "2023-12-30T08:48:22.095169Z"
    }
   },
   "id": "c7aa1db9c96f94bc",
   "execution_count": 789
  },
  {
   "cell_type": "code",
   "outputs": [
    {
     "data": {
      "text/plain": "ID            0\nMean_per_1    0\ndtype: int64"
     },
     "execution_count": 790,
     "metadata": {},
     "output_type": "execute_result"
    }
   ],
   "source": [
    "target.isna().sum()"
   ],
   "metadata": {
    "collapsed": false,
    "ExecuteTime": {
     "end_time": "2023-12-30T08:48:22.635687Z",
     "start_time": "2023-12-30T08:48:22.287428Z"
    }
   },
   "id": "14f23346ac899b47",
   "execution_count": 790
  },
  {
   "cell_type": "code",
   "outputs": [],
   "source": [
    "target.to_csv('Clean_data/Target_5.csv')"
   ],
   "metadata": {
    "collapsed": false,
    "ExecuteTime": {
     "end_time": "2023-12-30T08:48:22.817336Z",
     "start_time": "2023-12-30T08:48:22.618562Z"
    }
   },
   "id": "6d1ab63583c602d5",
   "execution_count": 791
  },
  {
   "cell_type": "code",
   "outputs": [
    {
     "name": "stdout",
     "output_type": "stream",
     "text": [
      "3.5856281407035175\n",
      "3.6\n",
      "3.0952763819095486\n",
      "3.1\n"
     ]
    }
   ],
   "source": [
    "df = df.dropna(subset='ID')\n",
    "df = df.drop('Mean_per_1', axis=1)\n",
    "most_common_value = df['Class'].mode()[0]  # Получаем самое популярное значение\n",
    "most_common_value\n",
    "df['Class'].fillna(most_common_value, inplace=True)\n",
    "print(df['Fat'].mean())\n",
    "print(df['Fat'].median())\n",
    "median_weight = df['Fat'].median()\n",
    "df['Fat'].fillna(median_weight, inplace=True)\n",
    "print(df['Protein'].mean())\n",
    "print(df['Protein'].median())\n",
    "median_weight = df['Protein'].median()\n",
    "df['Protein'].fillna(median_weight, inplace=True)"
   ],
   "metadata": {
    "collapsed": false,
    "ExecuteTime": {
     "end_time": "2023-12-30T08:48:23.153503Z",
     "start_time": "2023-12-30T08:48:22.796224Z"
    }
   },
   "id": "fb19c6d5dae48153",
   "execution_count": 792
  },
  {
   "cell_type": "code",
   "outputs": [
    {
     "name": "stdout",
     "output_type": "stream",
     "text": [
      "588.3414182981501\n",
      "643.5500000000001\n",
      "9.573033707865168\n",
      "10.0\n"
     ]
    }
   ],
   "source": [
    "mode_value = df['Lact_count'].mode()[0]  # Получаем первое значение из результата mode()\n",
    "df['Lact_count'].fillna(mode_value, inplace=True)\n",
    "mode_value\n",
    "df['Lact_count'].unique()\n",
    "df['Lact_count'] = df['Lact_count'].apply(lambda x: x if x in ['1', '2', '3', '4'] else '3')\n",
    "df['Lact_count'] = df['Lact_count'].str.replace('лакт', '', regex=False)\n",
    "df['Lact_count'] = df['Lact_count'].astype(int)\n",
    "df['Lact_count'].unique()\n",
    "print(df.Total_yield.mean())\n",
    "print(df.Total_yield.median())\n",
    "median_date = df['Total_yield'].median()\n",
    "df['Total_yield'].fillna(median_date, inplace=True)\n",
    "print(df.Count_of_month.mean())\n",
    "print(df.Count_of_month.median())\n",
    "median_date = df['Count_of_month'].median()\n",
    "df['Count_of_month'].fillna(median_date, inplace=True)"
   ],
   "metadata": {
    "collapsed": false,
    "ExecuteTime": {
     "end_time": "2023-12-30T08:48:23.291759Z",
     "start_time": "2023-12-30T08:48:23.138142Z"
    }
   },
   "id": "b385c3c07533e68b",
   "execution_count": 793
  },
  {
   "cell_type": "code",
   "outputs": [
    {
     "data": {
      "text/plain": "0"
     },
     "execution_count": 795,
     "metadata": {},
     "output_type": "execute_result"
    }
   ],
   "source": [
    "df.isna().sum().sum()"
   ],
   "metadata": {
    "collapsed": false,
    "ExecuteTime": {
     "end_time": "2023-12-30T08:48:23.705546Z",
     "start_time": "2023-12-30T08:48:23.506140Z"
    }
   },
   "id": "ef853c7718b6883",
   "execution_count": 795
  },
  {
   "cell_type": "code",
   "outputs": [],
   "source": [
    "df.to_csv('Clean_data/File_14.csv')"
   ],
   "metadata": {
    "collapsed": false,
    "ExecuteTime": {
     "end_time": "2023-12-30T08:48:23.928212Z",
     "start_time": "2023-12-30T08:48:23.683496Z"
    }
   },
   "id": "1982667c5567c16e",
   "execution_count": 796
  },
  {
   "cell_type": "markdown",
   "source": [
    "Четырнадцатый файл завершен\n",
    "___"
   ],
   "metadata": {
    "collapsed": false
   },
   "id": "c4e51ff59bda6f6f"
  },
  {
   "cell_type": "code",
   "execution_count": 77,
   "outputs": [],
   "source": [
    "df = df.rename(columns={'Номер козы': 'ID'})\n",
    "df = df.rename(columns={'Ср надои': 'Mean_per_1'})\n",
    "df = df.rename(columns={'класс': 'Class'})\n",
    "df = df.rename(columns={'жир': 'Fat'})\n",
    "df = df.rename(columns={'белок': 'Protein'})\n",
    "df = df.rename(columns={'лактация.1': 'Lact_count'})\n",
    "df = df.rename(columns={'Всего надои': 'Total_yield'})\n",
    "df = df.rename(columns={'число': 'Count_of_month'})\n",
    "df = df.drop(30)\n",
    "df = df.drop(0)"
   ],
   "metadata": {
    "collapsed": false,
    "ExecuteTime": {
     "end_time": "2023-12-31T09:01:01.201174Z",
     "start_time": "2023-12-31T09:01:01.033142Z"
    }
   },
   "id": "9bebce3068c1ba6b"
  },
  {
   "cell_type": "code",
   "execution_count": 78,
   "outputs": [],
   "source": [
    "df = df[['ID', 'Mean_per_1', 'Class', 'Fat', 'Protein', 'Lact_count', 'Total_yield', 'Count_of_month']]"
   ],
   "metadata": {
    "collapsed": false,
    "ExecuteTime": {
     "end_time": "2023-12-31T09:01:01.471301Z",
     "start_time": "2023-12-31T09:01:01.307731Z"
    }
   },
   "id": "a66651c678b684cb"
  },
  {
   "cell_type": "code",
   "outputs": [
    {
     "data": {
      "text/plain": "   Mean_per_1 Class   Fat  Protein Lact_count  Total_yield Count_of_month\n1           0     I  3.57     3.09      5лакт     0.000000             10\n2    1.058333     Э  3.58     3.10      4лакт   322.791667             12\n3        2.89     Э  3.60     3.11      5лакт   881.450000             10\n4        2.91     Э  3.60     3.10      5лакт   887.550000             10\n5        2.87     Э  3.60     3.10      5лакт  1290.000000             10\n6    0.191667     Э  3.56     3.10      3лакт  1250.000000             12\n7    3.133333     Э  3.60     3.11      5лакт   955.666667              9\n8         3.2     Э  3.64     3.13      5лакт   976.000000             10\n9        2.97     Э  3.61     3.11      5лакт   905.850000             10\n10   0.166667     Э  3.59     3.10      3лакт    50.833333             12",
      "text/html": "<div>\n<style scoped>\n    .dataframe tbody tr th:only-of-type {\n        vertical-align: middle;\n    }\n\n    .dataframe tbody tr th {\n        vertical-align: top;\n    }\n\n    .dataframe thead th {\n        text-align: right;\n    }\n</style>\n<table border=\"1\" class=\"dataframe\">\n  <thead>\n    <tr style=\"text-align: right;\">\n      <th></th>\n      <th>Mean_per_1</th>\n      <th>Class</th>\n      <th>Fat</th>\n      <th>Protein</th>\n      <th>Lact_count</th>\n      <th>Total_yield</th>\n      <th>Count_of_month</th>\n    </tr>\n  </thead>\n  <tbody>\n    <tr>\n      <th>1</th>\n      <td>0</td>\n      <td>I</td>\n      <td>3.57</td>\n      <td>3.09</td>\n      <td>5лакт</td>\n      <td>0.000000</td>\n      <td>10</td>\n    </tr>\n    <tr>\n      <th>2</th>\n      <td>1.058333</td>\n      <td>Э</td>\n      <td>3.58</td>\n      <td>3.10</td>\n      <td>4лакт</td>\n      <td>322.791667</td>\n      <td>12</td>\n    </tr>\n    <tr>\n      <th>3</th>\n      <td>2.89</td>\n      <td>Э</td>\n      <td>3.60</td>\n      <td>3.11</td>\n      <td>5лакт</td>\n      <td>881.450000</td>\n      <td>10</td>\n    </tr>\n    <tr>\n      <th>4</th>\n      <td>2.91</td>\n      <td>Э</td>\n      <td>3.60</td>\n      <td>3.10</td>\n      <td>5лакт</td>\n      <td>887.550000</td>\n      <td>10</td>\n    </tr>\n    <tr>\n      <th>5</th>\n      <td>2.87</td>\n      <td>Э</td>\n      <td>3.60</td>\n      <td>3.10</td>\n      <td>5лакт</td>\n      <td>1290.000000</td>\n      <td>10</td>\n    </tr>\n    <tr>\n      <th>6</th>\n      <td>0.191667</td>\n      <td>Э</td>\n      <td>3.56</td>\n      <td>3.10</td>\n      <td>3лакт</td>\n      <td>1250.000000</td>\n      <td>12</td>\n    </tr>\n    <tr>\n      <th>7</th>\n      <td>3.133333</td>\n      <td>Э</td>\n      <td>3.60</td>\n      <td>3.11</td>\n      <td>5лакт</td>\n      <td>955.666667</td>\n      <td>9</td>\n    </tr>\n    <tr>\n      <th>8</th>\n      <td>3.2</td>\n      <td>Э</td>\n      <td>3.64</td>\n      <td>3.13</td>\n      <td>5лакт</td>\n      <td>976.000000</td>\n      <td>10</td>\n    </tr>\n    <tr>\n      <th>9</th>\n      <td>2.97</td>\n      <td>Э</td>\n      <td>3.61</td>\n      <td>3.11</td>\n      <td>5лакт</td>\n      <td>905.850000</td>\n      <td>10</td>\n    </tr>\n    <tr>\n      <th>10</th>\n      <td>0.166667</td>\n      <td>Э</td>\n      <td>3.59</td>\n      <td>3.10</td>\n      <td>3лакт</td>\n      <td>50.833333</td>\n      <td>12</td>\n    </tr>\n  </tbody>\n</table>\n</div>"
     },
     "execution_count": 79,
     "metadata": {},
     "output_type": "execute_result"
    }
   ],
   "source": [
    "df = df.drop('ID', axis=1)\n",
    "df.head(10)"
   ],
   "metadata": {
    "collapsed": false,
    "ExecuteTime": {
     "end_time": "2023-12-31T09:01:07.118922Z",
     "start_time": "2023-12-31T09:01:06.940004Z"
    }
   },
   "id": "de627e21f6fa64af",
   "execution_count": 79
  },
  {
   "cell_type": "code",
   "outputs": [
    {
     "name": "stdout",
     "output_type": "stream",
     "text": [
      "3.431226310935442\n",
      "2.22\n"
     ]
    },
    {
     "data": {
      "text/plain": "ID            0\nMean_per_1    0\ndtype: int64"
     },
     "execution_count": 802,
     "metadata": {},
     "output_type": "execute_result"
    }
   ],
   "source": [
    "target = df[['ID', 'Mean_per_1']]\n",
    "target = target.dropna(subset='ID')\n",
    "print(target.Mean_per_1.mean())\n",
    "print(target.Mean_per_1.median())\n",
    "target\n",
    "mean_total = target['Mean_per_1'].mean()\n",
    "target['Mean_per_1'] = target['Mean_per_1'].fillna(mean_total)\n",
    "target.isna().sum()"
   ],
   "metadata": {
    "collapsed": false,
    "ExecuteTime": {
     "end_time": "2023-12-30T08:48:25.374070Z",
     "start_time": "2023-12-30T08:48:25.052664Z"
    }
   },
   "id": "28dedd9cb05b5ff9",
   "execution_count": 802
  },
  {
   "cell_type": "code",
   "outputs": [],
   "source": [
    "target.to_csv('Clean_data/Target_6.csv')"
   ],
   "metadata": {
    "collapsed": false,
    "ExecuteTime": {
     "end_time": "2023-12-30T08:48:25.957412Z",
     "start_time": "2023-12-30T08:48:25.575584Z"
    }
   },
   "id": "7277bea52764c59f",
   "execution_count": 804
  },
  {
   "cell_type": "code",
   "outputs": [
    {
     "name": "stdout",
     "output_type": "stream",
     "text": [
      "3.5982089552238814\n",
      "3.6\n",
      "3.111268656716418\n",
      "3.1\n"
     ]
    }
   ],
   "source": [
    "df = df.dropna(subset='ID')\n",
    "df = df.drop('Mean_per_1', axis=1)\n",
    "most_common_value = df['Class'].mode()[0]  # Получаем самое популярное значение\n",
    "most_common_value\n",
    "df['Class'].fillna(most_common_value, inplace=True)\n",
    "print(df['Fat'].mean())\n",
    "print(df['Fat'].median())\n",
    "median_weight = df['Fat'].median()\n",
    "df['Fat'].fillna(median_weight, inplace=True)\n",
    "print(df['Protein'].mean())\n",
    "print(df['Protein'].median())\n",
    "median_weight = df['Protein'].median()\n",
    "df['Protein'].fillna(median_weight, inplace=True)"
   ],
   "metadata": {
    "collapsed": false,
    "ExecuteTime": {
     "end_time": "2023-12-30T08:48:26.179343Z",
     "start_time": "2023-12-30T08:48:25.942321Z"
    }
   },
   "id": "3a81db4c6fb3c09a",
   "execution_count": 805
  },
  {
   "cell_type": "code",
   "outputs": [
    {
     "name": "stdout",
     "output_type": "stream",
     "text": [
      "673.5198373517787\n",
      "701.5\n",
      "9.434782608695652\n",
      "10.0\n"
     ]
    }
   ],
   "source": [
    "mode_value = df['Lact_count'].mode()[0]  # Получаем первое значение из результата mode()\n",
    "df['Lact_count'].fillna(mode_value, inplace=True)\n",
    "mode_value\n",
    "df['Lact_count'].unique()\n",
    "df['Lact_count'] = df['Lact_count'].apply(lambda x: x if x in ['1', '2', '3', '4'] else '3')\n",
    "df['Lact_count'] = df['Lact_count'].str.replace('лакт', '', regex=False)\n",
    "df['Lact_count'] = df['Lact_count'].astype(int)\n",
    "df['Lact_count'].unique()\n",
    "print(df.Total_yield.mean())\n",
    "print(df.Total_yield.median())\n",
    "median_date = df['Total_yield'].median()\n",
    "df['Total_yield'].fillna(median_date, inplace=True)\n",
    "print(df.Count_of_month.mean())\n",
    "print(df.Count_of_month.median())\n",
    "median_date = df['Count_of_month'].median()\n",
    "df['Count_of_month'].fillna(median_date, inplace=True)"
   ],
   "metadata": {
    "collapsed": false,
    "ExecuteTime": {
     "end_time": "2023-12-30T08:48:26.455052Z",
     "start_time": "2023-12-30T08:48:26.159177Z"
    }
   },
   "id": "deabd81d8966068d",
   "execution_count": 806
  },
  {
   "cell_type": "code",
   "execution_count": 808,
   "outputs": [],
   "source": [
    "df.to_csv('Clean_data/File_15.csv')"
   ],
   "metadata": {
    "collapsed": false,
    "ExecuteTime": {
     "end_time": "2023-12-30T08:48:26.900504Z",
     "start_time": "2023-12-30T08:48:26.625174Z"
    }
   },
   "id": "f085e89c8a04e451"
  }
 ],
 "metadata": {
  "kernelspec": {
   "display_name": "Python 3",
   "language": "python",
   "name": "python3"
  },
  "language_info": {
   "codemirror_mode": {
    "name": "ipython",
    "version": 2
   },
   "file_extension": ".py",
   "mimetype": "text/x-python",
   "name": "python",
   "nbconvert_exporter": "python",
   "pygments_lexer": "ipython2",
   "version": "2.7.6"
  }
 },
 "nbformat": 4,
 "nbformat_minor": 5
}
